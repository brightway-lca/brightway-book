{
 "cells": [
  {
   "cell_type": "markdown",
   "metadata": {},
   "source": [
    "## 7. Comparative LCA\n",
    "\n",
    "The original notebook of such a comparative static LCA can be found [here](https://nbviewer.jupyter.org/github/PascalLesage/Shared-BW2-notebooks/blob/master/Comparative%20static%20LCA%20in%20Brightway2.ipynb). In solidarity with lactose-intolerant Brightway users, we will now look at **bananas instead of dairy**. So let's see which activities we have in Ecoinvent:"
   ]
  },
  {
   "cell_type": "code",
   "execution_count": null,
   "metadata": {},
   "outputs": [
    {
     "data": {
      "text/plain": [
       "['banana production' (kilogram, IN, None),\n",
       " 'banana production' (kilogram, RoW, None),\n",
       " 'banana production' (kilogram, EC, None),\n",
       " 'banana production' (kilogram, CO, None),\n",
       " 'banana production' (kilogram, CR, None),\n",
       " 'market for banana' (kilogram, GLO, None)]"
      ]
     },
     "metadata": {},
     "output_type": "display_data"
    }
   ],
   "source": [
    "bananas_unsorted = [act for act in eidb if \"banana\" in act[\"name\"]]\n",
    "bananas = sorted(bananas_unsorted, key=lambda k: k[\"name\"])\n",
    "bananas"
   ]
  },
  {
   "cell_type": "markdown",
   "metadata": {},
   "source": [
    "Of these activities, we now select the banana production processes for Colombia, Costa Rica, and India, and we select three impact methods on climate change, land use, and water stress."
   ]
  },
  {
   "cell_type": "code",
   "execution_count": null,
   "metadata": {},
   "outputs": [
    {
     "data": {
      "text/plain": [
       "'banana production' (kilogram, CO, None)"
      ]
     },
     "metadata": {},
     "output_type": "display_data"
    }
   ],
   "source": [
    "banana_CO"
   ]
  },
  {
   "cell_type": "code",
   "execution_count": null,
   "metadata": {},
   "outputs": [],
   "source": [
    "[m for m in bd.methods if \"water\" in str(m)]"
   ]
  },
  {
   "cell_type": "code",
   "execution_count": null,
   "metadata": {},
   "outputs": [
    {
     "name": "stdout",
     "output_type": "stream",
     "text": [
      "Let's compare\n",
      "'banana production' (kilogram, CO, None),\n",
      "'banana production' (kilogram, CR, None), and\n",
      "'banana production' (kilogram, IN, None)\n"
     ]
    }
   ],
   "source": [
    "banana_CO = [\n",
    "    act for act in eidb if \"banana\" in act[\"name\"] and \"CO\" in act[\"location\"]\n",
    "][0]\n",
    "banana_CR = [\n",
    "    act for act in eidb if \"banana\" in act[\"name\"] and \"CR\" in act[\"location\"]\n",
    "][0]\n",
    "banana_IN = [\n",
    "    act for act in eidb if \"banana\" in act[\"name\"] and \"IN\" in act[\"location\"]\n",
    "][0]\n",
    "\n",
    "inventory = [banana_CO, banana_CR, banana_IN]\n",
    "\n",
    "methods = [\n",
    "    [\n",
    "        m\n",
    "        for m in bd.methods\n",
    "        if \"ReCiPe 2016 v1.03, midpoint (H) no LT\" in str(m) and \"climate change\" in str(m)\n",
    "    ][0],\n",
    "    [\n",
    "        m\n",
    "        for m in bd.methods\n",
    "        if \"ReCiPe 2016 v1.03, midpoint (H) no LT\" in str(m)\n",
    "        and \"agricultural land occupation\" in str(m)\n",
    "        and not \"w/o LT\" in str(m)\n",
    "    ][0],\n",
    "    [\n",
    "        m\n",
    "        for m in bd.methods\n",
    "        if \"ReCiPe 2016 v1.03, midpoint (H) no LT\" in str(m)\n",
    "        and \"water consumption potential (WCP) no LT\" in str(m)\n",
    "    ][0],\n",
    "]\n",
    "\n",
    "print(\"Let's compare\\n{},\\n{}, and\\n{}\".format(banana_CO, banana_CR, banana_IN))"
   ]
  },
  {
   "cell_type": "markdown",
   "metadata": {},
   "source": [
    "EVERYTHING BELOW NEEDS TO BE UPDATED BASED ON NEW BRIGHTWAY25 SYNTAX!"
   ]
  },
  {
   "cell_type": "code",
   "execution_count": null,
   "metadata": {},
   "outputs": [],
   "source": [
    "results = []\n",
    "\n",
    "\n",
    "my_lca = bc.LCA(demand=my_functional_unit, data_objs=data_objs)\n",
    "my_lca.lci()\n",
    "my_lca.lcia()\n",
    "my_lca.score\n",
    "\n",
    "for banana in inventory:\n",
    "    functional_unit, data_objs, _ = bd.prepare_lca_inputs(\n",
    "        {banana: 1},\n",
    "        method=ef_gwp_key,\n",
    "    )\n",
    "    lca = bw.LCA({banana: 1})\n",
    "    lca.lci()\n",
    "    for method in methods:\n",
    "        lca.switch_method(method)\n",
    "        lca.lcia()\n",
    "        results.append(\n",
    "            (\n",
    "                banana[\"name\"],\n",
    "                banana[\"location\"],\n",
    "                method[1].title(),\n",
    "                lca.score,\n",
    "                bw.methods.get(method).get(\"unit\"),\n",
    "            )\n",
    "        )\n",
    "results"
   ]
  },
  {
   "cell_type": "markdown",
   "metadata": {},
   "source": [
    "We should probably present these results in a nicer form. Let's use `pandas` for that:"
   ]
  },
  {
   "cell_type": "code",
   "execution_count": null,
   "metadata": {},
   "outputs": [],
   "source": [
    "results_df = pd.DataFrame(\n",
    "    results, columns=[\"Name\", \"Location\", \"Method\", \"Score\", \"Unit\"]\n",
    ")\n",
    "results_df = pd.pivot_table(\n",
    "    results_df, index=[\"Name\", \"Location\"], columns=[\"Method\", \"Unit\"], values=\"Score\"\n",
    ")\n",
    "results_df"
   ]
  },
  {
   "cell_type": "code",
   "execution_count": null,
   "metadata": {},
   "outputs": [],
   "source": [
    "df = pd.DataFrame.from_dict(results).T\n",
    "df"
   ]
  },
  {
   "cell_type": "markdown",
   "metadata": {},
   "source": [
    "We can also normalise these results, which may help to get a better overview:"
   ]
  },
  {
   "cell_type": "code",
   "execution_count": null,
   "metadata": {},
   "outputs": [],
   "source": [
    "NormResults_df = results_df / results_df.max()\n",
    "NormResults_df"
   ]
  },
  {
   "cell_type": "markdown",
   "metadata": {},
   "source": [
    "Sidenote: We can certainly run this kind of comparative LCA with our own product systems, e.g. the bottle production from above. We would just have to select the respective reference flow..."
   ]
  },
  {
   "cell_type": "markdown",
   "metadata": {},
   "source": [
    "A faster way of running comparative LCAs is through calculation setups. So, let's get familiar with them! This can be done best by just employing random activities as funcitonal units and selecting the LCIA methods which can be applied to the present biosphere flows (only a subset of these ones). Due to computation time, we decide to use the FORWAST database instead of ecoinvent - although this certainly works, too."
   ]
  },
  {
   "cell_type": "code",
   "execution_count": null,
   "metadata": {},
   "outputs": [],
   "source": [
    "# define the functional units and LCIA methods; taken from example notebook\n",
    "functional_units = [{fw.random(): 1} for _ in range(20)]\n",
    "\n",
    "import random\n",
    "\n",
    "all_forwast_flows = {exc.input for ds in fw for exc in ds.biosphere()}\n",
    "suitable_methods = [\n",
    "    method\n",
    "    for method in bw.methods\n",
    "    if {cf[0] for cf in Method(method).load()}.intersection(all_forwast_flows)\n",
    "]\n",
    "\n",
    "print(\"Can use {} of {} LCIA methods\".format(len(suitable_methods), len(bw.methods)))\n",
    "chosen_methods = random.sample(suitable_methods, 8)"
   ]
  },
  {
   "cell_type": "code",
   "execution_count": null,
   "metadata": {},
   "outputs": [],
   "source": [
    "functional_units"
   ]
  },
  {
   "cell_type": "code",
   "execution_count": null,
   "metadata": {},
   "outputs": [],
   "source": [
    "chosen_methods"
   ]
  },
  {
   "cell_type": "markdown",
   "metadata": {},
   "source": [
    "Now we come to the actual calculation setup which gets defined through our functional units and the chosen LCIA methods:"
   ]
  },
  {
   "cell_type": "code",
   "execution_count": null,
   "metadata": {},
   "outputs": [],
   "source": [
    "my_calculation_setup = {\"inv\": functional_units, \"ia\": chosen_methods}"
   ]
  },
  {
   "cell_type": "code",
   "execution_count": null,
   "metadata": {},
   "outputs": [],
   "source": [
    "calculation_setups[\"set of calculation setups\"] = my_calculation_setup"
   ]
  },
  {
   "cell_type": "code",
   "execution_count": null,
   "metadata": {},
   "outputs": [],
   "source": [
    "mlca = MultiLCA(\"set of calculation setups\")\n",
    "mlca.results"
   ]
  },
  {
   "cell_type": "markdown",
   "metadata": {},
   "source": [
    "Hm, does not seem to be so difficult. Therefore, let's try it on a better chosen example."
   ]
  },
  {
   "cell_type": "markdown",
   "metadata": {},
   "source": [
    "Let's decide on our LCIA method selection:"
   ]
  },
  {
   "cell_type": "code",
   "execution_count": null,
   "metadata": {},
   "outputs": [],
   "source": [
    "[\n",
    "    m\n",
    "    for m in bw.methods\n",
    "    if \"ReCiPe\" in str(m) and \"Midpoint (H)\" in str(m) and \"land\" in str(m)\n",
    "][:3]"
   ]
  },
  {
   "cell_type": "markdown",
   "metadata": {},
   "source": [
    "Now a different way fo setting up our list of selected LCIA methods:"
   ]
  },
  {
   "cell_type": "code",
   "execution_count": null,
   "metadata": {},
   "outputs": [],
   "source": [
    "land_methods = [\n",
    "    m\n",
    "    for m in bw.methods\n",
    "    if \"ReCiPe\" in str(m) and \"Midpoint (H)\" in str(m) and \"land\" in str(m)\n",
    "][:3]\n",
    "methods = land_methods + [\n",
    "    [\n",
    "        m\n",
    "        for m in bw.methods\n",
    "        if \"ReCiPe\" in str(m)\n",
    "        and \"Midpoint (H)\" in str(m)\n",
    "        and \"climate change\" in str(m)\n",
    "    ][0],\n",
    "    [\n",
    "        m\n",
    "        for m in bw.methods\n",
    "        if \"ReCiPe\" in str(m)\n",
    "        and \"Midpoint (H)\" in str(m)\n",
    "        and \"water depletion\" in str(m)\n",
    "    ][0],\n",
    "]\n",
    "print(methods)"
   ]
  },
  {
   "cell_type": "markdown",
   "metadata": {},
   "source": [
    "And now we calculate the results for one functional unit (our banana production from above) and multiple LCIA methods:"
   ]
  },
  {
   "cell_type": "markdown",
   "metadata": {},
   "source": [
    "**One functional unit, multiple impact categories**"
   ]
  },
  {
   "cell_type": "code",
   "execution_count": null,
   "metadata": {},
   "outputs": [],
   "source": [
    "all_scores = {}\n",
    "banana_lca = bw.LCA({banana_CO: 1}, methods[0])\n",
    "banana_lca.lci()\n",
    "banana_lca.lcia()\n",
    "for category in methods:\n",
    "    banana_lca.switch_method(category)\n",
    "    banana_lca.lcia()\n",
    "    all_scores[category] = {}\n",
    "    all_scores[category][\"score\"] = banana_lca.score\n",
    "    all_scores[category][\"unit\"] = bw.Method(category).metadata[\"unit\"]\n",
    "    print(\n",
    "        \"The score is {:f} {} for impact category {}\".format(\n",
    "            banana_lca.score,\n",
    "            bw.Method(category).metadata[\"unit\"],\n",
    "            bw.Method(category).name,\n",
    "        )\n",
    "    )"
   ]
  },
  {
   "cell_type": "markdown",
   "metadata": {},
   "source": [
    "We can certainly present these results also in a nice table:"
   ]
  },
  {
   "cell_type": "code",
   "execution_count": null,
   "metadata": {},
   "outputs": [],
   "source": [
    "df = pd.DataFrame.from_dict(all_scores).T\n",
    "df"
   ]
  },
  {
   "cell_type": "markdown",
   "metadata": {},
   "source": [
    "And now let's visualise the results only for the scores that have the same unit, i.e. in this example agricultural and urban land occupation."
   ]
  },
  {
   "cell_type": "code",
   "execution_count": null,
   "metadata": {},
   "outputs": [],
   "source": [
    "%matplotlib inline\n",
    "import matplotlib.pyplot as plt"
   ]
  },
  {
   "cell_type": "code",
   "execution_count": null,
   "metadata": {},
   "outputs": [],
   "source": [
    "df_m2 = df[df[\"unit\"] == \"square meter-year\"]\n",
    "df_m2"
   ]
  },
  {
   "cell_type": "code",
   "execution_count": null,
   "metadata": {},
   "outputs": [],
   "source": [
    "df_m2.plot(kind=\"barh\")"
   ]
  },
  {
   "cell_type": "markdown",
   "metadata": {},
   "source": [
    "And of course we can find the relative contributions for our selected functional unit, too:"
   ]
  },
  {
   "cell_type": "code",
   "execution_count": null,
   "metadata": {},
   "outputs": [],
   "source": [
    "banana_lca_unitProcessContribution = banana_lca.characterized_inventory.sum(axis=0).A1\n",
    "banana_lca_unitProcessRelativeContribution = (\n",
    "    banana_lca_unitProcessContribution / banana_lca.score\n",
    ")\n",
    "banana_lca_unitProcessRelativeContribution"
   ]
  },
  {
   "cell_type": "markdown",
   "metadata": {},
   "source": [
    "And now we calculate the results for multiple functional units and multiple LCIA methods:"
   ]
  },
  {
   "cell_type": "markdown",
   "metadata": {},
   "source": [
    "**Multiple functional units, multiple impact categories**"
   ]
  },
  {
   "cell_type": "code",
   "execution_count": null,
   "metadata": {},
   "outputs": [],
   "source": [
    "# Set up the production system\n",
    "prod_sys = [{banana_CO.key: 1}, {banana_CR.key: 1}, {banana_IN.key: 1}]\n",
    "prod_sys"
   ]
  },
  {
   "cell_type": "code",
   "execution_count": null,
   "metadata": {},
   "outputs": [],
   "source": [
    "bw.calculation_setups[\"multiLCA\"] = {\"inv\": prod_sys, \"ia\": methods}\n",
    "bw.calculation_setups[\"multiLCA\"]\n",
    "myMultiLCA = bw.MultiLCA(\"multiLCA\")\n",
    "myMultiLCA.results\n",
    "\n",
    "df_impact = pd.DataFrame(data=myMultiLCA.results, columns=methods)\n",
    "df_impact"
   ]
  },
  {
   "cell_type": "markdown",
   "metadata": {},
   "source": [
    "Just in case we cannot remember for some reason our functional units, we can easily find their definition again:"
   ]
  },
  {
   "cell_type": "code",
   "execution_count": null,
   "metadata": {},
   "outputs": [],
   "source": [
    "myMultiLCA.func_units"
   ]
  },
  {
   "cell_type": "markdown",
   "metadata": {},
   "source": [
    "The same certainly goes for our chosen LCIA methods:"
   ]
  },
  {
   "cell_type": "code",
   "execution_count": null,
   "metadata": {},
   "outputs": [],
   "source": [
    "myMultiLCA.methods"
   ]
  }
 ],
 "metadata": {
  "language_info": {
   "name": "python"
  }
 },
 "nbformat": 4,
 "nbformat_minor": 2
}
