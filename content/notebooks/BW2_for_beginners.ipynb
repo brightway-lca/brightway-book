{
 "cells": [
  {
   "cell_type": "markdown",
   "metadata": {
    "id": "Fq8XglwaC6Wh"
   },
   "source": [
    "# Brightway2 for Beginners"
   ]
  },
  {
   "cell_type": "markdown",
   "metadata": {},
   "source": [
    "```{admonition} Authors\n",
    ":class: note\n",
    "This page was created by [Karin Treyer](https://www.psi.ch/en/ta/people/karin-treyer), [Anish Koyamparambath](https://www.linkedin.com/in/anishkoyamparambath/) and [Michael Weinold](https://www.linkedin.com/in/michaelweinold/) in September 2023 as part of the [BrightCon 2023 hackathon](https://web.archive.org/web/20230918043912/https://2023.brightcon.link/).\n",
    "```\n",
    "\n",
    "```{admonition} License\n",
    ":class: tip\n",
    "This page is licensed under a [Creative Commons Attribution 4.0 International License](https://creativecommons.org/licenses/by/4.0/). Cite it as: `\"BW2 for Beginners\", \"Learn Brightway\" Online Book (https://learn.brightway.dev/) by Brightway Contributors (2023)`.\n",
    "```"
   ]
  },
  {
   "cell_type": "markdown",
   "metadata": {
    "id": "9fpIeP1UDSCa"
   },
   "source": [
    "## Installing anaconda"
   ]
  },
  {
   "cell_type": "markdown",
   "metadata": {
    "id": "lxki6djrDTJ_"
   },
   "source": [
    "[Anaconda is a python distribution](https://en.wikipedia.org/wiki/Anaconda_(Python_distribution)) comes with the useful `conda` package manager. The distribution is available in two forms:\n",
    "\n",
    "1. **[Anaconda](https://www.anaconda.com/about-us)** is a full fledged distribution with multiple packages installed. It comes with a wide range of data analysis, machine learning, and scientific computing libraries pre-installed, making it a comprehensive package for data scientists.\n",
    "Anaconda can be installed from the [Anaconda download page](https://www.anaconda.com/download).\n",
    "1. **[Miniconda](https://docs.conda.io/projects/miniconda/en/latest/)** is a minimal distribution that only includes `python` and `conda`. This allows you to create a lightweight and customized Python environment. With Miniconda, you have more control over which packages you want to install, making it a good choice for users who want to build their own Python environments tailored to their specific needs. Miniconda can be installed from the [Anaconda download page](https://www.anaconda.com/download).\n",
    "\n",
    "Both Anaconda and Miniconda can be used to download Brightway into your computer."
   ]
  },
  {
   "cell_type": "markdown",
   "metadata": {
    "id": "QajKB9vyDfaj"
   },
   "source": [
    "## Using Conda to download the brightway2 package"
   ]
  },
  {
   "cell_type": "markdown",
   "metadata": {
    "id": "JfIcrN3IDkIG"
   },
   "source": [
    "There are different versions of Brightway (1, 2 & 2.5) and the differences between them are explained in this [page](https://docs.brightway.dev/en/latest/content/faq/brightway.html).\n",
    "\n",
    "This notebook will demonstrate the use of **Brightway version 2**.\n",
    "\n",
    "A documentation explaining how to [install brightway](https://docs.brightway.dev/en/legacy/content/faq/brightway.html) is available in the documentation which is the same as explained below.\n",
    "\n",
    "Once you install Anaconda or Miniconda, you can access the Anaconda Navigator **(See option 1**, *only if you download the Anaconda distribution*) or you can access the Anaconda prompt **(See option 2**, *available in both Anaconda & Miniconda distribution).*\n",
    "\n",
    "1. **Anaconda Navigator** is a Graphical User Inteface to download the required packages. It is recommended to *create an environment* where you will install brightway. An environment allows you to have different versions of installed packages. For instance, brightway 2 requires a specific version of background libraries that are necessary to run brightway smoothly.\n",
    "\n",
    "If you install all your projects in the same environment, you might run into issues. Creating an environment avoids such issues. More information on how to handle environments are explained below.\n",
    "\n",
    "To create environment, click on the **Environments** tab in the left and below you will find an option called **Create** which will create a new environment with your desired name.\n",
    "\n",
    "**Note: An environment name cannot be repeated.**\n",
    "\n",
    "Once you create an environment, on the *top right corner* in the search bar search for *brightway2* and install (all the necessary libraries are automatically installed).\n",
    "\n",
    "To run jupyter notebook, click on **Home** from the top left corner of the navigator (Ensure the correnct environment is selected i.e *bw*) and then click on **Launch** under Jupyterlab or Jupter notebook.\n",
    "\n",
    "To deactivate an environment after work, simply click on the base or another environment from the Anaconda Navigator.\n",
    "\n",
    "**Note: The notebook launches in the default directory i.e., the home directory. Changing it is complicated that to use Anaconda prompt to install jupyter which is explained below.**\n",
    "\n",
    "2. **Anaconda prompt** is a console environment that is available in both Anaconda and Miniconda distributions. Copy the following code into the anaconda prompt.\n",
    "\n",
    "```bash\n",
    "conda create -n bw brightway2 jupyterlab\n",
    "```\n",
    "\n",
    "\n",
    "This code creates an environment named *'bw'* that can be changed and it also installs *jupyterlab* that allows to use a web based interface to execute python code.\n",
    "\n",
    "In order to use brightway, you must activate the environment using the following code:\n",
    "\n",
    "```bash\n",
    "conda activate bw\n",
    "```\n",
    "\n",
    "Note: If you are using another editor or an Integrated Development Environment (IDE) such as pycharm, VSCode, spyder or others remember to select/setup the appropriate environment before executing the code.\n",
    "\n",
    "To use jupter notebook such as this file, after activating the environment run the following code:\n",
    "\n",
    "```bash\n",
    "jupter notebook\n",
    "```\n",
    "\n",
    "Note: Remember to navigate to the desired folder before executing the above code as it is complicated to go out of the folder to save your notebook after it starts.\n",
    "\n",
    "To deactivate the environment after working on your project use the following code:\n",
    "\n",
    "```bash\n",
    "conda deactivate\n",
    "```\n",
    "\n",
    "Note: In order to deactivate, you must first save and close the jupyter notebook. Save your work before quitting. Go to the home page of the notebook (the page that shows you the directory and different files and click on `quit`.\n",
    "\n",
    "Imp Note: Clicking on `logout` will not quit the jupyter notebook and you cannot provide an input into the terminal. In such cases, press `CTR+C`(Windows & Mac) to quit jupyter notebook which allows you to then deactivate the environment.\n",
    "\n",
    "After working with brightway, remember to deactivate the environment either using Anaconda Navigator or Anaconda prompt."
   ]
  },
  {
   "cell_type": "markdown",
   "metadata": {
    "id": "qZPZt28sC6Wl"
   },
   "source": [
    "## Working with environments"
   ]
  },
  {
   "cell_type": "markdown",
   "metadata": {
    "id": "5juW4JYhC6Wn"
   },
   "source": [
    "### Setting up an environment"
   ]
  },
  {
   "cell_type": "markdown",
   "metadata": {
    "id": "LRK1G8Y7C6Wn"
   },
   "source": [
    "\n",
    "You will work with environments in conda, see the official [conda page](https://docs.conda.io/projects/conda/en/latest/user-guide/concepts/environments.html).\n",
    "\n",
    "**\"A conda environment is a directory that contains a specific collection of conda packages that you have installed.\"** When you install Brightway, they will be installed in a specific environment which will contain all necessary packages. You can e.g. have one environment for brightway2, and one for brightway25.\n",
    "\n",
    "When you will install e.g. Brightway2, you will execute this line:\n",
    "\n",
    "```bash\n",
    "conda create -n bw brightway2 jupyterlab\n",
    "```\n",
    "\n",
    "This is the conda command for creating a new environment, which is called **\"bw\"**. Only running '''\"conda create -n bw\"''' would simply set up a new env, but empty without any packages in it. Adding \"brightway2\" or \"jupyterlab\" or \"python\" will install the respective package. You can also specify the **version number of the package**, e.g. ***\"python =3.10\"***. This is sometimes useful, when packages are not yet aligned well in terms of versions, i.e. bw is not yet adapted to use the very latest version of python. You can add as many packages as you want to the conda create command. See [below](#Maintaining-an-environment) for an explanation how conda knows where to fetch the packages.  \n",
    "\n",
    "By default, environments are installed into the envs directory in your conda directory. If you want to know more, this page explains more on the [management of environments](https://docs.conda.io/projects/conda/en/latest/user-guide/tasks/manage-environments.html#):\n",
    "\n",
    "\n",
    "**\"If you change one environment, your other environments are not affected.\"** However, the environments on your computer talk to each other. When you will create a new environment, and a new project in it, you will be able to see that new project in Activity browser (a graphical user interface for brightway for more information click [here](#https://www.sciencedirect.com/science/article/pii/S2665963819300120). You can create as many projects as you want in one environment.\n",
    "\n",
    "You can easily activate or deactivate environments, which is how you switch between them. You can also share your environment with someone by giving them a copy of your environment.yaml file (see [below](#Saving,-sharing-and-restoring-an-environment)). For more information, see Managing environments.\n"
   ]
  },
  {
   "cell_type": "markdown",
   "metadata": {
    "id": "MFbPanMIC6Wn"
   },
   "source": [
    "### Opening an environment\n",
    "\n",
    "Once you have created your environment, you can open it with\n",
    "```conda activate envname```\n"
   ]
  },
  {
   "cell_type": "markdown",
   "metadata": {
    "id": "toBg2-9KC6Wo"
   },
   "source": [
    "### Channels\n",
    "\n",
    "A \"channel\" is the location where packages are stored. By default, packages are installed from the \"conda-forge\" channel, which is maintained by a community of open source developers. brightway2 has been added to the conda-forge channel. brightway25 has not been added to conda-forge yet. brightway25 needs to be installed from the conda channel \"cmutel\". This is to avoid users \"accidentally\" installing the more advanced brightway25, which is not yet compatible with the activity browser.\n",
    "\n",
    "[Here](https://www.freecodecamp.org/news/what-is-a-channel-in-conda/) is a nice explanation what channels are.\n",
    "\n",
    "This is not very relevant for you as a beginner, but it can help you understand e.g. the installation line for Activity Browser, which looks like this:\n",
    "```conda create -n ab -c conda-forge activity-browser```\n",
    "\n",
    "You have already seen above that the \"create -n ab\" creates the environment named \"ab\", and \"activity browser\" is the package which is fetched. Here, \"-c conda-forge\" is just an explicitly added link to the channel \"conda-forge\"."
   ]
  },
  {
   "cell_type": "markdown",
   "metadata": {
    "id": "clB52uF6C6Wo"
   },
   "source": [
    "### Maintaining an environment"
   ]
  },
  {
   "cell_type": "markdown",
   "metadata": {
    "id": "SP0ySfKiC6Wo"
   },
   "source": [
    "We recommend you do not \"update\" the packages in your environment. Updating individual brightway packages (or other Python packages that Brightway uses, like \"scipy\", 'numpy' etc.) could introduce \"breaking changes\". A \"breaking change\" is a change in the source code of Brightway. This includes the exact syntax of Brightway commands. In other words, just changing the version number of numpy might not be enough, because it depends itself on other packages, which would have to be aligned with the new numpy version.\n",
    "\n",
    "Instead, best create a new environment, and install e.g. bw2 again. bw2 always strives to use the latest versions of the packages it uses wherever it makes sense."
   ]
  },
  {
   "cell_type": "markdown",
   "metadata": {
    "id": "W8av2QLuC6Wp"
   },
   "source": [
    "### Saving, sharing and restoring an environment"
   ]
  },
  {
   "cell_type": "markdown",
   "metadata": {
    "id": "5vtvgpC7C6Wp"
   },
   "source": [
    "As explained [here](https://docs.conda.io/projects/conda/en/latest/user-guide/tasks/manage-environments.html#creating-an-environment-from-an-environment-yml-file), you can save your environment in order to re-create it at any time later.\n",
    "\n",
    "This is necessary if you want to make sure that you can re-calculate a project few months or even years later. All you need is are the following three files:\n",
    "1. The yml. file of the environment.\n",
    "2. The jupyter notebook\n",
    "3. Any excel file in case you have used one\n",
    "\n",
    "It is important that these three files are e.g. labelled in their filename with the same date, or are stored in the same folder, so that you can easily find the relevant combination."
   ]
  },
  {
   "cell_type": "markdown",
   "metadata": {
    "id": "RuG0JsDBC6Wp"
   },
   "source": [
    "#### So the steps you need to do are:\n",
    "1. Save your environment as .yml file:  <pre><code>conda list -n YOURENVNAME --export SAVINGPATH/<FILE_NAME>.yml</code></pre>\n",
    "\n",
    "Example: <pre><code>conda list -n syn39 --export C:\\Users\\syn39_20230917.yml</pre></code>\n",
    "\n",
    "You can name your yml file as you want. It seems to make sense to include the environment name and time stamp in the name.\n",
    "You can save your yml in the folder you want. Your project folder, and/or a dedicated backup folder, whatever.\n",
    "\n",
    "Five years later, you want to recreate your environment.\n",
    "\n",
    "2. <pre><code>conda env create -f C:\\Users\\syn39_20230917.yml</pre></code>\n",
    "\n",
    "It is possible to only use the filename in case you are in the same folder, but as this is not always obvious, using the full path is on the safe side.\n",
    "\n"
   ]
  },
  {
   "cell_type": "markdown",
   "metadata": {
    "id": "5eTohz02C6Wp"
   },
   "source": [
    "## Recap: Installing brightway2 on your computer"
   ]
  },
  {
   "cell_type": "markdown",
   "metadata": {
    "id": "R_5Q7E0mC6Wq"
   },
   "source": [
    "You may already have installed bw2 and ab while reading above.\n",
    "\n",
    "In case not, or in case you want this to be summarised, here's how to get these two packages on your computer:"
   ]
  },
  {
   "cell_type": "markdown",
   "metadata": {
    "id": "mxlmIjvrC6Wq"
   },
   "source": [
    "[Brightway2](#Using-Conda-to-download-the-brightway2-package): Follow the setup instruction from bw2 [here](https://docs.brightway.dev/en/legacy/content/setup/setup.html).\n",
    "\n",
    "Namely: ```conda create -n bw brightway2 jupyterlab``` creates the environment AND fetches the two packages brightway2 and jupyterlab from the channel conda-forge.\n",
    "And with ```conda activate bw```, you access the environment so that you can make use of all the packages which are included in it, such as LCA calculations, handling of LCA databases, etc.\n"
   ]
  },
  {
   "cell_type": "markdown",
   "metadata": {
    "id": "0-_qQI5sD-Gp"
   },
   "source": [
    "# Preparing the Notebook"
   ]
  },
  {
   "cell_type": "markdown",
   "metadata": {
    "id": "oH_ewqiDD_ZO"
   },
   "source": [
    "The <b><a href=https://jupyter.org/>Jupyter Notebook</a></b> is a web-based interactive computing platform. The notebook combines live code, equations, narrative text, visualizations. <br>\n",
    "In the notebook, each <b>cell</b> executes code either single line or multiple line.<br>\n",
    "Contrary to other tools such as a text editor or an IDE where the code is executed line by line untill the end of the script, in a notebook, each cell can be executed individually without a particular order. <br>\n",
    "However, in order to maintin coherency and to harmonize the flow of code, it is recommended to code each step in a linear fashion i.e., Cell 1 will execute the first line or group of code and then Cell 1 will execute the second line or group and so on.<br>\n",
    "\n",
    "<i><b>INFO: </b>Refer to <a href=https://docs.jupyter.org/en/latest/>Jupter notebook documentation </a> or <a href='https://www.youtube.com/results?search_query=jupyter+notebook'>videos</a> to better understand what and how to use Jupyter notebook.</i>\n",
    "\n",
    "\n"
   ]
  },
  {
   "cell_type": "markdown",
   "metadata": {
    "id": "7UEq9aWDECnl"
   },
   "source": [
    "## Using Brightway\n",
    "\n",
    "To use brightway2 (referred to as <b>bw</b> here on), you must first import brightway libraries from the package. <b><i>brightway2</b></i> is the name of the package that contains multiple sub packages such as <i>bw2io</i>, <i>bw2calc</i> and others. Importing <i>brightway2</i> will automatically import all the subpackages thereby all the modules and functions within them. This is discouraged by the developers as it is not easy to identify which function is a part of which subpackage which would be difficult in debugging.<br>\n",
    "\n",
    "The objective of this notebook is however to quickly show you how to use different functions of brightway2."
   ]
  },
  {
   "cell_type": "markdown",
   "metadata": {},
   "source": [
    "### Import brightway into the notebook"
   ]
  },
  {
   "cell_type": "code",
   "execution_count": 64,
   "metadata": {
    "id": "5YLVls_MC6Ws"
   },
   "outputs": [],
   "source": [
    "#This code is used to import the brightway2 package with an alias i.e., 'bw'. \n",
    "#Using an alias helps us manage the code easily. (Its like a nick name)\n",
    "import brightway2 as bw "
   ]
  },
  {
   "cell_type": "markdown",
   "metadata": {
    "id": "ZgHo6Ly-C6Wt"
   },
   "source": [
    "### List the project names stored in the current brightway environment"
   ]
  },
  {
   "cell_type": "code",
   "execution_count": 57,
   "metadata": {
    "id": "iTnO09pRC6Wt",
    "outputId": "88778b1d-e22f-4742-efac-a90f7cda7403"
   },
   "outputs": [
    {
     "data": {
      "text/plain": [
       "Brightway2 projects manager with 4 objects:\n",
       "\tElectricMachine\n",
       "\tdefault\n",
       "\tdemo\n",
       "\tdemopingpong\n",
       "Use `projects.report()` to get a report on all projects."
      ]
     },
     "execution_count": 57,
     "metadata": {},
     "output_type": "execute_result"
    }
   ],
   "source": [
    "bw.projects #The prefix \"bw\" shows that \"projects\" is taken from the brightway2 package."
   ]
  },
  {
   "cell_type": "code",
   "execution_count": 58,
   "metadata": {
    "id": "d2lttM1xC6Wu",
    "outputId": "c64c59b4-0ee7-49b7-9664-39920bd51d29"
   },
   "outputs": [
    {
     "data": {
      "text/plain": [
       "[Project: default,\n",
       " Project: ElectricMachine,\n",
       " Project: demopingpong,\n",
       " Project: demo]"
      ]
     },
     "execution_count": 58,
     "metadata": {},
     "output_type": "execute_result"
    }
   ],
   "source": [
    "list(bw.projects)#Show the project names as a list"
   ]
  },
  {
   "cell_type": "code",
   "execution_count": 59,
   "metadata": {},
   "outputs": [
    {
     "name": "stdout",
     "output_type": "stream",
     "text": [
      "Brightway2 projects manager with 4 objects:\n",
      "\tElectricMachine\n",
      "\tdefault\n",
      "\tdemo\n",
      "\tdemopingpong\n",
      "Use `projects.report()` to get a report on all projects.\n"
     ]
    }
   ],
   "source": [
    "print(bw.projects)#use this code if you are not using jupyternotebook but a text editor or an IDE"
   ]
  },
  {
   "cell_type": "markdown",
   "metadata": {},
   "source": [
    "### Access the saved project"
   ]
  },
  {
   "cell_type": "code",
   "execution_count": null,
   "metadata": {},
   "outputs": [],
   "source": [
    "#If you want to know, where the project is saved on your computer (directory, you can do this)\n",
    "bw.projects.dir"
   ]
  },
  {
   "cell_type": "code",
   "execution_count": 60,
   "metadata": {},
   "outputs": [],
   "source": [
    "#The set current function loads the project and all the databases attached to the project if previously stored\n",
    "bw.projects.set_current('demo')"
   ]
  },
  {
   "cell_type": "markdown",
   "metadata": {},
   "source": [
    "***Note:** If the name of the project does not exist previously, brightway automatically creates a new project with the provided name*  \n",
    "***Note:** You cannot rename the name of the project once created. Inorder to rename the project, you must copy it using <code>.copyproject</code> where you can provide a new name.*  \n",
    "***INFO:** Remember to delete the old project with the wrong name using <code>.delete_project</code>.*\n"
   ]
  },
  {
   "cell_type": "code",
   "execution_count": 61,
   "metadata": {},
   "outputs": [],
   "source": [
    "bw.projects.copy_project('Brightway4dummies')#.copy_project only copies the current project that you have set before"
   ]
  },
  {
   "cell_type": "code",
   "execution_count": 56,
   "metadata": {},
   "outputs": [
    {
     "data": {
      "text/plain": [
       "'demo'"
      ]
     },
     "execution_count": 56,
     "metadata": {},
     "output_type": "execute_result"
    }
   ],
   "source": [
    "bw.projects.delete_project('demo', delete_dir=True)#Deletes the projectb"
   ]
  },
  {
   "cell_type": "markdown",
   "metadata": {},
   "source": [
    "***Note:** You must provide the argument <code>delete_dir</code> and set it as <code>True</code>. Failing this step will not delete the directory and you will never be able to reuse the name in the current brightway environment.*"
   ]
  },
  {
   "cell_type": "markdown",
   "metadata": {},
   "source": [
    "### Set up the project"
   ]
  },
  {
   "cell_type": "markdown",
   "metadata": {},
   "source": [
    "#### Load the biosphere flows and Impact assessment methods into the project\n",
    "Brightway comes with default set of biosphere flows and impact assessment methods that can be loaded into the project.\n",
    "\n",
    "***Note:** Each project created must load these flows and methods to do an assessment. Once loaded it stays with the project which will be loaded along with the project every time <code>.set_current(\"Name of the project\")</code> is used."
   ]
  },
  {
   "cell_type": "code",
   "execution_count": 63,
   "metadata": {
    "id": "c7QombnUC6Wv",
    "outputId": "f58d6f08-4f72-49bb-c667-8dba5b55aa95"
   },
   "outputs": [
    {
     "name": "stdout",
     "output_type": "stream",
     "text": [
      "Creating default biosphere\n",
      "\n"
     ]
    },
    {
     "name": "stderr",
     "output_type": "stream",
     "text": [
      "Writing activities to SQLite3 database:\n"
     ]
    },
    {
     "name": "stdout",
     "output_type": "stream",
     "text": [
      "Applying strategy: normalize_units\n",
      "Applying strategy: drop_unspecified_subcategories\n",
      "Applying strategy: ensure_categories_are_tuples\n",
      "Applied 3 strategies in 0.01 seconds\n"
     ]
    },
    {
     "name": "stderr",
     "output_type": "stream",
     "text": [
      "0% [##############################] 100% | ETA: 00:00:00\n",
      "Total time elapsed: 00:00:00\n"
     ]
    },
    {
     "name": "stdout",
     "output_type": "stream",
     "text": [
      "Title: Writing activities to SQLite3 database:\n",
      "  Started: 09/17/2023 15:35:38\n",
      "  Finished: 09/17/2023 15:35:38\n",
      "  Total time elapsed: 00:00:00\n",
      "  CPU %: 13.00\n",
      "  Memory %: 1.34\n",
      "Created database: biosphere3\n",
      "Creating default LCIA methods\n",
      "\n",
      "Wrote 762 LCIA methods with 227223 characterization factors\n",
      "Creating core data migrations\n",
      "\n"
     ]
    }
   ],
   "source": [
    "bw.bw2setup()#This code loads all the biosphere flows and LCIA methods"
   ]
  },
  {
   "cell_type": "markdown",
   "metadata": {},
   "source": [
    "#### Loading external databases into brightway\n",
    "\n",
    "Since most of the LCA practitioners use Ecoinvent to model their processes, in this example we show how to import Ecoinvent database into brightway. Please note same steps can be adopted to import any other database into brightway.<br>\n",
    "***Note:** Brightway can load in different data formats such as 'ecospold', 'excel'. If using ecoinvent ecospold format, provide the directory where the extracted datasets are available*  \n",
    "***Imp Note:** Always assign a variable to load all the data which is later used to perform other functions.*"
   ]
  },
  {
   "cell_type": "markdown",
   "metadata": {},
   "source": [
    "***Note:** <code>.SingleOutputEcospold2Importer</code> is a function that loads all the datasets that are in ecospold or <code>.spold</code> format. It takes two main arguments, the path to the file and the name of the dataset you would like to save it as in the project.*"
   ]
  },
  {
   "cell_type": "markdown",
   "metadata": {},
   "source": [
    "***Imp Note:** If you are using an older version of ecospold, use <code>.SingleOutputEcospold1Importer</code>.*"
   ]
  },
  {
   "cell_type": "code",
   "execution_count": 69,
   "metadata": {},
   "outputs": [
    {
     "name": "stdout",
     "output_type": "stream",
     "text": [
      "Extracting XML data from 21238 datasets\n",
      "Extracted 21238 datasets in 107.22 seconds\n"
     ]
    }
   ],
   "source": [
    "ei = bw.SingleOutputEcospold2Importer(r\"D:\\Projects\\Brightway\\Documentation\\Ecoinvent\\datasets\", \"ev391cutoff\")"
   ]
  },
  {
   "cell_type": "markdown",
   "metadata": {},
   "source": [
    "***Note:** The format needs to be converted and brightway strategies are applied. <code>.apply_stretegies()</code> function is applied to the variable that loaded the database*"
   ]
  },
  {
   "cell_type": "code",
   "execution_count": 71,
   "metadata": {},
   "outputs": [
    {
     "name": "stdout",
     "output_type": "stream",
     "text": [
      "Applying strategy: normalize_units\n",
      "Applying strategy: update_ecoinvent_locations\n",
      "Applying strategy: remove_zero_amount_coproducts\n",
      "Applying strategy: remove_zero_amount_inputs_with_no_activity\n",
      "Applying strategy: remove_unnamed_parameters\n",
      "Applying strategy: es2_assign_only_product_with_amount_as_reference_product\n",
      "Applying strategy: assign_single_product_as_activity\n",
      "Applying strategy: create_composite_code\n",
      "Applying strategy: drop_unspecified_subcategories\n",
      "Applying strategy: fix_ecoinvent_flows_pre35\n",
      "Applying strategy: drop_temporary_outdated_biosphere_flows\n",
      "Applying strategy: link_biosphere_by_flow_uuid\n",
      "Applying strategy: link_internal_technosphere_by_composite_code\n",
      "Applying strategy: delete_exchanges_missing_activity\n",
      "Applying strategy: delete_ghost_exchanges\n",
      "Applying strategy: remove_uncertainty_from_negative_loss_exchanges\n",
      "Applying strategy: fix_unreasonably_high_lognormal_uncertainties\n",
      "Applying strategy: set_lognormal_loc_value\n",
      "Applying strategy: convert_activity_parameters_to_list\n",
      "Applying strategy: add_cpc_classification_from_single_reference_product\n",
      "Applying strategy: delete_none_synonyms\n",
      "Applied 21 strategies in 7.43 seconds\n"
     ]
    }
   ],
   "source": [
    "ei.apply_strategies()"
   ]
  },
  {
   "cell_type": "markdown",
   "metadata": {},
   "source": [
    "In order to view how many datastates and exchanges are loaded can be viewed using <code>.statistics()</code>"
   ]
  },
  {
   "cell_type": "code",
   "execution_count": 72,
   "metadata": {},
   "outputs": [
    {
     "name": "stdout",
     "output_type": "stream",
     "text": [
      "21238 datasets\n",
      "674593 exchanges\n",
      "0 unlinked exchanges\n",
      "  \n"
     ]
    },
    {
     "data": {
      "text/plain": [
       "(21238, 674593, 0)"
      ]
     },
     "execution_count": 72,
     "metadata": {},
     "output_type": "execute_result"
    }
   ],
   "source": [
    "ei.statistics()"
   ]
  },
  {
   "cell_type": "markdown",
   "metadata": {},
   "source": [
    "The above functions only loaded/imported the database into the brightway but still has to be written to the project inorder to access it again when using the project. This is possible using <code>.write_database()</code>"
   ]
  },
  {
   "cell_type": "code",
   "execution_count": 73,
   "metadata": {},
   "outputs": [
    {
     "name": "stderr",
     "output_type": "stream",
     "text": [
      "Writing activities to SQLite3 database:\n",
      "0% [##############################] 100% | ETA: 00:00:00\n",
      "Total time elapsed: 00:00:47\n"
     ]
    },
    {
     "name": "stdout",
     "output_type": "stream",
     "text": [
      "Title: Writing activities to SQLite3 database:\n",
      "  Started: 09/17/2023 16:21:27\n",
      "  Finished: 09/17/2023 16:22:14\n",
      "  Total time elapsed: 00:00:47\n",
      "  CPU %: 42.10\n",
      "  Memory %: 18.98\n",
      "Created database: ev391cutoff\n"
     ]
    },
    {
     "data": {
      "text/plain": [
       "Brightway2 SQLiteBackend: ev391cutoff"
      ]
     },
     "execution_count": 73,
     "metadata": {},
     "output_type": "execute_result"
    }
   ],
   "source": [
    "ei.write_database()"
   ]
  },
  {
   "cell_type": "markdown",
   "metadata": {
    "id": "g7SGNBjwC6Ww"
   },
   "source": [
    "Now lets see what databases are existing in our project. Use <code>.databases</code> to **bw** variable."
   ]
  },
  {
   "cell_type": "code",
   "execution_count": 74,
   "metadata": {
    "id": "MAa46Ia4C6Wx",
    "outputId": "6ec971c3-a267-471d-a2a9-115b449c0561"
   },
   "outputs": [
    {
     "data": {
      "text/plain": [
       "['biosphere3', 'ev391cutoff']"
      ]
     },
     "execution_count": 74,
     "metadata": {},
     "output_type": "execute_result"
    }
   ],
   "source": [
    "list(bw.databases)"
   ]
  },
  {
   "cell_type": "markdown",
   "metadata": {},
   "source": [
    "You can also load a custom processes created by you that includes a combination of ecoinvent processes and biosphere. You can find the documentation on how to format the excel file [here](#https://docs.brightway.dev/en/latest/content/theory/theory.html#importing-from-the-standard-excel-template)."
   ]
  },
  {
   "cell_type": "markdown",
   "metadata": {},
   "source": [
    "***Note:** The database name in the database column in the excel sheet must match the name provided while importing. For example, ecoinvent is saved as 'ev391cutoff' which should be the exact same name used while referring inside the excel file.*"
   ]
  },
  {
   "cell_type": "markdown",
   "metadata": {},
   "source": [
    "Load the excel file using <code>.ExcelImporter</code> by providing the path to the file."
   ]
  },
  {
   "cell_type": "code",
   "execution_count": 75,
   "metadata": {},
   "outputs": [
    {
     "name": "stdout",
     "output_type": "stream",
     "text": [
      "Extracted 1 worksheets in 0.03 seconds\n",
      "Applying strategy: csv_restore_tuples\n",
      "Applying strategy: csv_restore_booleans\n",
      "Applying strategy: csv_numerize\n",
      "Applying strategy: csv_drop_unknown\n",
      "Applying strategy: csv_add_missing_exchanges_section\n",
      "Applying strategy: normalize_units\n",
      "Applying strategy: normalize_biosphere_categories\n",
      "Applying strategy: normalize_biosphere_names\n",
      "Applying strategy: strip_biosphere_exc_locations\n",
      "Applying strategy: set_code_by_activity_hash\n",
      "Applying strategy: link_iterable_by_fields\n",
      "Applying strategy: assign_only_product_as_production\n",
      "Applying strategy: link_technosphere_by_activity_hash\n",
      "Applying strategy: drop_falsey_uncertainty_fields_but_keep_zeros\n",
      "Applying strategy: convert_uncertainty_types_to_integers\n",
      "Applying strategy: convert_activity_parameters_to_list\n",
      "Applied 16 strategies in 15.06 seconds\n"
     ]
    }
   ],
   "source": [
    "imp = bw.ExcelImporter(r'D:\\Projects\\Brightway\\Documentation\\lci_rawdata_import.xlsx')\n",
    "imp.apply_strategies()"
   ]
  },
  {
   "cell_type": "markdown",
   "metadata": {},
   "source": [
    "Next step is to match the processes in the excel file to the ecoinvent database (which is the only database referred to)"
   ]
  },
  {
   "cell_type": "code",
   "execution_count": 76,
   "metadata": {},
   "outputs": [
    {
     "name": "stdout",
     "output_type": "stream",
     "text": [
      "Applying strategy: link_iterable_by_fields\n"
     ]
    }
   ],
   "source": [
    "imp.match_database(\"ev391cutoff\", fields=('name','unit','location'))"
   ]
  },
  {
   "cell_type": "code",
   "execution_count": 77,
   "metadata": {},
   "outputs": [
    {
     "name": "stdout",
     "output_type": "stream",
     "text": [
      "2 datasets\n",
      "43 exchanges\n",
      "0 unlinked exchanges\n",
      "  \n"
     ]
    },
    {
     "data": {
      "text/plain": [
       "(2, 43, 0)"
      ]
     },
     "execution_count": 77,
     "metadata": {},
     "output_type": "execute_result"
    }
   ],
   "source": [
    "imp.statistics()#Lets see how many datasets are loaded"
   ]
  },
  {
   "cell_type": "code",
   "execution_count": 78,
   "metadata": {},
   "outputs": [
    {
     "name": "stderr",
     "output_type": "stream",
     "text": [
      "Writing activities to SQLite3 database:\n",
      "0% [##] 100% | ETA: 00:00:00\n",
      "Total time elapsed: 00:00:00\n"
     ]
    },
    {
     "name": "stdout",
     "output_type": "stream",
     "text": [
      "Title: Writing activities to SQLite3 database:\n",
      "  Started: 09/17/2023 16:39:23\n",
      "  Finished: 09/17/2023 16:39:23\n",
      "  Total time elapsed: 00:00:00\n",
      "  CPU %: 0.00\n",
      "  Memory %: 20.53\n",
      "Created database: hydrogen_demo\n"
     ]
    }
   ],
   "source": [
    "imp.write_database()#Write the imported database into the project"
   ]
  },
  {
   "cell_type": "code",
   "execution_count": 79,
   "metadata": {
    "id": "5s2ESXs5C6Wx",
    "outputId": "486a199b-12a8-4465-b92a-be6c452c1558"
   },
   "outputs": [
    {
     "data": {
      "text/plain": [
       "<generator object ImportBase.unlinked at 0x000001861DDE0840>"
      ]
     },
     "execution_count": 79,
     "metadata": {},
     "output_type": "execute_result"
    }
   ],
   "source": [
    "imp.unlinked#Print any unlinked processes"
   ]
  },
  {
   "cell_type": "markdown",
   "metadata": {},
   "source": [
    "You should have learned how to\n",
    "1. Install Anaconda\n",
    "2. Install Brightway\n",
    "3. How to load brightway in jupyter notebook\n",
    "4. How to create, copy, delete a project\n",
    "5. How to load databases\n",
    "\n",
    "In the following notebooks, you will learn how to do a full life cycle assessment using the loaded databases"
   ]
  }
 ],
 "metadata": {
  "colab": {
   "provenance": []
  },
  "kernelspec": {
   "display_name": "Python 3 (ipykernel)",
   "language": "python",
   "name": "python3"
  },
  "language_info": {
   "codemirror_mode": {
    "name": "ipython",
    "version": 3
   },
   "file_extension": ".py",
   "mimetype": "text/x-python",
   "name": "python",
   "nbconvert_exporter": "python",
   "pygments_lexer": "ipython3",
   "version": "3.11.5"
  }
 },
 "nbformat": 4,
 "nbformat_minor": 1
}
