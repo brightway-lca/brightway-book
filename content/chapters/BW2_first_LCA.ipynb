{
 "cells": [
  {
   "cell_type": "markdown",
   "metadata": {},
   "source": [
    "# First LCA Steps\n",
    "\n",
    "```{admonition} Authors\n",
    ":class: hint\n",
    "This chapter was created by [Karin Treyer](https://www.psi.ch/en/ta/people/karin-treyer) in 2024.\n",
    "\n",
    "```{admonition} License\n",
    ":class: seealso\n",
    "This page is licensed under a [Creative Commons Attribution 4.0 International License (CC BY 4.0)](https://creativecommons.org/licenses/by/4.0/).\n",
    "```\n",
    "\n",
    "Please go through the very basic first notebook first. It explains ana-/miniconda, environments, and much more."
   ]
  },
  {
   "cell_type": "markdown",
   "metadata": {},
   "source": [
    "## 1. Installing Activity Browser"
   ]
  },
  {
   "cell_type": "markdown",
   "metadata": {},
   "source": [
    "The Activity Browser (\"AB\") is a tool that allows you to perform Brightway life-cycle assessment calculations using a visual interface. To install AB on your computer, you can follow [the setup instructions here](https://github.com/LCA-ActivityBrowser/activity-browser). There are different ways how you can install AB. You will already understand the \"quick way\" installation by now, which is shown here:\n",
    "\n",
    "1. Create a Conda environment named `ab` with the following command:\n",
    "\n",
    "```bash\n",
    "conda create -n ab -c conda-forge --solver libmamba activity-browser\n",
    "```\n",
    "\n",
    "2. Activate the environment:\n",
    "\n",
    "```bash\n",
    "conda activate ab\n",
    "```\n",
    "\n",
    "3. Start the Activity Browser:\n",
    "\n",
    "```bash\n",
    "activity-browser\n",
    "```\n",
    "\n",
    "Activity Browser \"sees\" all the Brightway projects you have on your computer, and adopts all new projects you create and all new databases as you are working on. This means that you can make edits to a Brightway project using the command line and these changes will be reflected in the Activity Browser interface."
   ]
  },
  {
   "cell_type": "markdown",
   "metadata": {},
   "source": [
    "## 2. Create an Environment for your Brightway Installation"
   ]
  },
  {
   "cell_type": "markdown",
   "metadata": {},
   "source": [
    "You should create a separate environment for your Brightway installation. To install Brightway on your computer, you can follow [the setup instruction here](https://docs.brightway.dev/en/legacy/content/setup/setup.html):\n",
    "\n",
    "1. Create a Conda environment named `bw` with the following command:\n",
    "\n",
    "```bash\n",
    "conda create -n bw brightway2 jupyterlab\n",
    "```\n",
    "\n",
    "Note that here we have installed both Brightway _and_ the `jupyterlab` package, which is required to work with Jupyter Notebooks.\n",
    "\n",
    "2. Activate the environment:\n",
    "\n",
    "```bash\n",
    "conda activate bw\n",
    "```\n",
    "\n",
    "3. Start Jupyter Lab so that you can work on a notebook:\n",
    "\n",
    "```bash\n",
    "jupyter lab\n",
    "```"
   ]
  },
  {
   "cell_type": "markdown",
   "metadata": {},
   "source": [
    "Now that you have understood how to get the Brightway packages on your computer and you want to do what your heart longs for: LCA 💚"
   ]
  },
  {
   "cell_type": "markdown",
   "metadata": {},
   "source": [
    "## 3. Example Project: Hydrogen Production via various Water Electrolysis Technologies\n",
    "\n",
    "It's good practice to describe your project shortly, and which data you are using.\n",
    "\n",
    "**Origin of LCI data:**\n",
    "\n",
    "* ecoinvent v3.9.1 cut-off system\n",
    "* literature data\n",
    "* original data from company X  (confidential)\n",
    "\n",
    "**Goal of the study:**\n",
    "\n",
    "- Import the biosphere, LCIA methods \n",
    "- Import the background database ecoinvent\n",
    "- Import the foreground inventories (you can look at all these databases in AB in a human friendly way)\n",
    "- Calculate the LCIA results, create an easy plot, but additionally output them as csv file so that you can visualise them in excel if you are not used to visualisation with Python."
   ]
  },
  {
   "cell_type": "markdown",
   "metadata": {},
   "source": [
    "### Notebook Preparations\n",
    "* Import packages\n",
    "* create biosphere and ecoinvent\n",
    "* if needed: create future background databases with premise package including all additional LCI, e.g. methanol, updated steel, cement etc.. Use future databases for modelling deployment pathways"
   ]
  },
  {
   "cell_type": "code",
   "execution_count": 98,
   "metadata": {},
   "outputs": [],
   "source": [
    "import bw2io as bi\n",
    "import bw2data as bd\n",
    "import bw2calc as bc\n",
    "\n",
    "#often, we also use other nice python packages. For each of these, very helpful Cheat Sheets exist on the web! \n",
    "import pandas as pd #for data handling with dataframes\n",
    "import numpy as np #for calculations\n",
    "\n",
    "#plotting: often, the following are used:\n",
    "import matplotlib.pyplot as plt\n",
    "import seaborn as sns"
   ]
  },
  {
   "cell_type": "markdown",
   "metadata": {},
   "source": [
    "### Setting up and handling Projects\n",
    "\n",
    "```{admonition} License\n",
    ":class: note\n",
    "You can do the next steps in ActivityBrowser if you prefer. It's possible to create, rename, and delete projects there.\n",
    "```\n",
    "\n",
    "```{admonition} License\n",
    ":class: seealso\n",
    "[Section \"Projects\" in the Brightway Documentation Cheat Sheet](https://docs.brightway.dev/en/latest/content/cheatsheet/projects.html)\n",
    "```"
   ]
  },
  {
   "cell_type": "markdown",
   "metadata": {},
   "source": [
    "You can check which projects exist on my computer - to see which ones are there, or if you have forgotten the name of your project. Of course, on your computer, you will see a different list of projects:\n"
   ]
  },
  {
   "cell_type": "code",
   "execution_count": 99,
   "metadata": {},
   "outputs": [
    {
     "data": {
      "text/plain": [
       "[Project: default,\n",
       " Project: twingtec,\n",
       " Project: sob,\n",
       " Project: pv_huimin,\n",
       " Project: StL_plants,\n",
       " Project: esa_gslact_june23,\n",
       " Project: sssd,\n",
       " Project: sssd_csv,\n",
       " Project: awe_softwing,\n",
       " Project: awe_twingtec,\n",
       " Project: synhelion391,\n",
       " Project: demo,\n",
       " Project: success,\n",
       " Project: Residual mixes,\n",
       " Project: awe_samuel,\n",
       " Project: coursePSI,\n",
       " Project: cement,\n",
       " Project: deepgeothermal,\n",
       " Project: wurst,\n",
       " Project: geoenvi,\n",
       " Project: demopingpong,\n",
       " Project: newproject,\n",
       " Project: residual_mixes]"
      ]
     },
     "execution_count": 99,
     "metadata": {},
     "output_type": "execute_result"
    }
   ],
   "source": [
    "list(bd.projects) #the prefix \"bw\" indicates that \"projects\" is a method of the bw2data package"
   ]
  },
  {
   "cell_type": "markdown",
   "metadata": {},
   "source": [
    "Let's create a project (or activate it when you come back to work on your project):"
   ]
  },
  {
   "cell_type": "code",
   "execution_count": 100,
   "metadata": {},
   "outputs": [],
   "source": [
    "bd.projects.set_current('demo') # activates a project, or creates it first if it doesn't exist yet"
   ]
  },
  {
   "cell_type": "markdown",
   "metadata": {},
   "source": [
    "### 3. Filling your project with the Biosphere, LCIA Methods, and Ecoinvent\n",
    "\n",
    "### Setting up and handling Projects\n",
    "\n",
    "```{admonition} License\n",
    ":class: note\n",
    "You can do the next steps in ActivityBrowser if you prefer. It's possible to import biosphere, LCIA methods, and ecoinvent (and other databases) there.\n",
    "```\n",
    "\n",
    "```{admonition} License\n",
    ":class: seealso\n",
    "[Section \"Databases\" in the Brightway Documentation Cheat Sheet](https://docs.brightway.dev/en/latest/content/cheatsheet/databases.html)\n",
    "```"
   ]
  },
  {
   "cell_type": "markdown",
   "metadata": {},
   "source": [
    "You only have to import the databases once. After that, they will be present in your project."
   ]
  },
  {
   "cell_type": "code",
   "execution_count": 101,
   "metadata": {},
   "outputs": [
    {
     "data": {
      "text/plain": [
       "['biosphere3', 'ev391cutoff', 'h2_electrolysis', 'hydrogen_demo']"
      ]
     },
     "execution_count": 101,
     "metadata": {},
     "output_type": "execute_result"
    }
   ],
   "source": [
    "list(bd.databases) # check if there are databases in the project, and how they are named. "
   ]
  },
  {
   "cell_type": "markdown",
   "metadata": {},
   "source": [
    "There exist two ways of how to import the necessary databases. Do either option A or option B, but you don't have to execute both!\n",
    "\n",
    "*Option A*: Import the biosphere, LCIA methods, and ecoinvent all in one go"
   ]
  },
  {
   "cell_type": "code",
   "execution_count": null,
   "metadata": {},
   "outputs": [],
   "source": [
    "bi.import_ecoinvent_release(\n",
    "    version='3.10',\n",
    "    system_model='cutoff', # can be cutoff / apos / consequential / EN15804\n",
    "    username='johndoe',\n",
    "    password='1234'\n",
    ")"
   ]
  },
  {
   "cell_type": "markdown",
   "metadata": {},
   "source": [
    "Let's check if the databases are now there...\n"
   ]
  },
  {
   "cell_type": "code",
   "execution_count": null,
   "metadata": {},
   "outputs": [],
   "source": [
    "list(bd.databases)"
   ]
  },
  {
   "cell_type": "markdown",
   "metadata": {
    "notebookRunGroups": {
     "groupValue": "2"
    }
   },
   "source": [
    "*Option B*: In most existing notebooks you will find on the web, you will still see the old way of importing all these. There, we first import the biosphere and LCIA methods:"
   ]
  },
  {
   "cell_type": "code",
   "execution_count": 102,
   "metadata": {},
   "outputs": [
    {
     "name": "stdout",
     "output_type": "stream",
     "text": [
      "Biosphere database already present!!! No setup is needed\n"
     ]
    }
   ],
   "source": [
    "bd.bw2setup() # this creates the database \"biosphere3\""
   ]
  },
  {
   "cell_type": "markdown",
   "metadata": {},
   "source": [
    "Only now, we import the Ecoinvent data:"
   ]
  },
  {
   "cell_type": "code",
   "execution_count": 103,
   "metadata": {},
   "outputs": [
    {
     "name": "stdout",
     "output_type": "stream",
     "text": [
      "Database already exists\n"
     ]
    }
   ],
   "source": [
    "if 'ev391cutoff' not in bw.databases: # let's first check if the ecoinvent database is already present in the project\n",
    "    ei = bw.SingleOutputEcospold2Importer(dirpath=r'C:\\Users\\johndoe\\Downloads\\ecoinvent\\ecoinvent 3.9.1_cutoff_ecoSpold02\\datasets', db_name='ev391cutoff') #recommendation for consistent databases naming: database name (ecoinvent), version number, system model\n",
    "    ei.apply_strategies() #fixing some issues when ecoinvent and brightway have to talk together by going through all datasets and manipulating them in a specific way\n",
    "    ei.statistics() #checking if everything worked out with strategies and linking\n",
    "    ei.write_database() #save the database to our hard drive\n",
    "else:\n",
    "    print('Database already exists')"
   ]
  },
  {
   "cell_type": "markdown",
   "metadata": {},
   "source": [
    "You may want to switch to AB now to look at the databases you have just imported. In case they are not yet displayed in your project, switch to another project and switch back for the new database(s) to appear"
   ]
  },
  {
   "cell_type": "markdown",
   "metadata": {},
   "source": [
    "### Importing your own Data\n",
    "\n",
    "```{admonition} License\n",
    ":class: seealso\n",
    "[Section \"Databases\" in the Brightway Documentation Cheat Sheet](https://docs.brightway.dev/en/latest/content/cheatsheet/databases.html)\n",
    "```\n",
    "\n",
    "{download}`You can download the example data here. <https://github.com/alyabolowich/bw25-tuto/blob/main/excel_importer_example.xlsx>`"
   ]
  },
  {
   "cell_type": "code",
   "execution_count": null,
   "metadata": {},
   "outputs": [],
   "source": [
    "imp = bi.ExcelImporter(r'C:\\Users\\johndoe\\Downloads\\lci_hydrogen_electrolysis.xlsx') # the path to your inventory excel file\n",
    "imp.apply_strategies()\n",
    "imp.match_database(\"ev391cutoff\", fields=('name','unit','location', 'reference product')) # 'reference product'\n",
    "imp.match_database(fields=('name', 'unit', 'location'))\n",
    "imp.statistics()\n",
    "imp.write_excel(only_unlinked=True)\n",
    "list(imp.unlinked)\n",
    "imp.write_database()"
   ]
  },
  {
   "cell_type": "markdown",
   "metadata": {},
   "source": [
    "Again, you can look at this database in AB.\n",
    "\n",
    "This worked smoothly. It won't always work so smoothly!! \n",
    "This is demonstrated with the next spreadsheet."
   ]
  },
  {
   "cell_type": "code",
   "execution_count": null,
   "metadata": {},
   "outputs": [],
   "source": [
    "imp = bw.ExcelImporter(r'C:\\Users\\treyer_k\\Documents\\PSI\\Brightway\\departdesentier\\Webinar FSLCI\\lci_rawdata_import.xlsx')\n",
    "imp.apply_strategies()\n",
    "imp.match_database(\"ev391cutoff\", fields=('name','unit','location', 'reference product'))\n",
    "imp.match_database(fields=('name', 'unit', 'location'))\n",
    "imp.statistics()\n",
    "imp.write_excel() #(only_unlinked=True)\n",
    "list(imp.unlinked)\n",
    "\n",
    "imp.write_database()"
   ]
  },
  {
   "cell_type": "markdown",
   "metadata": {},
   "source": [
    "There are some unlinked flows. This means that no corresponding dataset for an exchange listed in the spreadsheet could be found. \n",
    "Usually, this is because of types, wrong type, wrong unit, etc.\n",
    "Open the excel file with the unlinked flows. It will show you the lines where a problem has occurred. \n",
    "Did you find the errors?\n",
    "\n",
    "In the first activity, I misspelled \"granulate\" in the reference product.\n",
    "In the second case, I put \"biosphere\" as type instead of \"technosphere\".\n",
    "And in the third case, I am using a location for which no market for deionised water exists. It should be CH, not AT.\n",
    "\n",
    "Correct these errors, save the file and run the cell above again. Only when all exchanges could be linked the database will be written. "
   ]
  },
  {
   "cell_type": "code",
   "execution_count": null,
   "metadata": {},
   "outputs": [],
   "source": [
    "list(bw.databases)"
   ]
  },
  {
   "cell_type": "markdown",
   "metadata": {},
   "source": [
    "### Looking at the Databases\n",
    "\n",
    "```{admonition} License\n",
    ":class: note\n",
    "This is more \"human friendly\" in AB! For quick overviews, searches etc., AB is more convenient than the Jupyter Notebook.\n",
    "```\n",
    "```{admonition} See also...\n",
    ":class: seealso\n",
    "[Section \"Databases\" in the Brightway Documentation Cheat Sheet](https://docs.brightway.dev/en/latest/content/cheatsheet/databases.html)\n",
    "```"
   ]
  },
  {
   "cell_type": "markdown",
   "metadata": {},
   "source": [
    "First, we choose the activities we want to analyse later in the LCA. Here, I want to compare hydrogen production with different electrolysers."
   ]
  },
  {
   "cell_type": "code",
   "execution_count": 104,
   "metadata": {},
   "outputs": [],
   "source": [
    "h2elec =  bw.Database('h2_electrolysis')"
   ]
  },
  {
   "cell_type": "code",
   "execution_count": 105,
   "metadata": {},
   "outputs": [
    {
     "data": {
      "text/plain": [
       "['hydrogen production, gaseous, 1 bar, from SOEC electrolysis, from grid electricity' (kilogram, CH, None),\n",
       " 'hydrogen production, gaseous, 20 bar, from AEC electrolysis, from grid electricity' (kilogram, CH, None),\n",
       " 'hydrogen production, gaseous, 30 bar, from PEM electrolysis, from grid electricity' (kilogram, RER, None),\n",
       " 'hydrogen production, gaseous, 1 bar, from SOEC electrolysis, with steam input, from grid electricity' (kilogram, CH, None)]"
      ]
     },
     "execution_count": 105,
     "metadata": {},
     "output_type": "execute_result"
    }
   ],
   "source": [
    "h2prod = [a for a in h2elec if 'hydrogen production, gaseous' in a ['name']]\n",
    "h2prod"
   ]
  },
  {
   "cell_type": "markdown",
   "metadata": {},
   "source": [
    "We can look at one of these activities here. \n",
    "But you might prefer to do that in AB."
   ]
  },
  {
   "cell_type": "code",
   "execution_count": 106,
   "metadata": {},
   "outputs": [
    {
     "data": {
      "text/plain": [
       "[Exchange: 2.11864406779661e-06 unit 'electrolyzer production, 1MWe, SOEC, Stack' (unit, RER, None) to 'hydrogen production, gaseous, 1 bar, from SOEC electrolysis, from grid electricity' (kilogram, CH, None)>,\n",
       " Exchange: 2.6483050847457627e-07 unit 'electrolyzer production, 1MWe, SOEC, Balance of Plant' (unit, RER, None) to 'hydrogen production, gaseous, 1 bar, from SOEC electrolysis, from grid electricity' (kilogram, CH, None)>,\n",
       " Exchange: -2.11864406779661e-06 unit 'treatment of fuel cell stack, 1MWe, SOEC' (unit, RER, None) to 'hydrogen production, gaseous, 1 bar, from SOEC electrolysis, from grid electricity' (kilogram, CH, None)>,\n",
       " Exchange: -2.6483050847457627e-07 unit 'treatment of fuel cell balance of plant, 1MWe, SOEC' (unit, RER, None) to 'hydrogen production, gaseous, 1 bar, from SOEC electrolysis, from grid electricity' (kilogram, CH, None)>,\n",
       " Exchange: 42.3 kilowatt hour 'market for electricity, low voltage' (kilowatt hour, CH, None) to 'hydrogen production, gaseous, 1 bar, from SOEC electrolysis, from grid electricity' (kilogram, CH, None)>,\n",
       " Exchange: 0 megajoule 'market for heat, from steam, in chemical industry' (megajoule, RER, None) to 'hydrogen production, gaseous, 1 bar, from SOEC electrolysis, from grid electricity' (kilogram, CH, None)>,\n",
       " Exchange: 14 kilogram 'market for water, deionised' (kilogram, Europe without Switzerland, None) to 'hydrogen production, gaseous, 1 bar, from SOEC electrolysis, from grid electricity' (kilogram, CH, None)>]"
      ]
     },
     "execution_count": 106,
     "metadata": {},
     "output_type": "execute_result"
    }
   ],
   "source": [
    "list(h2prod[0].technosphere())"
   ]
  },
  {
   "cell_type": "markdown",
   "metadata": {},
   "source": [
    "We also need to choose LCIA methods. Here, I only chose to compare the different IPCC GWP time horizons to make it simple"
   ]
  },
  {
   "cell_type": "code",
   "execution_count": 107,
   "metadata": {},
   "outputs": [
    {
     "data": {
      "text/plain": [
       "Methods dictionary with 762 objects, including:\n",
       "\t('CML v4.8 2016', 'acidification', 'acidification (incl. fate, average Europe total, A&B)')\n",
       "\t('CML v4.8 2016', 'climate change', 'global warming potential (GWP100)')\n",
       "\t('CML v4.8 2016', 'ecotoxicity: freshwater', 'freshwater aquatic ecotoxicity (FAETP inf)')\n",
       "\t('CML v4.8 2016', 'ecotoxicity: marine', 'marine aquatic ecotoxicity (MAETP inf)')\n",
       "\t('CML v4.8 2016', 'ecotoxicity: terrestrial', 'terrestrial ecotoxicity (TETP inf)')\n",
       "\t('CML v4.8 2016', 'energy resources: non-renewable', 'abiotic depletion potential (ADP): fossil fuels')\n",
       "\t('CML v4.8 2016', 'eutrophication', 'eutrophication (fate not incl.)')\n",
       "\t('CML v4.8 2016', 'human toxicity', 'human toxicity (HTP inf)')\n",
       "\t('CML v4.8 2016', 'material resources: metals/minerals', 'abiotic depletion potential (ADP): elements (ultimate reserves)')\n",
       "\t('CML v4.8 2016', 'ozone depletion', 'ozone layer depletion (ODP steady state)')\n",
       "Use `list(this object)` to get the complete list."
      ]
     },
     "execution_count": 107,
     "metadata": {},
     "output_type": "execute_result"
    }
   ],
   "source": [
    "bw.methods # if you don't know the names of the different LCIA methods, you can check all methods in AB, or get a list of all of them here."
   ]
  },
  {
   "cell_type": "code",
   "execution_count": 108,
   "metadata": {},
   "outputs": [
    {
     "data": {
      "text/plain": [
       "[('IPCC 2021', 'climate change', 'global warming potential (GWP100)'),\n",
       " ('IPCC 2021', 'climate change', 'global warming potential (GWP20)'),\n",
       " ('IPCC 2021', 'climate change', 'global warming potential (GWP500)')]"
      ]
     },
     "execution_count": 108,
     "metadata": {},
     "output_type": "execute_result"
    }
   ],
   "source": [
    "ipcc = [m for m in bw.methods if 'IPCC' in str(m) and '2021' in str(m) and 'GWP' in str(m) and 'LT' not in str(m) and 'fossil' not in str(m) and 'biogenic' not in str(m) and 'land use' not in str(m) and 'SLCFs' not in str(m)]\n",
    "ipcc"
   ]
  },
  {
   "cell_type": "markdown",
   "metadata": {},
   "source": [
    "### Performing an LCA\n",
    "\n",
    "```{admonition} See also...\n",
    ":class: seealso\n",
    "[Section \"LCA\" in the Brightway Documentation Cheat Sheet](https://docs.brightway.dev/en/latest/content/cheatsheet/lca.html)\n",
    "```"
   ]
  },
  {
   "cell_type": "code",
   "execution_count": 109,
   "metadata": {},
   "outputs": [],
   "source": [
    "FU = [{x:1} for x in h2prod] # defining the functional units: we want \"1\" of the activities which produce hydrogen."
   ]
  },
  {
   "cell_type": "code",
   "execution_count": 110,
   "metadata": {},
   "outputs": [
    {
     "data": {
      "text/plain": [
       "array([[ 2.08699252,  2.56224354,  1.87522907],\n",
       "       [ 2.37768163,  2.92877938,  2.12446525],\n",
       "       [19.44666033, 21.77269231, 18.49650254],\n",
       "       [ 3.72065732,  4.44758195,  3.41470436]])"
      ]
     },
     "execution_count": 110,
     "metadata": {},
     "output_type": "execute_result"
    }
   ],
   "source": [
    "bc.calculation_setups['GWPs_electrolysis'] = {'inv':FU, 'ia': ipcc}\n",
    "mylca = bc.MultiLCA('GWPs_electrolysis')\n",
    "mylca.results"
   ]
  },
  {
   "cell_type": "markdown",
   "metadata": {},
   "source": [
    "That's nice, but not very human friendly. Let's look at a snippet of these results."
   ]
  },
  {
   "cell_type": "code",
   "execution_count": 111,
   "metadata": {},
   "outputs": [
    {
     "data": {
      "text/plain": [
       "{('IPCC 2021',\n",
       "  'climate change',\n",
       "  'global warming potential (GWP100)'): 2.0869925159864753,\n",
       " ('IPCC 2021',\n",
       "  'climate change',\n",
       "  'global warming potential (GWP20)'): 2.5622435401312047,\n",
       " ('IPCC 2021',\n",
       "  'climate change',\n",
       "  'global warming potential (GWP500)'): 1.8752290742875801}"
      ]
     },
     "execution_count": 111,
     "metadata": {},
     "output_type": "execute_result"
    }
   ],
   "source": [
    "{k:v for k,v in zip(ipcc, mylca.results[0])}"
   ]
  },
  {
   "cell_type": "markdown",
   "metadata": {},
   "source": [
    "Better, but still not so convenient. We are using pandas to show the results in a way which is better defined."
   ]
  },
  {
   "cell_type": "code",
   "execution_count": 112,
   "metadata": {},
   "outputs": [
    {
     "data": {
      "text/html": [
       "<div>\n",
       "<style scoped>\n",
       "    .dataframe tbody tr th:only-of-type {\n",
       "        vertical-align: middle;\n",
       "    }\n",
       "\n",
       "    .dataframe tbody tr th {\n",
       "        vertical-align: top;\n",
       "    }\n",
       "\n",
       "    .dataframe thead th {\n",
       "        text-align: right;\n",
       "    }\n",
       "</style>\n",
       "<table border=\"1\" class=\"dataframe\">\n",
       "  <thead>\n",
       "    <tr style=\"text-align: right;\">\n",
       "      <th></th>\n",
       "      <th>(hydrogen production, gaseous, 1 bar, from SOEC electrolysis, from grid electricity, CH)</th>\n",
       "      <th>(hydrogen production, gaseous, 20 bar, from AEC electrolysis, from grid electricity, CH)</th>\n",
       "      <th>(hydrogen production, gaseous, 30 bar, from PEM electrolysis, from grid electricity, RER)</th>\n",
       "      <th>(hydrogen production, gaseous, 1 bar, from SOEC electrolysis, with steam input, from grid electricity, CH)</th>\n",
       "    </tr>\n",
       "  </thead>\n",
       "  <tbody>\n",
       "    <tr>\n",
       "      <th>(IPCC 2021, climate change, global warming potential (GWP100))</th>\n",
       "      <td>3.720657</td>\n",
       "      <td>19.446660</td>\n",
       "      <td>2.086993</td>\n",
       "      <td>2.377682</td>\n",
       "    </tr>\n",
       "    <tr>\n",
       "      <th>(IPCC 2021, climate change, global warming potential (GWP20))</th>\n",
       "      <td>4.447582</td>\n",
       "      <td>21.772692</td>\n",
       "      <td>2.562244</td>\n",
       "      <td>2.928779</td>\n",
       "    </tr>\n",
       "    <tr>\n",
       "      <th>(IPCC 2021, climate change, global warming potential (GWP500))</th>\n",
       "      <td>3.414704</td>\n",
       "      <td>18.496503</td>\n",
       "      <td>1.875229</td>\n",
       "      <td>2.124465</td>\n",
       "    </tr>\n",
       "  </tbody>\n",
       "</table>\n",
       "</div>"
      ],
      "text/plain": [
       "                                                    (hydrogen production, gaseous, 1 bar, from SOEC electrolysis, from grid electricity, CH)  \\\n",
       "(IPCC 2021, climate change, global warming pote...                                           3.720657                                          \n",
       "(IPCC 2021, climate change, global warming pote...                                           4.447582                                          \n",
       "(IPCC 2021, climate change, global warming pote...                                           3.414704                                          \n",
       "\n",
       "                                                    (hydrogen production, gaseous, 20 bar, from AEC electrolysis, from grid electricity, CH)  \\\n",
       "(IPCC 2021, climate change, global warming pote...                                          19.446660                                          \n",
       "(IPCC 2021, climate change, global warming pote...                                          21.772692                                          \n",
       "(IPCC 2021, climate change, global warming pote...                                          18.496503                                          \n",
       "\n",
       "                                                    (hydrogen production, gaseous, 30 bar, from PEM electrolysis, from grid electricity, RER)  \\\n",
       "(IPCC 2021, climate change, global warming pote...                                           2.086993                                           \n",
       "(IPCC 2021, climate change, global warming pote...                                           2.562244                                           \n",
       "(IPCC 2021, climate change, global warming pote...                                           1.875229                                           \n",
       "\n",
       "                                                    (hydrogen production, gaseous, 1 bar, from SOEC electrolysis, with steam input, from grid electricity, CH)  \n",
       "(IPCC 2021, climate change, global warming pote...                                           2.377682                                                           \n",
       "(IPCC 2021, climate change, global warming pote...                                           2.928779                                                           \n",
       "(IPCC 2021, climate change, global warming pote...                                           2.124465                                                           "
      ]
     },
     "execution_count": 112,
     "metadata": {},
     "output_type": "execute_result"
    }
   ],
   "source": [
    "mylcadf = pd.DataFrame(index = ipcc, columns = [(x['name'], x['location']) for y in FU for x in y], data=myLCA.results.T)\n",
    "mylcadf\n"
   ]
  },
  {
   "cell_type": "code",
   "execution_count": 113,
   "metadata": {},
   "outputs": [],
   "source": [
    "mylcadf.to_excel('lcia_results.xlsx') # export to excel, e.g. for creating figures"
   ]
  },
  {
   "cell_type": "markdown",
   "metadata": {},
   "source": [
    "### Contribution Analysis"
   ]
  },
  {
   "cell_type": "markdown",
   "metadata": {},
   "source": [
    "This has become much more intuitive [in Brightway25. But for users of Brightway2](https://docs.brightway.dev/en/latest/content/faq/brightway.html) (like in this tutorial), we have to do it the old way:\n",
    "\n",
    "This will calculate the contribution of each exchange to the total score in absolute and relative terms; and the original amount used of that exchange in the activities"
   ]
  },
  {
   "cell_type": "code",
   "execution_count": 114,
   "metadata": {},
   "outputs": [],
   "source": [
    "from polyviz.utils import calculate_supply_chain"
   ]
  },
  {
   "cell_type": "code",
   "execution_count": null,
   "metadata": {},
   "outputs": [],
   "source": [
    "df = pd.DataFrame()\n",
    "for act in h2prod:\n",
    "    for m in ipcc:\n",
    "        print(act, m) #This is only to see the progress\n",
    "        #use the function to calculate the contribution analysis\n",
    "        data = calculate_supply_chain(act, m, 2, 1e-4)[0]  #Here, you can choose how many levels you want to explore, and which cut-off you want to choose)\n",
    "        \n",
    "        #add the name of the activity and the name of the method\n",
    "        data = [[act['name'], act['location'], '-'.join(m)] + d for d in data]\n",
    "        df = pd.concat([df, pd.DataFrame(data)], axis=0, ignore_index=True)\n",
    "df.columns = ['activity', 'location_activity', 'lcia_method', 'level', 'contribution share', 'absolute score', 'amount_in_dataset', 'activity_contributing', 'location_contributing', 'unit']\n",
    "df.to_excel('contribution.xlsx')"
   ]
  },
  {
   "cell_type": "markdown",
   "metadata": {},
   "source": [
    "### 8. Easy plotting"
   ]
  },
  {
   "attachments": {
    "plotting.PNG": {
     "image/png": "[encoded data removed]"
    }
   },
   "cell_type": "markdown",
   "metadata": {},
   "source": [
    "You can use seaborn or matplotlib for plotting. For very easy plotting, pandas also comes with some functions. \n",
    "\n",
    "![plotting.PNG](attachment:plotting.PNG)"
   ]
  },
  {
   "cell_type": "code",
   "execution_count": 115,
   "metadata": {},
   "outputs": [
    {
     "data": {
      "text/html": [
       "<div>\n",
       "<style scoped>\n",
       "    .dataframe tbody tr th:only-of-type {\n",
       "        vertical-align: middle;\n",
       "    }\n",
       "\n",
       "    .dataframe tbody tr th {\n",
       "        vertical-align: top;\n",
       "    }\n",
       "\n",
       "    .dataframe thead th {\n",
       "        text-align: right;\n",
       "    }\n",
       "</style>\n",
       "<table border=\"1\" class=\"dataframe\">\n",
       "  <thead>\n",
       "    <tr style=\"text-align: right;\">\n",
       "      <th></th>\n",
       "      <th>(hydrogen production, gaseous, 1 bar, from SOEC electrolysis, from grid electricity, CH)</th>\n",
       "      <th>(hydrogen production, gaseous, 20 bar, from AEC electrolysis, from grid electricity, CH)</th>\n",
       "      <th>(hydrogen production, gaseous, 30 bar, from PEM electrolysis, from grid electricity, RER)</th>\n",
       "      <th>(hydrogen production, gaseous, 1 bar, from SOEC electrolysis, with steam input, from grid electricity, CH)</th>\n",
       "    </tr>\n",
       "  </thead>\n",
       "  <tbody>\n",
       "    <tr>\n",
       "      <th>(IPCC 2021, climate change, global warming potential (GWP100))</th>\n",
       "      <td>3.720657</td>\n",
       "      <td>19.446660</td>\n",
       "      <td>2.086993</td>\n",
       "      <td>2.377682</td>\n",
       "    </tr>\n",
       "    <tr>\n",
       "      <th>(IPCC 2021, climate change, global warming potential (GWP20))</th>\n",
       "      <td>4.447582</td>\n",
       "      <td>21.772692</td>\n",
       "      <td>2.562244</td>\n",
       "      <td>2.928779</td>\n",
       "    </tr>\n",
       "    <tr>\n",
       "      <th>(IPCC 2021, climate change, global warming potential (GWP500))</th>\n",
       "      <td>3.414704</td>\n",
       "      <td>18.496503</td>\n",
       "      <td>1.875229</td>\n",
       "      <td>2.124465</td>\n",
       "    </tr>\n",
       "  </tbody>\n",
       "</table>\n",
       "</div>"
      ],
      "text/plain": [
       "                                                    (hydrogen production, gaseous, 1 bar, from SOEC electrolysis, from grid electricity, CH)  \\\n",
       "(IPCC 2021, climate change, global warming pote...                                           3.720657                                          \n",
       "(IPCC 2021, climate change, global warming pote...                                           4.447582                                          \n",
       "(IPCC 2021, climate change, global warming pote...                                           3.414704                                          \n",
       "\n",
       "                                                    (hydrogen production, gaseous, 20 bar, from AEC electrolysis, from grid electricity, CH)  \\\n",
       "(IPCC 2021, climate change, global warming pote...                                          19.446660                                          \n",
       "(IPCC 2021, climate change, global warming pote...                                          21.772692                                          \n",
       "(IPCC 2021, climate change, global warming pote...                                          18.496503                                          \n",
       "\n",
       "                                                    (hydrogen production, gaseous, 30 bar, from PEM electrolysis, from grid electricity, RER)  \\\n",
       "(IPCC 2021, climate change, global warming pote...                                           2.086993                                           \n",
       "(IPCC 2021, climate change, global warming pote...                                           2.562244                                           \n",
       "(IPCC 2021, climate change, global warming pote...                                           1.875229                                           \n",
       "\n",
       "                                                    (hydrogen production, gaseous, 1 bar, from SOEC electrolysis, with steam input, from grid electricity, CH)  \n",
       "(IPCC 2021, climate change, global warming pote...                                           2.377682                                                           \n",
       "(IPCC 2021, climate change, global warming pote...                                           2.928779                                                           \n",
       "(IPCC 2021, climate change, global warming pote...                                           2.124465                                                           "
      ]
     },
     "execution_count": 115,
     "metadata": {},
     "output_type": "execute_result"
    }
   ],
   "source": [
    "#we are using the mylcadf dataframe created further above.\n",
    "mylcadf"
   ]
  },
  {
   "cell_type": "code",
   "execution_count": 122,
   "metadata": {},
   "outputs": [
    {
     "name": "stdout",
     "output_type": "stream",
     "text": [
      "[('hydrogen production, gaseous, 1 bar, from SOEC electrolysis, from grid electricity', 'CH'), ('hydrogen production, gaseous, 20 bar, from AEC electrolysis, from grid electricity', 'CH'), ('hydrogen production, gaseous, 30 bar, from PEM electrolysis, from grid electricity', 'RER'), ('hydrogen production, gaseous, 1 bar, from SOEC electrolysis, with steam input, from grid electricity', 'CH')]\n"
     ]
    }
   ],
   "source": [
    "print(mylcadf.columns.tolist())"
   ]
  },
  {
   "cell_type": "markdown",
   "metadata": {},
   "source": [
    "We relabel the names so that they are shorter"
   ]
  },
  {
   "cell_type": "code",
   "execution_count": 116,
   "metadata": {},
   "outputs": [
    {
     "data": {
      "text/plain": [
       "[('IPCC 2021', 'climate change', 'global warming potential (GWP100)'),\n",
       " ('IPCC 2021', 'climate change', 'global warming potential (GWP20)'),\n",
       " ('IPCC 2021', 'climate change', 'global warming potential (GWP500)')]"
      ]
     },
     "execution_count": 116,
     "metadata": {},
     "output_type": "execute_result"
    }
   ],
   "source": [
    "ipcc"
   ]
  },
  {
   "cell_type": "code",
   "execution_count": 117,
   "metadata": {},
   "outputs": [],
   "source": [
    "# More human friendly labels:\n",
    "labels_methods = {\n",
    "\"('IPCC 2021', 'climate change', 'global warming potential (GWP100)')\": \"IPCC\\nGWP100\", \n",
    "\"('IPCC 2021', 'climate change', 'global warming potential (GWP20)')\": 'IPCC\\nGWP20',\n",
    "\"('IPCC 2021', 'climate change', 'global warming potential (GWP500)')\": 'IPCC\\nGWP500',  \n",
    " }"
   ]
  },
  {
   "cell_type": "code",
   "execution_count": 118,
   "metadata": {},
   "outputs": [
    {
     "data": {
      "text/plain": [
       "['hydrogen production, gaseous, 1 bar, from SOEC electrolysis, from grid electricity' (kilogram, CH, None),\n",
       " 'hydrogen production, gaseous, 20 bar, from AEC electrolysis, from grid electricity' (kilogram, CH, None),\n",
       " 'hydrogen production, gaseous, 30 bar, from PEM electrolysis, from grid electricity' (kilogram, RER, None),\n",
       " 'hydrogen production, gaseous, 1 bar, from SOEC electrolysis, with steam input, from grid electricity' (kilogram, CH, None)]"
      ]
     },
     "execution_count": 118,
     "metadata": {},
     "output_type": "execute_result"
    }
   ],
   "source": [
    "h2prod"
   ]
  },
  {
   "cell_type": "code",
   "execution_count": 125,
   "metadata": {},
   "outputs": [],
   "source": [
    "labels_act =  { \"('hydrogen production, gaseous, 1 bar, from SOEC electrolysis, from grid electricity', 'CH')\": \"SOEC_with_steam\",\n",
    "\"('hydrogen production, gaseous, 20 bar, from AEC electrolysis, from grid electricity', 'CH')\": \"AEC\", \n",
    "\"('hydrogen production, gaseous, 30 bar, from PEM electrolysis, from grid electricity', 'RER')\": \"PEM\",\n",
    "\"('hydrogen production, gaseous, 1 bar, from SOEC electrolysis, with steam input, from grid electricity', 'CH')\": \"SOEC\" }"
   ]
  },
  {
   "cell_type": "code",
   "execution_count": 126,
   "metadata": {},
   "outputs": [
    {
     "data": {
      "text/html": [
       "<div>\n",
       "<style scoped>\n",
       "    .dataframe tbody tr th:only-of-type {\n",
       "        vertical-align: middle;\n",
       "    }\n",
       "\n",
       "    .dataframe tbody tr th {\n",
       "        vertical-align: top;\n",
       "    }\n",
       "\n",
       "    .dataframe thead th {\n",
       "        text-align: right;\n",
       "    }\n",
       "</style>\n",
       "<table border=\"1\" class=\"dataframe\">\n",
       "  <thead>\n",
       "    <tr style=\"text-align: right;\">\n",
       "      <th></th>\n",
       "      <th>(hydrogen production, gaseous, 1 bar, from SOEC electrolysis, from grid electricity, CH)</th>\n",
       "      <th>(hydrogen production, gaseous, 20 bar, from AEC electrolysis, from grid electricity, CH)</th>\n",
       "      <th>(hydrogen production, gaseous, 30 bar, from PEM electrolysis, from grid electricity, RER)</th>\n",
       "      <th>(hydrogen production, gaseous, 1 bar, from SOEC electrolysis, with steam input, from grid electricity, CH)</th>\n",
       "    </tr>\n",
       "  </thead>\n",
       "  <tbody>\n",
       "    <tr>\n",
       "      <th>(IPCC 2021, climate change, global warming potential (GWP100))</th>\n",
       "      <td>3.720657</td>\n",
       "      <td>19.446660</td>\n",
       "      <td>2.086993</td>\n",
       "      <td>2.377682</td>\n",
       "    </tr>\n",
       "    <tr>\n",
       "      <th>(IPCC 2021, climate change, global warming potential (GWP20))</th>\n",
       "      <td>4.447582</td>\n",
       "      <td>21.772692</td>\n",
       "      <td>2.562244</td>\n",
       "      <td>2.928779</td>\n",
       "    </tr>\n",
       "    <tr>\n",
       "      <th>(IPCC 2021, climate change, global warming potential (GWP500))</th>\n",
       "      <td>3.414704</td>\n",
       "      <td>18.496503</td>\n",
       "      <td>1.875229</td>\n",
       "      <td>2.124465</td>\n",
       "    </tr>\n",
       "  </tbody>\n",
       "</table>\n",
       "</div>"
      ],
      "text/plain": [
       "                                                    (hydrogen production, gaseous, 1 bar, from SOEC electrolysis, from grid electricity, CH)  \\\n",
       "(IPCC 2021, climate change, global warming pote...                                           3.720657                                          \n",
       "(IPCC 2021, climate change, global warming pote...                                           4.447582                                          \n",
       "(IPCC 2021, climate change, global warming pote...                                           3.414704                                          \n",
       "\n",
       "                                                    (hydrogen production, gaseous, 20 bar, from AEC electrolysis, from grid electricity, CH)  \\\n",
       "(IPCC 2021, climate change, global warming pote...                                          19.446660                                          \n",
       "(IPCC 2021, climate change, global warming pote...                                          21.772692                                          \n",
       "(IPCC 2021, climate change, global warming pote...                                          18.496503                                          \n",
       "\n",
       "                                                    (hydrogen production, gaseous, 30 bar, from PEM electrolysis, from grid electricity, RER)  \\\n",
       "(IPCC 2021, climate change, global warming pote...                                           2.086993                                           \n",
       "(IPCC 2021, climate change, global warming pote...                                           2.562244                                           \n",
       "(IPCC 2021, climate change, global warming pote...                                           1.875229                                           \n",
       "\n",
       "                                                    (hydrogen production, gaseous, 1 bar, from SOEC electrolysis, with steam input, from grid electricity, CH)  \n",
       "(IPCC 2021, climate change, global warming pote...                                           2.377682                                                           \n",
       "(IPCC 2021, climate change, global warming pote...                                           2.928779                                                           \n",
       "(IPCC 2021, climate change, global warming pote...                                           2.124465                                                           "
      ]
     },
     "execution_count": 126,
     "metadata": {},
     "output_type": "execute_result"
    }
   ],
   "source": [
    "df = mylcadf.rename(columns = labels_act, index = labels_methods)\n",
    "df"
   ]
  },
  {
   "cell_type": "markdown",
   "metadata": {},
   "source": [
    "Now we plot the dataframe"
   ]
  },
  {
   "cell_type": "code",
   "execution_count": null,
   "metadata": {},
   "outputs": [],
   "source": [
    "# plot data\n",
    "df.plot.bar(xlabel='Impact category', ylabel='Impact score', figsize=(14,8))\n",
    "\n",
    "# rotate xticks for horizontal impact category names\n",
    "plt.xticks(rotation=0)"
   ]
  },
  {
   "cell_type": "markdown",
   "metadata": {},
   "source": [
    "We can also normalise."
   ]
  },
  {
   "cell_type": "code",
   "execution_count": null,
   "metadata": {},
   "outputs": [],
   "source": [
    "# normalize\n",
    "df = (df.T / df.abs().max(axis=1)).T\n",
    "\n",
    "# activate grid and set font size\n",
    "plt.rcParams.update({\n",
    "    'font.size': 16,\n",
    "    'axes.grid': True,\n",
    "    'axes.grid.which': 'major',\n",
    "    'axes.axisbelow': True,\n",
    "})\n",
    "\n",
    "# plot data\n",
    "df.plot.bar(xlabel='Impact category', ylabel='Impact score', figsize=(14,8))\n",
    "\n",
    "# rotate xticks for horizontal impact category names\n",
    "plt.xticks(rotation=0)"
   ]
  }
 ],
 "metadata": {
  "kernelspec": {
   "display_name": "Python 3 (ipykernel)",
   "language": "python",
   "name": "python3"
  },
  "language_info": {
   "codemirror_mode": {
    "name": "ipython",
    "version": 3
   },
   "file_extension": ".py",
   "mimetype": "text/x-python",
   "name": "python",
   "nbconvert_exporter": "python",
   "pygments_lexer": "ipython3",
   "version": "3.10.12"
  }
 },
 "nbformat": 4,
 "nbformat_minor": 4
}
