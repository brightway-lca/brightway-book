{
 "cells": [
  {
   "cell_type": "markdown",
   "metadata": {},
   "source": [
    "# Introduction to Brightway2\n",
    "\n",
    "```{admonition} Authors\n",
    ":class: hint\n",
    "This chapter was created by [Karin Treyer](https://www.psi.ch/en/ta/people/karin-treyer) in 2024. It was edited for publication by [Michael Weinold](https://github.com/michaelweinold) with the help of [Maria Höller](https://www.linkedin.com/in/maria-hoeller/) and [Mehdi Iguider](https://www.linkedin.com/in/mehdi-iguider/) as part of the [Brightcon 2024 Documentation Hackathon](https://2024.brightcon.link).\n",
    "```\n",
    "\n",
    "```{admonition} License\n",
    ":class: seealso\n",
    "This page is licensed under a [Creative Commons Attribution 4.0 International License (CC BY 4.0)](https://creativecommons.org/licenses/by/4.0/).\n",
    "```\n",
    "\n",
    "```{admonition} How to use this Tutorial...\n",
    ":class: note\n",
    "There are two ways to use this tutorial:\n",
    "\n",
    "1. You could read it online on this website and copy/paste some snippets of code into a Jupyter Notebook to play around.\n",
    "2. If you click on the download button in the top right corner, you can download this section as a Jupyter Notebook (`.ipynb`).\n",
    "```"
   ]
  },
  {
   "cell_type": "markdown",
   "metadata": {},
   "source": [
    "## 1. Installing Activity Browser"
   ]
  },
  {
   "cell_type": "markdown",
   "metadata": {},
   "source": [
    "The Activity Browser (\"AB\") is a tool that allows you to perform Brightway life-cycle assessment calculations using a visual interface. To install AB on your computer, you can follow [the setup instructions here](https://github.com/LCA-ActivityBrowser/activity-browser). There are different ways how you can install AB. You will already understand the \"quick way\" installation by now, which is shown here:\n",
    "\n",
    "1. Create a Conda environment named `ab` with the following command:\n",
    "\n",
    "```bash\n",
    "conda create -n ab -c conda-forge --solver libmamba activity-browser\n",
    "```\n",
    "\n",
    "2. Activate the environment:\n",
    "\n",
    "```bash\n",
    "conda activate ab\n",
    "```\n",
    "\n",
    "3. Start the Activity Browser:\n",
    "\n",
    "```bash\n",
    "activity-browser\n",
    "```\n",
    "\n",
    "Activity Browser \"sees\" all the Brightway projects you have on your computer, and adopts all new projects you create and all new databases as you are working on. This means that you can make edits to a Brightway project using the command line and these changes will be reflected in the Activity Browser interface."
   ]
  },
  {
   "cell_type": "markdown",
   "metadata": {},
   "source": [
    "## 2. Create an Environment Brightway"
   ]
  },
  {
   "cell_type": "markdown",
   "metadata": {},
   "source": [
    "You should create a separate environment for your Brightway installation. To install Brightway on your computer, you can follow [the setup instruction here](https://docs.brightway.dev/en/legacy/content/installation/installation.html):\n",
    "\n",
    "1. Create a Conda environment named `bw` with the following command:\n",
    "\n",
    "```bash\n",
    "conda create -n bw brightway2=2.4.7 jupyterlab\n",
    "```\n",
    "\n",
    "Note that here we have installed both Brightway _and_ the `jupyterlab` package, which is required to work with Jupyter Notebooks.\n",
    "\n",
    "2. Activate the environment:\n",
    "\n",
    "```bash\n",
    "conda activate bw\n",
    "```\n",
    "\n",
    "3. Start Jupyter Lab so that you can work on a notebook:\n",
    "\n",
    "```bash\n",
    "jupyter lab\n",
    "```"
   ]
  },
  {
   "cell_type": "markdown",
   "metadata": {},
   "source": [
    "Now that you have understood how to get the Brightway packages on your computer and you want to do what your heart longs for: LCA 💚"
   ]
  },
  {
   "cell_type": "markdown",
   "metadata": {},
   "source": [
    "## 3. Example Project\n",
    "\n",
    "We investigate Hydrogen production via water electrolysis technologies. It's good practice to describe your project shortly, and which data you are using:\n",
    "\n",
    "**Origin of LCI data:**\n",
    "\n",
    "* ecoinvent v3.9.1 cut-off system\n",
    "* literature data\n",
    "* original data from company X  (confidential)\n",
    "\n",
    "**Goal of the study:**\n",
    "\n",
    "- Import the biosphere, LCIA methods \n",
    "- Import the background database ecoinvent\n",
    "- Import the foreground inventories (you can look at all these databases in AB in a human friendly way)\n",
    "- Calculate the LCIA results, create an easy plot, but additionally output them an Excel file so that you can visualise it there, if you are not used to visualisation with Python."
   ]
  },
  {
   "cell_type": "markdown",
   "metadata": {},
   "source": [
    "### 3.1 Notebook Preparations\n",
    "\n",
    "First, we must import the required Brightway packages and set up the project:"
   ]
  },
  {
   "cell_type": "code",
   "execution_count": 1,
   "metadata": {},
   "outputs": [],
   "source": [
    "import bw2io as bi\n",
    "import bw2data as bd\n",
    "import bw2calc as bc"
   ]
  },
  {
   "cell_type": "markdown",
   "metadata": {},
   "source": [
    "Often, we need to use other helpful Python packages. For each of these, very helpful CheatSheets exist on the web! In our example, the Pandas library for working with tabulated data will be sufficient."
   ]
  },
  {
   "cell_type": "code",
   "execution_count": 3,
   "metadata": {},
   "outputs": [],
   "source": [
    "import pandas as pd"
   ]
  },
  {
   "cell_type": "markdown",
   "metadata": {},
   "source": [
    "### 3.2 Setting up Projects\n",
    "\n",
    "```{admonition} License\n",
    ":class: note\n",
    "You can do the next steps in ActivityBrowser if you prefer. It's possible to create, rename, and delete projects there.\n",
    "```\n",
    "\n",
    "```{admonition} License\n",
    ":class: seealso\n",
    "[Section \"Projects\" in the Brightway Documentation Cheat Sheet](https://docs.brightway.dev/en/latest/content/cheatsheet/projects.html)\n",
    "```"
   ]
  },
  {
   "cell_type": "markdown",
   "metadata": {},
   "source": [
    "You can check which projects exist on my computer - to see which ones are there, or if you have forgotten the name of your project. Of course, on your computer, you will see a different list of projects:\n"
   ]
  },
  {
   "cell_type": "code",
   "execution_count": 4,
   "metadata": {},
   "outputs": [
    {
     "data": {
      "text/plain": [
       "[Project: default,\n",
       " Project: ei_3.10,\n",
       " Project: debug,\n",
       " Project: banana,\n",
       " Project: ddd,\n",
       " Project: USEEIO-1.1,\n",
       " Project: bw_panel,\n",
       " Project: learn_brightway_bw2]"
      ]
     },
     "execution_count": 4,
     "metadata": {},
     "output_type": "execute_result"
    }
   ],
   "source": [
    "list(bd.projects) #the prefix \"bw\" indicates that \"projects\" is a method of the bw2data package"
   ]
  },
  {
   "cell_type": "markdown",
   "metadata": {},
   "source": [
    "Let's create a project (or activate it when you come back to work on your project):"
   ]
  },
  {
   "cell_type": "code",
   "execution_count": 5,
   "metadata": {},
   "outputs": [],
   "source": [
    "bd.projects.set_current('learn_brightway_bw2') # activates a project, or creates it first if it doesn't exist yet"
   ]
  },
  {
   "cell_type": "markdown",
   "metadata": {},
   "source": [
    "### 3.3 Filling your project with the Biosphere, LCIA Methods, and Ecoinvent\n",
    "\n",
    "```{admonition} License\n",
    ":class: note\n",
    "You can do the next steps in ActivityBrowser if you prefer. It's possible to import biosphere, LCIA methods, and ecoinvent (and other databases) there.\n",
    "```\n",
    "\n",
    "```{admonition} License\n",
    ":class: seealso\n",
    "[Section \"Databases\" in the Brightway Documentation Cheat Sheet](https://docs.brightway.dev/en/latest/content/cheatsheet/databases.html)\n",
    "```"
   ]
  },
  {
   "cell_type": "markdown",
   "metadata": {},
   "source": [
    "You only have to import the databases once. After that, they will be present in your project."
   ]
  },
  {
   "cell_type": "code",
   "execution_count": null,
   "metadata": {},
   "outputs": [],
   "source": [
    "list(bd.databases) # check if there are databases in the project, and how they are named. "
   ]
  },
  {
   "cell_type": "markdown",
   "metadata": {},
   "source": [
    "Ok, nothing is there yet. There are now two ways to import the necessary Ecoinvent database. You can choose either option A or option B, but you don't have to execute both!\n",
    "\n",
    "#### Option A\n",
    "\n",
    "This option imports the biosphere, LCIA methods, and ecoinvent all in one go!\n",
    "\n",
    "```{admonition} Change Placeholder Text!\n",
    ":class: note\n",
    "Below, change the placeholder text `JohnDoe` to your own Ecoinvent username and the password `1234` to your own Ecoinvent password.\n",
    "```"
   ]
  },
  {
   "cell_type": "code",
   "execution_count": 6,
   "metadata": {},
   "outputs": [
    {
     "name": "stdout",
     "output_type": "stream",
     "text": [
      "Applying strategy: normalize_units\n",
      "Applying strategy: drop_unspecified_subcategories\n",
      "Applying strategy: ensure_categories_are_tuples\n",
      "Applied 3 strategies in 0.00 seconds\n",
      "4718 datasets\n",
      "0 exchanges\n",
      "0 unlinked exchanges\n",
      "  \n",
      "Warning: No valid output stream.\n",
      "Title: Writing activities to SQLite3 database:\n",
      "  Started: 09/24/2024 10:10:17\n",
      "  Finished: 09/24/2024 10:10:17\n",
      "  Total time elapsed: 00:00:00\n",
      "  CPU %: 99.30\n",
      "  Memory %: 1.64\n",
      "Created database: ecoinvent-3.9.1-biosphere\n",
      "Extracting XML data from 21238 datasets\n",
      "Extracted 21238 datasets in 18.87 seconds\n",
      "Applying strategy: normalize_units\n",
      "Applying strategy: update_ecoinvent_locations\n",
      "Applying strategy: remove_zero_amount_coproducts\n",
      "Applying strategy: remove_zero_amount_inputs_with_no_activity\n",
      "Applying strategy: remove_unnamed_parameters\n",
      "Applying strategy: es2_assign_only_product_with_amount_as_reference_product\n",
      "Applying strategy: assign_single_product_as_activity\n",
      "Applying strategy: create_composite_code\n",
      "Applying strategy: drop_unspecified_subcategories\n",
      "Applying strategy: fix_ecoinvent_flows_pre35\n",
      "Applying strategy: drop_temporary_outdated_biosphere_flows\n",
      "Applying strategy: link_biosphere_by_flow_uuid\n",
      "Applying strategy: link_internal_technosphere_by_composite_code\n",
      "Applying strategy: delete_exchanges_missing_activity\n",
      "Applying strategy: delete_ghost_exchanges\n",
      "Applying strategy: remove_uncertainty_from_negative_loss_exchanges\n",
      "Applying strategy: fix_unreasonably_high_lognormal_uncertainties\n",
      "Applying strategy: convert_activity_parameters_to_list\n",
      "Applying strategy: add_cpc_classification_from_single_reference_product\n",
      "Applying strategy: delete_none_synonyms\n",
      "Applying strategy: update_social_flows_in_older_consequential\n",
      "Applying strategy: set_lognormal_loc_value\n",
      "Applied 22 strategies in 3.79 seconds\n",
      "21238 datasets\n",
      "674593 exchanges\n",
      "0 unlinked exchanges\n",
      "  \n",
      "Warning: No valid output stream.\n",
      "Title: Writing activities to SQLite3 database:\n",
      "  Started: 09/24/2024 10:10:46\n",
      "  Finished: 09/24/2024 10:11:02\n",
      "  Total time elapsed: 00:00:16\n",
      "  CPU %: 98.70\n",
      "  Memory %: 10.41\n",
      "Created database: ecoinvent-3.9.1-cutoff\n"
     ]
    }
   ],
   "source": [
    "if 'ecoinvent-3.9.1-cutoff' in bd.databases:\n",
    "    print('ecoinvent 3.9.1 is already present in the project')\n",
    "else:\n",
    "    bi.import_ecoinvent_release(\n",
    "        version='3.9.1',\n",
    "        system_model='cutoff', # can be cutoff / apos / consequential / EN15804\n",
    "        username='JohnDoe',\n",
    "        password='1234'\n",
    "    )"
   ]
  },
  {
   "cell_type": "markdown",
   "metadata": {},
   "source": [
    "Let's check if the databases are now there...\n"
   ]
  },
  {
   "cell_type": "code",
   "execution_count": 7,
   "metadata": {},
   "outputs": [
    {
     "data": {
      "text/plain": [
       "['ecoinvent-3.9.1-biosphere', 'ecoinvent-3.9.1-cutoff']"
      ]
     },
     "execution_count": 7,
     "metadata": {},
     "output_type": "execute_result"
    }
   ],
   "source": [
    "list(bd.databases)"
   ]
  },
  {
   "cell_type": "markdown",
   "metadata": {
    "notebookRunGroups": {
     "groupValue": "2"
    }
   },
   "source": [
    "#### Option B\n",
    "\n",
    "In most older notebooks you will find on the web, you will still see the _old_ way of importing all these. There, we first import the biosphere and LCIA methods:"
   ]
  },
  {
   "cell_type": "code",
   "execution_count": 102,
   "metadata": {},
   "outputs": [
    {
     "name": "stdout",
     "output_type": "stream",
     "text": [
      "Biosphere database already present!!! No setup is needed\n"
     ]
    }
   ],
   "source": [
    "bd.bw2setup() # this creates the database \"biosphere3\""
   ]
  },
  {
   "cell_type": "markdown",
   "metadata": {},
   "source": [
    "Only now, we import the Ecoinvent data. First, download the Ecoinvent data from the [Ecoinvent website](https://ecoquery.ecoinvent.org/3.10/cutoff/files) and unzip the file. Then, provide the path to the unzipped folder `datasets` in the code below:"
   ]
  },
  {
   "cell_type": "code",
   "execution_count": 8,
   "metadata": {},
   "outputs": [
    {
     "name": "stdout",
     "output_type": "stream",
     "text": [
      "ecoinvent 3.9.1 is already present in the project\n"
     ]
    }
   ],
   "source": [
    "if 'ecoinvent-3.9.1-cutoff' in bd.databases:\n",
    "    print('ecoinvent 3.9.1 is already present in the project')\n",
    "else:\n",
    "    ei = bi.SingleOutputEcospold2Importer(dirpath=r'C:\\Users\\johndoe\\Downloads\\ecoinvent\\ecoinvent 3.9.1_cutoff_ecoSpold02\\datasets', db_name='ev391cutoff') #recommendation for consistent databases naming: database name (ecoinvent), version number, system model\n",
    "    ei.apply_strategies() #fixing some issues when ecoinvent and brightway have to talk together by going through all datasets and manipulating them in a specific way\n",
    "    ei.statistics() #checking if everything worked out with strategies and linking\n",
    "    ei.write_database() #save the database to our hard drive"
   ]
  },
  {
   "cell_type": "markdown",
   "metadata": {},
   "source": [
    "You may want to switch to AB now to look at the databases you have just imported. In case they are not yet displayed in your project, switch to another project and switch back for the new database(s) to appear"
   ]
  },
  {
   "cell_type": "markdown",
   "metadata": {},
   "source": [
    "### 3.4 Importing your own Data\n",
    "\n",
    "```{admonition} See Also\n",
    ":class: seealso\n",
    "[Section \"Databases\" in the Brightway Documentation Cheat Sheet](https://docs.brightway.dev/en/latest/content/cheatsheet/databases.html)\n",
    "```\n",
    "\n",
    "```{admonition} File Download\n",
    ":class: note\n",
    "You can download the example files required for this section here: \\\n",
    "{download}`lci_hydrogen_electrolysis.xlsx <https://github.com/brightway-lca/brightway-book/raw/refs/heads/main/content/chapters/BW2/_data/lci_hydrogen_electrolysis.xlsx>` \\\n",
    "{download}`lci_rawdata_import.xlsx <https://github.com/brightway-lca/brightway-book/raw/refs/heads/main/content/chapters/BW2/_data/lci_rawdata_import.xlsx>`\n",
    "```"
   ]
  },
  {
   "cell_type": "code",
   "execution_count": 12,
   "metadata": {},
   "outputs": [
    {
     "name": "stdout",
     "output_type": "stream",
     "text": [
      "Extracted 1 worksheets in 0.10 seconds\n",
      "Applying strategy: csv_restore_tuples\n",
      "Applying strategy: csv_restore_booleans\n",
      "Applying strategy: csv_numerize\n",
      "Applying strategy: csv_drop_unknown\n",
      "Applying strategy: csv_add_missing_exchanges_section\n",
      "Applying strategy: normalize_units\n",
      "Applying strategy: normalize_biosphere_categories\n",
      "Applying strategy: normalize_biosphere_names\n",
      "Applying strategy: strip_biosphere_exc_locations\n",
      "Applying strategy: set_code_by_activity_hash\n",
      "Applying strategy: link_iterable_by_fields\n",
      "Applying strategy: assign_only_product_as_production\n",
      "Applying strategy: link_technosphere_by_activity_hash\n",
      "Applying strategy: drop_falsey_uncertainty_fields_but_keep_zeros\n",
      "Applying strategy: convert_uncertainty_types_to_integers\n",
      "Applying strategy: convert_activity_parameters_to_list\n",
      "Applied 16 strategies in 2.70 seconds\n",
      "Applying strategy: link_iterable_by_fields\n",
      "Applying strategy: link_iterable_by_fields\n",
      "17 datasets\n",
      "343 exchanges\n",
      "0 unlinked exchanges\n",
      "  \n",
      "Wrote matching file to:\n",
      "/Users/michaelweinold/Library/Application Support/Brightway3/learn_brightway_bw2.64db5ecb6d8079342bb61bf76f7f8046/output/db-matching-h2_electrolysis-unlinked.xlsx\n",
      "Warning: No valid output stream.\n",
      "Title: Writing activities to SQLite3 database:\n",
      "  Started: 09/24/2024 11:32:27\n",
      "  Finished: 09/24/2024 11:32:27\n",
      "  Total time elapsed: 00:00:00\n",
      "  CPU %: 40.50\n",
      "  Memory %: 6.93\n",
      "Created database: h2_electrolysis\n"
     ]
    }
   ],
   "source": [
    "imp = bi.ExcelImporter(r'C:\\Users\\johndoe\\Downloads\\lci_hydrogen_electrolysis.xlsx') # the path to your inventory excel file\n",
    "imp.apply_strategies()\n",
    "imp.match_database(\"ecoinvent-3.9.1-cutoff\", fields=('name', 'unit', 'location', 'reference product')) # 'reference product'\n",
    "imp.match_database(fields=('name', 'unit', 'location'))\n",
    "imp.statistics()\n",
    "imp.write_excel(only_unlinked=True)\n",
    "list(imp.unlinked)\n",
    "imp.write_database()"
   ]
  },
  {
   "cell_type": "markdown",
   "metadata": {},
   "source": [
    "This should have worked smoothly. Again, you can also look at this database in the AB.\n",
    "\n",
    "HOWEVER, importing from Excel won't always be so easy! This is demonstrated here:"
   ]
  },
  {
   "cell_type": "code",
   "execution_count": 21,
   "metadata": {},
   "outputs": [
    {
     "name": "stdout",
     "output_type": "stream",
     "text": [
      "Extracted 1 worksheets in 0.02 seconds\n",
      "Applying strategy: csv_restore_tuples\n",
      "Applying strategy: csv_restore_booleans\n",
      "Applying strategy: csv_numerize\n",
      "Applying strategy: csv_drop_unknown\n",
      "Applying strategy: csv_add_missing_exchanges_section\n",
      "Applying strategy: normalize_units\n",
      "Applying strategy: normalize_biosphere_categories\n",
      "Applying strategy: normalize_biosphere_names\n",
      "Applying strategy: strip_biosphere_exc_locations\n",
      "Applying strategy: set_code_by_activity_hash\n",
      "Applying strategy: link_iterable_by_fields\n",
      "Applying strategy: assign_only_product_as_production\n",
      "Applying strategy: link_technosphere_by_activity_hash\n",
      "Applying strategy: drop_falsey_uncertainty_fields_but_keep_zeros\n",
      "Applying strategy: convert_uncertainty_types_to_integers\n",
      "Applying strategy: convert_activity_parameters_to_list\n",
      "Applied 16 strategies in 2.77 seconds\n",
      "Applying strategy: link_iterable_by_fields\n",
      "Applying strategy: link_iterable_by_fields\n",
      "2 datasets\n",
      "42 exchanges\n",
      "3 unlinked exchanges\n",
      "  Type biosphere: 1 unique unlinked exchanges\n",
      "  Type technosphere: 2 unique unlinked exchanges\n",
      "Wrote matching file to:\n",
      "/Users/michaelweinold/Library/Application Support/Brightway3/learn_brightway_bw2.64db5ecb6d8079342bb61bf76f7f8046/output/db-matching-hydrogen_demo.xlsx\n",
      "Warning: No valid output stream.\n"
     ]
    },
    {
     "ename": "InvalidExchange",
     "evalue": "",
     "output_type": "error",
     "traceback": [
      "\u001b[0;31m---------------------------------------------------------------------------\u001b[0m",
      "\u001b[0;31mInvalidExchange\u001b[0m                           Traceback (most recent call last)",
      "Cell \u001b[0;32mIn[21], line 9\u001b[0m\n\u001b[1;32m      6\u001b[0m imp\u001b[38;5;241m.\u001b[39mwrite_excel() \u001b[38;5;66;03m#(only_unlinked=True)\u001b[39;00m\n\u001b[1;32m      7\u001b[0m \u001b[38;5;28mlist\u001b[39m(imp\u001b[38;5;241m.\u001b[39munlinked)\n\u001b[0;32m----> 9\u001b[0m \u001b[43mimp\u001b[49m\u001b[38;5;241;43m.\u001b[39;49m\u001b[43mwrite_database\u001b[49m\u001b[43m(\u001b[49m\u001b[43m)\u001b[49m\n",
      "File \u001b[0;32m/opt/homebrew/Caskroom/miniconda/base/envs/env_bw2/lib/python3.11/site-packages/bw2io/importers/excel.py:284\u001b[0m, in \u001b[0;36mExcelImporter.write_database\u001b[0;34m(self, **kwargs)\u001b[0m\n\u001b[1;32m    282\u001b[0m \u001b[38;5;250m\u001b[39m\u001b[38;5;124;03m\"\"\"Same as base ``write_database`` method, but ``activate_parameters`` is True by default.\"\"\"\u001b[39;00m\n\u001b[1;32m    283\u001b[0m kwargs[\u001b[38;5;124m\"\u001b[39m\u001b[38;5;124mactivate_parameters\u001b[39m\u001b[38;5;124m\"\u001b[39m] \u001b[38;5;241m=\u001b[39m kwargs\u001b[38;5;241m.\u001b[39mget(\u001b[38;5;124m\"\u001b[39m\u001b[38;5;124mactivate_parameters\u001b[39m\u001b[38;5;124m\"\u001b[39m, \u001b[38;5;28;01mTrue\u001b[39;00m)\n\u001b[0;32m--> 284\u001b[0m \u001b[38;5;28;43msuper\u001b[39;49m\u001b[43m(\u001b[49m\u001b[43mExcelImporter\u001b[49m\u001b[43m,\u001b[49m\u001b[43m \u001b[49m\u001b[38;5;28;43mself\u001b[39;49m\u001b[43m)\u001b[49m\u001b[38;5;241;43m.\u001b[39;49m\u001b[43mwrite_database\u001b[49m\u001b[43m(\u001b[49m\u001b[38;5;241;43m*\u001b[39;49m\u001b[38;5;241;43m*\u001b[39;49m\u001b[43mkwargs\u001b[49m\u001b[43m)\u001b[49m\n",
      "File \u001b[0;32m/opt/homebrew/Caskroom/miniconda/base/envs/env_bw2/lib/python3.11/site-packages/bw2io/importers/base_lci.py:273\u001b[0m, in \u001b[0;36mLCIImporter.write_database\u001b[0;34m(self, data, delete_existing, backend, activate_parameters, **kwargs)\u001b[0m\n\u001b[1;32m    270\u001b[0m \u001b[38;5;28mself\u001b[39m\u001b[38;5;241m.\u001b[39mwrite_database_parameters(activate_parameters, delete_existing)\n\u001b[1;32m    272\u001b[0m existing\u001b[38;5;241m.\u001b[39mupdate(data)\n\u001b[0;32m--> 273\u001b[0m \u001b[43mdb\u001b[49m\u001b[38;5;241;43m.\u001b[39;49m\u001b[43mwrite\u001b[49m\u001b[43m(\u001b[49m\u001b[43mexisting\u001b[49m\u001b[43m)\u001b[49m\n\u001b[1;32m    275\u001b[0m \u001b[38;5;28;01mif\u001b[39;00m activate_parameters:\n\u001b[1;32m    276\u001b[0m     \u001b[38;5;28mself\u001b[39m\u001b[38;5;241m.\u001b[39m_write_activity_parameters(activity_parameters)\n",
      "File \u001b[0;32m/opt/homebrew/Caskroom/miniconda/base/envs/env_bw2/lib/python3.11/site-packages/bw2data/project.py:358\u001b[0m, in \u001b[0;36mwritable_project\u001b[0;34m(wrapped, instance, args, kwargs)\u001b[0m\n\u001b[1;32m    356\u001b[0m \u001b[38;5;28;01mif\u001b[39;00m projects\u001b[38;5;241m.\u001b[39mread_only:\n\u001b[1;32m    357\u001b[0m     \u001b[38;5;28;01mraise\u001b[39;00m ReadOnlyProject(READ_ONLY_PROJECT)\n\u001b[0;32m--> 358\u001b[0m \u001b[38;5;28;01mreturn\u001b[39;00m \u001b[43mwrapped\u001b[49m\u001b[43m(\u001b[49m\u001b[38;5;241;43m*\u001b[39;49m\u001b[43margs\u001b[49m\u001b[43m,\u001b[49m\u001b[43m \u001b[49m\u001b[38;5;241;43m*\u001b[39;49m\u001b[38;5;241;43m*\u001b[39;49m\u001b[43mkwargs\u001b[49m\u001b[43m)\u001b[49m\n",
      "File \u001b[0;32m/opt/homebrew/Caskroom/miniconda/base/envs/env_bw2/lib/python3.11/site-packages/bw2data/backends/peewee/database.py:260\u001b[0m, in \u001b[0;36mSQLiteBackend.write\u001b[0;34m(self, data, process)\u001b[0m\n\u001b[1;32m    258\u001b[0m \u001b[38;5;28;01mif\u001b[39;00m data:\n\u001b[1;32m    259\u001b[0m     \u001b[38;5;28;01mtry\u001b[39;00m:\n\u001b[0;32m--> 260\u001b[0m         \u001b[38;5;28;43mself\u001b[39;49m\u001b[38;5;241;43m.\u001b[39;49m\u001b[43m_efficient_write_many_data\u001b[49m\u001b[43m(\u001b[49m\u001b[43mdata\u001b[49m\u001b[43m)\u001b[49m\n\u001b[1;32m    261\u001b[0m     \u001b[38;5;28;01mexcept\u001b[39;00m:\n\u001b[1;32m    262\u001b[0m         \u001b[38;5;66;03m# Purge all data from database, then reraise\u001b[39;00m\n\u001b[1;32m    263\u001b[0m         \u001b[38;5;28mself\u001b[39m\u001b[38;5;241m.\u001b[39mdelete(warn\u001b[38;5;241m=\u001b[39m\u001b[38;5;28;01mFalse\u001b[39;00m)\n",
      "File \u001b[0;32m/opt/homebrew/Caskroom/miniconda/base/envs/env_bw2/lib/python3.11/site-packages/bw2data/backends/peewee/database.py:204\u001b[0m, in \u001b[0;36mSQLiteBackend._efficient_write_many_data\u001b[0;34m(self, data, indices)\u001b[0m\n\u001b[1;32m    197\u001b[0m     \u001b[38;5;28mself\u001b[39m\u001b[38;5;241m.\u001b[39mpbar \u001b[38;5;241m=\u001b[39m pyprind\u001b[38;5;241m.\u001b[39mProgBar(\n\u001b[1;32m    198\u001b[0m         \u001b[38;5;28mlen\u001b[39m(data),\n\u001b[1;32m    199\u001b[0m         title\u001b[38;5;241m=\u001b[39m\u001b[38;5;124m\"\u001b[39m\u001b[38;5;124mWriting activities to SQLite3 database:\u001b[39m\u001b[38;5;124m\"\u001b[39m,\n\u001b[1;32m    200\u001b[0m         monitor\u001b[38;5;241m=\u001b[39m\u001b[38;5;28;01mTrue\u001b[39;00m\n\u001b[1;32m    201\u001b[0m     )\n\u001b[1;32m    203\u001b[0m \u001b[38;5;28;01mfor\u001b[39;00m index, (key, ds) \u001b[38;5;129;01min\u001b[39;00m \u001b[38;5;28menumerate\u001b[39m(data\u001b[38;5;241m.\u001b[39mitems()):\n\u001b[0;32m--> 204\u001b[0m     exchanges, activities \u001b[38;5;241m=\u001b[39m \u001b[38;5;28;43mself\u001b[39;49m\u001b[38;5;241;43m.\u001b[39;49m\u001b[43m_efficient_write_dataset\u001b[49m\u001b[43m(\u001b[49m\n\u001b[1;32m    205\u001b[0m \u001b[43m        \u001b[49m\u001b[43mindex\u001b[49m\u001b[43m,\u001b[49m\u001b[43m \u001b[49m\u001b[43mkey\u001b[49m\u001b[43m,\u001b[49m\u001b[43m \u001b[49m\u001b[43mds\u001b[49m\u001b[43m,\u001b[49m\u001b[43m \u001b[49m\u001b[43mexchanges\u001b[49m\u001b[43m,\u001b[49m\u001b[43m \u001b[49m\u001b[43mactivities\u001b[49m\n\u001b[1;32m    206\u001b[0m \u001b[43m    \u001b[49m\u001b[43m)\u001b[49m\n\u001b[1;32m    208\u001b[0m \u001b[38;5;28;01mif\u001b[39;00m \u001b[38;5;129;01mnot\u001b[39;00m \u001b[38;5;28mgetattr\u001b[39m(config, \u001b[38;5;124m\"\u001b[39m\u001b[38;5;124mis_test\u001b[39m\u001b[38;5;124m\"\u001b[39m, \u001b[38;5;28;01mNone\u001b[39;00m):\n\u001b[1;32m    209\u001b[0m     \u001b[38;5;28mprint\u001b[39m(\u001b[38;5;28mself\u001b[39m\u001b[38;5;241m.\u001b[39mpbar)\n",
      "File \u001b[0;32m/opt/homebrew/Caskroom/miniconda/base/envs/env_bw2/lib/python3.11/site-packages/bw2data/backends/peewee/database.py:156\u001b[0m, in \u001b[0;36mSQLiteBackend._efficient_write_dataset\u001b[0;34m(self, index, key, ds, exchanges, activities)\u001b[0m\n\u001b[1;32m    154\u001b[0m \u001b[38;5;28;01mfor\u001b[39;00m exchange \u001b[38;5;129;01min\u001b[39;00m ds\u001b[38;5;241m.\u001b[39mget(\u001b[38;5;124m'\u001b[39m\u001b[38;5;124mexchanges\u001b[39m\u001b[38;5;124m'\u001b[39m, []):\n\u001b[1;32m    155\u001b[0m     \u001b[38;5;28;01mif\u001b[39;00m \u001b[38;5;124m'\u001b[39m\u001b[38;5;124minput\u001b[39m\u001b[38;5;124m'\u001b[39m \u001b[38;5;129;01mnot\u001b[39;00m \u001b[38;5;129;01min\u001b[39;00m exchange \u001b[38;5;129;01mor\u001b[39;00m \u001b[38;5;124m'\u001b[39m\u001b[38;5;124mamount\u001b[39m\u001b[38;5;124m'\u001b[39m \u001b[38;5;129;01mnot\u001b[39;00m \u001b[38;5;129;01min\u001b[39;00m exchange:\n\u001b[0;32m--> 156\u001b[0m         \u001b[38;5;28;01mraise\u001b[39;00m InvalidExchange\n\u001b[1;32m    157\u001b[0m     \u001b[38;5;28;01mif\u001b[39;00m \u001b[38;5;124m'\u001b[39m\u001b[38;5;124mtype\u001b[39m\u001b[38;5;124m'\u001b[39m \u001b[38;5;129;01mnot\u001b[39;00m \u001b[38;5;129;01min\u001b[39;00m exchange:\n\u001b[1;32m    158\u001b[0m         \u001b[38;5;28;01mraise\u001b[39;00m UntypedExchange\n",
      "\u001b[0;31mInvalidExchange\u001b[0m: "
     ]
    }
   ],
   "source": [
    "imp = bi.ExcelImporter(r'/Users/michaelweinold/github/brightway-book/content/chapters/BW2/_data/lci_rawdata_import.xlsx')\n",
    "imp.apply_strategies()\n",
    "imp.match_database(\"ecoinvent-3.9.1-cutoff\", fields=('name','unit','location', 'reference product'))\n",
    "imp.match_database(fields=('name', 'unit', 'location'))\n",
    "imp.statistics()\n",
    "imp.write_excel() #(only_unlinked=True)\n",
    "list(imp.unlinked)\n",
    "\n",
    "imp.write_database()"
   ]
  },
  {
   "cell_type": "markdown",
   "metadata": {},
   "source": [
    "As you can see, there are some unlinked flows. This means that no corresponding dataset for an exchange listed in the spreadsheet could be found. Usually, this is because of types, wrong type, wrong unit, etc.\n",
    "\n",
    "To fix this, open the excel file with the unlinked flows. It will show you the lines where a problem has occurred. \n",
    "Did you find the errors?\n",
    "\n",
    "In the first activity, I misspelled \"granulate\" in the reference product.\n",
    "In the second case, I put \"biosphere\" as type instead of \"technosphere\".\n",
    "And in the third case, I am using a location for which no market for deionised water exists. It should be CH, not AT.\n",
    "\n",
    "In case you do not want to fix the file yourself, here is the corrected version:\n",
    "\n",
    "```{admonition} File Download\n",
    ":class: note\n",
    "You can download the CORRECTED example file  here: \\\n",
    "{download}`lci_rawdata_import_corrected.xlsx <https://github.com/brightway-lca/brightway-book/raw/refs/heads/main/content/chapters/BW2/_data/lci_rawdata_import_corrected.xlsx>`\n",
    "```"
   ]
  },
  {
   "cell_type": "code",
   "execution_count": 24,
   "metadata": {},
   "outputs": [
    {
     "data": {
      "text/plain": [
       "['ecoinvent-3.9.1-biosphere',\n",
       " 'ecoinvent-3.9.1-cutoff',\n",
       " 'h2_electrolysis',\n",
       " 'hydrogen_demo']"
      ]
     },
     "execution_count": 24,
     "metadata": {},
     "output_type": "execute_result"
    }
   ],
   "source": [
    "list(bd.databases)"
   ]
  },
  {
   "cell_type": "markdown",
   "metadata": {},
   "source": [
    "### 3.5 Looking at the Databases\n",
    "\n",
    "```{admonition} License\n",
    ":class: note\n",
    "This is more \"human friendly\" in AB! For quick overviews, searches etc., AB is more convenient than the Jupyter Notebook.\n",
    "```\n",
    "```{admonition} See also...\n",
    ":class: seealso\n",
    "[Section \"Databases\" in the Brightway Documentation Cheat Sheet](https://docs.brightway.dev/en/latest/content/cheatsheet/databases.html)\n",
    "```"
   ]
  },
  {
   "cell_type": "markdown",
   "metadata": {},
   "source": [
    "First, we choose the activities we want to analyse later in the LCA. Here, I want to compare hydrogen production with different electrolysers."
   ]
  },
  {
   "cell_type": "code",
   "execution_count": 9,
   "metadata": {},
   "outputs": [],
   "source": [
    "h2elec =  bd.Database('h2_electrolysis')"
   ]
  },
  {
   "cell_type": "code",
   "execution_count": 10,
   "metadata": {},
   "outputs": [
    {
     "data": {
      "text/plain": [
       "['hydrogen production, gaseous, 20 bar, from AEC electrolysis, from grid electricity' (kilogram, CH, None),\n",
       " 'hydrogen production, gaseous, 30 bar, from PEM electrolysis, from grid electricity' (kilogram, RER, None),\n",
       " 'hydrogen production, gaseous, 1 bar, from SOEC electrolysis, from grid electricity' (kilogram, CH, None),\n",
       " 'hydrogen production, gaseous, 1 bar, from SOEC electrolysis, with steam input, from grid electricity' (kilogram, CH, None)]"
      ]
     },
     "execution_count": 10,
     "metadata": {},
     "output_type": "execute_result"
    }
   ],
   "source": [
    "h2prod = [a for a in h2elec if 'hydrogen production, gaseous' in a ['name']]\n",
    "h2prod"
   ]
  },
  {
   "cell_type": "markdown",
   "metadata": {},
   "source": [
    "We can look at one of these activities here. \n",
    "But you might prefer to do that in AB."
   ]
  },
  {
   "cell_type": "code",
   "execution_count": 11,
   "metadata": {},
   "outputs": [
    {
     "data": {
      "text/plain": [
       "[Exchange: 9.391435011269722e-07 unit 'electrolyzer production, 1MWe, AEC, Stack' (unit, RER, None) to 'hydrogen production, gaseous, 20 bar, from AEC electrolysis, from grid electricity' (kilogram, CH, None)>,\n",
       " Exchange: 2.3478587528174306e-07 unit 'electrolyzer production, 1MWe, AEC, Balance of Plant' (unit, RER, None) to 'hydrogen production, gaseous, 20 bar, from AEC electrolysis, from grid electricity' (kilogram, CH, None)>,\n",
       " Exchange: -9.391435011269722e-07 unit 'treatment of fuel cell stack, 1MWe, AEC' (unit, RER, None) to 'hydrogen production, gaseous, 20 bar, from AEC electrolysis, from grid electricity' (kilogram, CH, None)>,\n",
       " Exchange: -2.3478587528174306e-07 unit 'treatment of fuel cell balance of plant, 1MWe, AEC' (unit, RER, None) to 'hydrogen production, gaseous, 20 bar, from AEC electrolysis, from grid electricity' (kilogram, CH, None)>,\n",
       " Exchange: 51.8 kilowatt hour 'market for electricity, low voltage' (kilowatt hour, CH, None) to 'hydrogen production, gaseous, 20 bar, from AEC electrolysis, from grid electricity' (kilogram, CH, None)>,\n",
       " Exchange: 0.0037 kilogram 'market for potassium hydroxide' (kilogram, GLO, None) to 'hydrogen production, gaseous, 20 bar, from AEC electrolysis, from grid electricity' (kilogram, CH, None)>,\n",
       " Exchange: 14 kilogram 'market for water, deionised' (kilogram, Europe without Switzerland, None) to 'hydrogen production, gaseous, 20 bar, from AEC electrolysis, from grid electricity' (kilogram, CH, None)>]"
      ]
     },
     "execution_count": 11,
     "metadata": {},
     "output_type": "execute_result"
    }
   ],
   "source": [
    "list(h2prod[0].technosphere())"
   ]
  },
  {
   "cell_type": "markdown",
   "metadata": {},
   "source": [
    "We also need to choose LCIA methods. Here, I only chose to compare the different IPCC GWP time horizons to make it simple"
   ]
  },
  {
   "cell_type": "code",
   "execution_count": 13,
   "metadata": {},
   "outputs": [
    {
     "data": {
      "text/plain": [
       "Methods dictionary with 762 objects, including:\n",
       "\t('CML v4.8 2016', 'acidification', 'acidification (incl. fate, average Europe total, A&B)')\n",
       "\t('CML v4.8 2016', 'climate change', 'global warming potential (GWP100)')\n",
       "\t('CML v4.8 2016', 'ecotoxicity: freshwater', 'freshwater aquatic ecotoxicity (FAETP inf)')\n",
       "\t('CML v4.8 2016', 'ecotoxicity: marine', 'marine aquatic ecotoxicity (MAETP inf)')\n",
       "\t('CML v4.8 2016', 'ecotoxicity: terrestrial', 'terrestrial ecotoxicity (TETP inf)')\n",
       "\t('CML v4.8 2016', 'energy resources: non-renewable', 'abiotic depletion potential (ADP): fossil fuels')\n",
       "\t('CML v4.8 2016', 'eutrophication', 'eutrophication (fate not incl.)')\n",
       "\t('CML v4.8 2016', 'human toxicity', 'human toxicity (HTP inf)')\n",
       "\t('CML v4.8 2016', 'material resources: metals/minerals', 'abiotic depletion potential (ADP): elements (ultimate reserves)')\n",
       "\t('CML v4.8 2016', 'ozone depletion', 'ozone layer depletion (ODP steady state)')\n",
       "Use `list(this object)` to get the complete list."
      ]
     },
     "execution_count": 13,
     "metadata": {},
     "output_type": "execute_result"
    }
   ],
   "source": [
    "bd.methods # if you don't know the names of the different LCIA methods, you can check all methods in AB, or get a list of all of them here."
   ]
  },
  {
   "cell_type": "code",
   "execution_count": 14,
   "metadata": {},
   "outputs": [
    {
     "data": {
      "text/plain": [
       "[('IPCC 2021', 'climate change', 'global warming potential (GWP100)'),\n",
       " ('IPCC 2021', 'climate change', 'global warming potential (GWP20)'),\n",
       " ('IPCC 2021', 'climate change', 'global warming potential (GWP500)')]"
      ]
     },
     "execution_count": 14,
     "metadata": {},
     "output_type": "execute_result"
    }
   ],
   "source": [
    "ipcc = [m for m in bd.methods if 'IPCC' in str(m) and '2021' in str(m) and 'GWP' in str(m) and 'LT' not in str(m) and 'fossil' not in str(m) and 'biogenic' not in str(m) and 'land use' not in str(m) and 'SLCFs' not in str(m)]\n",
    "ipcc"
   ]
  },
  {
   "cell_type": "markdown",
   "metadata": {},
   "source": [
    "### 3.6 Performing an LCA\n",
    "\n",
    "```{admonition} See also...\n",
    ":class: seealso\n",
    "[Section \"LCA\" in the Brightway Documentation Cheat Sheet](https://docs.brightway.dev/en/latest/content/cheatsheet/lca.html)\n",
    "```"
   ]
  },
  {
   "cell_type": "code",
   "execution_count": 15,
   "metadata": {},
   "outputs": [],
   "source": [
    "FU = [{x:1} for x in h2prod] # defining the functional units: we want \"1\" of the activities which produce hydrogen."
   ]
  },
  {
   "cell_type": "code",
   "execution_count": 16,
   "metadata": {},
   "outputs": [
    {
     "data": {
      "text/plain": [
       "array([[ 2.37768162,  2.92877936,  2.12446524],\n",
       "       [19.44666019, 21.77269211, 18.49650242],\n",
       "       [ 1.80959294,  2.23680139,  1.61681642],\n",
       "       [ 3.44325776,  4.1221398 ,  3.15629171]])"
      ]
     },
     "execution_count": 16,
     "metadata": {},
     "output_type": "execute_result"
    }
   ],
   "source": [
    "bd.calculation_setups['GWPs_electrolysis'] = {'inv':FU, 'ia': ipcc}\n",
    "mylca = bc.MultiLCA('GWPs_electrolysis')\n",
    "mylca.results"
   ]
  },
  {
   "cell_type": "markdown",
   "metadata": {},
   "source": [
    "That's nice, but not very human friendly. Let's look at a snippet of these results."
   ]
  },
  {
   "cell_type": "code",
   "execution_count": 33,
   "metadata": {},
   "outputs": [
    {
     "data": {
      "text/plain": [
       "{('IPCC 2021',\n",
       "  'climate change',\n",
       "  'global warming potential (GWP100)'): 19.44666019329231,\n",
       " ('IPCC 2021',\n",
       "  'climate change',\n",
       "  'global warming potential (GWP20)'): 21.772692106938454,\n",
       " ('IPCC 2021',\n",
       "  'climate change',\n",
       "  'global warming potential (GWP500)'): 18.496502417248085}"
      ]
     },
     "execution_count": 33,
     "metadata": {},
     "output_type": "execute_result"
    }
   ],
   "source": [
    "{k:v for k,v in zip(ipcc, mylca.results[0])}"
   ]
  },
  {
   "cell_type": "markdown",
   "metadata": {},
   "source": [
    "Better, but still not so convenient. We are using pandas to show the results in a way which is better defined."
   ]
  },
  {
   "cell_type": "code",
   "execution_count": 19,
   "metadata": {},
   "outputs": [
    {
     "data": {
      "text/html": [
       "<div>\n",
       "<style scoped>\n",
       "    .dataframe tbody tr th:only-of-type {\n",
       "        vertical-align: middle;\n",
       "    }\n",
       "\n",
       "    .dataframe tbody tr th {\n",
       "        vertical-align: top;\n",
       "    }\n",
       "\n",
       "    .dataframe thead th {\n",
       "        text-align: right;\n",
       "    }\n",
       "</style>\n",
       "<table border=\"1\" class=\"dataframe\">\n",
       "  <thead>\n",
       "    <tr style=\"text-align: right;\">\n",
       "      <th></th>\n",
       "      <th>(hydrogen production, gaseous, 20 bar, from AEC electrolysis, from grid electricity, CH)</th>\n",
       "      <th>(hydrogen production, gaseous, 30 bar, from PEM electrolysis, from grid electricity, RER)</th>\n",
       "      <th>(hydrogen production, gaseous, 1 bar, from SOEC electrolysis, from grid electricity, CH)</th>\n",
       "      <th>(hydrogen production, gaseous, 1 bar, from SOEC electrolysis, with steam input, from grid electricity, CH)</th>\n",
       "    </tr>\n",
       "  </thead>\n",
       "  <tbody>\n",
       "    <tr>\n",
       "      <th>(IPCC 2021, climate change, global warming potential (GWP100))</th>\n",
       "      <td>2.377682</td>\n",
       "      <td>19.446660</td>\n",
       "      <td>1.809593</td>\n",
       "      <td>3.443258</td>\n",
       "    </tr>\n",
       "    <tr>\n",
       "      <th>(IPCC 2021, climate change, global warming potential (GWP20))</th>\n",
       "      <td>2.928779</td>\n",
       "      <td>21.772692</td>\n",
       "      <td>2.236801</td>\n",
       "      <td>4.122140</td>\n",
       "    </tr>\n",
       "    <tr>\n",
       "      <th>(IPCC 2021, climate change, global warming potential (GWP500))</th>\n",
       "      <td>2.124465</td>\n",
       "      <td>18.496502</td>\n",
       "      <td>1.616816</td>\n",
       "      <td>3.156292</td>\n",
       "    </tr>\n",
       "  </tbody>\n",
       "</table>\n",
       "</div>"
      ],
      "text/plain": [
       "                                                    (hydrogen production, gaseous, 20 bar, from AEC electrolysis, from grid electricity, CH)  \\\n",
       "(IPCC 2021, climate change, global warming pote...                                           2.377682                                          \n",
       "(IPCC 2021, climate change, global warming pote...                                           2.928779                                          \n",
       "(IPCC 2021, climate change, global warming pote...                                           2.124465                                          \n",
       "\n",
       "                                                    (hydrogen production, gaseous, 30 bar, from PEM electrolysis, from grid electricity, RER)  \\\n",
       "(IPCC 2021, climate change, global warming pote...                                          19.446660                                           \n",
       "(IPCC 2021, climate change, global warming pote...                                          21.772692                                           \n",
       "(IPCC 2021, climate change, global warming pote...                                          18.496502                                           \n",
       "\n",
       "                                                    (hydrogen production, gaseous, 1 bar, from SOEC electrolysis, from grid electricity, CH)  \\\n",
       "(IPCC 2021, climate change, global warming pote...                                           1.809593                                          \n",
       "(IPCC 2021, climate change, global warming pote...                                           2.236801                                          \n",
       "(IPCC 2021, climate change, global warming pote...                                           1.616816                                          \n",
       "\n",
       "                                                    (hydrogen production, gaseous, 1 bar, from SOEC electrolysis, with steam input, from grid electricity, CH)  \n",
       "(IPCC 2021, climate change, global warming pote...                                           3.443258                                                           \n",
       "(IPCC 2021, climate change, global warming pote...                                           4.122140                                                           \n",
       "(IPCC 2021, climate change, global warming pote...                                           3.156292                                                           "
      ]
     },
     "execution_count": 19,
     "metadata": {},
     "output_type": "execute_result"
    }
   ],
   "source": [
    "mylcadf = pd.DataFrame(index = ipcc, columns = [(x['name'], x['location']) for y in FU for x in y], data=mylca.results.T)\n",
    "mylcadf"
   ]
  },
  {
   "cell_type": "code",
   "execution_count": 20,
   "metadata": {},
   "outputs": [],
   "source": [
    "mylcadf.to_excel('lcia_results.xlsx') # export to excel, e.g. for creating figures"
   ]
  },
  {
   "cell_type": "markdown",
   "metadata": {},
   "source": [
    "### 3.7 Plotting Results"
   ]
  },
  {
   "cell_type": "markdown",
   "metadata": {},
   "source": [
    "You can any Python plotting library, like [seaborn](https://seaborn.pydata.org) or [matplotlib](https://matplotlib.org) for plotting. If you already have your data stored in a Pandas DataFrame, you can plot it directly with Pandas."
   ]
  },
  {
   "cell_type": "code",
   "execution_count": 21,
   "metadata": {},
   "outputs": [
    {
     "data": {
      "text/html": [
       "<div>\n",
       "<style scoped>\n",
       "    .dataframe tbody tr th:only-of-type {\n",
       "        vertical-align: middle;\n",
       "    }\n",
       "\n",
       "    .dataframe tbody tr th {\n",
       "        vertical-align: top;\n",
       "    }\n",
       "\n",
       "    .dataframe thead th {\n",
       "        text-align: right;\n",
       "    }\n",
       "</style>\n",
       "<table border=\"1\" class=\"dataframe\">\n",
       "  <thead>\n",
       "    <tr style=\"text-align: right;\">\n",
       "      <th></th>\n",
       "      <th>(hydrogen production, gaseous, 20 bar, from AEC electrolysis, from grid electricity, CH)</th>\n",
       "      <th>(hydrogen production, gaseous, 30 bar, from PEM electrolysis, from grid electricity, RER)</th>\n",
       "      <th>(hydrogen production, gaseous, 1 bar, from SOEC electrolysis, from grid electricity, CH)</th>\n",
       "      <th>(hydrogen production, gaseous, 1 bar, from SOEC electrolysis, with steam input, from grid electricity, CH)</th>\n",
       "    </tr>\n",
       "  </thead>\n",
       "  <tbody>\n",
       "    <tr>\n",
       "      <th>(IPCC 2021, climate change, global warming potential (GWP100))</th>\n",
       "      <td>2.377682</td>\n",
       "      <td>19.446660</td>\n",
       "      <td>1.809593</td>\n",
       "      <td>3.443258</td>\n",
       "    </tr>\n",
       "    <tr>\n",
       "      <th>(IPCC 2021, climate change, global warming potential (GWP20))</th>\n",
       "      <td>2.928779</td>\n",
       "      <td>21.772692</td>\n",
       "      <td>2.236801</td>\n",
       "      <td>4.122140</td>\n",
       "    </tr>\n",
       "    <tr>\n",
       "      <th>(IPCC 2021, climate change, global warming potential (GWP500))</th>\n",
       "      <td>2.124465</td>\n",
       "      <td>18.496502</td>\n",
       "      <td>1.616816</td>\n",
       "      <td>3.156292</td>\n",
       "    </tr>\n",
       "  </tbody>\n",
       "</table>\n",
       "</div>"
      ],
      "text/plain": [
       "                                                    (hydrogen production, gaseous, 20 bar, from AEC electrolysis, from grid electricity, CH)  \\\n",
       "(IPCC 2021, climate change, global warming pote...                                           2.377682                                          \n",
       "(IPCC 2021, climate change, global warming pote...                                           2.928779                                          \n",
       "(IPCC 2021, climate change, global warming pote...                                           2.124465                                          \n",
       "\n",
       "                                                    (hydrogen production, gaseous, 30 bar, from PEM electrolysis, from grid electricity, RER)  \\\n",
       "(IPCC 2021, climate change, global warming pote...                                          19.446660                                           \n",
       "(IPCC 2021, climate change, global warming pote...                                          21.772692                                           \n",
       "(IPCC 2021, climate change, global warming pote...                                          18.496502                                           \n",
       "\n",
       "                                                    (hydrogen production, gaseous, 1 bar, from SOEC electrolysis, from grid electricity, CH)  \\\n",
       "(IPCC 2021, climate change, global warming pote...                                           1.809593                                          \n",
       "(IPCC 2021, climate change, global warming pote...                                           2.236801                                          \n",
       "(IPCC 2021, climate change, global warming pote...                                           1.616816                                          \n",
       "\n",
       "                                                    (hydrogen production, gaseous, 1 bar, from SOEC electrolysis, with steam input, from grid electricity, CH)  \n",
       "(IPCC 2021, climate change, global warming pote...                                           3.443258                                                           \n",
       "(IPCC 2021, climate change, global warming pote...                                           4.122140                                                           \n",
       "(IPCC 2021, climate change, global warming pote...                                           3.156292                                                           "
      ]
     },
     "execution_count": 21,
     "metadata": {},
     "output_type": "execute_result"
    }
   ],
   "source": [
    "mylcadf # we are using the mylcadf dataframe created further above."
   ]
  },
  {
   "cell_type": "code",
   "execution_count": 22,
   "metadata": {},
   "outputs": [
    {
     "name": "stdout",
     "output_type": "stream",
     "text": [
      "[('hydrogen production, gaseous, 20 bar, from AEC electrolysis, from grid electricity', 'CH'), ('hydrogen production, gaseous, 30 bar, from PEM electrolysis, from grid electricity', 'RER'), ('hydrogen production, gaseous, 1 bar, from SOEC electrolysis, from grid electricity', 'CH'), ('hydrogen production, gaseous, 1 bar, from SOEC electrolysis, with steam input, from grid electricity', 'CH')]\n"
     ]
    }
   ],
   "source": [
    "print(mylcadf.columns.tolist())"
   ]
  },
  {
   "cell_type": "markdown",
   "metadata": {},
   "source": [
    "We can now look at the long names of the impact assessment methods:"
   ]
  },
  {
   "cell_type": "code",
   "execution_count": 23,
   "metadata": {},
   "outputs": [
    {
     "data": {
      "text/plain": [
       "[('IPCC 2021', 'climate change', 'global warming potential (GWP100)'),\n",
       " ('IPCC 2021', 'climate change', 'global warming potential (GWP20)'),\n",
       " ('IPCC 2021', 'climate change', 'global warming potential (GWP500)')]"
      ]
     },
     "execution_count": 23,
     "metadata": {},
     "output_type": "execute_result"
    }
   ],
   "source": [
    "ipcc"
   ]
  },
  {
   "cell_type": "markdown",
   "metadata": {},
   "source": [
    "...and come up with shorter, more \"human-friendly\" descriptions:"
   ]
  },
  {
   "cell_type": "code",
   "execution_count": 39,
   "metadata": {},
   "outputs": [],
   "source": [
    "labels_methods = {\n",
    "    ('IPCC 2021', 'climate change', 'global warming potential (GWP100)'): \"IPCC GWP100\", \n",
    "    ('IPCC 2021', 'climate change', 'global warming potential (GWP20)'): 'IPCC GWP20',\n",
    "    ('IPCC 2021', 'climate change', 'global warming potential (GWP500)'): 'IPCC GWP500',  \n",
    "}"
   ]
  },
  {
   "cell_type": "markdown",
   "metadata": {},
   "source": [
    "Similarly, we can look at the long names of the activities:"
   ]
  },
  {
   "cell_type": "code",
   "execution_count": 40,
   "metadata": {},
   "outputs": [
    {
     "data": {
      "text/plain": [
       "['hydrogen production, gaseous, 20 bar, from AEC electrolysis, from grid electricity' (kilogram, CH, None),\n",
       " 'hydrogen production, gaseous, 30 bar, from PEM electrolysis, from grid electricity' (kilogram, RER, None),\n",
       " 'hydrogen production, gaseous, 1 bar, from SOEC electrolysis, from grid electricity' (kilogram, CH, None),\n",
       " 'hydrogen production, gaseous, 1 bar, from SOEC electrolysis, with steam input, from grid electricity' (kilogram, CH, None)]"
      ]
     },
     "execution_count": 40,
     "metadata": {},
     "output_type": "execute_result"
    }
   ],
   "source": [
    "h2prod"
   ]
  },
  {
   "cell_type": "markdown",
   "metadata": {},
   "source": [
    "...and come up with shorter, more \"human-friendly\" descriptions:"
   ]
  },
  {
   "cell_type": "code",
   "execution_count": 41,
   "metadata": {},
   "outputs": [],
   "source": [
    "labels_act = {\n",
    "    ('hydrogen production, gaseous, 1 bar, from SOEC electrolysis, from grid electricity', 'CH'): \"SOEC_with_steam\",\n",
    "    ('hydrogen production, gaseous, 20 bar, from AEC electrolysis, from grid electricity', 'CH'): \"AEC\", \n",
    "    ('hydrogen production, gaseous, 30 bar, from PEM electrolysis, from grid electricity', 'RER'): \"PEM\",\n",
    "    ('hydrogen production, gaseous, 1 bar, from SOEC electrolysis, with steam input, from grid electricity', 'CH'): \"SOEC\"\n",
    "}"
   ]
  },
  {
   "cell_type": "markdown",
   "metadata": {},
   "source": [
    "Now, we can update the labels in the dataframe:"
   ]
  },
  {
   "cell_type": "code",
   "execution_count": 42,
   "metadata": {},
   "outputs": [
    {
     "data": {
      "text/html": [
       "<div>\n",
       "<style scoped>\n",
       "    .dataframe tbody tr th:only-of-type {\n",
       "        vertical-align: middle;\n",
       "    }\n",
       "\n",
       "    .dataframe tbody tr th {\n",
       "        vertical-align: top;\n",
       "    }\n",
       "\n",
       "    .dataframe thead th {\n",
       "        text-align: right;\n",
       "    }\n",
       "</style>\n",
       "<table border=\"1\" class=\"dataframe\">\n",
       "  <thead>\n",
       "    <tr style=\"text-align: right;\">\n",
       "      <th></th>\n",
       "      <th>(hydrogen production, gaseous, 20 bar, from AEC electrolysis, from grid electricity, CH)</th>\n",
       "      <th>(hydrogen production, gaseous, 30 bar, from PEM electrolysis, from grid electricity, RER)</th>\n",
       "      <th>(hydrogen production, gaseous, 1 bar, from SOEC electrolysis, from grid electricity, CH)</th>\n",
       "      <th>(hydrogen production, gaseous, 1 bar, from SOEC electrolysis, with steam input, from grid electricity, CH)</th>\n",
       "    </tr>\n",
       "  </thead>\n",
       "  <tbody>\n",
       "    <tr>\n",
       "      <th>(IPCC 2021, climate change, global warming potential (GWP100))</th>\n",
       "      <td>2.377682</td>\n",
       "      <td>19.446660</td>\n",
       "      <td>1.809593</td>\n",
       "      <td>3.443258</td>\n",
       "    </tr>\n",
       "    <tr>\n",
       "      <th>(IPCC 2021, climate change, global warming potential (GWP20))</th>\n",
       "      <td>2.928779</td>\n",
       "      <td>21.772692</td>\n",
       "      <td>2.236801</td>\n",
       "      <td>4.122140</td>\n",
       "    </tr>\n",
       "    <tr>\n",
       "      <th>(IPCC 2021, climate change, global warming potential (GWP500))</th>\n",
       "      <td>2.124465</td>\n",
       "      <td>18.496502</td>\n",
       "      <td>1.616816</td>\n",
       "      <td>3.156292</td>\n",
       "    </tr>\n",
       "  </tbody>\n",
       "</table>\n",
       "</div>"
      ],
      "text/plain": [
       "                                                    (hydrogen production, gaseous, 20 bar, from AEC electrolysis, from grid electricity, CH)  \\\n",
       "(IPCC 2021, climate change, global warming pote...                                           2.377682                                          \n",
       "(IPCC 2021, climate change, global warming pote...                                           2.928779                                          \n",
       "(IPCC 2021, climate change, global warming pote...                                           2.124465                                          \n",
       "\n",
       "                                                    (hydrogen production, gaseous, 30 bar, from PEM electrolysis, from grid electricity, RER)  \\\n",
       "(IPCC 2021, climate change, global warming pote...                                          19.446660                                           \n",
       "(IPCC 2021, climate change, global warming pote...                                          21.772692                                           \n",
       "(IPCC 2021, climate change, global warming pote...                                          18.496502                                           \n",
       "\n",
       "                                                    (hydrogen production, gaseous, 1 bar, from SOEC electrolysis, from grid electricity, CH)  \\\n",
       "(IPCC 2021, climate change, global warming pote...                                           1.809593                                          \n",
       "(IPCC 2021, climate change, global warming pote...                                           2.236801                                          \n",
       "(IPCC 2021, climate change, global warming pote...                                           1.616816                                          \n",
       "\n",
       "                                                    (hydrogen production, gaseous, 1 bar, from SOEC electrolysis, with steam input, from grid electricity, CH)  \n",
       "(IPCC 2021, climate change, global warming pote...                                           3.443258                                                           \n",
       "(IPCC 2021, climate change, global warming pote...                                           4.122140                                                           \n",
       "(IPCC 2021, climate change, global warming pote...                                           3.156292                                                           "
      ]
     },
     "execution_count": 42,
     "metadata": {},
     "output_type": "execute_result"
    }
   ],
   "source": [
    "mylcadf"
   ]
  },
  {
   "cell_type": "code",
   "execution_count": 43,
   "metadata": {},
   "outputs": [
    {
     "data": {
      "text/html": [
       "<div>\n",
       "<style scoped>\n",
       "    .dataframe tbody tr th:only-of-type {\n",
       "        vertical-align: middle;\n",
       "    }\n",
       "\n",
       "    .dataframe tbody tr th {\n",
       "        vertical-align: top;\n",
       "    }\n",
       "\n",
       "    .dataframe thead th {\n",
       "        text-align: right;\n",
       "    }\n",
       "</style>\n",
       "<table border=\"1\" class=\"dataframe\">\n",
       "  <thead>\n",
       "    <tr style=\"text-align: right;\">\n",
       "      <th></th>\n",
       "      <th>AEC</th>\n",
       "      <th>PEM</th>\n",
       "      <th>SOEC_with_steam</th>\n",
       "      <th>SOEC</th>\n",
       "    </tr>\n",
       "  </thead>\n",
       "  <tbody>\n",
       "    <tr>\n",
       "      <th>IPCC GWP100</th>\n",
       "      <td>2.377682</td>\n",
       "      <td>19.446660</td>\n",
       "      <td>1.809593</td>\n",
       "      <td>3.443258</td>\n",
       "    </tr>\n",
       "    <tr>\n",
       "      <th>IPCC GWP20</th>\n",
       "      <td>2.928779</td>\n",
       "      <td>21.772692</td>\n",
       "      <td>2.236801</td>\n",
       "      <td>4.122140</td>\n",
       "    </tr>\n",
       "    <tr>\n",
       "      <th>IPCC GWP500</th>\n",
       "      <td>2.124465</td>\n",
       "      <td>18.496502</td>\n",
       "      <td>1.616816</td>\n",
       "      <td>3.156292</td>\n",
       "    </tr>\n",
       "  </tbody>\n",
       "</table>\n",
       "</div>"
      ],
      "text/plain": [
       "                  AEC        PEM  SOEC_with_steam      SOEC\n",
       "IPCC GWP100  2.377682  19.446660         1.809593  3.443258\n",
       "IPCC GWP20   2.928779  21.772692         2.236801  4.122140\n",
       "IPCC GWP500  2.124465  18.496502         1.616816  3.156292"
      ]
     },
     "execution_count": 43,
     "metadata": {},
     "output_type": "execute_result"
    }
   ],
   "source": [
    "df = mylcadf.rename(columns=labels_act, index=labels_methods)\n",
    "df"
   ]
  },
  {
   "cell_type": "markdown",
   "metadata": {},
   "source": [
    "Now can we plot the dataframe. Here, we are using [the plotting functionality of Pandas itself](https://pandas.pydata.org/docs/reference/api/pandas.DataFrame.plot.html):"
   ]
  },
  {
   "cell_type": "code",
   "execution_count": 44,
   "metadata": {},
   "outputs": [
    {
     "data": {
      "text/plain": [
       "<Axes: xlabel='Impact category', ylabel='Impact score'>"
      ]
     },
     "execution_count": 44,
     "metadata": {},
     "output_type": "execute_result"
    },
    {
     "data": {
      "image/png": "[encoded data removed]",
      "text/plain": [
       "<Figure size 1400x800 with 1 Axes>"
      ]
     },
     "metadata": {},
     "output_type": "display_data"
    }
   ],
   "source": [
    "df.plot.bar(\n",
    "    xlabel='Impact category',\n",
    "    ylabel='Impact score',\n",
    "    figsize=(14,8)\n",
    ")"
   ]
  },
  {
   "cell_type": "markdown",
   "metadata": {},
   "source": [
    "We can also normalise our data:"
   ]
  },
  {
   "cell_type": "code",
   "execution_count": 45,
   "metadata": {},
   "outputs": [],
   "source": [
    "df_norm = (df.T / df.abs().max(axis=1)).T"
   ]
  },
  {
   "cell_type": "markdown",
   "metadata": {},
   "source": [
    "...and plot it again:"
   ]
  },
  {
   "cell_type": "code",
   "execution_count": 46,
   "metadata": {},
   "outputs": [
    {
     "data": {
      "text/plain": [
       "<Axes: xlabel='Impact category', ylabel='Impact score'>"
      ]
     },
     "execution_count": 46,
     "metadata": {},
     "output_type": "execute_result"
    },
    {
     "data": {
      "image/png": "[encoded data removed]",
      "text/plain": [
       "<Figure size 1400x800 with 1 Axes>"
      ]
     },
     "metadata": {},
     "output_type": "display_data"
    }
   ],
   "source": [
    "df_norm.plot.bar(\n",
    "    xlabel='Impact category',\n",
    "    ylabel='Impact score',\n",
    "    figsize=(14,8)\n",
    ")"
   ]
  },
  {
   "cell_type": "markdown",
   "metadata": {},
   "source": [
    "As you can see, the y-axis only goes up to 1.0. This is because we normalised the data."
   ]
  }
 ],
 "metadata": {
  "kernelspec": {
   "display_name": "Python 3 (ipykernel)",
   "language": "python",
   "name": "python3"
  },
  "language_info": {
   "codemirror_mode": {
    "name": "ipython",
    "version": 3
   },
   "file_extension": ".py",
   "mimetype": "text/x-python",
   "name": "python",
   "nbconvert_exporter": "python",
   "pygments_lexer": "ipython3",
   "version": "3.11.10"
  }
 },
 "nbformat": 4,
 "nbformat_minor": 4
}
