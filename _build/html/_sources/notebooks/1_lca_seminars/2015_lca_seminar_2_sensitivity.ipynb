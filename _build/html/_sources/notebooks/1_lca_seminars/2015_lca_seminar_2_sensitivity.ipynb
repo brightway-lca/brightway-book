{
 "cells": [
  {
   "cell_type": "markdown",
   "metadata": {
    "collapsed": true
   },
   "source": [
    "# Class 7 - Sensitivity testing\n",
    "\n",
    "In this class, we will integrate a transport model with LCA. More specifically, we will take the output from a Matsim model run, and assess the potential for autonomous electric vehicles to reduce the environmental impact of vehicular traffic.\n",
    "\n",
    "## Bibliography\n",
    "\n",
    "### Summary of global and local sensitivity testing:\n",
    "\n",
    "[Global sensitivity analysis](http://eu.wiley.com/WileyCDA/WileyTitle/productCd-0470059974.html)\n",
    "\n",
    "### Variance-based global tests:\n",
    "\n",
    "[Morris method of elementary effects](https://en.wikipedia.org/wiki/Elementary_effects_method)\n",
    "\n",
    "[Fourier amplitude sensitivity testing](https://en.wikipedia.org/wiki/Fourier_amplitude_sensitivity_testing)\n",
    "\n",
    "[Variance-based sensitivity analysis](https://en.wikipedia.org/wiki/Variance-based_sensitivity_analysis)\n",
    "\n",
    "### Distribution-based global tests:\n",
    "\n",
    "[A simple and efficient method for global sensitivity analysis based on cumulative distribution functions (PAWN)](http://www.sciencedirect.com/science/article/pii/S1364815215000237)\n",
    "\n",
    "[Relative entropy based method for probabilistic sensitivity analysis in\n",
    "engineering design (Entropy)](https://www.researchgate.net/publication/228343915_Relative_Entropy_Based_Method_for_Probabilistic_Sensitivity_Analysis_in_Engineering_Design)\n",
    "\n",
    "[A new uncertainty importance measure (δ-sensitivity)](http://www.sciencedirect.com/science/article/pii/S0951832006000883)\n",
    "\n",
    "### Design of experiments\n",
    "\n",
    "[Design of experiments (Wikipedia)](https://en.wikipedia.org/wiki/Design_of_experiments)\n",
    "\n",
    "[Design of experiments (NIST Engineering statistics handbook)](http://www.itl.nist.gov/div898/handbook/pri/section1/pri11.htm)\n",
    "\n",
    "## Installing [SALib](http://salib.readthedocs.org/en/latest/index.html)\n",
    "\n",
    "1. Open a new terminal window, and activate the `bw2` environment, e.g. by running `C:\\bw2-python\\bw2-env.bat`.\n",
    "\n",
    "2. Run the command `pip install --no-cache-dir SALib`.\n",
    "\n",
    "Before getting started, make sure you have upgrade the Brightway2 packages. You should have at least the following:"
   ]
  },
  {
   "cell_type": "code",
   "execution_count": 2,
   "metadata": {
    "collapsed": false
   },
   "outputs": [
    {
     "name": "stdout",
     "output_type": "stream",
     "text": [
      "Need to install SALib (https://github.com/SALib/SALib). See section above.\n"
     ]
    }
   ],
   "source": [
    "try:\n",
    "    import SALib\n",
    "except ImportError:\n",
    "    print(\"Need to install SALib (https://github.com/SALib/SALib). See section above.\")"
   ]
  },
  {
   "cell_type": "markdown",
   "metadata": {},
   "source": [
    "Now import the necessary libraries:"
   ]
  },
  {
   "cell_type": "code",
   "execution_count": 3,
   "metadata": {
    "collapsed": false
   },
   "outputs": [
    {
     "name": "stderr",
     "output_type": "stream",
     "text": [
      "Warning: bad escape \\s\n"
     ]
    }
   ],
   "source": [
    "from brightway2 import *\n",
    "from bw2data.logs import get_logger\n",
    "import collections\n",
    "import csv\n",
    "import datetime\n",
    "import itertools\n",
    "import json\n",
    "import logging\n",
    "import numpy as np\n",
    "import os\n",
    "import pyprind\n",
    "import random"
   ]
  },
  {
   "cell_type": "markdown",
   "metadata": {},
   "source": [
    "Prepare for graphics"
   ]
  },
  {
   "cell_type": "code",
   "execution_count": 4,
   "metadata": {
    "collapsed": true
   },
   "outputs": [],
   "source": [
    "%matplotlib inline"
   ]
  },
  {
   "cell_type": "code",
   "execution_count": 5,
   "metadata": {
    "collapsed": false
   },
   "outputs": [
    {
     "name": "stderr",
     "output_type": "stream",
     "text": [
      "Warning: inspect.getargspec() is deprecated, use inspect.signature() instead\n",
      "Warning: axes.color_cycle is deprecated and replaced with axes.prop_cycle; please use the latter.\n"
     ]
    }
   ],
   "source": [
    "from matplotlib import pyplot as plt\n",
    "from matplotlib.patches import Rectangle\n",
    "import seaborn as sns\n",
    "\n",
    "sns.set(style=\"white\", palette=\"muted\", color_codes=True)"
   ]
  },
  {
   "cell_type": "markdown",
   "metadata": {},
   "source": [
    "Can reuse project from Class 5"
   ]
  },
  {
   "cell_type": "code",
   "execution_count": 6,
   "metadata": {
    "collapsed": true
   },
   "outputs": [],
   "source": [
    "projects.current = \"Class 5\""
   ]
  },
  {
   "cell_type": "markdown",
   "metadata": {},
   "source": [
    "This class will load and process the input data."
   ]
  },
  {
   "cell_type": "code",
   "execution_count": 7,
   "metadata": {
    "collapsed": false
   },
   "outputs": [],
   "source": [
    "class Data(object):\n",
    "    def __init__(self, debug=False):\n",
    "        assert os.path.exists(os.path.join(os.getcwd(), \"matsim-files\", \"person-distances.csv\"))\n",
    "        self.pd = self.get_person_distances()\n",
    "        self.sd = self.get_station_distances()\n",
    "        self.rt = self.get_routes()\n",
    "        self.locations = self.get_locations()\n",
    "        self.log = get_logger(\"transport-model\", logging.INFO if debug else logging.WARNING)\n",
    "        if debug:\n",
    "            print(\"Writing to log:\\n\", self.log.handlers[0].baseFilename)\n",
    "            self.reduce_variables()\n",
    "    \n",
    "    def reduce_variables(self):\n",
    "        included = {'Riniken', 'Remigen', 'Villigen'}\n",
    "        self.sd = {k: v for k, v in self.sd.items() if k[0] in included and k[1] in included}\n",
    "        self.rt = [rt for rt in self.rt if rt[2] in included and rt[4] in included]\n",
    "    \n",
    "    def get_person_distances(self):\n",
    "        with open(os.path.join(os.getcwd(), \"matsim-files\", \"person-distances.csv\"), 'r') as csvfile:\n",
    "            data = np.array([float(x[0]) for x in csv.reader(csvfile)])\n",
    "        return data\n",
    "    \n",
    "    def get_station_distances(self):\n",
    "        with open(os.path.join(os.getcwd(), \"matsim-files\", \"station-distances.csv\"), 'r') as csvfile:\n",
    "            reader = csv.reader(csvfile)\n",
    "            data = {(x[0], x[1]): float(x[2]) for x in csv.reader(csvfile)}\n",
    "        return data\n",
    "\n",
    "    def get_routes(self):\n",
    "        def translate_time(o):\n",
    "            h, m, s = [float(x) for x in o.split(\":\")]\n",
    "            return round(s / 60 + m + 60 * h)\n",
    "        \n",
    "        with open(os.path.join(os.getcwd(), \"matsim-files\", \"routes.csv\"), 'r') as csvfile:\n",
    "            reader = csv.reader(csvfile)\n",
    "            data = [line for line in reader]\n",
    "        \n",
    "        # Add one minute to end time, as car is still in transit in end minute\n",
    "        return [(translate_time(obj[0]), translate_time(obj[1]) + 1, obj[2], float(obj[3]), obj[4], float(obj[5])) \n",
    "                for obj in data]\n",
    "\n",
    "    def get_locations(self):\n",
    "        return json.load(open(\"matsim-files/locations.json\"))"
   ]
  },
  {
   "cell_type": "code",
   "execution_count": 8,
   "metadata": {
    "collapsed": false
   },
   "outputs": [],
   "source": [
    "data = Data()"
   ]
  },
  {
   "cell_type": "markdown",
   "metadata": {},
   "source": [
    "The basic model structure is the following:\n",
    "\n",
    "We have a set of cars in village centers (`Village`). The total numbers of cars is chosen before the model is run; the proportion of cars in each village comes from the number of trips originating in that village.\n",
    "\n",
    "We have a global timer in our model. Each time the timer clicks forward, for each car (`Car`), one or more of the following happens:\n",
    "\n",
    "* The car is underway; a certain amount of energy is removed from its batteries (this is done all at once)\n",
    "* The car is in a charging station; a certain amount of energy is add to its batteries, if necessary\n",
    "* The car is dispatched to a new route\n",
    "* The car arrives at a charging station\n",
    "\n",
    "We will go through the other classes in class :)"
   ]
  },
  {
   "cell_type": "code",
   "execution_count": 9,
   "metadata": {
    "collapsed": false
   },
   "outputs": [],
   "source": [
    "class Car(object):\n",
    "    # Reduce memory usage - we will create thousands of these\n",
    "    __slots__ = ('id', 'charge', 'capacity', 'consumption', 'charge_rate', 'battery_recovery', 'used')\n",
    "    \n",
    "    def __init__(self, i, capacity, consumption, charge_rate):\n",
    "        self.id = i\n",
    "        self.capacity = capacity or 15 + 30 * random.random() # kWh\n",
    "        self.charge = np.ones((24 * 60)) * self.capacity  # Log of battery charge (kWh) over day\n",
    "        self.battery_recovery = np.zeros(self.charge.shape, dtype=bool)\n",
    "        self.consumption = consumption # kWh / meter\n",
    "        self.charge_rate = charge_rate # kWh / minute\n",
    "        self.used = False\n",
    "        \n",
    "    def assign_route(self, route):\n",
    "        \"\"\"Deplete battery by distance * self.consumption over route time.\"\"\"\n",
    "        self.used = True\n",
    "        energy_use = route.distance * self.consumption\n",
    "        assert route.end - route.start\n",
    "        # Any charging in minute of departure or future is cancelled\n",
    "        if route.start:\n",
    "            self.charge[route.start:] = self.charge[route.start - 1]\n",
    "        self.charge[route.start:route.end] -= np.linspace(0, energy_use, route.end - route.start)\n",
    "        self.charge[route.end:] = self.charge[route.end - 1]\n",
    "\n",
    "    def charge_battery(self, time):\n",
    "        \"\"\"Add `self.charge_rate` to each minute in the future until fully charged.\n",
    "        \n",
    "        Returns whether current battery state is at maximum capacity at `time`.\"\"\"\n",
    "        if not self.used or self.charge[time] == self.capacity:\n",
    "            return True        \n",
    "        \n",
    "        if self.charge[time] > self.capacity:\n",
    "            raise ValueError\n",
    "        \n",
    "        minutes_of_full_charge = min(int((self.capacity - self.charge[time]) // self.charge_rate), 24 * 60 - time)\n",
    "        charging_end = time + minutes_of_full_charge\n",
    "        self.charge[time:charging_end] += np.arange(1, minutes_of_full_charge + 1) * self.charge_rate\n",
    "        if charging_end < 24 * 60:\n",
    "            self.charge[charging_end:] = self.capacity\n",
    "\n",
    "        if self.charge[time] < 0.25 * self.capacity:\n",
    "            time_until_80_percent_full = int((self.capacity * 0.8 - self.charge[time]) / self.charge_rate) + 1\n",
    "            self.battery_recovery[time:time + time_until_80_percent_full] = True\n",
    "\n",
    "        return self.charge[time] == self.capacity\n",
    "            \n",
    "    def __str__(self):\n",
    "        return \"{} car {}\".format(\"Used\" if self.used else \"Unused\", self.id)"
   ]
  },
  {
   "cell_type": "code",
   "execution_count": 10,
   "metadata": {
    "collapsed": true
   },
   "outputs": [],
   "source": [
    "Event = collections.namedtuple(\"Event\", ['event', 'kind', 'car', 'location'])\n",
    "\n",
    "class EventLog(object):\n",
    "    def __init__(self):\n",
    "        self.log = [[] for x in range(24 * 60)]\n",
    "        \n",
    "    def add_route(self, car, route, rebalance=False):\n",
    "        self.log[route.start].append(Event(\n",
    "                event='leave', \n",
    "                kind='rebalance' if rebalance else 'route', \n",
    "                car=car.id, \n",
    "                location=route.from_\n",
    "            )) \n",
    "        data.log.info(\"Adding event: leave, time: {}, car: {}, from: {}\".format(route.start, car.id, route.from_))\n",
    "        self.log[route.end].append(Event(\n",
    "                event='arrive', \n",
    "                kind='rebalance' if rebalance else 'route', \n",
    "                car=car.id, \n",
    "                location=route.to\n",
    "            )) \n",
    "        data.log.info(\"Adding event: arrive, time: {}, car: {}, from: {}\".format(route.end, car.id, route.to))\n",
    "\n",
    "    def arriving(self, time):\n",
    "        return (x for x in self.log[time] if x.event == 'arrive')\n",
    "\n",
    "    def __str__(self):\n",
    "        return \"Event log with {} entries\".format(len(self.log))"
   ]
  },
  {
   "cell_type": "code",
   "execution_count": 11,
   "metadata": {
    "collapsed": false
   },
   "outputs": [],
   "source": [
    "class Unavailable(Exception):\n",
    "    pass\n",
    "\n",
    "\n",
    "class Village(object):\n",
    "    def __init__(self, name, cars, distances):\n",
    "        self.name = name\n",
    "        self.cars = cars\n",
    "        self.neighbors = self.get_neighbors(distances)\n",
    "        self.log = np.zeros((24 * 60))\n",
    "                    \n",
    "    def arrival(self, car, time):\n",
    "        self.cars.append(car)\n",
    "        car.charge_battery(time)\n",
    "        \n",
    "    def departure(self, car):\n",
    "        del self.cars[self.cars.index(car)]\n",
    "        \n",
    "    def available(self, route, extra_distance):\n",
    "        try:\n",
    "            return sorted(\n",
    "                [car \n",
    "                 for car in self.cars \n",
    "                 if car.charge[route.start] > (route.distance + extra_distance) * car.consumption\n",
    "                 and not car.battery_recovery[route.start]], \n",
    "                key=lambda x: (x.charge[route.start], x.id),\n",
    "            )[0]\n",
    "        except IndexError:\n",
    "            raise Unavailable\n",
    "        \n",
    "    def get_neighbors(self, distances):\n",
    "        return sorted([(k[1], v) \n",
    "                       for k, v in data.sd.items() \n",
    "                       if k[0] == self.name \n",
    "                       and k[1] != self.name], \n",
    "                      key=lambda x: x[1])\n",
    "\n",
    "    def write_car_log(self, time):\n",
    "        self.log[time] = len(self.cars)\n",
    "    \n",
    "    def __str__(self):\n",
    "        return \"Village: {}\".format(self.name)"
   ]
  },
  {
   "cell_type": "code",
   "execution_count": 12,
   "metadata": {
    "collapsed": false
   },
   "outputs": [],
   "source": [
    "\"\"\"Route runs from route.start to route.end - 1; car is only available the minute *after* the route is finished.\"\"\"\n",
    "Route = collections.namedtuple('Route', ['start', 'end', 'from_', 'to', 'distance'])\n",
    "\n",
    "class AEVModel(object):\n",
    "    def __init__(self, aev_efficiency_factor=0.15, charge_rate=1/4, \n",
    "                 battery_capacity=31.2, num_cars=1e4, avg_speed=500,\n",
    "                 consumption=0.0002):\n",
    "        self.aev_efficiency_factor = aev_efficiency_factor\n",
    "        self.charge_rate = charge_rate            # kWh/minute, from http://www.pluginamerica.org/drivers-seat/understanding-electric-vehicle-charging\n",
    "        self.battery_capacity = battery_capacity  # kWh - ecoinvent 2.2 default, 312 kg, 100 Wh/kg\n",
    "        self.num_cars = num_cars                  # Total number of cars to simluate\n",
    "        self.avg_speed = avg_speed                # meters/minute - 30 km/h\n",
    "        self.consumption = consumption            # kWh / meter - ecoinvent 2.2 default, 0.2 kWh/km\n",
    "        self.total_distance = 0\n",
    "        self.from_neighbors = 0\n",
    "        \n",
    "        self.event_log = EventLog()\n",
    "        self.routes = self.setup_routes(avg_speed)\n",
    "        self.villages, self.cars = self.setup_transport_system(num_cars)\n",
    "\n",
    "    def setup_routes(self, avg_speed):\n",
    "        \"\"\"Create data structure of (start, end, from_, to, distance) named tuples for routes.\n",
    "        \n",
    "        Uses `avg_speed` to translate distances to and from village centres into time.\"\"\"\n",
    "        for obj in data.rt:\n",
    "            assert round(obj[1]) > round(obj[0])\n",
    "        return [Route(\n",
    "                    start=round(obj[0] - obj[3] / avg_speed),\n",
    "                    end=round(obj[1] + obj[5] / avg_speed),\n",
    "                    from_=obj[2], \n",
    "                    to=obj[4], \n",
    "                    distance=data.sd[(obj[2], obj[4])] + obj[3] + obj[5]) \n",
    "                for obj in data.rt \n",
    "                # Must finish before day is over\n",
    "                if round(obj[1] + obj[5] / avg_speed) <= 24 * 60 - 1]\n",
    "        \n",
    "    def setup_transport_system(self, num_cars):\n",
    "        car_count = itertools.count()\n",
    "        count = {obj[0]: 0 for obj in data.sd}            \n",
    "        for route in self.routes:\n",
    "            count[route.from_] += 1\n",
    "            count[route.to] -= 0.5  # Penalize for incoming cars\n",
    "\n",
    "        # print(np.histogram(list(count.values())))\n",
    "\n",
    "        # At least a weight of 50 in each origin\n",
    "        for key, value in count.items():\n",
    "            if value < 150:\n",
    "                count[key] = 150\n",
    "            elif value > 500:\n",
    "                count[key] = 500 # 500 + 0.5 * (value - 500)\n",
    "        \n",
    "        total_trips = sum(count.values())\n",
    "        \n",
    "        villages = {}\n",
    "        for name in {obj[0] for obj in data.sd}:\n",
    "            num_cars = round(count[name] / total_trips * self.num_cars)\n",
    "            villages[name] = Village(\n",
    "                name, \n",
    "                [Car(next(car_count), self.battery_capacity, self.consumption, self.charge_rate) for x in range(num_cars)],\n",
    "                data.sd\n",
    "            )\n",
    "        \n",
    "        return villages, {car.id: car for k, v in villages.items() for car in v.cars}\n",
    "    \n",
    "    def rebalance_villages(self, time):\n",
    "        # TODO\n",
    "        return\n",
    "\n",
    "    def dispatch_car(self, route):\n",
    "        village = self.villages[route.from_]\n",
    "        car = None\n",
    "        try:\n",
    "            car = village.available(route, 0)\n",
    "            if route.end - route.start:\n",
    "                village.departure(car)\n",
    "            self.event_log.add_route(car, route)\n",
    "            car.assign_route(route)\n",
    "            self.total_distance += route.distance\n",
    "            return\n",
    "        except Unavailable:\n",
    "            pass\n",
    "        for neighbor, extra_distance in village.neighbors:\n",
    "            try:\n",
    "                nv = self.villages[neighbor]\n",
    "                delay = round(extra_distance / self.avg_speed)\n",
    "                total_distance = route.distance + extra_distance\n",
    "                car = nv.available(route, total_distance)\n",
    "                if route.end + delay >= 24 * 60:\n",
    "                    # Route can't be finished due to delays, so is dropped\n",
    "                    return\n",
    "                route = Route(route.start, route.end + delay, neighbor, route.to, total_distance)\n",
    "                if route.end - route.start:\n",
    "                    nv.departure(car)\n",
    "                car.assign_route(route)\n",
    "                self.event_log.add_route(car, route)\n",
    "                self.from_neighbors += 1\n",
    "                self.total_distance += total_distance\n",
    "                return\n",
    "            except Unavailable:\n",
    "                pass\n",
    "        raise Unavailable\n",
    "    \n",
    "    def iterate(self, time):\n",
    "        \"\"\"The fundamental model algorithm.\"\"\"\n",
    "        for event in self.event_log.arriving(time):\n",
    "            self.villages[event.location].arrival(self.cars[event.car], time)\n",
    "        for rt in (route for route in self.routes if route.start == time):\n",
    "            self.dispatch_car(rt)\n",
    "        # self.rebalance_villages(time)\n",
    "        # for v, k in self.villages.items():\n",
    "        #    k.charge_cars(time)        \n",
    "        for village in self.villages.values():\n",
    "            village.write_car_log(time)        \n",
    "    \n",
    "    def execute(self):\n",
    "        for x in pyprind.prog_bar(range(24*60)):\n",
    "            self.iterate(x)\n",
    "        self.wraparound()\n",
    "\n",
    "    def wraparound(self):\n",
    "        \"\"\"Charge the batteries of the cars which aren't full by starting again from time 0\"\"\"\n",
    "        for car in self.cars.values():\n",
    "            if car.charge[-1] == car.capacity:\n",
    "                continue\n",
    "            minutes_needed = int((car.capacity - car.charge[-1]) / car.charge_rate) + 1\n",
    "            if car.charge[minutes_needed] == car.capacity:\n",
    "                # Can charge before first use\n",
    "                car.charge[:minutes_needed] = car.charge[-1] + np.arange(1, minutes_needed + 1) * car.charge_rate \n",
    "            else:\n",
    "                first_use = np.where(car.charge < car.capacity)[0][0]\n",
    "                car.charge[:first_use] = car.charge[-1] + np.arange(1, first_use + 1) * car.charge_rate \n",
    "        \n",
    "    # Interpretation\n",
    "    ################\n",
    "    \n",
    "    def car_array(self, only_active=False):\n",
    "        if only_active:\n",
    "            return np.hstack([car.charge.reshape((-1, 1)) \n",
    "                              for car in self.cars.values()\n",
    "                              if car.used]) \n",
    "        else:\n",
    "            return np.hstack([car.charge.reshape((-1, 1)) for car in self.cars.values()]) \n",
    "    \n",
    "    def statistics(self):\n",
    "        arr = self.car_array(True)\n",
    "        total_cars = len(self.cars)\n",
    "        used = sum(1 for car in self.cars.values() if car.used)\n",
    "        energy_use = np.diff(arr, axis=0)\n",
    "        return {\n",
    "            'cars': total_cars,\n",
    "            'cars used': used,\n",
    "            'energy used': energy_use[energy_use < 0].sum(),\n",
    "            'energy charged': energy_use[energy_use > 0].sum()\n",
    "        }\n",
    "\n",
    "    def consumption_array(self):\n",
    "        arr = base_model.car_array(1)\n",
    "        energy_use = np.diff(arr, axis=0)\n",
    "        mask = energy_use < 0\n",
    "        energy_use[~mask] = 0\n",
    "        result = np.zeros(arr.shape[0])\n",
    "        result[1:] = energy_use.sum(axis=1)\n",
    "        return result\n",
    "        \n",
    "    def charging_array(self):\n",
    "        arr = base_model.car_array(1)\n",
    "        energy_use = np.diff(arr, axis=0)\n",
    "        mask = energy_use > 0\n",
    "        energy_use[~mask] = 0\n",
    "        result = np.zeros(arr.shape[0])\n",
    "        result[1:] = energy_use.sum(axis=1)\n",
    "        return result\n",
    "    \n",
    "    def plot_sample_cars(self):\n",
    "        plt.figure(figsize=(10, 8))\n",
    "\n",
    "        count = 0\n",
    "\n",
    "        xs = np.arange(24*60)\n",
    "        for k, car in self.cars.items():\n",
    "            if not car.used:\n",
    "                continue\n",
    "            else:\n",
    "                plt.plot(xs, car.charge, alpha=0.2)\n",
    "                count += 1\n",
    "            if count > 50:\n",
    "                break\n",
    "\n",
    "        plt.xlabel(\"Time (minutes)\")\n",
    "        plt.xlabel(\"Time (hours)\")\n",
    "        plt.xticks([120 * x for x in range(13)], range(0, 25, 2))\n",
    "        plt.xlim(0, 24*60)\n",
    "        plt.ylabel(\"Battery storage (kWh)\")        \n",
    "    \n",
    "    def plot_battery_charge(self, only_active=True):\n",
    "        plt.figure(figsize=(10, 4))\n",
    "\n",
    "        count = 0\n",
    "\n",
    "        xs = np.arange(24*60)\n",
    "        ys = self.consumption_array()\n",
    "\n",
    "        plt.plot(xs, ys)\n",
    "\n",
    "        plt.xlabel(\"Time (hours)\")\n",
    "        plt.xticks([120 * x for x in range(13)], range(0, 25, 2))\n",
    "        plt.xlim(0, 24*60)\n",
    "        plt.ylim(0, plt.ylim()[1] * 1.1)\n",
    "        plt.ylabel(\"Total battery charge (kWh)\")  \n",
    "        \n",
    "    def plot_charging(self):\n",
    "        plt.figure(figsize=(10, 4))\n",
    "\n",
    "        count = 0\n",
    "\n",
    "        xs = np.arange(24*60)\n",
    "        ys = self.charging_array()\n",
    "\n",
    "        plt.plot(xs, ys)\n",
    "\n",
    "        plt.xlabel(\"Time (hours)\")\n",
    "        plt.xticks([120 * x for x in range(13)], range(0, 25, 2))\n",
    "        plt.xlim(0, 24*60)\n",
    "        plt.ylim(0, plt.ylim()[1] * 1.1)\n",
    "        plt.ylabel(\"Total charging energy use (kWh)\")  \n",
    "        \n",
    "    def plot_villages(self):\n",
    "        directory_path = os.path.join(os.getcwd(), \"villages\")\n",
    "\n",
    "        if not os.path.isdir(directory_path):\n",
    "            os.mkdir(directory_path)\n",
    "\n",
    "        sns.set_style(\"white\")\n",
    "        rect_color = sns.color_palette()[1]\n",
    "\n",
    "        for i in pyprind.prog_bar(range(0, 24 * 60, 1)):\n",
    "            plt.clf()\n",
    "\n",
    "            xs, ys, sizes = [], [], []\n",
    "\n",
    "            for k, v in base_model.villages.items():\n",
    "                x, y = data.locations[k]\n",
    "                xs.append(x)\n",
    "                ys.append(y)\n",
    "                sizes.append(v.log[i])\n",
    "\n",
    "            plt.scatter(xs, ys, s=sizes, alpha=0.5, edgecolors=\"face\")\n",
    "\n",
    "            xlim = plt.xlim()\n",
    "\n",
    "            ylim = plt.ylim()\n",
    "            plt.ylim(ylim[0] - 0.1, ylim[1])\n",
    "\n",
    "            ylim = plt.ylim()\n",
    "\n",
    "            bottom = ylim[0] + 0.1 * (ylim[1] - ylim[0])\n",
    "            height = 0.05 * (ylim[1] - ylim[0])\n",
    "\n",
    "            left = xlim[0] + 0.1 * (xlim[1] - xlim[0])\n",
    "            width = 0.8 * (xlim[1] - xlim[0]) * (i / 1440)\n",
    "\n",
    "            ca = plt.gca()\n",
    "            ca.add_patch(Rectangle((left, bottom), width, height, facecolor=rect_color, edgecolor=\"none\", visible=True, alpha=0.5))\n",
    "            plt.text(left + width, bottom + height + 0.02, \"{:02d}:{:02d}\".format(i // 60, i % 60), ha='center', va='center', fontsize=14)\n",
    "\n",
    "            plt.xticks([])\n",
    "            plt.yticks([])\n",
    "            sns.despine(left=True, bottom=True, trim=True)\n",
    "            \n",
    "            plt.tight_layout()\n",
    "            plt.savefig(os.path.join(directory_path, \"car_map_{0:04d}.png\".format(i)), dpi=300)\n",
    "            \n",
    "        sns.set_style(\"darkgrid\")\n",
    "        \n",
    "    def save_calliope_charge_array(self):\n",
    "        arr = self.charging_array()\n",
    "        np.savetxt(\"charge.csv\", [arr[i * 15:(i * 15) + 1].sum() for i in range(24 * 4)])"
   ]
  },
  {
   "cell_type": "markdown",
   "metadata": {},
   "source": [
    "# Set up our problem and objective function\n",
    "\n",
    "We will try to minize the climate change LCA score in this class."
   ]
  },
  {
   "cell_type": "code",
   "execution_count": 13,
   "metadata": {
    "collapsed": false
   },
   "outputs": [
    {
     "name": "stdout",
     "output_type": "stream",
     "text": [
      "'transport, passenger car, electric, LiMn2O4' (person kilometer, CH, ['transport systems', 'road'])\n",
      "'electricity, low voltage, consumer mix, at grid' (kilowatt hour, CH, ['electricity', 'supply mix'])\n",
      "'electricity, natural gas, at combined cycle plant, best technology' (kilowatt hour, RER, ['natural gas', 'power plants'])\n"
     ]
    }
   ],
   "source": [
    "db = Database(\"ecoinvent 2.2\")\n",
    "electric_car = db.search(\"transport electric car\")[0]\n",
    "print(electric_car)\n",
    "\n",
    "subtracted_electricity = list(db.search(\"operation passenger electric car\")[0].technosphere())[0].input\n",
    "print(subtracted_electricity)\n",
    "\n",
    "electricity = db.search(\"electricity, natural gas, at combined cycle plant, best technology\")[0]\n",
    "print(electricity)\n",
    "\n",
    "gwp =  ('IPCC 2013', 'climate change', 'GWP 100a')\n",
    "\n",
    "lca = LCA({electric_car: 1}, gwp)\n",
    "lca.lci()\n",
    "lca.lcia()\n",
    "electric_car_impact = lca.score / 1000 # Convert km to m\n",
    "\n",
    "lca = LCA({subtracted_electricity: 1}, gwp)\n",
    "lca.lci()\n",
    "lca.lcia()\n",
    "subtracted_electricity_impact = lca.score\n",
    "\n",
    "lca = LCA({electricity: 1}, gwp)\n",
    "lca.lci()\n",
    "lca.lcia()\n",
    "electricity_impact = lca.score\n",
    "\n",
    "def get_impact(distance, consumption):\n",
    "    return (distance * electric_car_impact + \n",
    "            (electricity_impact - subtracted_electricity_impact) * distance * consumption)"
   ]
  },
  {
   "cell_type": "code",
   "execution_count": 46,
   "metadata": {
    "collapsed": true
   },
   "outputs": [],
   "source": [
    "initial_values = np.array((1/4, 31.2 * 1.5, 0.0002))\n",
    "\n",
    "problem = {\n",
    "    'num_vars': 3,\n",
    "    'names': ['charge rate', 'battery capacity', 'energy consumption'],\n",
    "    'groups': None,\n",
    "    'bounds': [[1/4 - 1/8, 1/4 + 1/8],\n",
    "               [31.2, 31.2 * 2],\n",
    "               [0.0001, 0.0003]]\n",
    "}"
   ]
  },
  {
   "cell_type": "code",
   "execution_count": 15,
   "metadata": {
    "collapsed": true
   },
   "outputs": [],
   "source": [
    "def objective_function(input_parameters):\n",
    "    charge_rate, battery_capacity, consumption = input_parameters\n",
    "    model = AEVModel(\n",
    "        num_cars = len(data.rt) / 10, \n",
    "        charge_rate=charge_rate, \n",
    "        battery_capacity=battery_capacity,\n",
    "        consumption=consumption\n",
    "    )\n",
    "    model.execute()\n",
    "    return get_impact(model.total_distance, consumption)"
   ]
  },
  {
   "cell_type": "code",
   "execution_count": 16,
   "metadata": {
    "collapsed": false
   },
   "outputs": [
    {
     "name": "stderr",
     "output_type": "stream",
     "text": [
      "0%                          100%\n",
      "[##############################] | ETA[sec]: 0.000 \n",
      "Total time elapsed: 33.218 sec\n"
     ]
    },
    {
     "data": {
      "text/plain": [
       "75836.475897054712"
      ]
     },
     "execution_count": 16,
     "metadata": {},
     "output_type": "execute_result"
    }
   ],
   "source": [
    "objective_function(initial_values)"
   ]
  },
  {
   "cell_type": "markdown",
   "metadata": {},
   "source": [
    "# Local sensitivity testing\n",
    "\n",
    "Vary each parameter independently."
   ]
  },
  {
   "cell_type": "code",
   "execution_count": 16,
   "metadata": {
    "collapsed": false
   },
   "outputs": [
    {
     "name": "stderr",
     "output_type": "stream",
     "text": [
      "0%                          100%\n",
      "[##############################] | ETA[sec]: 0.000 \n",
      "Total time elapsed: 22.062 sec\n"
     ]
    },
    {
     "data": {
      "text/plain": [
       "75843.84091030205"
      ]
     },
     "execution_count": 16,
     "metadata": {},
     "output_type": "execute_result"
    }
   ],
   "source": [
    "objective_function((1/4 * 0.9, 31.2, 0.0002))"
   ]
  },
  {
   "cell_type": "code",
   "execution_count": 17,
   "metadata": {
    "collapsed": false
   },
   "outputs": [
    {
     "name": "stderr",
     "output_type": "stream",
     "text": [
      "0%                          100%\n",
      "[##############################] | ETA[sec]: 0.000 \n",
      "Total time elapsed: 22.789 sec\n"
     ]
    },
    {
     "data": {
      "text/plain": [
       "75842.58283648797"
      ]
     },
     "execution_count": 17,
     "metadata": {},
     "output_type": "execute_result"
    }
   ],
   "source": [
    "objective_function((1/4, 31.2 * 0.9, 0.0002))"
   ]
  },
  {
   "cell_type": "code",
   "execution_count": 18,
   "metadata": {
    "collapsed": false
   },
   "outputs": [
    {
     "name": "stderr",
     "output_type": "stream",
     "text": [
      "0%                          100%\n",
      "[##############################] | ETA[sec]: 0.000 \n",
      "Total time elapsed: 22.698 sec\n"
     ]
    },
    {
     "data": {
      "text/plain": [
       "71875.88078335376"
      ]
     },
     "execution_count": 18,
     "metadata": {},
     "output_type": "execute_result"
    }
   ],
   "source": [
    "objective_function((1/4, 31.2, 0.0002 * 0.9))"
   ]
  },
  {
   "cell_type": "markdown",
   "metadata": {},
   "source": [
    "# Global sensitivity testing\n",
    "\n",
    "## Sampling"
   ]
  },
  {
   "cell_type": "code",
   "execution_count": 52,
   "metadata": {
    "collapsed": false
   },
   "outputs": [],
   "source": [
    "from SALib.sample import saltelli as saltelli_sample\n",
    "from SALib.sample import morris as morris_sample\n",
    "from SALib.analyze import morris as morris_analyze\n",
    "from SALib.sample import fast_sampler\n",
    "from SALib.sample import latin as latin_sampler\n",
    "from SALib.sample import sobol_sequence\n",
    "from SALib.analyze import sobol as sobol_analyze"
   ]
  },
  {
   "cell_type": "code",
   "execution_count": 45,
   "metadata": {
    "collapsed": true
   },
   "outputs": [],
   "source": [
    "example_problem = {\n",
    "    'num_vars': 2,\n",
    "    'names': ['x1', 'x2'],\n",
    "    'bounds': [[0, 10],\n",
    "               [0, 10]]\n",
    "}"
   ]
  },
  {
   "cell_type": "code",
   "execution_count": 20,
   "metadata": {
    "collapsed": true
   },
   "outputs": [],
   "source": [
    "def plot_sample(xs, ys):\n",
    "    plt.figure(figsize=(8,8))\n",
    "    plt.scatter(xs[:100], ys[:100])\n",
    "    plt.xticks([])\n",
    "    plt.yticks([])\n",
    "    plt.axis(\"off\")"
   ]
  },
  {
   "cell_type": "code",
   "execution_count": 46,
   "metadata": {
    "collapsed": false
   },
   "outputs": [
    {
     "data": {
      "image/png": "[encoded data removed]",
      "text/plain": [
       "<matplotlib.figure.Figure at 0x10d312f28>"
      ]
     },
     "metadata": {},
     "output_type": "display_data"
    }
   ],
   "source": [
    "plot_sample(np.random.uniform(0, 10, size=1000), np.random.uniform(0, 10, size=1000))"
   ]
  },
  {
   "cell_type": "code",
   "execution_count": 47,
   "metadata": {
    "collapsed": false
   },
   "outputs": [
    {
     "data": {
      "image/png": "[encoded data removed]",
      "text/plain": [
       "<matplotlib.figure.Figure at 0x10e1755c0>"
      ]
     },
     "metadata": {},
     "output_type": "display_data"
    }
   ],
   "source": [
    "param_values = saltelli_sample.sample(example_problem, 1000)\n",
    "plot_sample(param_values[:, 0], param_values[:, 1])"
   ]
  },
  {
   "cell_type": "code",
   "execution_count": 48,
   "metadata": {
    "collapsed": false
   },
   "outputs": [
    {
     "data": {
      "image/png": "[encoded data removed]",
      "text/plain": [
       "<matplotlib.figure.Figure at 0x10df45c50>"
      ]
     },
     "metadata": {},
     "output_type": "display_data"
    }
   ],
   "source": [
    "param_values = fast_sampler.sample(example_problem, 1000)\n",
    "plot_sample(param_values[:, 0], param_values[:, 1])"
   ]
  },
  {
   "cell_type": "code",
   "execution_count": 28,
   "metadata": {
    "collapsed": false
   },
   "outputs": [
    {
     "data": {
      "image/png": "[encoded data removed]",
      "text/plain": [
       "<matplotlib.figure.Figure at 0x11b71eef0>"
      ]
     },
     "metadata": {},
     "output_type": "display_data"
    }
   ],
   "source": [
    "param_values = morris_sample.sample(example_problem, 60, 6, 1/6)\n",
    "plot_sample(param_values[:, 0], param_values[:, 1])"
   ]
  },
  {
   "cell_type": "code",
   "execution_count": 51,
   "metadata": {
    "collapsed": false
   },
   "outputs": [
    {
     "data": {
      "image/png": "[encoded data removed]",
      "text/plain": [
       "<matplotlib.figure.Figure at 0x10d8605f8>"
      ]
     },
     "metadata": {},
     "output_type": "display_data"
    }
   ],
   "source": [
    "def hammersley(n):\n",
    "    \"\"\"Yields n Hammersley points on the unit square in the xy plane.\n",
    "\n",
    "    From http://www.math.uiuc.edu/~gfrancis/illimath/windows/aszgard_mini/pylibs/cgkit/hammersley.py\n",
    "    \n",
    "    This function yields a sequence of n tuples (x,y) which\n",
    "    represent a point on the unit square. The sequence of points for\n",
    "    a particular n is always the same.  When n changes an entirely new\n",
    "    sequence will be generated.\n",
    "    \n",
    "    This function uses a base of 2.\n",
    "    \"\"\"\n",
    "    for k in range(n):\n",
    "        u = 0\n",
    "        p=0.5\n",
    "        kk = k\n",
    "        while kk>0:\n",
    "            if kk & 1:\n",
    "                u += p\n",
    "            p *= 0.5\n",
    "            kk >>= 1\n",
    "        v = (k+0.5)/n\n",
    "        yield (u, v)\n",
    "        \n",
    "hammersley_iterator = hammersley(1000)\n",
    "hammersley_values = np.array([next(hammersley_iterator) for _ in range(1000)])\n",
    "plot_sample(hammersley_values[:, 0], hammersley_values[:, 1])"
   ]
  },
  {
   "cell_type": "markdown",
   "metadata": {},
   "source": [
    "# Analysis\n",
    "\n",
    "## Morris method of elementary effects"
   ]
  },
  {
   "cell_type": "code",
   "execution_count": 43,
   "metadata": {
    "collapsed": false
   },
   "outputs": [
    {
     "name": "stderr",
     "output_type": "stream",
     "text": [
      "0%                          100%\n",
      "[##############################] | ETA[sec]: 0.000 \n",
      "Total time elapsed: 34.777 sec\n",
      "0%                          100%\n",
      "[##############################] | ETA[sec]: 0.000 \n",
      "Total time elapsed: 32.029 sec\n",
      "0%                          100%\n",
      "[##############################] | ETA[sec]: 0.000 \n",
      "Total time elapsed: 31.934 sec\n",
      "0%                          100%\n",
      "[##############################] | ETA[sec]: 0.000 \n",
      "Total time elapsed: 32.332 sec\n",
      "0%                          100%\n",
      "[##############################] | ETA[sec]: 0.000 \n",
      "Total time elapsed: 31.925 sec\n",
      "0%                          100%\n",
      "[##############################] | ETA[sec]: 0.000 \n",
      "Total time elapsed: 31.622 sec\n",
      "0%                          100%\n",
      "[##############################] | ETA[sec]: 0.000 \n",
      "Total time elapsed: 32.017 sec\n",
      "0%                          100%\n",
      "[##############################] | ETA[sec]: 0.000 \n",
      "Total time elapsed: 32.056 sec\n"
     ]
    }
   ],
   "source": [
    "morris_values = morris_sample.sample(problem, 2, num_levels=4, grid_jump=2)\n",
    "morris_results = np.zeros(morris_values.shape[0])\n",
    "\n",
    "for row in range(morris_values.shape[0]):\n",
    "    morris_results[row] = objective_function(morris_values[row, :])"
   ]
  },
  {
   "cell_type": "code",
   "execution_count": 47,
   "metadata": {
    "collapsed": false
   },
   "outputs": [
    {
     "name": "stdout",
     "output_type": "stream",
     "text": [
      "Parameter Mu Sigma Mu_Star Mu_Star_Conf\n",
      "charge rate -75.099992 65.351399 75.099992 63.364872\n",
      "battery capacity -5.015735 4.372564 5.015735 4.152109\n",
      "energy consumption 39623.433616 76.984437 39623.433616 75.231915\n"
     ]
    },
    {
     "data": {
      "text/plain": [
       "{'mu': array([ -7.50999920e+01,  -5.01573538e+00,   3.96234336e+04]),\n",
       " 'mu_star': array([  7.50999920e+01,   5.01573538e+00,   3.96234336e+04]),\n",
       " 'mu_star_conf': [63.364872166356314, 4.152109196125445, 75.231915167509598],\n",
       " 'names': ['charge rate', 'battery capacity', 'energy consumption'],\n",
       " 'sigma': array([ 65.35139858,   4.37256388,  76.98443734])}"
      ]
     },
     "execution_count": 47,
     "metadata": {},
     "output_type": "execute_result"
    }
   ],
   "source": [
    "morris_analyze.analyze(\n",
    "    problem, \n",
    "    morris_values, \n",
    "    morris_results,\n",
    "    print_to_console=True,\n",
    "    grid_jump=2,\n",
    "    num_levels=4\n",
    ")"
   ]
  },
  {
   "cell_type": "markdown",
   "metadata": {},
   "source": [
    "## Sobol sequence"
   ]
  },
  {
   "cell_type": "code",
   "execution_count": 50,
   "metadata": {
    "collapsed": false
   },
   "outputs": [
    {
     "name": "stderr",
     "output_type": "stream",
     "text": [
      "0%                          100%\n",
      "[##############################] | ETA[sec]: 0.000 \n",
      "Total time elapsed: 35.337 sec\n",
      "0%                          100%\n",
      "[##############################] | ETA[sec]: 0.000 \n",
      "Total time elapsed: 32.676 sec\n",
      "0%                          100%\n",
      "[##############################] | ETA[sec]: 0.000 \n",
      "Total time elapsed: 33.141 sec\n",
      "0%                          100%\n",
      "[##############################] | ETA[sec]: 0.000 \n",
      "Total time elapsed: 32.795 sec\n",
      "0%                          100%\n",
      "[##############################] | ETA[sec]: 0.000 \n",
      "Total time elapsed: 32.070 sec\n",
      "0%                          100%\n",
      "[##############################] | ETA[sec]: 0.000 \n",
      "Total time elapsed: 31.851 sec\n",
      "0%                          100%\n",
      "[##############################] | ETA[sec]: 0.000 \n",
      "Total time elapsed: 32.772 sec\n",
      "0%                          100%\n",
      "[##############################] | ETA[sec]: 0.000 \n",
      "Total time elapsed: 35.251 sec\n"
     ]
    }
   ],
   "source": [
    "sobol_values = saltelli_sample.sample(problem, 1)\n",
    "sobol_results = np.zeros(sobol_values.shape[0])\n",
    "\n",
    "for row in range(sobol_values.shape[0]):\n",
    "    sobol_results[row] = objective_function(sobol_values[row, :])"
   ]
  },
  {
   "cell_type": "code",
   "execution_count": 53,
   "metadata": {
    "collapsed": false
   },
   "outputs": [
    {
     "name": "stdout",
     "output_type": "stream",
     "text": [
      "Parameter S1 S1_conf ST ST_conf\n",
      "charge rate -0.030786 0.000000 0.000003 0.000000\n",
      "battery capacity -0.007104 0.000000 0.000000 0.000000\n",
      "energy consumption 24.036327 0.000000 2.016670 0.000000\n",
      "\n",
      "Parameter_1 Parameter_2 S2 S2_conf\n",
      "charge rate battery capacity 0.105155 0.000000\n",
      "charge rate energy consumption 0.120143 0.000000\n",
      "battery capacity energy consumption 0.018379 0.000000\n"
     ]
    },
    {
     "data": {
      "text/plain": [
       "{'S1': array([ -3.07863712e-02,  -7.10410046e-03,   2.40363272e+01]),\n",
       " 'S1_conf': array([  2.05027445e-17,   0.00000000e+00,   6.99827013e-15]),\n",
       " 'S2': array([[        nan,  0.10515483,  0.12014306],\n",
       "        [        nan,         nan,  0.01837918],\n",
       "        [        nan,         nan,         nan]]),\n",
       " 'S2_conf': array([[             nan,   8.20109781e-17,   0.00000000e+00],\n",
       "        [             nan,              nan,   0.00000000e+00],\n",
       "        [             nan,              nan,              nan]]),\n",
       " 'ST': array([  3.30838132e-06,   1.76163831e-07,   2.01666968e+00]),\n",
       " 'ST_conf': array([  8.34258810e-22,   0.00000000e+00,   1.74956753e-15])}"
      ]
     },
     "execution_count": 53,
     "metadata": {},
     "output_type": "execute_result"
    }
   ],
   "source": [
    "sobol_analyze.analyze(\n",
    "    problem, \n",
    "    sobol_results,\n",
    "    print_to_console=True,\n",
    ")"
   ]
  },
  {
   "cell_type": "code",
   "execution_count": null,
   "metadata": {
    "collapsed": true
   },
   "outputs": [],
   "source": []
  }
 ],
 "metadata": {
  "kernelspec": {
   "display_name": "Python 3",
   "language": "python",
   "name": "python3"
  },
  "language_info": {
   "codemirror_mode": {
    "name": "ipython",
    "version": 3
   },
   "file_extension": ".py",
   "mimetype": "text/x-python",
   "name": "python",
   "nbconvert_exporter": "python",
   "pygments_lexer": "ipython3",
   "version": "3.5.1"
  }
 },
 "nbformat": 4,
 "nbformat_minor": 0
}
