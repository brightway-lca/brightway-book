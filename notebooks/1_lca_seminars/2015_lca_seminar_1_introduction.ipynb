{
 "cells": [
  {
   "cell_type": "markdown",
   "metadata": {},
   "source": [
    "# Class 1: Introduction and setting up a simple LCA calculation\n",
    "\n",
    "Note: this notebook is based on [Brightway2 tutorial 4 - meta-analysis](http://nbviewer.ipython.org/urls/bitbucket.org/cmutel/brightway2/raw/default/notebooks/Tutorial%204%20-%20Meta-analysis.ipynb).\n",
    "\n",
    "# Setup\n",
    "\n",
    "Import the necessary libraries"
   ]
  },
  {
   "cell_type": "code",
   "execution_count": 1,
   "metadata": {
    "collapsed": true
   },
   "outputs": [],
   "source": [
    "from brightway2 import *\n",
    "import numpy as np\n",
    "import pyprind\n",
    "from scipy import stats\n",
    "import random"
   ]
  },
  {
   "cell_type": "markdown",
   "metadata": {},
   "source": [
    "Set a new project for this class session"
   ]
  },
  {
   "cell_type": "code",
   "execution_count": 2,
   "metadata": {
    "collapsed": true
   },
   "outputs": [],
   "source": [
    "projects.current = \"Class 1\""
   ]
  },
  {
   "cell_type": "markdown",
   "metadata": {},
   "source": [
    "Import the basic biosphere and LCIA methods (requires internet connection)"
   ]
  },
  {
   "cell_type": "code",
   "execution_count": 3,
   "metadata": {
    "collapsed": false
   },
   "outputs": [
    {
     "name": "stdout",
     "output_type": "stream",
     "text": [
      "Creating default biosphere\n",
      "\n",
      "Applying strategy: normalize_units"
     ]
    },
    {
     "name": "stderr",
     "output_type": "stream",
     "text": [
      "Writing activities to SQLite3 database:\n",
      "0%                          100%\n",
      "[##############################] | ETA[sec]: 0.000 \n",
      "Total time elapsed: 0.337 sec\n"
     ]
    },
    {
     "name": "stdout",
     "output_type": "stream",
     "text": [
      "\n",
      "Applying strategy: drop_unspecified_subcategories\n",
      "Applied 2 strategies in 0.01 seconds\n",
      "Title: Writing activities to SQLite3 database:\n",
      "  Started: 10/19/2015 09:46:40\n",
      "  Finished: 10/19/2015 09:46:40\n",
      "  Total time elapsed: 0.337 sec\n",
      "  CPU %: 96.100000\n",
      "  Memory %: 0.325644\n",
      "Created database: biosphere3\n",
      "Creating default LCIA methods\n",
      "\n",
      "Applying strategy: normalize_units\n",
      "Applying strategy: set_biosphere_type\n",
      "Applying strategy: drop_unspecified_subcategories\n",
      "Applying strategy: link_iterable_by_fields\n",
      "Applied 4 strategies in 1.00 seconds\n",
      "Wrote 692 LCIA methods with 170915 characterization factors\n",
      "Creating core data migrations\n",
      "\n"
     ]
    }
   ],
   "source": [
    "bw2setup()"
   ]
  },
  {
   "cell_type": "markdown",
   "metadata": {},
   "source": [
    "# Import ecoinvent 2.2\n",
    "\n",
    "We are using version 2.2 to make the calculations a bit quicker, as this is intended to be run during the class.\n",
    "\n",
    "First, extract the data from the XML files."
   ]
  },
  {
   "cell_type": "code",
   "execution_count": 4,
   "metadata": {
    "collapsed": false
   },
   "outputs": [
    {
     "name": "stderr",
     "output_type": "stream",
     "text": [
      "Extracting ecospold1 files:\n",
      "0%                          100%\n",
      "[##############################] | ETA[sec]: 0.000 | Item ID: /Users/cmutel/D\n",
      "Total time elapsed: 8.460 sec\n"
     ]
    },
    {
     "name": "stdout",
     "output_type": "stream",
     "text": [
      "Title: Extracting ecospold1 files:\n",
      "  Started: 10/19/2015 09:48:02\n",
      "  Finished: 10/19/2015 09:48:10\n",
      "  Total time elapsed: 8.460 sec\n",
      "  CPU %: 78.700000\n",
      "  Memory %: 0.845587\n",
      "Extracted 4087 datasets in 8.51 seconds\n"
     ]
    }
   ],
   "source": [
    "ei = SingleOutputEcospold1Importer(\"/Users/cmutel/Documents/LCA Documents/Ecoinvent/2.2/processes\", \"ecoinvent 2.2\")"
   ]
  },
  {
   "cell_type": "markdown",
   "metadata": {},
   "source": [
    "On windows, you will need to escape your backslashes by repeating them twice, e.g."
   ]
  },
  {
   "cell_type": "code",
   "execution_count": null,
   "metadata": {
    "collapsed": true
   },
   "outputs": [],
   "source": [
    "ei = SingleOutputEcospold1Importer(\"c:\\\\Users\\\\cmutel\\\\Process_infra_roh\", \"ecoinvent 2.2\")"
   ]
  },
  {
   "cell_type": "markdown",
   "metadata": {},
   "source": [
    "Next, we normalize some values, and link the different datasets to each other and the basic biosphere"
   ]
  },
  {
   "cell_type": "code",
   "execution_count": 5,
   "metadata": {
    "collapsed": false
   },
   "outputs": [
    {
     "name": "stdout",
     "output_type": "stream",
     "text": [
      "Applying strategy: normalize_units\n",
      "Applying strategy: assign_only_product_as_production\n",
      "Applying strategy: clean_integer_codes\n",
      "Applying strategy: drop_unspecified_subcategories\n",
      "Applying strategy: normalize_biosphere_categories\n",
      "Applying strategy: normalize_biosphere_names\n",
      "Applying strategy: strip_biosphere_exc_locations\n",
      "Applying strategy: set_code_by_activity_hash\n",
      "Applying strategy: link_iterable_by_fields\n",
      "Applying strategy: link_technosphere_by_activity_hash\n",
      "Applied 10 strategies in 2.35 seconds\n"
     ]
    }
   ],
   "source": [
    "ei.apply_strategies()"
   ]
  },
  {
   "cell_type": "markdown",
   "metadata": {},
   "source": [
    "Check to make sure everything is linked"
   ]
  },
  {
   "cell_type": "code",
   "execution_count": 6,
   "metadata": {
    "collapsed": false
   },
   "outputs": [
    {
     "name": "stdout",
     "output_type": "stream",
     "text": [
      "4087 datasets\n",
      "135892 exchanges\n",
      "0 unlinked exchanges\n",
      "  \n"
     ]
    },
    {
     "data": {
      "text/plain": [
       "(4087, 135892, 0)"
      ]
     },
     "execution_count": 6,
     "metadata": {},
     "output_type": "execute_result"
    }
   ],
   "source": [
    "ei.statistics()"
   ]
  },
  {
   "cell_type": "markdown",
   "metadata": {},
   "source": [
    "Finally, write the database"
   ]
  },
  {
   "cell_type": "code",
   "execution_count": 7,
   "metadata": {
    "collapsed": false
   },
   "outputs": [
    {
     "name": "stderr",
     "output_type": "stream",
     "text": [
      "Writing activities to SQLite3 database:\n",
      "0%                          100%\n",
      "[##############################] | ETA[sec]: 0.000 \n",
      "Total time elapsed: 10.019 sec\n"
     ]
    },
    {
     "name": "stdout",
     "output_type": "stream",
     "text": [
      "Title: Writing activities to SQLite3 database:\n",
      "  Started: 10/19/2015 10:36:24\n",
      "  Finished: 10/19/2015 10:36:34\n",
      "  Total time elapsed: 10.019 sec\n",
      "  CPU %: 91.900000\n",
      "  Memory %: 0.883520\n",
      "Created database: ecoinvent 2.2\n"
     ]
    },
    {
     "data": {
      "text/plain": [
       "Brightway2 SQLiteBackend: ecoinvent 2.2"
      ]
     },
     "execution_count": 7,
     "metadata": {},
     "output_type": "execute_result"
    }
   ],
   "source": [
    "ei.write_database()"
   ]
  },
  {
   "cell_type": "code",
   "execution_count": 9,
   "metadata": {
    "collapsed": false
   },
   "outputs": [
    {
     "data": {
      "text/plain": [
       "['biosphere3', 'ecoinvent 2.2']"
      ]
     },
     "execution_count": 9,
     "metadata": {},
     "output_type": "execute_result"
    }
   ],
   "source": [
    "list(databases)"
   ]
  },
  {
   "cell_type": "code",
   "execution_count": 10,
   "metadata": {
    "collapsed": false,
    "scrolled": true
   },
   "outputs": [
    {
     "data": {
      "text/plain": [
       "[('CML 2001', 'photochemical oxidation (summer smog)', 'MIR'),\n",
       " ('ReCiPe Endpoint (H,A)', 'human health', 'ionising radiation'),\n",
       " ('eco-indicator 99, (H,A) w/o LT',\n",
       "  'ecosystem quality w/o LT',\n",
       "  'total w/o LT'),\n",
       " ('EDIP', 'resource consumption', 'non-renewable resources, mercury'),\n",
       " ('IMPACT 2002+ (Endpoint)', 'human health', 'human toxicity'),\n",
       " ('ReCiPe Endpoint (H,A) w/o LT',\n",
       "  'resources w/o LT',\n",
       "  'fossil depletion w/o LT'),\n",
       " ('EDIP2003', 'global warming', 'GWP 20a'),\n",
       " ('EDIP', 'resource consumption', 'non-renewable resources, natural gas'),\n",
       " ('IMPACT 2002+ (Endpoint)',\n",
       "  'ecosystem quality',\n",
       "  'terrestrial acidification & nutrification'),\n",
       " ('EDIP2003', 'ecotoxicity', 'acute, in water')]"
      ]
     },
     "execution_count": 10,
     "metadata": {},
     "output_type": "execute_result"
    }
   ],
   "source": [
    "list(methods)[:10]"
   ]
  },
  {
   "cell_type": "markdown",
   "metadata": {},
   "source": [
    "# Do some calculations\n",
    "\n",
    "We select the new database we just created, and then use a bit of trickiness to get random ordering. All datasets have the ``type`` ``\"process\"``, so this is equivalent to random ordering."
   ]
  },
  {
   "cell_type": "code",
   "execution_count": 11,
   "metadata": {
    "collapsed": false
   },
   "outputs": [],
   "source": [
    "db = Database(\"ecoinvent 2.2\")\n",
    "db.order_by = \"type\""
   ]
  },
  {
   "cell_type": "markdown",
   "metadata": {},
   "source": [
    "Many of the built-in LCIA methods are too narrowly focused - we pre-select a set of candidates to use for our meta-calculations."
   ]
  },
  {
   "cell_type": "code",
   "execution_count": 12,
   "metadata": {
    "collapsed": false
   },
   "outputs": [
    {
     "name": "stdout",
     "output_type": "stream",
     "text": [
      "There are 52 methods to test\n"
     ]
    }
   ],
   "source": [
    "CANDIDATES = sorted([\n",
    " (u'CML 2001', u'acidification potential', u'average European'),\n",
    " (u'CML 2001', u'climate change', u'GWP 100a'),\n",
    " (u'CML 2001', u'eutrophication potential', u'average European'),\n",
    " (u'CML 2001', u'freshwater aquatic ecotoxicity', u'FAETP 100a'),\n",
    " (u'CML 2001', u'human toxicity', u'HTP 100a'),\n",
    " (u'CML 2001', u'land use', u'competition'),\n",
    " (u'CML 2001', u'marine aquatic ecotoxicity', u'MAETP infinite'),\n",
    " (u'CML 2001', u'resources', u'depletion of abiotic resources'),\n",
    " (u'CML 2001', u'stratospheric ozone depletion', u'ODP 25a'),\n",
    " (u'EDIP2003', u'ecotoxicity', u'in sewage treatment plants'),\n",
    " (u'EDIP2003', u'eutrophication', u'terrestrial eutrophication'),\n",
    " (u'EDIP2003', u'renewable resources', u'wood'),\n",
    " (u'EDIP2003', u'stratospheric ozone depletion', u'ODP total'),\n",
    " (u'EPS 2000', u'total', u'abiotic stock resources'),\n",
    " (u'EPS 2000', u'total', u'emissions into soil'),\n",
    " (u'EPS 2000', u'total', u'emissions into water'),\n",
    " (u'EPS 2000', u'total', u'land occupation'),\n",
    " (u'IMPACT 2002+ (Endpoint)', u'ecosystem quality', u'land occupation'),\n",
    " (u'IMPACT 2002+ (Endpoint)', u'human health', u'ozone layer depletion'),\n",
    " (u'IMPACT 2002+ (Endpoint)', u'resources', u'mineral extraction'),\n",
    " (u'IMPACT 2002+ (Endpoint)', u'resources', u'non-renewable energy'),\n",
    " (u'IMPACT 2002+ (Midpoint)', u'ecosystem quality', u'aquatic acidification'),\n",
    " (u'IPCC 2001', u'climate change', u'GWP 100a'),\n",
    " (u'ReCiPe Endpoint (H,A)',\n",
    "  u'ecosystem quality',\n",
    "  u'agricultural land occupation'),\n",
    " (u'ReCiPe Endpoint (H,A)',\n",
    "  u'ecosystem quality',\n",
    "  u'freshwater eutrophication'),\n",
    " (u'ReCiPe Endpoint (H,A)',\n",
    "  u'ecosystem quality',\n",
    "  u'natural land transformation'),\n",
    " (u'ReCiPe Endpoint (H,A)',\n",
    "  u'ecosystem quality',\n",
    "  u'terrestrial acidification'),\n",
    " (u'ReCiPe Endpoint (H,A)', u'ecosystem quality', u'urban land occupation'),\n",
    " (u'ReCiPe Endpoint (H,A)', u'human health', u'particulate matter formation'),\n",
    " (u'ReCiPe Endpoint (H,A)', u'resources', u'fossil depletion'),\n",
    " (u'TRACI', u'environmental impact', u'acidification'),\n",
    " (u'TRACI', u'environmental impact', u'eutrophication'),\n",
    " (u'TRACI', u'environmental impact', u'global warming'),\n",
    " (u'TRACI', u'environmental impact', u'ozone depletion'),\n",
    " (u'TRACI', u'human health', u'respiratory effects, average'),\n",
    " (u'eco-indicator 99, (H,A)',\n",
    "  u'ecosystem quality',\n",
    "  u'acidification & eutrophication'),\n",
    " (u'eco-indicator 99, (H,A)', u'ecosystem quality', u'ecotoxicity'),\n",
    " (u'eco-indicator 99, (H,A)', u'ecosystem quality', u'land occupation'),\n",
    " (u'eco-indicator 99, (H,A)', u'human health', u'carcinogenics'),\n",
    " (u'eco-indicator 99, (H,A)', u'human health', u'climate change'),\n",
    " (u'eco-indicator 99, (H,A)', u'human health', u'ozone layer depletion'),\n",
    " (u'eco-indicator 99, (H,A)', u'resources', u'fossil fuels'),\n",
    " (u'eco-indicator 99, (H,A)', u'resources', u'mineral extraction'),\n",
    " (u'ecological footprint', u'total', u'CO2'),\n",
    " (u'ecological footprint', u'total', u'land occupation'),\n",
    " (u'ecological footprint', u'total', u'nuclear'),\n",
    " (u'ecological scarcity 2006', u'total', u'deposited waste'),\n",
    " (u'ecological scarcity 2006', u'total', u'emission into groundwater'),\n",
    " (u'ecological scarcity 2006', u'total', u'energy resources'),\n",
    " (u'ecological scarcity 2006', u'total', u'natural resources'),\n",
    " (u'ecosystem damage potential', u'total', u'linear, land occupation'),\n",
    " (u'ecosystem damage potential', u'total', u'linear, land transformation'),\n",
    "])\n",
    "\n",
    "assert all(x in methods for x in CANDIDATES)\n",
    "\n",
    "print(\"There are %s methods to test\" % len(CANDIDATES))"
   ]
  },
  {
   "cell_type": "markdown",
   "metadata": {},
   "source": [
    "Choose ten LCIA methods and 500 datasets from ecoinvent 2.2 at random"
   ]
  },
  {
   "cell_type": "code",
   "execution_count": 13,
   "metadata": {
    "collapsed": true
   },
   "outputs": [],
   "source": [
    "chosen_methods = random.sample(CANDIDATES, 10)\n",
    "chosen_processes = []\n",
    "for index, obj in enumerate(db):\n",
    "    if index >= 500:\n",
    "        break\n",
    "    else:\n",
    "        chosen_processes.append(obj)"
   ]
  },
  {
   "cell_type": "markdown",
   "metadata": {},
   "source": [
    "Set up the LCA object, optimized to do many calculations.\n",
    "\n",
    "See [making LCA calculations faster](http://chris.mutel.org/fast-dont-lie.html) blog post for more details on factorization."
   ]
  },
  {
   "cell_type": "code",
   "execution_count": 14,
   "metadata": {
    "collapsed": false
   },
   "outputs": [],
   "source": [
    "lca = LCA({chosen_processes[0]: 1}, method=chosen_methods[0])\n",
    "lca.lci(factorize=True)\n",
    "lca.lcia()"
   ]
  },
  {
   "cell_type": "markdown",
   "metadata": {},
   "source": [
    "Create an array to store our LCA results - processes on rows, methods on columns"
   ]
  },
  {
   "cell_type": "code",
   "execution_count": 15,
   "metadata": {
    "collapsed": false
   },
   "outputs": [],
   "source": [
    "results = np.zeros((500, 10))"
   ]
  },
  {
   "cell_type": "markdown",
   "metadata": {},
   "source": [
    "Do 5000 LCA calculations in a single thread. Store the results in ``results``."
   ]
  },
  {
   "cell_type": "code",
   "execution_count": 16,
   "metadata": {
    "collapsed": false
   },
   "outputs": [
    {
     "name": "stderr",
     "output_type": "stream",
     "text": [
      "0%                          100%\n",
      "[##############################] | ETA[sec]: 0.000 \n",
      "Total time elapsed: 22.971 sec\n"
     ]
    },
    {
     "name": "stdout",
     "output_type": "stream",
     "text": [
      "Title: \n",
      "  Started: 09/29/2015 23:22:36\n",
      "  Finished: 09/29/2015 23:22:59\n",
      "  Total time elapsed: 22.971 sec\n",
      "  CPU %: 98.000000\n",
      "  Memory %: 5.591297\n"
     ]
    }
   ],
   "source": [
    "bar = pyprind.ProgBar(5000, monitor=True)\n",
    "\n",
    "for col, method in enumerate(chosen_methods):\n",
    "    lca.method = method\n",
    "    lca.load_lcia_data()\n",
    "    for row, process in enumerate(chosen_processes):\n",
    "        lca.redo_lcia({process: 1})\n",
    "        results[row, col] = lca.score\n",
    "        bar.update()\n",
    "\n",
    "print(bar)"
   ]
  },
  {
   "cell_type": "markdown",
   "metadata": {},
   "source": [
    "We only care about processes which have non-zero LCA scores - there are a few processes in ecoinvent 2.2 which we want to filter automatically (if they are selected in our earlier random sample)."
   ]
  },
  {
   "cell_type": "code",
   "execution_count": 17,
   "metadata": {
    "collapsed": false
   },
   "outputs": [
    {
     "name": "stdout",
     "output_type": "stream",
     "text": [
      "Ignoring 8 processes\n"
     ]
    }
   ],
   "source": [
    "mask = (results.sum(axis=1) != 0)\n",
    "print(\"Ignoring {} processes\".format((~mask).sum()))"
   ]
  },
  {
   "cell_type": "markdown",
   "metadata": {},
   "source": [
    "Calculate the rank-order correlation for all processes"
   ]
  },
  {
   "cell_type": "code",
   "execution_count": 18,
   "metadata": {
    "collapsed": true
   },
   "outputs": [],
   "source": [
    "def create_correlation_matrix(scores_array):\n",
    "    num_methods = scores_array.shape[1]\n",
    "    correlations = np.zeros((num_methods, num_methods))\n",
    "\n",
    "    for row in range(num_methods):\n",
    "        for col in range(num_methods):\n",
    "            if col <= row:\n",
    "                continue                               # Only need to compute correlation once\n",
    "            dataset_1 = scores_array[:, row]\n",
    "            dataset_2 = scores_array[:, col]\n",
    "            mask = (dataset_1 != 0) * (dataset_2 != 0) # Ignore activities that have zero score\n",
    "            correlations[row, col] = stats.kendalltau( # Get tau value, drop p-statistic\n",
    "                dataset_1[mask], \n",
    "                dataset_2[mask]\n",
    "            )[0]  \n",
    "\n",
    "    return correlations"
   ]
  },
  {
   "cell_type": "code",
   "execution_count": 19,
   "metadata": {
    "collapsed": false
   },
   "outputs": [],
   "source": [
    "correlation_matrix = create_correlation_matrix(results[mask, :])"
   ]
  },
  {
   "cell_type": "markdown",
   "metadata": {},
   "source": [
    "Visualize the results"
   ]
  },
  {
   "cell_type": "code",
   "execution_count": 20,
   "metadata": {
    "collapsed": true
   },
   "outputs": [],
   "source": [
    "%matplotlib inline"
   ]
  },
  {
   "cell_type": "code",
   "execution_count": 21,
   "metadata": {
    "collapsed": false
   },
   "outputs": [
    {
     "data": {
      "text/plain": [
       "(0.0, 10.0, 0.0, 10.0)"
      ]
     },
     "execution_count": 21,
     "metadata": {},
     "output_type": "execute_result"
    },
    {
     "data": {
      "image/png": "[encoded data removed]",
      "text/plain": [
       "<matplotlib.figure.Figure at 0x11e6379b0>"
      ]
     },
     "metadata": {},
     "output_type": "display_data"
    }
   ],
   "source": [
    "import matplotlib.pyplot as plt\n",
    "\n",
    "fig = plt.gcf()\n",
    "fig.set_size_inches(12, 12)\n",
    "\n",
    "masked_correlation = np.ma.array(correlation_matrix, mask=correlation_matrix == 0).T\n",
    "plt.pcolor(masked_correlation, cmap=plt.cm.cubehelix_r)\n",
    "plt.colorbar(label=r\"Kendall $\\tau$ rank-order correlation coefficient\")\n",
    "plt.ylim(None, 10)\n",
    "plt.xlim(None, 10)\n",
    "plt.axis('off')"
   ]
  }
 ],
 "metadata": {
  "kernelspec": {
   "display_name": "Python 3",
   "language": "python",
   "name": "python3"
  },
  "language_info": {
   "codemirror_mode": {
    "name": "ipython",
    "version": 3
   },
   "file_extension": ".py",
   "mimetype": "text/x-python",
   "name": "python",
   "nbconvert_exporter": "python",
   "pygments_lexer": "ipython3",
   "version": "3.4.3"
  }
 },
 "nbformat": 4,
 "nbformat_minor": 0
}
