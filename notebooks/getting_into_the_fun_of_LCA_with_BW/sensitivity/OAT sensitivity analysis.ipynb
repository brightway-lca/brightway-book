{
 "cells": [
  {
   "cell_type": "markdown",
   "metadata": {},
   "source": [
    "# One At the Time (OAT) Sensitivity analysis"
   ]
  },
  {
   "cell_type": "markdown",
   "metadata": {},
   "source": [
    "This is the simplest case. Also called a _local_ Sensitivity analysis. One parameter is changed by keeping all the other constant and the difference in results is compared to the change. This allows to investigate how much results are affected by the specific change in the parameter. This is good for some types of analysis, but has some problems. Main issue is that the effect of a change in the parameter might be different when other parameters assume different values...so OAT can be misleading!  This problem can only be solved with a global sensitivity analysis (next notebook)"
   ]
  },
  {
   "cell_type": "code",
   "execution_count": 1,
   "metadata": {
    "scrolled": true
   },
   "outputs": [],
   "source": [
    "import brightway2 as bw\n",
    "import numpy as np\n",
    "import pandas as pd\n",
    "from matplotlib import pyplot as plt"
   ]
  },
  {
   "cell_type": "code",
   "execution_count": 2,
   "metadata": {},
   "outputs": [
    {
     "data": {
      "text/plain": [
       "Databases dictionary with 5 object(s):\n",
       "\tbiosphere3\n",
       "\tecoinvent 3.6 conseq\n",
       "\texldb\n",
       "\ttestbiosphere\n",
       "\ttestdb"
      ]
     },
     "execution_count": 2,
     "metadata": {},
     "output_type": "execute_result"
    }
   ],
   "source": [
    "bw.projects.set_current('advlca21') # Still working in the same project\n",
    "bw.databases"
   ]
  },
  {
   "cell_type": "code",
   "execution_count": 3,
   "metadata": {},
   "outputs": [],
   "source": [
    "#if 'sa_db' in bw.databases: del bw.databases['sa_db'] # to clean up if you do this multiple times\n",
    "#bw.databases"
   ]
  },
  {
   "cell_type": "code",
   "execution_count": 4,
   "metadata": {},
   "outputs": [
    {
     "name": "stderr",
     "output_type": "stream",
     "text": [
      "Writing activities to SQLite3 database:\n",
      "0% [#] 100% | ETA: 00:00:00\n",
      "Total time elapsed: 00:00:00\n"
     ]
    },
    {
     "name": "stdout",
     "output_type": "stream",
     "text": [
      "Title: Writing activities to SQLite3 database:\n",
      "  Started: 05/20/2021 15:21:42\n",
      "  Finished: 05/20/2021 15:21:42\n",
      "  Total time elapsed: 00:00:00\n",
      "  CPU %: 61.30\n",
      "  Memory %: 0.92\n"
     ]
    },
    {
     "data": {
      "text/plain": [
       "0.04282987668046412"
      ]
     },
     "execution_count": 4,
     "metadata": {},
     "output_type": "execute_result"
    }
   ],
   "source": [
    "SA_db = bw.Database('sa_db')\n",
    "\n",
    "# A simplified db, one foreground activity: 'Electricity production,\n",
    "# linked to a background one: 'market for electricity, low voltage' (kilowatt hour, DK, None)\n",
    "SA_db.write({  \n",
    "    ('sa_db', 'el_prod_for_sa'): {\n",
    "        'name': 'Electricity production',\n",
    "        'unit': 'kilowatt hour',\n",
    "        'exchanges': [{\n",
    "            'input': ('ecoinvent 3.6 conseq', '7f0d57e31e5b9767f04d12719a872b7c'), # Danish market for electricity\n",
    "            'amount': 1,\n",
    "            'type': 'technosphere'},\n",
    "        {\n",
    "            'input': ('sa_db', 'el_prod_for_sa'),\n",
    "            'amount': 1,\n",
    "            'type': 'production'}]}})\n",
    "\n",
    "# select the foreground activity and calculate result\n",
    "lca = bw.LCA({SA_db.get('el_prod_for_sa'): 1}, ('IPCC 2013', 'climate change', 'GWP 100a'))\n",
    "lca.lci()\n",
    "lca.lcia()\n",
    "DK_result = lca.score\n",
    "DK_result"
   ]
  },
  {
   "cell_type": "markdown",
   "metadata": {},
   "source": [
    "# Changing the exchange kind\n",
    "\n",
    "There are many ways of doing sensitivity analysis. One might for example be interested in changing the electricity mix (somebody might call this a _scenario analysis_...). For example, I would like to run my LCA with ten different market mixes in ecoinvent instead of just the Danish one."
   ]
  },
  {
   "cell_type": "code",
   "execution_count": 5,
   "metadata": {},
   "outputs": [
    {
     "data": {
      "text/plain": [
       "[('ecoinvent 3.6 conseq', '3d06abba87bca166482cea17749ee125'),\n",
       " ('ecoinvent 3.6 conseq', '020962e8622c48d8b556d039bdcdfa9c'),\n",
       " ('ecoinvent 3.6 conseq', '8163d3db4fe2d583ba1d9602b0b26e77'),\n",
       " ('ecoinvent 3.6 conseq', '13b3d7cc720ea0b611b874fc50acfca5')]"
      ]
     },
     "execution_count": 5,
     "metadata": {},
     "output_type": "execute_result"
    }
   ],
   "source": [
    "# First make a list of processes we wants to change with, in this case el. markets\n",
    "el_markets = [('ecoinvent 3.6 conseq', i['code']) \n",
    "              for i in bw.Database(\"ecoinvent 3.6 conseq\").search('market electricity low voltage', limit = 100)]\n",
    "el_markets[1:5] # prints the first four of them"
   ]
  },
  {
   "cell_type": "code",
   "execution_count": 6,
   "metadata": {},
   "outputs": [],
   "source": [
    "# Make a copy of the activity, substitute the background process, save and calculate\n",
    "SA_el_loc_results = [] # empty list that will contain all the results of the local SA\n",
    "el = SA_db.get('el_prod_for_sa')\n",
    "for m in el_markets[0:20]: # I am just taking the first 20 of them to speed up\n",
    "    el2 = el.copy() # implement the changes on a copy to keep the original intact\n",
    "    exc = list(el2.exchanges())[0] # select the first exchange in the activity, i.e. the input from ecoinvent\n",
    "    exc['input'] = m\n",
    "    exc.save() # important or the changes won't be maintained\n",
    "    lca = bw.LCA({el2: 1}, ('IPCC 2013', 'climate change', 'GWP 100a'))\n",
    "    lca.lci()\n",
    "    lca.lcia()\n",
    "    SA_el_loc_results.append(lca.score)"
   ]
  },
  {
   "cell_type": "code",
   "execution_count": 7,
   "metadata": {},
   "outputs": [
    {
     "data": {
      "text/plain": [
       "[0.08339239276671333,\n",
       " 0.08251553352598445,\n",
       " 0.08376235593207415,\n",
       " 0.25739191636650205,\n",
       " 0.25424572169665277,\n",
       " 0.25739191636650227,\n",
       " 0.2573919163665021,\n",
       " 0.2573919163665021,\n",
       " 0.25739191636650205,\n",
       " 0.2573919163665021,\n",
       " 0.14492690062666552,\n",
       " 0.5285914181842168,\n",
       " 0.3906882586698958,\n",
       " 0.3666165223953109,\n",
       " 0.1410369592228376,\n",
       " 0.5592818799887223,\n",
       " 0.07369430897620755,\n",
       " 0.036093796136790035,\n",
       " 0.11740888330356229,\n",
       " 0.09525475105146788]"
      ]
     },
     "execution_count": 7,
     "metadata": {},
     "output_type": "execute_result"
    }
   ],
   "source": [
    "SA_el_loc_results"
   ]
  },
  {
   "cell_type": "code",
   "execution_count": 8,
   "metadata": {},
   "outputs": [
    {
     "name": "stdout",
     "output_type": "stream",
     "text": [
      "5.255514992796532\n"
     ]
    },
    {
     "data": {
      "text/html": [
       "<div>\n",
       "<style scoped>\n",
       "    .dataframe tbody tr th:only-of-type {\n",
       "        vertical-align: middle;\n",
       "    }\n",
       "\n",
       "    .dataframe tbody tr th {\n",
       "        vertical-align: top;\n",
       "    }\n",
       "\n",
       "    .dataframe thead th {\n",
       "        text-align: right;\n",
       "    }\n",
       "</style>\n",
       "<table border=\"1\" class=\"dataframe\">\n",
       "  <thead>\n",
       "    <tr style=\"text-align: right;\">\n",
       "      <th></th>\n",
       "      <th>0</th>\n",
       "    </tr>\n",
       "  </thead>\n",
       "  <tbody>\n",
       "    <tr>\n",
       "      <th>count</th>\n",
       "      <td>20.000000</td>\n",
       "    </tr>\n",
       "    <tr>\n",
       "      <th>mean</th>\n",
       "      <td>0.225093</td>\n",
       "    </tr>\n",
       "    <tr>\n",
       "      <th>std</th>\n",
       "      <td>0.148559</td>\n",
       "    </tr>\n",
       "    <tr>\n",
       "      <th>min</th>\n",
       "      <td>0.036094</td>\n",
       "    </tr>\n",
       "    <tr>\n",
       "      <th>25%</th>\n",
       "      <td>0.092382</td>\n",
       "    </tr>\n",
       "    <tr>\n",
       "      <th>50%</th>\n",
       "      <td>0.255819</td>\n",
       "    </tr>\n",
       "    <tr>\n",
       "      <th>75%</th>\n",
       "      <td>0.257392</td>\n",
       "    </tr>\n",
       "    <tr>\n",
       "      <th>max</th>\n",
       "      <td>0.559282</td>\n",
       "    </tr>\n",
       "  </tbody>\n",
       "</table>\n",
       "</div>"
      ],
      "text/plain": [
       "               0\n",
       "count  20.000000\n",
       "mean    0.225093\n",
       "std     0.148559\n",
       "min     0.036094\n",
       "25%     0.092382\n",
       "50%     0.255819\n",
       "75%     0.257392\n",
       "max     0.559282"
      ]
     },
     "execution_count": 8,
     "metadata": {},
     "output_type": "execute_result"
    }
   ],
   "source": [
    "# Unig numpy and pandas packages here\n",
    "print(np.mean([(i/DK_result) for i in SA_el_loc_results])) # about 5.1 times higher impact than DK on average\n",
    "pd.DataFrame(SA_el_loc_results).describe()"
   ]
  },
  {
   "cell_type": "code",
   "execution_count": 9,
   "metadata": {},
   "outputs": [
    {
     "data": {
      "text/plain": [
       "Text(0.5, 0, 'El Production')"
      ]
     },
     "execution_count": 9,
     "metadata": {},
     "output_type": "execute_result"
    },
    {
     "data": {
      "image/png": "[encoded data removed]",
      "text/plain": [
       "<Figure size 432x288 with 1 Axes>"
      ]
     },
     "metadata": {
      "needs_background": "light"
     },
     "output_type": "display_data"
    }
   ],
   "source": [
    "# Using matplotlib package\n",
    "plt.boxplot(SA_el_loc_results)\n",
    "plt.ylabel(bw.methods[('IPCC 2013', 'climate change', 'GWP 100a')]['unit'])\n",
    "plt.xlabel('El Production')"
   ]
  },
  {
   "cell_type": "markdown",
   "metadata": {},
   "source": [
    "# Changing the exchange value\n",
    "\n",
    "One might want to test different values for the same exchange, or see how results are affected by a percent change in the value of this exchange. Iin this case it's more handy to use _parametrized inventories_. There is a good [tutorial here](https://nbviewer.jupyter.org/urls/bitbucket.org/cmutel/brightway2/raw/default/notebooks/Parameters%20-%20manual%20creation.ipynb) about this that you can check it out, as well as some [theory here](https://docs.brightwaylca.org/intro.html#parameterized-datasets) on what type of parameters (activity-, database-, or project-parameters) one can define in brightway. Here we make just a simple example. "
   ]
  },
  {
   "cell_type": "markdown",
   "metadata": {},
   "source": [
    "## Without parameters"
   ]
  },
  {
   "cell_type": "code",
   "execution_count": 10,
   "metadata": {},
   "outputs": [
    {
     "data": {
      "text/plain": [
       "Exchange: 1 kilowatt hour 'market for electricity, low voltage' (kilowatt hour, DK, None) to 'Electricity production' (kilowatt hour, None, None)>"
      ]
     },
     "execution_count": 10,
     "metadata": {},
     "output_type": "execute_result"
    }
   ],
   "source": [
    "list(SA_db.get('el_prod_for_sa').exchanges())[0]"
   ]
  },
  {
   "cell_type": "code",
   "execution_count": 11,
   "metadata": {},
   "outputs": [],
   "source": [
    "# the obvious solution is to use the same approach as above\n",
    "SA_values = [1.01, 1.05, 1.1] # I am studying a change of 1%, 5%, 10% in the parameter\n",
    "SA_el_value_results = []\n",
    "el = SA_db.get('el_prod_for_sa')\n",
    "for v in SA_values:\n",
    "    el2 = el.copy()\n",
    "    exc = list(el2.exchanges())[0]\n",
    "    exc['amount'] = v # this is the different line compared to before\n",
    "    exc.save()\n",
    "    lca = bw.LCA({el2: 1}, ('IPCC 2013', 'climate change', 'GWP 100a'))\n",
    "    lca.lci()\n",
    "    lca.lcia()\n",
    "    SA_el_value_results.append(lca.score)"
   ]
  },
  {
   "cell_type": "code",
   "execution_count": 12,
   "metadata": {},
   "outputs": [
    {
     "data": {
      "text/plain": [
       "[0.043258175038811277, 0.04497136847219968, 0.047112865369654436]"
      ]
     },
     "execution_count": 12,
     "metadata": {},
     "output_type": "execute_result"
    }
   ],
   "source": [
    "SA_el_value_results"
   ]
  },
  {
   "cell_type": "code",
   "execution_count": 13,
   "metadata": {},
   "outputs": [
    {
     "data": {
      "text/plain": [
       "Text(0.5, 0, 'SA values')"
      ]
     },
     "execution_count": 13,
     "metadata": {},
     "output_type": "execute_result"
    },
    {
     "data": {
      "image/png": "[encoded data removed]",
      "text/plain": [
       "<Figure size 432x288 with 1 Axes>"
      ]
     },
     "metadata": {
      "needs_background": "light"
     },
     "output_type": "display_data"
    }
   ],
   "source": [
    "plt.plot(SA_values, SA_el_value_results)\n",
    "plt.ylabel('SA results')\n",
    "plt.xlabel('SA values')"
   ]
  },
  {
   "cell_type": "code",
   "execution_count": 14,
   "metadata": {},
   "outputs": [
    {
     "data": {
      "text/plain": [
       "0.04282983583471577"
      ]
     },
     "execution_count": 14,
     "metadata": {},
     "output_type": "execute_result"
    }
   ],
   "source": [
    "(SA_el_value_results[0] - DK_result)/(1.01 - 1.) # Marginal change (slope of the line)"
   ]
  },
  {
   "cell_type": "code",
   "execution_count": 15,
   "metadata": {},
   "outputs": [
    {
     "data": {
      "text/plain": [
       "(0.042829894424930966,\n",
       " -1.9167372161676965e-08,\n",
       " 0.9999999999997707,\n",
       " 4.31082381239272e-07,\n",
       " 2.900194633540426e-08)"
      ]
     },
     "execution_count": 15,
     "metadata": {},
     "output_type": "execute_result"
    }
   ],
   "source": [
    "from scipy import stats # just another way to do the same\n",
    "slope, intercept, r_value, p_value, std_err = stats.linregress(SA_values, SA_el_value_results)\n",
    "slope, intercept, r_value, p_value, std_err"
   ]
  },
  {
   "cell_type": "markdown",
   "metadata": {},
   "source": [
    "## Same but using parameters"
   ]
  },
  {
   "cell_type": "code",
   "execution_count": 16,
   "metadata": {},
   "outputs": [
    {
     "name": "stdout",
     "output_type": "stream",
     "text": [
      "Parameters manager with 0 objects\n"
     ]
    }
   ],
   "source": [
    "print(bw.parameters) # you shuold have none"
   ]
  },
  {
   "cell_type": "code",
   "execution_count": 17,
   "metadata": {},
   "outputs": [],
   "source": [
    "# If you get a result like: \"Parameters manager with 1 objects\" then comment out and run this cell\n",
    "#from bw2data.parameters import *\n",
    "\n",
    "#for param in ActivityParameter.select(): \n",
    "#    print(param, param.amount) # This is to check what aprameters are in your notebook already\n",
    "\n",
    "#del bw.databases['sa_db'] # delete the database to clean up existing Database and activity parameters\n",
    "#bw.parameters.remove_from_group(\"my group\", bw.Database('sa_db').get('el_prod_for_sa')) # also a way to clean up "
   ]
  },
  {
   "cell_type": "code",
   "execution_count": 18,
   "metadata": {},
   "outputs": [],
   "source": [
    "??bw.parameters"
   ]
  },
  {
   "cell_type": "code",
   "execution_count": 19,
   "metadata": {},
   "outputs": [
    {
     "name": "stderr",
     "output_type": "stream",
     "text": [
      "Writing activities to SQLite3 database:\n",
      "0% [#] 100% | ETA: 00:00:00\n",
      "Total time elapsed: 00:00:00\n"
     ]
    },
    {
     "name": "stdout",
     "output_type": "stream",
     "text": [
      "Title: Writing activities to SQLite3 database:\n",
      "  Started: 05/20/2021 15:22:08\n",
      "  Finished: 05/20/2021 15:22:08\n",
      "  Total time elapsed: 00:00:00\n",
      "  CPU %: 72.10\n",
      "  Memory %: 1.62\n"
     ]
    }
   ],
   "source": [
    "# Same product system as before but including a parameter\n",
    "SA_db = bw.Database('sa_db')\n",
    "SA_db.write({  \n",
    "    ('sa_db', 'el_prod_for_sa'): {\n",
    "        'name': 'Electricity production',\n",
    "        'unit': 'kilowatt hour',\n",
    "        'exchanges': [{\n",
    "            'input': ('ecoinvent 3.6 conseq', '7f0d57e31e5b9767f04d12719a872b7c'), \n",
    "            'amount': 1.0,\n",
    "            'type': 'technosphere',\n",
    "            'formula': 'my_parameter'}, # I added a new line here with the parameter \"my_parameter\"\n",
    "        {\n",
    "            'input': ('sa_db', 'el_prod_for_sa'),\n",
    "            'amount': 1.0,\n",
    "            'type': 'production'}]}})"
   ]
  },
  {
   "cell_type": "code",
   "execution_count": 20,
   "metadata": {},
   "outputs": [],
   "source": [
    "# Define the details of the parameter 'my_parameter'\n",
    "activity_data = [ {\n",
    "    'name': 'my_parameter',\n",
    "    'amount': 1.0,\n",
    "    'database': 'sa_db',\n",
    "    'code' : 'somecode'\n",
    "}]"
   ]
  },
  {
   "cell_type": "code",
   "execution_count": 21,
   "metadata": {},
   "outputs": [
    {
     "data": {
      "text/plain": [
       "Parameters manager with 0 objects"
      ]
     },
     "execution_count": 21,
     "metadata": {},
     "output_type": "execute_result"
    }
   ],
   "source": [
    "bw.parameters # still nothing"
   ]
  },
  {
   "cell_type": "code",
   "execution_count": 22,
   "metadata": {},
   "outputs": [
    {
     "name": "stdout",
     "output_type": "stream",
     "text": [
      "Activity parameter: my group:my_parameter 1.0\n"
     ]
    }
   ],
   "source": [
    "# First register these parameters\n",
    "from bw2data.parameters import *\n",
    "parameters.new_activity_parameters(activity_data, \"my group\", overwrite=True) # add a group name for the parameters\n",
    "\n",
    "for param in ActivityParameter.select():\n",
    "    print(param, param.amount)"
   ]
  },
  {
   "cell_type": "markdown",
   "metadata": {},
   "source": [
    "Parameter Activation is in **two steps**"
   ]
  },
  {
   "cell_type": "code",
   "execution_count": 23,
   "metadata": {},
   "outputs": [
    {
     "name": "stdout",
     "output_type": "stream",
     "text": [
      "1.0 'market for electricity, low voltage' (kilowatt hour, DK, None) 'Electricity production' (kilowatt hour, None, None)\n",
      "1.0 'Electricity production' (kilowatt hour, None, None) 'Electricity production' (kilowatt hour, None, None)\n"
     ]
    }
   ],
   "source": [
    "# 1) Need to declare which activities have exchanges with parameters\n",
    "parameters.add_exchanges_to_group(\"my group\", SA_db.get('el_prod_for_sa'))\n",
    "\n",
    "# 2) Update the exchanges with the new parameter value\n",
    "ActivityParameter.recalculate_exchanges(\"my group\")\n",
    "\n",
    "# check if it worked\n",
    "for exc in SA_db.get('el_prod_for_sa').exchanges():\n",
    "    print(exc.amount, exc.input, exc.output)"
   ]
  },
  {
   "cell_type": "code",
   "execution_count": 24,
   "metadata": {},
   "outputs": [
    {
     "name": "stdout",
     "output_type": "stream",
     "text": [
      "2.0 'market for electricity, low voltage' (kilowatt hour, DK, None) 'Electricity production' (kilowatt hour, None, None)\n",
      "1.0 'Electricity production' (kilowatt hour, None, None) 'Electricity production' (kilowatt hour, None, None)\n"
     ]
    }
   ],
   "source": [
    "# This is how you change the value of a parameter\n",
    "ActivityParameter.update(amount = 2.0).where(ActivityParameter.name == 'my_parameter').execute()\n",
    "\n",
    "# Need to do this as well if you want to see the new value of the exchange (otherwise only the parameter changes)\n",
    "ActivityParameter.recalculate_exchanges(\"my group\")\n",
    "\n",
    "# check if it worked\n",
    "for exc in SA_db.get('el_prod_for_sa').exchanges():\n",
    "    print(exc.amount, exc.input, exc.output)"
   ]
  },
  {
   "cell_type": "code",
   "execution_count": 25,
   "metadata": {},
   "outputs": [
    {
     "name": "stdout",
     "output_type": "stream",
     "text": [
      "1.01 'market for electricity, low voltage' (kilowatt hour, DK, None) 'Electricity production' (kilowatt hour, None, None)\n",
      "1.0 'Electricity production' (kilowatt hour, None, None) 'Electricity production' (kilowatt hour, None, None)\n",
      "1.05 'market for electricity, low voltage' (kilowatt hour, DK, None) 'Electricity production' (kilowatt hour, None, None)\n",
      "1.0 'Electricity production' (kilowatt hour, None, None) 'Electricity production' (kilowatt hour, None, None)\n",
      "1.1 'market for electricity, low voltage' (kilowatt hour, DK, None) 'Electricity production' (kilowatt hour, None, None)\n",
      "1.0 'Electricity production' (kilowatt hour, None, None) 'Electricity production' (kilowatt hour, None, None)\n"
     ]
    }
   ],
   "source": [
    "# Now this can be done in a loop for a series of values\n",
    "SA_values = [1.01, 1.05, 1.1]\n",
    "SA_el_value_results = []\n",
    "for v in SA_values:\n",
    "    ActivityParameter.update(amount = v).where(ActivityParameter.name == 'my_parameter').execute() # key line\n",
    "    ActivityParameter.recalculate_exchanges(\"my group\")\n",
    "    for exc in SA_db.get('el_prod_for_sa').exchanges():\n",
    "        print(exc.amount, exc.input, exc.output)\n",
    "    lca = bw.LCA({SA_db.get('el_prod_for_sa') : 1}, ('IPCC 2013', 'climate change', 'GWP 100a'))\n",
    "    lca.lci()\n",
    "    lca.lcia()\n",
    "    SA_el_value_results.append(lca.score)"
   ]
  },
  {
   "cell_type": "code",
   "execution_count": 26,
   "metadata": {},
   "outputs": [
    {
     "data": {
      "text/plain": [
       "[1.01, 1.05, 1.1]"
      ]
     },
     "execution_count": 26,
     "metadata": {},
     "output_type": "execute_result"
    }
   ],
   "source": [
    "SA_values"
   ]
  },
  {
   "cell_type": "code",
   "execution_count": 27,
   "metadata": {},
   "outputs": [
    {
     "data": {
      "text/plain": [
       "[0.04325817503881124, 0.044971368472199715, 0.047112865369654394]"
      ]
     },
     "execution_count": 27,
     "metadata": {},
     "output_type": "execute_result"
    }
   ],
   "source": [
    "SA_el_value_results"
   ]
  },
  {
   "cell_type": "code",
   "execution_count": 28,
   "metadata": {},
   "outputs": [
    {
     "data": {
      "text/plain": [
       "Text(0.5, 0, 'SA values')"
      ]
     },
     "execution_count": 28,
     "metadata": {},
     "output_type": "execute_result"
    },
    {
     "data": {
      "image/png": "[encoded data removed]",
      "text/plain": [
       "<Figure size 432x288 with 1 Axes>"
      ]
     },
     "metadata": {
      "needs_background": "light"
     },
     "output_type": "display_data"
    }
   ],
   "source": [
    "from matplotlib import pyplot as plt\n",
    "plt.plot(SA_values, SA_el_value_results)\n",
    "plt.ylabel('SA results')\n",
    "plt.xlabel('SA values')"
   ]
  },
  {
   "cell_type": "markdown",
   "metadata": {},
   "source": [
    "One advantage of using parameters is that a parameter can be applied in multiple places in an inventory"
   ]
  },
  {
   "cell_type": "code",
   "execution_count": 29,
   "metadata": {},
   "outputs": [
    {
     "name": "stderr",
     "output_type": "stream",
     "text": [
      "Writing activities to SQLite3 database:\n",
      "0% [#] 100% | ETA: 00:00:00\n",
      "Total time elapsed: 00:00:00\n"
     ]
    },
    {
     "name": "stdout",
     "output_type": "stream",
     "text": [
      "Title: Writing activities to SQLite3 database:\n",
      "  Started: 05/20/2021 15:22:10\n",
      "  Finished: 05/20/2021 15:22:10\n",
      "  Total time elapsed: 00:00:00\n",
      "  CPU %: 128.90\n",
      "  Memory %: 1.64\n"
     ]
    }
   ],
   "source": [
    "SA_db = bw.Database('sa_db')\n",
    "SA_db.write({  \n",
    "    ('sa_db', 'el_prod_for_sa'): {\n",
    "        'name': 'Electricity production',\n",
    "        'unit': 'kilowatt hour',\n",
    "        'exchanges': [{\n",
    "            'input': ('ecoinvent 3.6 conseq', '7f0d57e31e5b9767f04d12719a872b7c'),  # Danish el market\n",
    "            'amount': 0.5,\n",
    "            'type': 'technosphere',\n",
    "            'formula': 'my_parameter'}, # one parameter here \n",
    "        { \n",
    "            'input': ('ecoinvent 3.6 conseq', '05fd20deeeb0f5a4e1a8d6f778e8eb5b'), # German el market\n",
    "            'amount': 0.5,\n",
    "            'type': 'technosphere',\n",
    "            'formula': 'my_parameter'}, # the same parameter is also here\n",
    "        {\n",
    "            'input': ('sa_db', 'el_prod_for_sa'),\n",
    "            'amount': 1,\n",
    "            'type': 'production'}]}})"
   ]
  },
  {
   "cell_type": "code",
   "execution_count": 30,
   "metadata": {},
   "outputs": [
    {
     "name": "stdout",
     "output_type": "stream",
     "text": [
      "0.08898771538258647\n"
     ]
    }
   ],
   "source": [
    "lca = bw.LCA({SA_db.get('el_prod_for_sa') : 1}, ('IPCC 2013', 'climate change', 'GWP 100a'))\n",
    "lca.lci()\n",
    "lca.lcia()\n",
    "print(lca.score)"
   ]
  },
  {
   "cell_type": "code",
   "execution_count": 31,
   "metadata": {},
   "outputs": [
    {
     "name": "stdout",
     "output_type": "stream",
     "text": [
      "Activity parameter: my group:__dummy_8f692f86ff004816a084fb102e5f3f0d__ 0.0\n",
      "Activity parameter: my group:my_parameter 1.0\n",
      "1.0 'market for electricity, low voltage' (kilowatt hour, DK, None) 'Electricity production' (kilowatt hour, None, None)\n",
      "1.0 'market for electricity, low voltage' (kilowatt hour, DE, None) 'Electricity production' (kilowatt hour, None, None)\n",
      "1 'Electricity production' (kilowatt hour, None, None) 'Electricity production' (kilowatt hour, None, None)\n"
     ]
    }
   ],
   "source": [
    "from bw2data.parameters import *\n",
    "\n",
    "# define and register parameter\n",
    "activity_data = [{\n",
    "    'name': 'my_parameter',\n",
    "    'amount': 1,\n",
    "    'database': 'sa_db',\n",
    "    'code' : 'somecode'}]\n",
    "\n",
    "parameters.new_activity_parameters(activity_data, \"my group\", overwrite=True)\n",
    "\n",
    "# activate parameter\n",
    "parameters.add_exchanges_to_group(\"my group\", SA_db.get('el_prod_for_sa')) # 1 step\n",
    "ActivityParameter.recalculate_exchanges(\"my group\") # 2 step\n",
    "\n",
    "# Check if it worked\n",
    "for param in ActivityParameter.select():\n",
    "    print(param, param.amount)\n",
    "for exc in SA_db.get('el_prod_for_sa').exchanges():\n",
    "    print(exc.amount, exc.input, exc.output)"
   ]
  },
  {
   "cell_type": "code",
   "execution_count": 32,
   "metadata": {},
   "outputs": [
    {
     "data": {
      "text/plain": [
       "[0.08898771538258647, 0.09788648904247749, 0.08008894172269526]"
      ]
     },
     "execution_count": 32,
     "metadata": {},
     "output_type": "execute_result"
    }
   ],
   "source": [
    "# Same loop as before, this time the parameter changes in two places\n",
    "SA_values = [0.5, 0.5*1.1, 0.5*0.9] # a change of plus/minus 10%\n",
    "SA_el_value_results = []\n",
    "for v in SA_values:\n",
    "    ActivityParameter.update(amount = v).where(ActivityParameter.name == 'my_parameter').execute()\n",
    "    ActivityParameter.recalculate_exchanges(\"my group\")\n",
    "    lca = bw.LCA({SA_db.get('el_prod_for_sa') : 1}, ('IPCC 2013', 'climate change', 'GWP 100a'))\n",
    "    lca.lci()\n",
    "    lca.lcia()\n",
    "    SA_el_value_results.append(lca.score)\n",
    "SA_el_value_results"
   ]
  },
  {
   "cell_type": "code",
   "execution_count": 33,
   "metadata": {},
   "outputs": [
    {
     "data": {
      "text/plain": [
       "(0.10000002384185681, -0.10000002384185899)"
      ]
     },
     "execution_count": 33,
     "metadata": {},
     "output_type": "execute_result"
    }
   ],
   "source": [
    "plus1 = ( SA_el_value_results[1] - SA_el_value_results[0] ) / SA_el_value_results[0]  \n",
    "minus1 = ( SA_el_value_results[2] - SA_el_value_results[0] ) / SA_el_value_results[0]\n",
    "plus1, minus1"
   ]
  },
  {
   "cell_type": "code",
   "execution_count": 34,
   "metadata": {},
   "outputs": [
    {
     "data": {
      "text/plain": [
       "-2.1788126858268697e-15"
      ]
     },
     "execution_count": 34,
     "metadata": {},
     "output_type": "execute_result"
    }
   ],
   "source": [
    "plus1 + minus1 # not exactly zero. Why?"
   ]
  },
  {
   "cell_type": "code",
   "execution_count": 35,
   "metadata": {},
   "outputs": [
    {
     "data": {
      "text/plain": [
       "Text(0.5, 0, 'SA values')"
      ]
     },
     "execution_count": 35,
     "metadata": {},
     "output_type": "execute_result"
    },
    {
     "data": {
      "image/png": "[encoded data removed]",
      "text/plain": [
       "<Figure size 432x288 with 1 Axes>"
      ]
     },
     "metadata": {
      "needs_background": "light"
     },
     "output_type": "display_data"
    }
   ],
   "source": [
    "plt.plot(SA_values, SA_el_value_results, 'bo')\n",
    "plt.ylabel('SA results')\n",
    "plt.xlabel('SA values')"
   ]
  }
 ],
 "metadata": {
  "kernelspec": {
   "display_name": "Python 3",
   "language": "python",
   "name": "python3"
  },
  "language_info": {
   "codemirror_mode": {
    "name": "ipython",
    "version": 3
   },
   "file_extension": ".py",
   "mimetype": "text/x-python",
   "name": "python",
   "nbconvert_exporter": "python",
   "pygments_lexer": "ipython3",
   "version": "3.7.7"
  }
 },
 "nbformat": 4,
 "nbformat_minor": 2
}
