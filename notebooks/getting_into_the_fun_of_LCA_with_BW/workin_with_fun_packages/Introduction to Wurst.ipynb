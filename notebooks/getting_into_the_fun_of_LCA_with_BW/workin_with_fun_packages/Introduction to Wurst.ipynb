{
 "cells": [
  {
   "cell_type": "markdown",
   "metadata": {},
   "source": [
    "# Introduction to `Wurst`\n",
    "\n",
    "This notebook shows some basics on how to use the [Wurst](https://github.com/IndEcol/wurst) library.\n",
    "\n",
    "The life cycle of a Wurst run is to load some data, perform some data transformations, and then save the data in a suitable form. Wurst knows about the five following generic transformation types:\n",
    "\n",
    "* Add new datasets. This doesn't require a transformation function, just add the new datasets to your existing list of datasets, making sure that they have the same format.\n",
    "* Scale inputs and emissions by a constant factor. In many cases, you know that the efficiency of a process will increase over time. You can then scale all fuel and raw material inputs and emissions by that increased efficiency.\n",
    "* Change specific emissions or inputs. Not all emissions are correlated with their inputs - some are driven by pollution control technologies. Making specific changes does require a transformation function, but there isn't a generic one in Wurst, as these types of changes are specific enough that it makes sense to write the function yourself.\n",
    "* Break up regional datasets. This is relatively simple - just copy a dataset using `copy_to_new_location`, and then use `relink_technosphere_exchanges`. See below for implementation details.\n",
    "* Redefine markets. A common output from a future scenario is a new market mix of technologies. It is normally easier to add the new markets inputs manually, but Wurst does have a function to empty markets, so they can be redefined.\n",
    "\n",
    "## Loading data\n",
    "\n",
    "You can load data from whatever data source you prefer; in this case, we will get data using a database already imported into Brightway. However, you can use any other data source, as long as it conforms to the [Wurst expected data format](https://wurst.readthedocs.io/#internal-data-format)."
   ]
  },
  {
   "cell_type": "code",
   "execution_count": 1,
   "metadata": {},
   "outputs": [],
   "source": [
    "import wurst as w\n",
    "import brightway2 as bw"
   ]
  },
  {
   "cell_type": "code",
   "execution_count": 4,
   "metadata": {},
   "outputs": [
    {
     "name": "stdout",
     "output_type": "stream",
     "text": [
      "Getting activity data\n"
     ]
    },
    {
     "name": "stderr",
     "output_type": "stream",
     "text": [
      "100%|██████████| 13831/13831 [00:00<00:00, 101845.35it/s]\n"
     ]
    },
    {
     "name": "stdout",
     "output_type": "stream",
     "text": [
      "Adding exchange data to activities\n"
     ]
    },
    {
     "name": "stderr",
     "output_type": "stream",
     "text": [
      "100%|██████████| 501148/501148 [00:43<00:00, 11422.64it/s]\n",
      "  0%|          | 20/13831 [00:00<01:31, 150.45it/s]"
     ]
    },
    {
     "name": "stdout",
     "output_type": "stream",
     "text": [
      "Filling out exchange data\n"
     ]
    },
    {
     "name": "stderr",
     "output_type": "stream",
     "text": [
      "100%|██████████| 13831/13831 [00:02<00:00, 4703.96it/s]\n"
     ]
    }
   ],
   "source": [
    "data = w.extract_brightway2_databases([\"ecoinvent 3.3 cutoff\"])"
   ]
  },
  {
   "cell_type": "markdown",
   "metadata": {},
   "source": [
    "## Searching\n",
    "\n",
    "One fundamental part of all transformations is finding the data you are interested in. The Wurst framework is built around the idea of composable filters - filters that you can define for many datasets (e.g. all electricity), and then make more specific. Here is an example:"
   ]
  },
  {
   "cell_type": "code",
   "execution_count": 5,
   "metadata": {
    "collapsed": true
   },
   "outputs": [],
   "source": [
    "electricity_unit = [w.equals(\"unit\", \"kilowatt hour\")]\n",
    "natural_gas = electricity_unit + [w.contains(\"name\", \"natural gas\")]\n",
    "combined_cycle = natural_gas + [w.contains(\"name\", \"combined cycle\")]"
   ]
  },
  {
   "cell_type": "markdown",
   "metadata": {},
   "source": [
    "You can find all the searching filters listed in the [documentation](https://wurst.readthedocs.io/technical.html#searching).\n",
    "\n",
    "Searching functions are a list of filters, which you can't use directly:"
   ]
  },
  {
   "cell_type": "code",
   "execution_count": 6,
   "metadata": {},
   "outputs": [
    {
     "ename": "TypeError",
     "evalue": "'list' object is not callable",
     "output_type": "error",
     "traceback": [
      "\u001b[0;31m---------------------------------------------------------------------------\u001b[0m",
      "\u001b[0;31mTypeError\u001b[0m                                 Traceback (most recent call last)",
      "\u001b[0;32m<ipython-input-6-4f743e4097b5>\u001b[0m in \u001b[0;36m<module>\u001b[0;34m()\u001b[0m\n\u001b[0;32m----> 1\u001b[0;31m \u001b[0mcombined_cycle\u001b[0m\u001b[0;34m(\u001b[0m\u001b[0mdata\u001b[0m\u001b[0;34m)\u001b[0m\u001b[0;34m\u001b[0m\u001b[0m\n\u001b[0m",
      "\u001b[0;31mTypeError\u001b[0m: 'list' object is not callable"
     ]
    }
   ],
   "source": [
    "combined_cycle(data)"
   ]
  },
  {
   "cell_type": "markdown",
   "metadata": {},
   "source": [
    "Instead, we use the functions `get_one` or `get_many`. However, this returns a [generator](https://www.learnpython.org/en/Generators), which won't do anything until you call it and iterate over the results:"
   ]
  },
  {
   "cell_type": "code",
   "execution_count": 7,
   "metadata": {},
   "outputs": [
    {
     "data": {
      "text/plain": [
       "<filter at 0x11e8bb128>"
      ]
     },
     "execution_count": 7,
     "metadata": {},
     "output_type": "execute_result"
    }
   ],
   "source": [
    "w.get_many(data, *combined_cycle)"
   ]
  },
  {
   "cell_type": "markdown",
   "metadata": {},
   "source": [
    "Normally we would iterate over this sequence and modify each dataset; here, we will just get the number of datasets returned:"
   ]
  },
  {
   "cell_type": "code",
   "execution_count": 9,
   "metadata": {},
   "outputs": [
    {
     "data": {
      "text/plain": [
       "121"
      ]
     },
     "execution_count": 9,
     "metadata": {},
     "output_type": "execute_result"
    }
   ],
   "source": [
    "len(list(w.get_many(data, *combined_cycle)))"
   ]
  },
  {
   "cell_type": "markdown",
   "metadata": {},
   "source": [
    "`get_one` and `get_many` take as inputs the data, and any number of functions; we could also do the following:"
   ]
  },
  {
   "cell_type": "code",
   "execution_count": 10,
   "metadata": {},
   "outputs": [
    {
     "data": {
      "text/plain": [
       "306"
      ]
     },
     "execution_count": 10,
     "metadata": {},
     "output_type": "execute_result"
    }
   ],
   "source": [
    "len(list(w.get_many(data, w.equals(\"unit\", \"kilowatt hour\"), w.contains(\"name\", \"natural gas\"))))"
   ]
  },
  {
   "cell_type": "markdown",
   "metadata": {},
   "source": [
    "Because our filters are already in a list, we need to expand that list to a series of input arguments; `*` will pass each filter as a separate argument. See also [Stack Overflow](https://stackoverflow.com/questions/36901/what-does-double-star-asterisk-and-star-asterisk-do-for-parameters)."
   ]
  },
  {
   "cell_type": "markdown",
   "metadata": {},
   "source": [
    "## Linking and unlinking\n",
    "\n",
    "Datasets in Wurst have the links between input and output datasets broken on purpose. So, instead of any exchange being defined by `{'input': 'some unique id', 'output': 'some other unqiue id'}`, the input is defined by its properties, such as the activity name, the product name, the location, and the unit. These can be manipulated to point to new activities, or even split into several different providers. Relinking is done using the [linking functions](http://wurst.readthedocs.io/technical.html#linking); relinking happens automatically when writing to Brightway."
   ]
  },
  {
   "cell_type": "markdown",
   "metadata": {},
   "source": [
    "## Scaling by a constant factor\n",
    "\n",
    "The function [`change_exchanges_by_constant_factor`](http://wurst.readthedocs.io/technical.html#wurst.transformations.activity.change_exchanges_by_constant_factor) takes the following arguments:\n",
    "\n",
    "* ``ds`` is a dataset document.\n",
    "* ``value`` is a number. Existing exchange amounts will be multiplied by this number.\n",
    "* ``technosphere_filters`` is an iterable of filter functions. Optional.\n",
    "* ``biosphere_filters`` is an iterable of filter functions. Optional.\n",
    "\n",
    "The filter arguments use the same searching syntax as above.\n",
    "\n",
    "Note that production exchanges are not scaled, only technosphere inputs and biosphere flows.\n",
    "\n",
    "Here is an example - we make all combined cycle plants 10% more fuel efficient, but don't change the water flows, as these scaled by power output (maybe, this is just an example)."
   ]
  },
  {
   "cell_type": "code",
   "execution_count": 13,
   "metadata": {
    "collapsed": true
   },
   "outputs": [],
   "source": [
    "for ds in w.get_many(data, *combined_cycle):\n",
    "    w.change_exchanges_by_constant_factor(ds, 0.9, biosphere_filters=[w.contains('name', 'water')])"
   ]
  },
  {
   "cell_type": "markdown",
   "metadata": {},
   "source": [
    "## Substitute specific exchanges\n",
    "\n",
    "As stated above, there isn't a generic function for this; rather, you just search for the appropriate exchanges are change them manually.\n",
    "\n",
    "For example, let's change the amount of carbon dioxide in a particular plant from 0.58 kg per kWh to 1.0 kg per kWh. As this exchange is uncertain, we use the utility function `rescale_exchange`; otherwise, the `amount` field would not be in agreement with the uncertainty fields."
   ]
  },
  {
   "cell_type": "code",
   "execution_count": 17,
   "metadata": {},
   "outputs": [
    {
     "data": {
      "text/plain": [
       "{'amount': 1.0,\n",
       " 'categories': ('air', 'non-urban air or from high stacks'),\n",
       " 'input': ('biosphere3', 'aa7cac3a-3625-41d4-bc54-33e2cf11ec46'),\n",
       " 'loc': 1.0,\n",
       " 'location': None,\n",
       " 'name': 'Carbon dioxide, fossil',\n",
       " 'pedigree': {'completeness': 3,\n",
       "  'further technological correlation': 3,\n",
       "  'geographical correlation': 3,\n",
       "  'reliability': 3,\n",
       "  'temporal correlation': 5},\n",
       " 'product': None,\n",
       " 'production volume': 0.0,\n",
       " 'scale': 0.2264950330581225,\n",
       " 'type': 'biosphere',\n",
       " 'uncertainty type': 0,\n",
       " 'unit': 'kilogram'}"
      ]
     },
     "execution_count": 17,
     "metadata": {},
     "output_type": "execute_result"
    }
   ],
   "source": [
    "ng_in_shangdong = w.get_one(data, w.equals('location', 'CN-SD'), *combined_cycle)\n",
    "our_exc = w.get_one(w.biosphere(ng_in_shangdong), w.equals('name', 'Carbon dioxide, fossil'))\n",
    "w.rescale_exchange(our_exc, 1. / our_exc['amount'])"
   ]
  },
  {
   "cell_type": "markdown",
   "metadata": {
    "collapsed": true
   },
   "source": [
    "## Relinking in space\n",
    "\n",
    "Adding new activites often means that exchanges need to be adjusted to include or substitute the new activities. Wurst provies the function [`relink_technosphere_exchanges`](https://wurst.readthedocs.io/#spatial-relationships), which will try to find inputs with the correct activity name, product, and unit. \n",
    "\n",
    "The behaviour of this function changes considerably depending on the input arguments. `contained` (default is `True`) will control whether inputs shuld only be considered it their location is completely contained within the location of the consuming activity; the alternative is to consider all locations which intersect the containing activity. `exclusive` (default is `True`) will constrol whether the input locations are allowed to overlap - if `exlusive` is true, then no overlap is allowed. `exclusive` will start with the smallest input locations if `biggest_first` is true (default is ``False``); otherwise it will start with the largest input location.\n",
    "\n",
    "A `RoW` input will be added if there is a single topological face in the location of the consuming activity's location which isn’t covered by the location of any providing activity.\n",
    "\n",
    "If no providers can be found, `relink_technosphere_exchanes` will try to add a `GLO` provider if available. If there are still no valid providers, a `InvalidLink` exception is raised, unless `drop_invalid` is `True`, in which case the exchange will be deleted.\n",
    "\n",
    "Allocation amoung input activities is done using the function [`allocate_inputs`](https://wurst.readthedocs.io/technical.html#geo-functions).\n",
    "\n",
    "For details on the underlying `Geomatcher` object, see the [constructive_geometries library](https://github.com/cmutel/constructive_geometries) and [example notebook](https://github.com/cmutel/constructive_geometries/blob/master/examples/Geomatching.ipynb).\n",
    "\n",
    "The following example shows one possible application for the UN subregion [Northern Europe](https://unstats.un.org/unsd/methodology/m49/)."
   ]
  },
  {
   "cell_type": "code",
   "execution_count": 2,
   "metadata": {},
   "outputs": [
    {
     "data": {
      "text/plain": [
       "{'exchanges': [{'amount': 3.333333333333333,\n",
       "   'loc': 3.333333333333333,\n",
       "   'location': 'SE',\n",
       "   'name': 'A',\n",
       "   'product': 'B',\n",
       "   'type': 'technosphere',\n",
       "   'uncertainty type': 0,\n",
       "   'unit': 'C'},\n",
       "  {'amount': 3.333333333333333,\n",
       "   'loc': 3.333333333333333,\n",
       "   'location': 'NO',\n",
       "   'name': 'A',\n",
       "   'product': 'B',\n",
       "   'type': 'technosphere',\n",
       "   'uncertainty type': 0,\n",
       "   'unit': 'C'},\n",
       "  {'amount': 3.333333333333333,\n",
       "   'loc': 3.333333333333333,\n",
       "   'location': 'RoW',\n",
       "   'name': 'A',\n",
       "   'product': 'B',\n",
       "   'type': 'technosphere',\n",
       "   'uncertainty type': 0,\n",
       "   'unit': 'C'}],\n",
       " 'location': ('ecoinvent', 'UN-NEUROPE')}"
      ]
     },
     "execution_count": 2,
     "metadata": {},
     "output_type": "execute_result"
    }
   ],
   "source": [
    "ds = {\n",
    "    'location': ('ecoinvent', 'UN-NEUROPE'),\n",
    "    'exchanges': [{\n",
    "        'name': 'A', 'product': 'B', 'unit': 'C',\n",
    "        'amount': 10,\n",
    "        'type': 'technosphere',\n",
    "    }]\n",
    "}\n",
    "given_data = [{\n",
    "    'name': 'A', 'reference product': 'B', 'unit': 'C',\n",
    "    'location': 'SE',\n",
    "    'exchanges': [{\n",
    "        'type': 'production', 'amount': 1,\n",
    "        'production volume': 2,\n",
    "    }]\n",
    "}, {\n",
    "    'name': 'A', 'reference product': 'B', 'unit': 'C',\n",
    "    'location': 'NO',\n",
    "    'exchanges': [{\n",
    "        'type': 'production', 'amount': 1,\n",
    "        'production volume': 4,\n",
    "    }]\n",
    "}]\n",
    "new_data = [{\n",
    "    'name': 'A', 'reference product': 'B', 'unit': 'C',\n",
    "    'location': 'RoW', # RoW means allocation by production volume isn't possible, instead split evenly\n",
    "    'exchanges': [{\n",
    "        'type': 'production', 'amount': 1,\n",
    "        'production volume': 14,\n",
    "    }]\n",
    "}, {\n",
    "    'name': 'D', 'reference product': 'E', 'unit': 'F',\n",
    "    'location': 'DK', # Right location but wrong activity\n",
    "    'exchanges': [{\n",
    "        'type': 'production', 'amount': 1,\n",
    "        'production volume': 1,\n",
    "    }]\n",
    "}]\n",
    "w.relink_technosphere_exchanges(ds, given_data + new_data)"
   ]
  },
  {
   "cell_type": "code",
   "execution_count": null,
   "metadata": {
    "collapsed": true
   },
   "outputs": [],
   "source": []
  }
 ],
 "metadata": {
  "kernelspec": {
   "display_name": "Python 3",
   "language": "python",
   "name": "python3"
  },
  "language_info": {
   "codemirror_mode": {
    "name": "ipython",
    "version": 3
   },
   "file_extension": ".py",
   "mimetype": "text/x-python",
   "name": "python",
   "nbconvert_exporter": "python",
   "pygments_lexer": "ipython3",
   "version": "3.6.1"
  }
 },
 "nbformat": 4,
 "nbformat_minor": 2
}
