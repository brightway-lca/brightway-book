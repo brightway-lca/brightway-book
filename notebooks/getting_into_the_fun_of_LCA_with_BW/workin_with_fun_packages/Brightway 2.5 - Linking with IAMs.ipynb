{
 "cells": [
  {
   "cell_type": "markdown",
   "id": "elementary-activation",
   "metadata": {
    "slideshow": {
     "slide_type": "slide"
    }
   },
   "source": [
    "# Brightway 2.5 - Linking with IAMs\n",
    "\n",
    "The next generation of Brightway aims to make IAM integration easier.\n",
    "\n",
    "Brightway is a matrix-based LCA software. This means that, in the end, we need to describe whatever system we are going to model in a set of linear equations and coefficients. IAMs provide new data - new coefficients. The current pain point is how to get these coefficients into the system."
   ]
  },
  {
   "cell_type": "markdown",
   "id": "double-customs",
   "metadata": {
    "slideshow": {
     "slide_type": "subslide"
    }
   },
   "source": [
    "## The current apporach\n",
    "\n",
    "The new coefficients are used to create a *complete* new copy of ecoinvent+. \n",
    "\n",
    "* Slow! New data stored in a relational database, and then extracted again\n",
    "* Takes a lot of disk space and memory\n",
    "* Need a complete installation of the Brightway and import ecoinvent\n",
    "    * Dispatching calculations to cloud almost impossible"
   ]
  },
  {
   "cell_type": "markdown",
   "id": "married-examination",
   "metadata": {
    "slideshow": {
     "slide_type": "subslide"
    }
   },
   "source": [
    "# The new approach\n",
    "\n",
    "* Only store deltas, not complete databases\n",
    "    * Delta datasets can introduce new activities\n",
    "* Storage format easy and fast \n",
    "    * Supports storage anywhere\n",
    "* LCA calculations without Brightway fluff"
   ]
  },
  {
   "cell_type": "markdown",
   "id": "dominant-forwarding",
   "metadata": {
    "slideshow": {
     "slide_type": "skip"
    }
   },
   "source": [
    "## Installation\n",
    "\n",
    "* Install [conda](https://docs.conda.io/en/latest/) or miniconda. We use conda as it has a [very fast sparse library](https://www.pardiso-project.org/).\n",
    "* Create a new conda environment using conda or (better) [mamba](https://mamba-framework.readthedocs.io/en/latest/):\n",
    "\n",
    "```\n",
    "    mamba create -y -n bw25test -c conda-forge -c cmutel -c bsteubing -c haasad -c pascallesage pypardiso python=3.8 fs scipy numpy pandas stats_arrays appdirs pip\n",
    "```\n",
    "\n",
    "* Activate this environment following the instructions for your OS\n",
    "\n",
    "* In your `bw25test` environment, install the new development libraries directly from github:\n",
    "\n",
    "```\n",
    "    pip install https://github.com/brightway-lca/bw_processing/archive/master.zip\n",
    "    pip install https://github.com/brightway-lca/matrix_utils/archive/main.zip\n",
    "    pip install https://github.com/brightway-lca/brightway2-calc/archive/master.zip\n",
    "```"
   ]
  },
  {
   "cell_type": "markdown",
   "id": "colonial-ministry",
   "metadata": {
    "slideshow": {
     "slide_type": "skip"
    }
   },
   "source": [
    "## Notebook setup\n",
    "\n",
    "Import new libraries ([bw_processing](https://github.com/brightway-lca/bw_processing) and [matrix_utils](https://github.com/brightway-lca/matrix_utils))"
   ]
  },
  {
   "cell_type": "code",
   "execution_count": 41,
   "id": "improved-blackberry",
   "metadata": {
    "slideshow": {
     "slide_type": "skip"
    }
   },
   "outputs": [],
   "source": [
    "import numpy as np\n",
    "import bw_processing as bwp\n",
    "from bw2calc.lca import LCA"
   ]
  },
  {
   "cell_type": "markdown",
   "id": "still-confidentiality",
   "metadata": {
    "slideshow": {
     "slide_type": "slide"
    }
   },
   "source": [
    "# Simple example with in-memory data packages\n",
    "\n",
    "Create a \"data package\":\n",
    "\n",
    "* Set of data resources used to construct matrices\n",
    "    * With metadata following [Data Package standard](https://specs.frictionlessdata.io/data-package/).\n",
    "* Use [PyFilesystem2](https://docs.pyfilesystem.org/en/latest/) for many logical or virtual filesystems"
   ]
  },
  {
   "cell_type": "code",
   "execution_count": 46,
   "id": "continuing-genesis",
   "metadata": {
    "slideshow": {
     "slide_type": "subslide"
    }
   },
   "outputs": [],
   "source": [
    "dp = bwp.create_datapackage()"
   ]
  },
  {
   "cell_type": "markdown",
   "id": "worldwide-helena",
   "metadata": {
    "slideshow": {
     "slide_type": "skip"
    }
   },
   "source": [
    "In memory is the default, we could also make it explicit:\n",
    "\n",
    "```\n",
    "from fs.memoryfs import MemoryFS\n",
    "dp = bwp.create_datapackage(MemoryFS())\n",
    "```\n",
    "\n",
    "We can also store data on network drives, via FTP, on cloud platforms, etc. etc. There is a lot of potential here!"
   ]
  },
  {
   "cell_type": "markdown",
   "id": "stock-military",
   "metadata": {
    "slideshow": {
     "slide_type": "fragment"
    }
   },
   "source": [
    "Add data. Each matrix (in this case) is constructed by one simple resource. We have the ability, however, to support more complex resource types :)\n",
    "\n",
    "BTW, in our number scheme, 1xx are products, 4xx are activities, and 2xx are elementary (biosphere) flows."
   ]
  },
  {
   "cell_type": "code",
   "execution_count": 47,
   "id": "ongoing-container",
   "metadata": {
    "slideshow": {
     "slide_type": "fragment"
    }
   },
   "outputs": [],
   "source": [
    "dp.add_persistent_vector(\n",
    "    matrix=\"technosphere_matrix\",\n",
    "    indices_array=np.array(\n",
    "        [(100, 400), (101, 401), (102, 402), (103, 403),  # Production\n",
    "         (100, 401), (101, 402), (101, 403), (102, 403)], # Inputs\n",
    "        dtype=bwp.INDICES_DTYPE  # Means first element is row, second is column\n",
    "    ),\n",
    "    flip_array=np.array([\n",
    "        False, False, False, False, # Production\n",
    "        True, True, True, True      # Inputs\n",
    "    ]),\n",
    "    data_array=np.array([\n",
    "        1, 1, 1, 1,  # Production\n",
    "        2, 4, 8, 16  # Inputs\n",
    "    ]),\n",
    ")\n",
    "dp.add_persistent_vector(\n",
    "    matrix=\"biosphere_matrix\",\n",
    "    indices_array=np.array(\n",
    "        [(200, 400), (200, 401), (200, 402), (200, 403), (201, 400), (201, 402)], dtype=bwp.INDICES_DTYPE\n",
    "    ),\n",
    "    data_array=np.arange(6),\n",
    ")\n",
    "dp.add_persistent_vector(\n",
    "    matrix=\"characterization_matrix\",\n",
    "    indices_array=np.array(\n",
    "        [(200, 200), (201, 201)], dtype=bwp.INDICES_DTYPE\n",
    "    ),\n",
    "    data_array=np.array([1, 10]),\n",
    ")"
   ]
  },
  {
   "cell_type": "markdown",
   "id": "simple-armstrong",
   "metadata": {
    "slideshow": {
     "slide_type": "skip"
    }
   },
   "source": [
    "Building an LCA is then as simple as the functional unit and the data packages"
   ]
  },
  {
   "cell_type": "code",
   "execution_count": 48,
   "id": "selective-checkout",
   "metadata": {
    "slideshow": {
     "slide_type": "fragment"
    }
   },
   "outputs": [
    {
     "data": {
      "text/plain": [
       "6667.0"
      ]
     },
     "execution_count": 48,
     "metadata": {},
     "output_type": "execute_result"
    }
   ],
   "source": [
    "lca = LCA(demand={103: 1}, data_objs=[dp])\n",
    "lca.lci()\n",
    "lca.lcia()\n",
    "lca.score"
   ]
  },
  {
   "cell_type": "markdown",
   "id": "anonymous-setup",
   "metadata": {},
   "source": [
    "# Using interfaces to generate data on demand"
   ]
  },
  {
   "cell_type": "markdown",
   "id": "closed-polymer",
   "metadata": {},
   "source": [
    "Let's increase the complexity. Sometimes we need to generate data on the fly. This we can do through \"interfaces\", Python code that generates data or wraps other data sources. These interfaces follow a very simple [bw_processing standard API](https://github.com/brightway-lca/bw_processing#persistent-versus-dynamic).\n",
    "\n",
    "Intefaces can be classes:"
   ]
  },
  {
   "cell_type": "code",
   "execution_count": 49,
   "id": "crude-curtis",
   "metadata": {},
   "outputs": [],
   "source": [
    "class ExampleVectorInterface:\n",
    "    def __next__(self):\n",
    "        return np.array([1, 1, 1, 1, 2, 4, 8, 16], dtype=np.float64)"
   ]
  },
  {
   "cell_type": "markdown",
   "id": "distinguished-perry",
   "metadata": {},
   "source": [
    "`__next__` just means we can call `next()` on the object:"
   ]
  },
  {
   "cell_type": "code",
   "execution_count": 50,
   "id": "center-jesus",
   "metadata": {},
   "outputs": [
    {
     "data": {
      "text/plain": [
       "array([ 1.,  1.,  1.,  1.,  2.,  4.,  8., 16.])"
      ]
     },
     "execution_count": 50,
     "metadata": {},
     "output_type": "execute_result"
    }
   ],
   "source": [
    "next(ExampleVectorInterface())"
   ]
  },
  {
   "cell_type": "markdown",
   "id": "tropical-madagascar",
   "metadata": {},
   "source": [
    "Of course, generator functions also support `next()`, and can be used:"
   ]
  },
  {
   "cell_type": "code",
   "execution_count": 51,
   "id": "identified-facing",
   "metadata": {},
   "outputs": [],
   "source": [
    "from itertools import repeat\n",
    "vector_interface = repeat(np.array([1, 1, 1, 1, 2, 4, 8, 16], dtype=np.float64))"
   ]
  },
  {
   "cell_type": "markdown",
   "id": "liked-miniature",
   "metadata": {},
   "source": [
    "Interfaces in action:"
   ]
  },
  {
   "cell_type": "code",
   "execution_count": 52,
   "id": "revolutionary-pregnancy",
   "metadata": {},
   "outputs": [],
   "source": [
    "dp_vector = bwp.create_datapackage()\n",
    "dp_vector.add_dynamic_vector(\n",
    "    matrix=\"technosphere_matrix\",\n",
    "    interface=ExampleVectorInterface(),  # <- This is the part that changed\n",
    "    indices_array=np.array(\n",
    "        [(100, 100), (101, 101), (102, 102), (103, 103),  # Production\n",
    "         (100, 101), (101, 102), (101, 103), (102, 103)], # Inputs\n",
    "        dtype=bwp.INDICES_DTYPE  # Means first element is row, second is column\n",
    "    ),\n",
    "    flip_array=np.array([\n",
    "        False, False, False, False, # Production\n",
    "        True, True, True, True      # Inputs\n",
    "    ]),\n",
    ")\n",
    "dp_vector.add_persistent_vector(\n",
    "    matrix=\"biosphere_matrix\",\n",
    "    indices_array=np.array(\n",
    "        [(200, 100), (200, 101), (200, 102), (200, 103), (201, 100), (201, 102)], dtype=bwp.INDICES_DTYPE\n",
    "    ),\n",
    "    data_array=np.arange(6),\n",
    ")\n",
    "dp_vector.add_persistent_vector(\n",
    "    matrix=\"characterization_matrix\",\n",
    "    indices_array=np.array(\n",
    "        [(200, 200), (201, 201)], dtype=bwp.INDICES_DTYPE\n",
    "    ),\n",
    "    data_array=np.array([1, 10]),\n",
    ")"
   ]
  },
  {
   "cell_type": "code",
   "execution_count": 53,
   "id": "banned-russell",
   "metadata": {},
   "outputs": [
    {
     "data": {
      "text/plain": [
       "6667.0"
      ]
     },
     "execution_count": 53,
     "metadata": {},
     "output_type": "execute_result"
    }
   ],
   "source": [
    "lca = LCA(demand={103: 1}, data_objs=[dp_vector])\n",
    "lca.lci()\n",
    "lca.lcia()\n",
    "lca.score"
   ]
  },
  {
   "cell_type": "markdown",
   "id": "tough-thomas",
   "metadata": {},
   "source": [
    "For future reference, here is the produced technosphere matrix:"
   ]
  },
  {
   "cell_type": "code",
   "execution_count": null,
   "id": "joined-occasion",
   "metadata": {},
   "outputs": [],
   "source": [
    "lca.technosphere_matrix.todense()"
   ]
  },
  {
   "cell_type": "markdown",
   "id": "flexible-order",
   "metadata": {},
   "source": [
    "# Interfaces with stochastic data"
   ]
  },
  {
   "cell_type": "markdown",
   "id": "perfect-dayton",
   "metadata": {},
   "source": [
    "We can even treat the interface as a stochastic data source that overwrite existing values. We create an interface that will return some random data:"
   ]
  },
  {
   "cell_type": "code",
   "execution_count": 54,
   "id": "drawn-holocaust",
   "metadata": {},
   "outputs": [],
   "source": [
    "class RandomInterface:\n",
    "    def __next__(self):\n",
    "        return np.hstack([\n",
    "            np.random.random() * np.array([8, 16])\n",
    "        ])"
   ]
  },
  {
   "cell_type": "markdown",
   "id": "separated-excerpt",
   "metadata": {},
   "source": [
    "And now we create an interface that will overwrite some of the static values.\n",
    "\n",
    "Data package behaviour on conflicting data points is controlled by the `sum_intra_duplicates` and `sum_inter_duplicates` [policies](https://github.com/brightway-lca/bw_processing#policies)."
   ]
  },
  {
   "cell_type": "code",
   "execution_count": 57,
   "id": "completed-complex",
   "metadata": {},
   "outputs": [],
   "source": [
    "overwriter = bwp.create_datapackage()"
   ]
  },
  {
   "cell_type": "code",
   "execution_count": 58,
   "id": "lesbian-arabic",
   "metadata": {},
   "outputs": [],
   "source": [
    "overwriter.add_dynamic_vector(\n",
    "    matrix=\"technosphere_matrix\",\n",
    "    interface=RandomInterface(),\n",
    "    indices_array=np.array(\n",
    "        [(101, 403), (102, 403)],  # Indices of the values that will be overwritten\n",
    "        dtype=bwp.INDICES_DTYPE   \n",
    "    ),\n",
    "    flip_array=np.array([           \n",
    "        True, True      # Inputs\n",
    "    ]),\n",
    ")"
   ]
  },
  {
   "cell_type": "markdown",
   "id": "congressional-thong",
   "metadata": {},
   "source": [
    "We can now iterate over the LCA class. It will draw new data from the stochastic resources each time."
   ]
  },
  {
   "cell_type": "code",
   "execution_count": 59,
   "id": "hourly-modem",
   "metadata": {},
   "outputs": [
    {
     "name": "stdout",
     "output_type": "stream",
     "text": [
      "8877.184761730492\n",
      "12886.406100229011\n",
      "12491.248110841014\n",
      "9647.550954112308\n",
      "7744.917704310206\n",
      "8423.230391439525\n",
      "12951.146663399293\n",
      "8627.053079543732\n",
      "10214.5514927928\n",
      "11899.761827211625\n"
     ]
    }
   ],
   "source": [
    "lca = LCA(demand={103: 1}, data_objs=[dp, overwriter])\n",
    "lca.lci()\n",
    "lca.lcia()\n",
    "\n",
    "for _ in range(10):\n",
    "    next(lca)\n",
    "    print(lca.score)"
   ]
  },
  {
   "cell_type": "markdown",
   "id": "second-trick",
   "metadata": {},
   "source": [
    "# Different system configurations\n",
    "\n",
    "As a reminder, our base matrix looks like:\n",
    "\n",
    "```\n",
    "matrix([[  1.,  -2.,   0.,   0.],\n",
    "        [  0.,   1.,  -4.,  -8.],\n",
    "        [  0.,   0.,   1., -16.],\n",
    "        [  0.,   0.,   0.,   1.]])\n",
    "```\n",
    "\n",
    "The rows (products) are `100, 101, 102, 103`, and the columns (activities) are `400, 401, 402, 403`.\n",
    "\n",
    "Sometimes we want to imagine different system configurations or allocation strategies. Let's imagine that activity 103 could be split two different ways, creating virtual activities `404` and `405`. To keep the matrix square, they also need virtual products `104` and `105`. We can then define an *array* of the different allocation results:"
   ]
  },
  {
   "cell_type": "code",
   "execution_count": 61,
   "id": "lesser-station",
   "metadata": {},
   "outputs": [],
   "source": [
    "systems_array = np.array([\n",
    "    [-10, -6],  # Amount of 101 needed by 404\n",
    "    [-6, -10],  # Amount of 101 needed by 405\n",
    "    [0, -20],   # Amount of 102 needed by 404\n",
    "    [-20, 0],   # Amount of 102 needed by 405\n",
    "    [1, 1],     # Production of 404\n",
    "    [1, 1],     # Production of 405\n",
    "])\n",
    "\n",
    "systems_indices = np.array(\n",
    "    [(101, 404), (101, 405), (102, 404), (102, 405), (104, 404), (105, 405)],\n",
    "    dtype=bwp.INDICES_DTYPE   \n",
    ")"
   ]
  },
  {
   "cell_type": "markdown",
   "id": "included-collective",
   "metadata": {},
   "source": [
    "One thing that is a change versus previous behaviour in e.g. [presamples](https://github.com/PascalLesage/presamples/) is that we can directly specify new elements in the matrix."
   ]
  },
  {
   "cell_type": "code",
   "execution_count": 62,
   "id": "peaceful-destiny",
   "metadata": {},
   "outputs": [],
   "source": [
    "allocations = bwp.create_datapackage(sequential=True)  # Force different possibilities to evaluated in order"
   ]
  },
  {
   "cell_type": "code",
   "execution_count": 63,
   "id": "mineral-tower",
   "metadata": {},
   "outputs": [],
   "source": [
    "allocations.add_persistent_array(\n",
    "    matrix=\"technosphere_matrix\",\n",
    "    data_array=systems_array,\n",
    "    indices_array=systems_indices,\n",
    ")"
   ]
  },
  {
   "cell_type": "code",
   "execution_count": 64,
   "id": "hispanic-landscape",
   "metadata": {},
   "outputs": [
    {
     "name": "stdout",
     "output_type": "stream",
     "text": [
      "[[  1.  -2.   0.   0.   0.   0.]\n",
      " [  0.   1.  -4.  -8. -10.  -6.]\n",
      " [  0.   0.   1. -16.   0. -20.]\n",
      " [  0.   0.   0.   1.   0.   0.]\n",
      " [  0.   0.   0.   0.   1.   0.]\n",
      " [  0.   0.   0.   0.   0.   1.]]\n",
      "810.0\n"
     ]
    }
   ],
   "source": [
    "lca = LCA(demand={104: 1}, data_objs=[dp, allocations], use_arrays=True)\n",
    "lca.lci()\n",
    "lca.lcia()\n",
    "print(lca.technosphere_matrix.todense())\n",
    "print(lca.score)"
   ]
  },
  {
   "cell_type": "code",
   "execution_count": 65,
   "id": "stupid-gossip",
   "metadata": {},
   "outputs": [
    {
     "name": "stdout",
     "output_type": "stream",
     "text": [
      "[[  1.  -2.   0.   0.   0.   0.]\n",
      " [  0.   1.  -4.  -8.  -6. -10.]\n",
      " [  0.   0.   1. -16. -20.   0.]\n",
      " [  0.   0.   0.   1.   0.   0.]\n",
      " [  0.   0.   0.   0.   1.   0.]\n",
      " [  0.   0.   0.   0.   0.   1.]]\n",
      "8006.0\n"
     ]
    }
   ],
   "source": [
    "next(lca)\n",
    "print(lca.technosphere_matrix.todense())\n",
    "print(lca.score)"
   ]
  },
  {
   "cell_type": "markdown",
   "id": "twenty-sense",
   "metadata": {},
   "source": [
    "Sequential indices will wrap around to zero, so they be iterated over again:"
   ]
  },
  {
   "cell_type": "code",
   "execution_count": 66,
   "id": "copyrighted-modification",
   "metadata": {},
   "outputs": [
    {
     "name": "stdout",
     "output_type": "stream",
     "text": [
      "810.0\n",
      "8006.0\n",
      "810.0\n",
      "8006.0\n"
     ]
    }
   ],
   "source": [
    "for _ in range(4):\n",
    "    next(lca)\n",
    "    print(lca.score)"
   ]
  },
  {
   "cell_type": "markdown",
   "id": "competitive-bacon",
   "metadata": {},
   "source": [
    "# Conclusions\n",
    "\n",
    "New approach will:\n",
    "\n",
    "* Make Alois's and Romain's life easier\n",
    "* Allow for fast LCA calculations to be integrated into REMIND\n",
    "* Allow for calculations to be dispatched to other computers\n",
    "* Allow for \"streaming\" REMIND results into LCA\n",
    "\n",
    "Current status:\n",
    "\n",
    "* Everything but `bw2data` working\n",
    "* Needs tests and more documentation"
   ]
  }
 ],
 "metadata": {
  "kernelspec": {
   "display_name": "Python 3",
   "language": "python",
   "name": "python3"
  },
  "language_info": {
   "codemirror_mode": {
    "name": "ipython",
    "version": 3
   },
   "file_extension": ".py",
   "mimetype": "text/x-python",
   "name": "python",
   "nbconvert_exporter": "python",
   "pygments_lexer": "ipython3",
   "version": "3.7.9"
  }
 },
 "nbformat": 4,
 "nbformat_minor": 5
}
