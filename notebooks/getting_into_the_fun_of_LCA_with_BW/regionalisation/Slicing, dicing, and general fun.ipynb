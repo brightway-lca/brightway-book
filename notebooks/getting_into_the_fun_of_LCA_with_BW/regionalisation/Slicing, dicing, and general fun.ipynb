{
 "cells": [
  {
   "cell_type": "code",
   "execution_count": 1,
   "metadata": {},
   "outputs": [],
   "source": [
    "%matplotlib inline"
   ]
  },
  {
   "cell_type": "code",
   "execution_count": 2,
   "metadata": {},
   "outputs": [],
   "source": [
    "import brightway2 as bw\n",
    "import wurst as w\n",
    "import matplotlib.pyplot as plt\n",
    "import pyprind\n",
    "import numpy as np\n",
    "import pandas as pd"
   ]
  },
  {
   "cell_type": "code",
   "execution_count": 3,
   "metadata": {},
   "outputs": [],
   "source": [
    "if pd.__version__ < '0.22':\n",
    "    print(\"Please update Pandas: conda upgrade pandas\")"
   ]
  },
  {
   "cell_type": "markdown",
   "metadata": {},
   "source": [
    "# Basic setup"
   ]
  },
  {
   "cell_type": "code",
   "execution_count": 4,
   "metadata": {},
   "outputs": [],
   "source": [
    "bw.projects.set_current(\"manipulation blog post notebook\")"
   ]
  },
  {
   "cell_type": "code",
   "execution_count": 4,
   "metadata": {},
   "outputs": [],
   "source": [
    "assert \"biosphere3\" in bw.databases, \"Please run `bw2setup`\"\n",
    "assert \"ecoinvent 3.4 cutoff\" in bw.databases, \"Please import ecoinvent\""
   ]
  },
  {
   "cell_type": "code",
   "execution_count": 9,
   "metadata": {},
   "outputs": [],
   "source": [
    "recipe = ('ReCiPe Endpoint (H,A)', 'total', 'total')\n",
    "ipcc = ('IPCC 2013', 'climate change', 'GWP 100a')"
   ]
  },
  {
   "cell_type": "markdown",
   "metadata": {},
   "source": [
    "# Check on impact of electricity generation\n",
    "\n",
    "We can do this most easily by deleting direct electricity inputs. Simple!\n",
    "\n",
    "Extract `ecoinvent` using Wurst to make manipulation easier."
   ]
  },
  {
   "cell_type": "code",
   "execution_count": 10,
   "metadata": {},
   "outputs": [
    {
     "name": "stdout",
     "output_type": "stream",
     "text": [
      "Getting activity data\n"
     ]
    },
    {
     "name": "stderr",
     "output_type": "stream",
     "text": [
      "100%|██████████| 14889/14889 [00:00<00:00, 95071.71it/s]\n",
      "  0%|          | 2296/520205 [00:00<00:22, 22952.42it/s]"
     ]
    },
    {
     "name": "stdout",
     "output_type": "stream",
     "text": [
      "Adding exchange data to activities\n"
     ]
    },
    {
     "name": "stderr",
     "output_type": "stream",
     "text": [
      "100%|██████████| 520205/520205 [00:36<00:00, 14316.51it/s]\n"
     ]
    },
    {
     "name": "stdout",
     "output_type": "stream",
     "text": [
      "Filling out exchange data\n"
     ]
    },
    {
     "name": "stderr",
     "output_type": "stream",
     "text": [
      "100%|██████████| 14889/14889 [00:02<00:00, 5562.29it/s]\n"
     ]
    }
   ],
   "source": [
    "ecoinvent = w.brightway.extract_brightway2_databases([\"ecoinvent 3.4 cutoff\"])"
   ]
  },
  {
   "cell_type": "markdown",
   "metadata": {},
   "source": [
    "Check to make sure that `kilowatt hour` is always electricity."
   ]
  },
  {
   "cell_type": "code",
   "execution_count": 12,
   "metadata": {},
   "outputs": [
    {
     "data": {
      "text/plain": [
       "{'electricity, for reuse in municipal waste incineration only',\n",
       " 'electricity, high voltage',\n",
       " 'electricity, high voltage, aluminium industry',\n",
       " 'electricity, high voltage, for Swiss Federal Railways',\n",
       " 'electricity, high voltage, for internal use in coal mining',\n",
       " 'electricity, high voltage, label-certified',\n",
       " 'electricity, low voltage',\n",
       " 'electricity, low voltage, label-certified',\n",
       " 'electricity, medium voltage',\n",
       " 'electricity, medium voltage, aluminium industry',\n",
       " 'electricity, medium voltage, label-certified'}"
      ]
     },
     "execution_count": 12,
     "metadata": {},
     "output_type": "execute_result"
    }
   ],
   "source": [
    "{exc['product'] for ds in ecoinvent for exc in ds['exchanges'] if exc['unit'] == 'kilowatt hour'}"
   ]
  },
  {
   "cell_type": "markdown",
   "metadata": {},
   "source": [
    "While we are at it, might as well check to make sure there is no electricity with different units"
   ]
  },
  {
   "cell_type": "code",
   "execution_count": 13,
   "metadata": {},
   "outputs": [
    {
     "data": {
      "text/plain": [
       "{'distribution network, electricity, low voltage',\n",
       " 'energy use and operation emissions, electric bicycle, label-certified electricity',\n",
       " 'foam glass, electricity, label-certified',\n",
       " 'heat and power co-generation unit, 160kW electrical, common components for heat+electricity',\n",
       " 'heat and power co-generation unit, 160kW electrical, components for electricity only',\n",
       " 'heat and power co-generation unit, 1MW electrical, common components for heat+electricity',\n",
       " 'heat and power co-generation unit, 1MW electrical, components for electricity only',\n",
       " 'heat and power co-generation unit, 200kW electrical, common components for heat+electricity',\n",
       " 'heat and power co-generation unit, 200kW electrical, components for electricity only',\n",
       " 'heat and power co-generation unit, 200kW electrical, diesel SCR, common components for heat+electricity',\n",
       " 'heat and power co-generation unit, 200kW electrical, diesel SCR, components for electricity only',\n",
       " 'heat and power co-generation unit, 500kW electrical, common components for heat+electricity',\n",
       " 'heat and power co-generation unit, 500kW electrical, components for electricity only',\n",
       " 'heat and power co-generation unit, 50kW electrical, common components for heat+electricity',\n",
       " 'heat and power co-generation unit, 50kW electrical, components for electricity only',\n",
       " 'heat and power co-generation unit, 6400kW thermal, common components for heat+electricity',\n",
       " 'heat and power co-generation unit, 6400kW thermal, components for electricity only',\n",
       " 'heat and power co-generation unit, organic Rankine cycle, 1400kW thermal, common components, heat+electricity',\n",
       " 'heat and power co-generation unit, organic Rankine cycle, 1400kW thermal, components for electricity only',\n",
       " 'mini CHP plant, common components for heat+electricity',\n",
       " 'mini CHP plant, components for electricity only',\n",
       " 'operation, computer, laptop, 68% active work with internet access 0.2 Mbit/s, label-certified electricity',\n",
       " 'operation, computer, laptop, 68% active work, label-certified electricity',\n",
       " 'operation, computer, laptop, video mode, label-certified electricity',\n",
       " 'operation, computer, laptop, videoconference, label-certified electricity',\n",
       " 'operation, internet access equipment, label-certified electricity',\n",
       " 'transmission network, electricity, high voltage',\n",
       " 'transmission network, electricity, medium voltage',\n",
       " 'transport, passenger, electric bicycle, label-certified electricity'}"
      ]
     },
     "execution_count": 13,
     "metadata": {},
     "output_type": "execute_result"
    }
   ],
   "source": [
    "{exc['product'] for ds in ecoinvent for exc in ds['exchanges'] \n",
    " if exc['unit'] != 'kilowatt hour' and 'electricity' in str(exc['product'])}"
   ]
  },
  {
   "cell_type": "markdown",
   "metadata": {},
   "source": [
    "OK. So,all we need to do is set every exchange that consumes electricity (i.e. has units of `kilowatt hour`) to zero; then the impact of electricity will be the total impact minus the impact in our modified database."
   ]
  },
  {
   "cell_type": "code",
   "execution_count": 14,
   "metadata": {},
   "outputs": [],
   "source": [
    "kwh = w.equals(\"unit\", \"kilowatt hour\")\n",
    "\n",
    "for dataset in ecoinvent:\n",
    "    for exchange in w.technosphere(dataset, kwh):\n",
    "        exchange['amount'] = 0"
   ]
  },
  {
   "cell_type": "markdown",
   "metadata": {},
   "source": [
    "Write the modified database"
   ]
  },
  {
   "cell_type": "code",
   "execution_count": 15,
   "metadata": {},
   "outputs": [
    {
     "name": "stdout",
     "output_type": "stream",
     "text": [
      "14889 datasets\n",
      "520205 exchanges\n",
      "0 unlinked exchanges\n",
      "  \n"
     ]
    },
    {
     "name": "stderr",
     "output_type": "stream",
     "text": [
      "Writing activities to SQLite3 database:\n",
      "0%                          100%\n",
      "[##############################] | ETA: 00:00:00\n",
      "Total time elapsed: 00:01:08\n"
     ]
    },
    {
     "name": "stdout",
     "output_type": "stream",
     "text": [
      "Title: Writing activities to SQLite3 database:\n",
      "  Started: 02/20/2018 10:00:18\n",
      "  Finished: 02/20/2018 10:01:26\n",
      "  Total time elapsed: 00:01:08\n",
      "  CPU %: 93.90\n",
      "  Memory %: 23.04\n",
      "Created database: 3.4 no electricity\n"
     ]
    }
   ],
   "source": [
    "w.brightway.write_brightway2_database(ecoinvent, \"3.4 no electricity\")"
   ]
  },
  {
   "cell_type": "markdown",
   "metadata": {},
   "source": [
    "## Graph the difference between original and modified databases"
   ]
  },
  {
   "cell_type": "code",
   "execution_count": 16,
   "metadata": {},
   "outputs": [],
   "source": [
    "def graph(data, title):\n",
    "    data = np.array(data)\n",
    "    data = data[data >= 0]\n",
    "    data = data[data <= 1]\n",
    "    with plt.style.context(\"fast\"):\n",
    "        fig = plt.figure()\n",
    "        ax1 = fig.add_subplot(111)\n",
    "        ax2 = ax1.twiny()\n",
    "\n",
    "        ax1.hist(data, bins=50, alpha=0.5)\n",
    "\n",
    "        ax2 = ax1.twinx()\n",
    "        ys = np.linspace(1, 0, len(data))\n",
    "        xs = sorted(data, reverse=True)\n",
    "        ax2.plot(xs, ys, 'g', lw=2)\n",
    "        ax2.set_ylim((0, 1))\n",
    "        ax2.set_ylabel(\"Cumulative fraction\")\n",
    "        ax1.set_ylabel(\"Number of datasets per bin\")\n",
    "        ax1.set_xlabel(\"{}\\nAverage: {:.2f}\".format(title, np.average(data)))\n",
    "        \n",
    "        ax1.grid()\n",
    "        plt.xlim(0, 1)\n",
    "\n",
    "        plt.tight_layout()\n",
    "        plt.savefig(title + \".png\", dpi=300)   "
   ]
  },
  {
   "cell_type": "code",
   "execution_count": 17,
   "metadata": {},
   "outputs": [],
   "source": [
    "def scores_for_db(db, method):\n",
    "    lca = bw.LCA({bw.Database(db).random(): 1}, method)\n",
    "    lca.lci()\n",
    "    lca.lcia()        \n",
    "\n",
    "    results = {}\n",
    "    for ds in pyprind.prog_bar(bw.Database(db)):\n",
    "        lca.redo_lcia({ds: 1})\n",
    "        results[ds['code']] = abs(lca.score)\n",
    "\n",
    "    return results"
   ]
  },
  {
   "cell_type": "code",
   "execution_count": 20,
   "metadata": {},
   "outputs": [
    {
     "name": "stderr",
     "output_type": "stream",
     "text": [
      "0%                          100%\n",
      "[##############################] | ETA: 00:00:00\n",
      "Total time elapsed: 00:02:55\n",
      "0%                          100%\n",
      "[##############################] | ETA: 00:00:00\n",
      "Total time elapsed: 00:02:51\n"
     ]
    }
   ],
   "source": [
    "full = scores_for_db(\"ecoinvent 3.4 cutoff\", recipe)\n",
    "electricity = scores_for_db(\"3.4 no electricity\", recipe)"
   ]
  },
  {
   "cell_type": "code",
   "execution_count": 22,
   "metadata": {},
   "outputs": [
    {
     "data": {
      "image/png": "[encoded data removed]",
      "text/plain": [
       "<matplotlib.figure.Figure at 0x1a25d70c18>"
      ]
     },
     "metadata": {},
     "output_type": "display_data"
    }
   ],
   "source": [
    "graph(\n",
    "    [1 - (electricity[code] / (full[code] or 1)) for code in full],\n",
    "    \"Fraction of impact from electricity (ReCiPe 2008 total, (H,A))\"    \n",
    ")"
   ]
  },
  {
   "cell_type": "markdown",
   "metadata": {},
   "source": [
    "# Emissions by location\n",
    "\n",
    "## Get a dataframe for results by activity\n",
    "\n",
    "This is pretty eaasy, just sum the `characterized_inventory` matrix (flows by activities) to get cumulative score by activity."
   ]
  },
  {
   "cell_type": "code",
   "execution_count": 8,
   "metadata": {},
   "outputs": [],
   "source": [
    "import brightway2 as bw\n",
    "import pandas as pd\n",
    "\n",
    "def dataframe_by_activity(activity, method):\n",
    "    lca = bw.LCA({activity: 1}, method=method)\n",
    "    lca.lci()\n",
    "    lca.lcia()\n",
    "    activity_scores = lca.characterized_inventory.sum(axis=0)  # 0 is the first dimension, i.e. biosphere flows\n",
    "    df = pd.DataFrame.from_dict([\n",
    "            {\n",
    "                'location': a['location'],\n",
    "                'score': activity_scores[0, lca.activity_dict[a]]  # 0 because there is only one row in this matrix\n",
    "            } \n",
    "        for a in bw.Database(activity['database']) \n",
    "        # Skip activities with no impact - not actually necessary but cleaner\n",
    "        if activity_scores[0, lca.activity_dict[a]] != 0])  \n",
    "    return df.groupby('location').sum().sort_values('score', ascending=False)"
   ]
  },
  {
   "cell_type": "code",
   "execution_count": 9,
   "metadata": {},
   "outputs": [
    {
     "data": {
      "text/html": [
       "<div>\n",
       "<style scoped>\n",
       "    .dataframe tbody tr th:only-of-type {\n",
       "        vertical-align: middle;\n",
       "    }\n",
       "\n",
       "    .dataframe tbody tr th {\n",
       "        vertical-align: top;\n",
       "    }\n",
       "\n",
       "    .dataframe thead th {\n",
       "        text-align: right;\n",
       "    }\n",
       "</style>\n",
       "<table border=\"1\" class=\"dataframe\">\n",
       "  <thead>\n",
       "    <tr style=\"text-align: right;\">\n",
       "      <th></th>\n",
       "      <th>score</th>\n",
       "    </tr>\n",
       "    <tr>\n",
       "      <th>location</th>\n",
       "      <th></th>\n",
       "    </tr>\n",
       "  </thead>\n",
       "  <tbody>\n",
       "    <tr>\n",
       "      <th>CA-QC</th>\n",
       "      <td>1.206631</td>\n",
       "    </tr>\n",
       "    <tr>\n",
       "      <th>RoW</th>\n",
       "      <td>0.037745</td>\n",
       "    </tr>\n",
       "    <tr>\n",
       "      <th>GLO</th>\n",
       "      <td>0.010210</td>\n",
       "    </tr>\n",
       "    <tr>\n",
       "      <th>CA-AB</th>\n",
       "      <td>0.002491</td>\n",
       "    </tr>\n",
       "    <tr>\n",
       "      <th>CN</th>\n",
       "      <td>0.001354</td>\n",
       "    </tr>\n",
       "    <tr>\n",
       "      <th>US</th>\n",
       "      <td>0.000541</td>\n",
       "    </tr>\n",
       "    <tr>\n",
       "      <th>Europe without Switzerland</th>\n",
       "      <td>0.000501</td>\n",
       "    </tr>\n",
       "    <tr>\n",
       "      <th>RU</th>\n",
       "      <td>0.000475</td>\n",
       "    </tr>\n",
       "    <tr>\n",
       "      <th>CA-NF</th>\n",
       "      <td>0.000359</td>\n",
       "    </tr>\n",
       "    <tr>\n",
       "      <th>RER</th>\n",
       "      <td>0.000276</td>\n",
       "    </tr>\n",
       "    <tr>\n",
       "      <th>SERC</th>\n",
       "      <td>0.000246</td>\n",
       "    </tr>\n",
       "    <tr>\n",
       "      <th>RFC</th>\n",
       "      <td>0.000238</td>\n",
       "    </tr>\n",
       "    <tr>\n",
       "      <th>RNA</th>\n",
       "      <td>0.000206</td>\n",
       "    </tr>\n",
       "    <tr>\n",
       "      <th>DE</th>\n",
       "      <td>0.000145</td>\n",
       "    </tr>\n",
       "    <tr>\n",
       "      <th>JP</th>\n",
       "      <td>0.000141</td>\n",
       "    </tr>\n",
       "    <tr>\n",
       "      <th>WECC, US only</th>\n",
       "      <td>0.000129</td>\n",
       "    </tr>\n",
       "    <tr>\n",
       "      <th>CN-NM</th>\n",
       "      <td>0.000126</td>\n",
       "    </tr>\n",
       "    <tr>\n",
       "      <th>ZA</th>\n",
       "      <td>0.000110</td>\n",
       "    </tr>\n",
       "    <tr>\n",
       "      <th>CN-JS</th>\n",
       "      <td>0.000104</td>\n",
       "    </tr>\n",
       "    <tr>\n",
       "      <th>CN-SD</th>\n",
       "      <td>0.000096</td>\n",
       "    </tr>\n",
       "  </tbody>\n",
       "</table>\n",
       "</div>"
      ],
      "text/plain": [
       "                               score\n",
       "location                            \n",
       "CA-QC                       1.206631\n",
       "RoW                         0.037745\n",
       "GLO                         0.010210\n",
       "CA-AB                       0.002491\n",
       "CN                          0.001354\n",
       "US                          0.000541\n",
       "Europe without Switzerland  0.000501\n",
       "RU                          0.000475\n",
       "CA-NF                       0.000359\n",
       "RER                         0.000276\n",
       "SERC                        0.000246\n",
       "RFC                         0.000238\n",
       "RNA                         0.000206\n",
       "DE                          0.000145\n",
       "JP                          0.000141\n",
       "WECC, US only               0.000129\n",
       "CN-NM                       0.000126\n",
       "ZA                          0.000110\n",
       "CN-JS                       0.000104\n",
       "CN-SD                       0.000096"
      ]
     },
     "execution_count": 9,
     "metadata": {},
     "output_type": "execute_result"
    }
   ],
   "source": [
    "dataframe_by_activity(bw.Database(\"ecoinvent 3.4 cutoff\").random(), ipcc)[:20]"
   ]
  },
  {
   "cell_type": "markdown",
   "metadata": {},
   "source": [
    "## Using pre-calculated masks for better performance"
   ]
  },
  {
   "cell_type": "code",
   "execution_count": 47,
   "metadata": {},
   "outputs": [],
   "source": [
    "def faster_scores_by_location(database, method):\n",
    "    db = bw.Database(database)\n",
    "    lca = bw.LCA({db.random(): 1}, method=method)\n",
    "    lca.lci()\n",
    "    lca.lcia()\n",
    "\n",
    "    location_mapping = {a: a['location'] for a in db}\n",
    "    mask_by_location = {location: np.array([lca.activity_dict[key] \n",
    "                                            for key, place in location_mapping.items() \n",
    "                                            if location == place]) \n",
    "                        for location in set(location_mapping.values())}\n",
    "\n",
    "    results = {}\n",
    "\n",
    "    for activity in pyprind.prog_bar(db):\n",
    "        lca.redo_lcia({activity: 1})\n",
    "        summed_rows = lca.characterized_inventory.sum(axis=0)\n",
    "        results[activity] = {location: float(summed_rows[0, array].sum())\n",
    "                             for location, array in mask_by_location.items()}\n",
    "        results[activity]['total'] = lca.score\n",
    "\n",
    "    return results"
   ]
  },
  {
   "cell_type": "code",
   "execution_count": 48,
   "metadata": {},
   "outputs": [
    {
     "name": "stderr",
     "output_type": "stream",
     "text": [
      "0%                          100%\n",
      "[##############################] | ETA: 00:00:00\n",
      "Total time elapsed: 00:03:43\n"
     ]
    }
   ],
   "source": [
    "results_by_location = faster_scores_by_location(\"ecoinvent 3.4 cutoff\", ipcc)"
   ]
  },
  {
   "cell_type": "markdown",
   "metadata": {},
   "source": [
    "## Graph fraction of impact in global datasets"
   ]
  },
  {
   "cell_type": "code",
   "execution_count": 50,
   "metadata": {},
   "outputs": [],
   "source": [
    "fraction_in_global = np.array([(obj.get('GLO', 0) + obj.get(\"RoW\", 0)) / obj['total'] \n",
    "                               for obj in results_by_location.values()\n",
    "                               if obj['total'] != 0])"
   ]
  },
  {
   "cell_type": "code",
   "execution_count": 57,
   "metadata": {},
   "outputs": [
    {
     "data": {
      "image/png": "[encoded data removed]",
      "text/plain": [
       "<matplotlib.figure.Figure at 0x1a54db7ef0>"
      ]
     },
     "metadata": {},
     "output_type": "display_data"
    }
   ],
   "source": [
    "graph(fraction_in_global, \"Fraction of impact in GLO and RoW (IPCC 100 year)\")"
   ]
  },
  {
   "cell_type": "markdown",
   "metadata": {},
   "source": [
    "# How much transport is in the supply chain?\n",
    "\n",
    "In this case, we wrap all our previous work together and filter by unit."
   ]
  },
  {
   "cell_type": "code",
   "execution_count": 58,
   "metadata": {},
   "outputs": [],
   "source": [
    "def transport_specific_dataframe_by_location(activity):\n",
    "    lca = bw.LCA({activity: 1})\n",
    "    lca.lci()\n",
    "    df = pd.DataFrame.from_dict([\n",
    "            {\n",
    "                'location': a['location'],\n",
    "                'unit': a['unit'],\n",
    "                'score': (lca.supply_array[lca.activity_dict[a]] \n",
    "                          - (1 if activity == a else 0)) # Subtract functional unit if f.u. is transport\n",
    "            } \n",
    "        for a in bw.Database(activity['database']) \n",
    "        if lca.supply_array[lca.activity_dict[a]] != 0 \n",
    "        and a['unit'] in ('ton kilometer', 'person kilometer')\n",
    "    ])\n",
    "    return {\n",
    "        'ton kilometer': df[df['unit'] == 'ton kilometer'].groupby('location').sum(\n",
    "            ).sort_values('score', ascending=False),\n",
    "        'person kilometer': df[df['unit'] == 'person kilometer'].groupby('location').sum(\n",
    "            ).sort_values('score', ascending=False)\n",
    "    }"
   ]
  },
  {
   "cell_type": "code",
   "execution_count": 61,
   "metadata": {},
   "outputs": [
    {
     "name": "stdout",
     "output_type": "stream",
     "text": [
      "'petroleum refinery operation' (kilogram, RoW, None)\n"
     ]
    },
    {
     "data": {
      "text/html": [
       "<div>\n",
       "<style scoped>\n",
       "    .dataframe tbody tr th:only-of-type {\n",
       "        vertical-align: middle;\n",
       "    }\n",
       "\n",
       "    .dataframe tbody tr th {\n",
       "        vertical-align: top;\n",
       "    }\n",
       "\n",
       "    .dataframe thead th {\n",
       "        text-align: right;\n",
       "    }\n",
       "</style>\n",
       "<table border=\"1\" class=\"dataframe\">\n",
       "  <thead>\n",
       "    <tr style=\"text-align: right;\">\n",
       "      <th></th>\n",
       "      <th>score</th>\n",
       "    </tr>\n",
       "    <tr>\n",
       "      <th>location</th>\n",
       "      <th></th>\n",
       "    </tr>\n",
       "  </thead>\n",
       "  <tbody>\n",
       "    <tr>\n",
       "      <th>GLO</th>\n",
       "      <td>8.929131</td>\n",
       "    </tr>\n",
       "    <tr>\n",
       "      <th>RoW</th>\n",
       "      <td>0.126953</td>\n",
       "    </tr>\n",
       "    <tr>\n",
       "      <th>RER</th>\n",
       "      <td>0.049316</td>\n",
       "    </tr>\n",
       "    <tr>\n",
       "      <th>US</th>\n",
       "      <td>0.012370</td>\n",
       "    </tr>\n",
       "    <tr>\n",
       "      <th>CN</th>\n",
       "      <td>0.010946</td>\n",
       "    </tr>\n",
       "    <tr>\n",
       "      <th>RU</th>\n",
       "      <td>0.002835</td>\n",
       "    </tr>\n",
       "    <tr>\n",
       "      <th>Europe without Switzerland</th>\n",
       "      <td>0.002253</td>\n",
       "    </tr>\n",
       "    <tr>\n",
       "      <th>DZ</th>\n",
       "      <td>0.000942</td>\n",
       "    </tr>\n",
       "    <tr>\n",
       "      <th>DE</th>\n",
       "      <td>0.000297</td>\n",
       "    </tr>\n",
       "    <tr>\n",
       "      <th>NO</th>\n",
       "      <td>0.000280</td>\n",
       "    </tr>\n",
       "    <tr>\n",
       "      <th>CH</th>\n",
       "      <td>0.000234</td>\n",
       "    </tr>\n",
       "    <tr>\n",
       "      <th>RER w/o DE+NL+NO+RU</th>\n",
       "      <td>0.000212</td>\n",
       "    </tr>\n",
       "    <tr>\n",
       "      <th>FR</th>\n",
       "      <td>0.000097</td>\n",
       "    </tr>\n",
       "    <tr>\n",
       "      <th>NL</th>\n",
       "      <td>0.000051</td>\n",
       "    </tr>\n",
       "    <tr>\n",
       "      <th>IT</th>\n",
       "      <td>0.000049</td>\n",
       "    </tr>\n",
       "    <tr>\n",
       "      <th>AT</th>\n",
       "      <td>0.000039</td>\n",
       "    </tr>\n",
       "    <tr>\n",
       "      <th>BE</th>\n",
       "      <td>0.000019</td>\n",
       "    </tr>\n",
       "  </tbody>\n",
       "</table>\n",
       "</div>"
      ],
      "text/plain": [
       "                               score\n",
       "location                            \n",
       "GLO                         8.929131\n",
       "RoW                         0.126953\n",
       "RER                         0.049316\n",
       "US                          0.012370\n",
       "CN                          0.010946\n",
       "RU                          0.002835\n",
       "Europe without Switzerland  0.002253\n",
       "DZ                          0.000942\n",
       "DE                          0.000297\n",
       "NO                          0.000280\n",
       "CH                          0.000234\n",
       "RER w/o DE+NL+NO+RU         0.000212\n",
       "FR                          0.000097\n",
       "NL                          0.000051\n",
       "IT                          0.000049\n",
       "AT                          0.000039\n",
       "BE                          0.000019"
      ]
     },
     "execution_count": 61,
     "metadata": {},
     "output_type": "execute_result"
    }
   ],
   "source": [
    "activity = bw.Database(\"ecoinvent 3.4 cutoff\").random()\n",
    "print(activity)\n",
    "transport_specific_dataframe_by_location(activity)['ton kilometer']"
   ]
  }
 ],
 "metadata": {
  "kernelspec": {
   "display_name": "Python 3",
   "language": "python",
   "name": "python3"
  },
  "language_info": {
   "codemirror_mode": {
    "name": "ipython",
    "version": 3
   },
   "file_extension": ".py",
   "mimetype": "text/x-python",
   "name": "python",
   "nbconvert_exporter": "python",
   "pygments_lexer": "ipython3",
   "version": "3.6.4"
  }
 },
 "nbformat": 4,
 "nbformat_minor": 2
}
