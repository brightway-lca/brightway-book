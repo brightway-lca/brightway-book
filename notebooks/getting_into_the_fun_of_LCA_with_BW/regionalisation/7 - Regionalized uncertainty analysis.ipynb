{
 "cells": [
  {
   "cell_type": "markdown",
   "metadata": {},
   "source": [
    "# Uncertainty analysis with arrays\n",
    "\n",
    "Notebook on uncertainty analysis of site-dependent CFs usnig regionalized CFs.\n",
    "\n",
    "# Setup"
   ]
  },
  {
   "cell_type": "code",
   "execution_count": 1,
   "metadata": {},
   "outputs": [],
   "source": [
    "%matplotlib inline"
   ]
  },
  {
   "cell_type": "code",
   "execution_count": 2,
   "metadata": {},
   "outputs": [],
   "source": [
    "import bw2regional as bwr\n",
    "import bw2data as bd\n",
    "import bw2calc as bc\n",
    "import matplotlib.pyplot as plt\n",
    "import numpy as np\n",
    "import seaborn as sb\n",
    "from bw2regional.pandarus_remote import AlreadyExists\n",
    "import bw_processing as bwp"
   ]
  },
  {
   "cell_type": "code",
   "execution_count": 3,
   "metadata": {},
   "outputs": [],
   "source": [
    "bd.projects.set_current('LC IMPACT case study')"
   ]
  },
  {
   "cell_type": "markdown",
   "metadata": {},
   "source": [
    "# Getting a CDF for global land use CFs\n",
    "\n",
    "Use the consensus land-use cover map from [EarthEnv](https://www.earthenv.org/landcover) (class 7 - Cultivated and Managed Vegetation) as weights for the weighted average:\n",
    "\n",
    "<img src=\"land_use_agriculture.png\">\n",
    "\n",
    "These values are normalized from 0 to 100, i.e. they are already densities (intensity per unit area), so we can use them directly.\n",
    "\n",
    "You can get this file from [file.brightway.dev](https://files.brightway.dev/consensus_full_class_7.tif) if you aren't on the DdS server."
   ]
  },
  {
   "cell_type": "code",
   "execution_count": 4,
   "metadata": {},
   "outputs": [],
   "source": [
    "bwr.geocollections[\"agriculture\"] = {\n",
    "    'band': 1,\n",
    "    'kind': 'raster',\n",
    "    'filepath': '/srv/data/rasters/consensus_full_class_7.tif',\n",
    "}"
   ]
  },
  {
   "cell_type": "code",
   "execution_count": 5,
   "metadata": {},
   "outputs": [],
   "source": [
    "try:\n",
    "    bwr.remote.calculate_rasterstats('ecoregions', 'agriculture')\n",
    "except AlreadyExists:\n",
    "    pass"
   ]
  },
  {
   "cell_type": "code",
   "execution_count": 6,
   "metadata": {},
   "outputs": [
    {
     "data": {
      "text/plain": [
       "Brightway2 ExtensionTable: ecoregions-agriculture"
      ]
     },
     "execution_count": 6,
     "metadata": {},
     "output_type": "execute_result"
    }
   ],
   "source": [
    "bwr.remote.rasterstats_as_xt('ecoregions', 'agriculture', 'ecoregions-agriculture')"
   ]
  },
  {
   "cell_type": "code",
   "execution_count": 7,
   "metadata": {
    "tags": []
   },
   "outputs": [
    {
     "data": {
      "text/plain": [
       "[(23.075446724023827, ('ecoregions', 'AA0113')),\n",
       " (2.510703363914373, ('ecoregions', 'OC0103')),\n",
       " (25.750523497760224, ('ecoregions', 'PA0510')),\n",
       " (1.9328358208955223, ('ecoregions', 'AT0703')),\n",
       " (10.358433734939759, ('ecoregions', 'NT0216')),\n",
       " (26.454689577846732, ('ecoregions', 'PA1020')),\n",
       " (0.5691944832670912, ('ecoregions', 'NA0609')),\n",
       " (43.94561087735519, ('ecoregions', 'NT0801')),\n",
       " (5.084875558391832, ('ecoregions', 'OC0108')),\n",
       " (40.231609654059866, ('ecoregions', 'NT0704'))]"
      ]
     },
     "execution_count": 7,
     "metadata": {},
     "output_type": "execute_result"
    }
   ],
   "source": [
    "bwr.ExtensionTable('ecoregions-agriculture').load()[:10]"
   ]
  },
  {
   "cell_type": "code",
   "execution_count": 8,
   "metadata": {},
   "outputs": [],
   "source": [
    "weights = {k: v for v, k in bwr.ExtensionTable('ecoregions-agriculture').load()}"
   ]
  },
  {
   "cell_type": "markdown",
   "metadata": {},
   "source": [
    "To get the CDF for the CF distribution, we need the areal intensity per ecoregion, which we have from the raster, times the area of each ecoregion. We could calculate these areas ourselves, but we have them already from the areal intersections."
   ]
  },
  {
   "cell_type": "code",
   "execution_count": 9,
   "metadata": {
    "tags": []
   },
   "outputs": [],
   "source": [
    "import collections\n",
    "\n",
    "areas = collections.defaultdict(int)\n",
    "\n",
    "for ecoregion, _, area in bwr.Intersection(('ecoregions', 'world-topo-ecoregions')).load():\n",
    "    areas[ecoregion] += area"
   ]
  },
  {
   "cell_type": "code",
   "execution_count": 10,
   "metadata": {},
   "outputs": [],
   "source": [
    "weighted_area = {k: v * weights.get(k, 0) for k, v in areas.items()}\n",
    "total_weighted_area = sum(weighted_area.values())"
   ]
  },
  {
   "cell_type": "markdown",
   "metadata": {},
   "source": [
    "Now we need the CFs themselves. All agricultural occupation gets the same CF, for better or worse, in LC-IMPACT. We will use the flow 'Occupation, permanent crop, non-irrigated, intensive' (the land use used for sugarcane in Brazil) for to retrieve the regionalized CFs."
   ]
  },
  {
   "cell_type": "code",
   "execution_count": 11,
   "metadata": {},
   "outputs": [],
   "source": [
    "land_use = bd.Database(\"biosphere3\").get(name='Occupation, permanent crop, non-irrigated, intensive')"
   ]
  },
  {
   "cell_type": "code",
   "execution_count": 12,
   "metadata": {
    "tags": []
   },
   "outputs": [],
   "source": [
    "cf_mapping = {\n",
    "    location: value \n",
    "    for key, value, location\n",
    "    in bd.Method(('LC-IMPACT', 'Land Use', 'Occupation', 'Marginal', 'Certain')).load()\n",
    "    if key == land_use.key\n",
    "}"
   ]
  },
  {
   "cell_type": "code",
   "execution_count": 13,
   "metadata": {},
   "outputs": [],
   "source": [
    "EXCLUSIONS = {('ecoregions', 'Rock and Ice'), 'GLO'}"
   ]
  },
  {
   "cell_type": "markdown",
   "metadata": {},
   "source": [
    "Calculate our global weighted average. The LC-IMPACT provided value is 6.18e-15."
   ]
  },
  {
   "cell_type": "code",
   "execution_count": 14,
   "metadata": {},
   "outputs": [
    {
     "data": {
      "text/plain": [
       "2.5706916845254235e-13"
      ]
     },
     "execution_count": 14,
     "metadata": {},
     "output_type": "execute_result"
    }
   ],
   "source": [
    "sum(v * cf_mapping[k] for k, v in weighted_area.items() if k not in EXCLUSIONS) / total_weighted_area"
   ]
  },
  {
   "cell_type": "markdown",
   "metadata": {},
   "source": [
    "We can also calculate the unweighted LC IMPACT average:"
   ]
  },
  {
   "cell_type": "code",
   "execution_count": 15,
   "metadata": {},
   "outputs": [
    {
     "data": {
      "text/plain": [
       "7.554634101941748e-13"
      ]
     },
     "execution_count": 15,
     "metadata": {},
     "output_type": "execute_result"
    }
   ],
   "source": [
    "np.mean(list(cf_mapping.values()))"
   ]
  },
  {
   "cell_type": "markdown",
   "metadata": {},
   "source": [
    "Sampleing from a weighted distribution is a bit tricky; let's get the cumulative distribution function, fit a lognormal, and sample from that."
   ]
  },
  {
   "cell_type": "code",
   "execution_count": 16,
   "metadata": {},
   "outputs": [],
   "source": [
    "cfs_reverse = [(v, k) for k, v in cf_mapping.items() if k not in EXCLUSIONS]\n",
    "cfs_reverse.sort()\n",
    "xs = np.array([line[0] for line in cfs_reverse])\n",
    "ys = np.cumsum(np.array([weighted_area.get(key, 0) for _, key in cfs_reverse])) / total_weighted_area\n",
    "weights = np.array([weighted_area.get(key, 0) for _, key in cfs_reverse]) / total_weighted_area"
   ]
  },
  {
   "cell_type": "code",
   "execution_count": 17,
   "metadata": {},
   "outputs": [],
   "source": [
    "def get_value_from_weighted_cfs():\n",
    "    return xs[np.argmax(ys > np.random.random()) + 1]"
   ]
  },
  {
   "cell_type": "markdown",
   "metadata": {},
   "source": [
    "## Check to make sure the sample function is reasonable"
   ]
  },
  {
   "cell_type": "code",
   "execution_count": 18,
   "metadata": {},
   "outputs": [
    {
     "data": {
      "text/plain": [
       "<matplotlib.legend.Legend at 0x7f7cdae61690>"
      ]
     },
     "execution_count": 18,
     "metadata": {},
     "output_type": "execute_result"
    },
    {
     "data": {
      "image/png": "[encoded data removed]",
      "text/plain": [
       "<Figure size 1000x800 with 1 Axes>"
      ]
     },
     "metadata": {},
     "output_type": "display_data"
    }
   ],
   "source": [
    "X = 10000\n",
    "sample_xs = np.array([get_value_from_weighted_cfs() for _ in range(X)])\n",
    "sample_xs.sort()\n",
    "sample_ys = np.linspace(0, 1, X)\n",
    "\n",
    "plt.figure(figsize=(10, 8))\n",
    "plt.semilogx(xs, ys, lw=2, label=\"Population\")\n",
    "plt.semilogx(sample_xs, sample_ys, lw=2, label=\"Sampled\")\n",
    "plt.xlabel(r\"Characterization Factor $( \\frac{PDF}{m^{2}} )$\")\n",
    "plt.ylabel(\"Probability\")\n",
    "plt.legend()"
   ]
  },
  {
   "cell_type": "code",
   "execution_count": null,
   "metadata": {
    "tags": []
   },
   "outputs": [],
   "source": [
    "from scipy.stats import wasserstein_distance, norm, lognorm\n",
    "from scipy.optimize import minimize"
   ]
  },
  {
   "cell_type": "markdown",
   "metadata": {
    "tags": []
   },
   "source": [
    "Initial guess for $\\mu$ and $\\sigma$ (log-transformed)"
   ]
  },
  {
   "cell_type": "code",
   "execution_count": null,
   "metadata": {
    "jupyter": {
     "source_hidden": true
    },
    "tags": []
   },
   "outputs": [],
   "source": [
    "points = np.log(xs + 1e-16)"
   ]
  },
  {
   "cell_type": "code",
   "execution_count": null,
   "metadata": {
    "jupyter": {
     "source_hidden": true
    },
    "tags": []
   },
   "outputs": [],
   "source": [
    "mu, sigma = np.average(points), np.std(points)\n",
    "mu, sigma"
   ]
  },
  {
   "cell_type": "markdown",
   "metadata": {
    "jupyter": {
     "source_hidden": true
    },
    "tags": []
   },
   "source": [
    "Function to calculate distance from observations"
   ]
  },
  {
   "cell_type": "code",
   "execution_count": null,
   "metadata": {
    "jupyter": {
     "source_hidden": true
    },
    "tags": []
   },
   "outputs": [],
   "source": [
    "def distance_from_data(vector):\n",
    "    mu, sigma = vector\n",
    "    ln_sample = norm.ppf(np.linspace(0.01, 0.99, 1000), loc=mu, scale=sigma)\n",
    "    return wasserstein_distance(points, ln_sample, u_weights=weights)  "
   ]
  },
  {
   "cell_type": "markdown",
   "metadata": {
    "jupyter": {
     "source_hidden": true
    },
    "tags": []
   },
   "source": [
    "Try to fit the normal distribution"
   ]
  },
  {
   "cell_type": "code",
   "execution_count": null,
   "metadata": {
    "jupyter": {
     "source_hidden": true
    },
    "tags": []
   },
   "outputs": [],
   "source": [
    "result = minimize(distance_from_data, (mu, sigma), bounds=((None, None), (0, None)))\n",
    "result"
   ]
  },
  {
   "cell_type": "markdown",
   "metadata": {
    "jupyter": {
     "source_hidden": true
    },
    "tags": []
   },
   "source": [
    "Plot fitted distribution, sampled values, and actual CFs"
   ]
  },
  {
   "cell_type": "code",
   "execution_count": null,
   "metadata": {
    "jupyter": {
     "source_hidden": true
    },
    "tags": []
   },
   "outputs": [],
   "source": [
    "fit_mu, fit_sigma = result['x']"
   ]
  },
  {
   "cell_type": "code",
   "execution_count": null,
   "metadata": {
    "jupyter": {
     "source_hidden": true
    },
    "tags": []
   },
   "outputs": [],
   "source": [
    "fit_mu, fit_sigma"
   ]
  },
  {
   "cell_type": "code",
   "execution_count": null,
   "metadata": {
    "jupyter": {
     "source_hidden": true
    },
    "tags": []
   },
   "outputs": [],
   "source": [
    "sample = np.exp(norm.rvs(loc=fit_mu, scale=fit_sigma, size=X))"
   ]
  },
  {
   "cell_type": "code",
   "execution_count": null,
   "metadata": {
    "jupyter": {
     "source_hidden": true
    },
    "tags": []
   },
   "outputs": [],
   "source": [
    "sample_xs"
   ]
  },
  {
   "cell_type": "code",
   "execution_count": null,
   "metadata": {
    "jupyter": {
     "source_hidden": true
    },
    "tags": []
   },
   "outputs": [],
   "source": [
    "norm.cdf(sample_xs, loc=fit_mu, scale=fit_sigma)"
   ]
  },
  {
   "cell_type": "code",
   "execution_count": null,
   "metadata": {
    "jupyter": {
     "source_hidden": true
    },
    "tags": []
   },
   "outputs": [],
   "source": [
    "fitted_xs = np.linspace(min(points), max(points), X)\n",
    "fitted_ys = norm.cdf(sample_xs, loc=fit_mu, scale=fit_sigma)\n",
    "\n",
    "plt.figure(figsize=(10, 8))\n",
    "plt.semilogx(xs, ys, lw=2, label=\"Population\")\n",
    "plt.semilogx(np.sort(sample), np.linspace(0, 1, X), lw=2, label=\"New samples\")\n",
    "plt.semilogx(np.exp(fitted_xs), fitted_ys, lw=2, label=\"Fit\")\n",
    "plt.xlabel(r\"Characterization Factor $( \\frac{PDF}{m^{2}} )$\")\n",
    "plt.ylabel(\"Probability\")\n",
    "plt.legend()"
   ]
  },
  {
   "cell_type": "markdown",
   "metadata": {},
   "source": [
    "# Write arrays"
   ]
  },
  {
   "cell_type": "code",
   "execution_count": 19,
   "metadata": {},
   "outputs": [
    {
     "data": {
      "text/plain": [
       "8"
      ]
     },
     "execution_count": 19,
     "metadata": {},
     "output_type": "execute_result"
    }
   ],
   "source": [
    "LAND_USE_NAMES = {        \n",
    "    \"Occupation, annual crop\",\n",
    "    \"Occupation, annual crop, greenhouse\",\n",
    "    \"Occupation, annual crop, irrigated\",\n",
    "    \"Occupation, annual crop, irrigated, intensive\",\n",
    "    \"Occupation, annual crop, non-irrigated\",\n",
    "    \"Occupation, annual crop, non-irrigated, extensive\",\n",
    "    \"Occupation, annual crop, non-irrigated, intensive\",\n",
    "    \"Occupation, arable land, unspecified use\",\n",
    "}\n",
    "\n",
    "LAND_USE = [bd.Database(\"biosphere3\").get(name=name) for name in LAND_USE_NAMES]\n",
    "len(LAND_USE)"
   ]
  },
  {
   "cell_type": "code",
   "execution_count": 20,
   "metadata": {},
   "outputs": [],
   "source": [
    "array = np.hstack([sample_xs.reshape((-1, 1))] * len(LAND_USE)).T"
   ]
  },
  {
   "cell_type": "code",
   "execution_count": 21,
   "metadata": {},
   "outputs": [],
   "source": [
    "indices = np.array([(obj.id, 1) for obj in LAND_USE], dtype=bwp.INDICES_DTYPE)"
   ]
  },
  {
   "cell_type": "code",
   "execution_count": 22,
   "metadata": {},
   "outputs": [],
   "source": [
    "dp = bwp.create_datapackage()"
   ]
  },
  {
   "cell_type": "code",
   "execution_count": 23,
   "metadata": {},
   "outputs": [],
   "source": [
    "dp.add_persistent_array(\n",
    "    matrix=\"characterization_matrix\",\n",
    "    data_array=array,\n",
    "    indices_array=indices,\n",
    "    global_index=bd.geomapping[bd.config.global_location],\n",
    ")"
   ]
  },
  {
   "cell_type": "markdown",
   "metadata": {
    "tags": []
   },
   "source": [
    "# Compare site-generic LCIA with and without presamples"
   ]
  },
  {
   "cell_type": "code",
   "execution_count": 24,
   "metadata": {},
   "outputs": [],
   "source": [
    "fu, data_objs, _ = bd.prepare_lca_inputs(\n",
    "    demand={('Fuel comparison', 'sugarcane transport'): 1},\n",
    "    method=('LC-IMPACT', 'Land Use', 'Occupation', 'Marginal', 'Certain')\n",
    ")"
   ]
  },
  {
   "cell_type": "code",
   "execution_count": 25,
   "metadata": {},
   "outputs": [],
   "source": [
    "data_objs.append(dp)"
   ]
  },
  {
   "cell_type": "code",
   "execution_count": 26,
   "metadata": {},
   "outputs": [],
   "source": [
    "def get_n_iterations(lca, n):\n",
    "    results = []\n",
    "    \n",
    "    for _ in range(n):\n",
    "        next(lca)\n",
    "        results.append(lca.score)\n",
    "        \n",
    "    return np.array(results)"
   ]
  },
  {
   "cell_type": "code",
   "execution_count": 27,
   "metadata": {},
   "outputs": [],
   "source": [
    "lca = bc.LCA(fu, data_objs=data_objs, use_arrays=False, use_distributions=True)\n",
    "lca.lci()\n",
    "lca.lcia()"
   ]
  },
  {
   "cell_type": "code",
   "execution_count": 28,
   "metadata": {},
   "outputs": [],
   "source": [
    "mc_with_distributions = get_n_iterations(lca, 50)"
   ]
  },
  {
   "cell_type": "code",
   "execution_count": 29,
   "metadata": {},
   "outputs": [],
   "source": [
    "lca2 = bc.LCA(fu, data_objs=data_objs, use_arrays=True)\n",
    "lca2.lci()\n",
    "lca2.lcia()"
   ]
  },
  {
   "cell_type": "code",
   "execution_count": 30,
   "metadata": {},
   "outputs": [],
   "source": [
    "mc_with_arrays = get_n_iterations(lca2, 50)"
   ]
  },
  {
   "cell_type": "code",
   "execution_count": 31,
   "metadata": {},
   "outputs": [],
   "source": [
    "lca3 = bc.LCA(fu, data_objs=data_objs, use_arrays=True, use_distributions=True)\n",
    "lca3.lci()\n",
    "lca3.lcia()"
   ]
  },
  {
   "cell_type": "code",
   "execution_count": 32,
   "metadata": {},
   "outputs": [],
   "source": [
    "mc_with_arrays_with_distributions = get_n_iterations(lca3, 50)"
   ]
  },
  {
   "cell_type": "code",
   "execution_count": 33,
   "metadata": {},
   "outputs": [
    {
     "data": {
      "text/plain": [
       "<seaborn.axisgrid.FacetGrid at 0x7f7cda7acaf0>"
      ]
     },
     "execution_count": 33,
     "metadata": {},
     "output_type": "execute_result"
    },
    {
     "data": {
      "image/png": "[encoded data removed]",
      "text/plain": [
       "<Figure size 500x500 with 1 Axes>"
      ]
     },
     "metadata": {},
     "output_type": "display_data"
    }
   ],
   "source": [
    "sb.displot(mc_with_distributions)"
   ]
  },
  {
   "cell_type": "code",
   "execution_count": 34,
   "metadata": {},
   "outputs": [
    {
     "data": {
      "text/plain": [
       "<seaborn.axisgrid.FacetGrid at 0x7f7cd0b31120>"
      ]
     },
     "execution_count": 34,
     "metadata": {},
     "output_type": "execute_result"
    },
    {
     "data": {
      "image/png": "[encoded data removed]",
      "text/plain": [
       "<Figure size 500x500 with 1 Axes>"
      ]
     },
     "metadata": {},
     "output_type": "display_data"
    }
   ],
   "source": [
    "sb.displot(mc_with_arrays)"
   ]
  },
  {
   "cell_type": "code",
   "execution_count": 35,
   "metadata": {},
   "outputs": [
    {
     "data": {
      "text/plain": [
       "<seaborn.axisgrid.FacetGrid at 0x7f7cd0b30580>"
      ]
     },
     "execution_count": 35,
     "metadata": {},
     "output_type": "execute_result"
    },
    {
     "data": {
      "image/png": "[encoded data removed]",
      "text/plain": [
       "<Figure size 500x500 with 1 Axes>"
      ]
     },
     "metadata": {},
     "output_type": "display_data"
    }
   ],
   "source": [
    "sb.displot(mc_with_arrays_with_distributions)"
   ]
  },
  {
   "cell_type": "code",
   "execution_count": null,
   "metadata": {},
   "outputs": [],
   "source": []
  }
 ],
 "metadata": {
  "kernelspec": {
   "display_name": "Python [conda env:regional]",
   "language": "python",
   "name": "conda-env-regional-py"
  },
  "language_info": {
   "codemirror_mode": {
    "name": "ipython",
    "version": 3
   },
   "file_extension": ".py",
   "mimetype": "text/x-python",
   "name": "python",
   "nbconvert_exporter": "python",
   "pygments_lexer": "ipython3",
   "version": "3.10.6"
  },
  "toc": {
   "base_numbering": 1,
   "nav_menu": {},
   "number_sections": true,
   "sideBar": true,
   "skip_h1_title": false,
   "title_cell": "Table of Contents",
   "title_sidebar": "Contents",
   "toc_cell": false,
   "toc_position": {},
   "toc_section_display": true,
   "toc_window_display": false
  }
 },
 "nbformat": 4,
 "nbformat_minor": 4
}
