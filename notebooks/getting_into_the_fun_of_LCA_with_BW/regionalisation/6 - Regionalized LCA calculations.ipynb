{
 "cells": [
  {
   "cell_type": "markdown",
   "metadata": {},
   "source": [
    "# Regionalized LCA Calculations\n",
    "\n",
    "Make sure you are in the right kernel! If you are using DdS teaching infrastructure, that is the `regional` kernel."
   ]
  },
  {
   "cell_type": "code",
   "execution_count": null,
   "metadata": {},
   "outputs": [],
   "source": [
    "from pathlib import Path\n",
    "from rasterio.plot import show\n",
    "import bw2analyzer as ba\n",
    "import bw2calc as bc\n",
    "import bw2data as bd\n",
    "import bw2io as bi\n",
    "import bw2regional as bwr\n",
    "import csv\n",
    "import geopandas as gpd\n",
    "import numpy as np\n",
    "import pandas as pd\n",
    "import rasterio"
   ]
  },
  {
   "cell_type": "code",
   "execution_count": null,
   "metadata": {},
   "outputs": [],
   "source": [
    "if \"LC IMPACT case study\" not in bd.projects:\n",
    "    bi.restore_project_directory('/srv/data/projects/lcimpact-case-study.tar.gz')"
   ]
  },
  {
   "cell_type": "code",
   "execution_count": null,
   "metadata": {},
   "outputs": [],
   "source": [
    "bd.projects.set_current(\"LC IMPACT case study\")"
   ]
  },
  {
   "cell_type": "markdown",
   "metadata": {},
   "source": [
    "The keys for our functional units:"
   ]
  },
  {
   "cell_type": "code",
   "execution_count": null,
   "metadata": {},
   "outputs": [],
   "source": [
    "for act in bd.Database(\"Fuel comparison\"):\n",
    "    print(act.key, act)"
   ]
  },
  {
   "cell_type": "markdown",
   "metadata": {},
   "source": [
    "The methods we have available:"
   ]
  },
  {
   "cell_type": "code",
   "execution_count": null,
   "metadata": {},
   "outputs": [],
   "source": [
    "[x for x in bd.methods if x[0] == 'LC-IMPACT']"
   ]
  },
  {
   "cell_type": "markdown",
   "metadata": {},
   "source": [
    "Special activities that we might want to consider separately:"
   ]
  },
  {
   "cell_type": "code",
   "execution_count": null,
   "metadata": {},
   "outputs": [],
   "source": [
    "irrigation = [x.id for x in bd.Database(\"ecoinvent\") if 'irrigation' in x['name']]\n",
    "crops = [x.id for x in bd.Database(\"ecoinvent\") \n",
    "         if x['name'] in ('sugarcane production', 'maize grain production')]"
   ]
  },
  {
   "cell_type": "markdown",
   "metadata": {},
   "source": [
    "We can look over the extension table input data:"
   ]
  },
  {
   "cell_type": "code",
   "execution_count": null,
   "metadata": {},
   "outputs": [],
   "source": [
    "DATA_DIR = Path(\"data\")"
   ]
  },
  {
   "cell_type": "code",
   "execution_count": null,
   "metadata": {},
   "outputs": [],
   "source": [
    "ls data"
   ]
  },
  {
   "cell_type": "code",
   "execution_count": null,
   "metadata": {},
   "outputs": [],
   "source": [
    "show(rasterio.open(DATA_DIR / \"sugarcane_landuse_intensity.tif\"))"
   ]
  },
  {
   "cell_type": "markdown",
   "metadata": {},
   "source": [
    "Define functional units, extension tables, and inclusion/exclusion criteria"
   ]
  },
  {
   "cell_type": "code",
   "execution_count": null,
   "metadata": {},
   "outputs": [],
   "source": [
    "activities = [\n",
    "    ('Fuel comparison', 'sugarcane transport'),\n",
    "    ('Fuel comparison', 'maize transport'),\n",
    "    ('Fuel comparison', 'petrol transport'),\n",
    "]\n",
    "\n",
    "lcimpact = {\n",
    " (\"LC-IMPACT\", \"Climate Change\", \"Human Health\", \"Marginal\", \"Certain\", \"100 Years\"): None,\n",
    " (\"LC-IMPACT\", \"Climate Change\", \"Human Health\", \"Marginal\", \"All\", \"100 Years\"): None,\n",
    " (\"LC-IMPACT\", \"Climate Change\", \"Human Health\", \"Marginal\", \"Certain\", \"Infinite\"): None,\n",
    " (\"LC-IMPACT\", \"Climate Change\", \"Human Health\", \"Marginal\", \"All\", \"Infinite\"): None,\n",
    " (\"LC-IMPACT\", \"Climate Change\", \"Terrestrial Ecosystems\", \"Marginal\", \"Certain\", \"100 Years\"): None,\n",
    " (\"LC-IMPACT\", \"Climate Change\", \"Terrestrial Ecosystems\",  \"Marginal\", \"All\", \"100 Years\"): None,\n",
    " (\"LC-IMPACT\", \"Climate Change\", \"Terrestrial Ecosystems\",  \"Marginal\", \"Certain\", \"Infinite\"): None,\n",
    " (\"LC-IMPACT\", \"Climate Change\", \"Terrestrial Ecosystems\",  \"Marginal\", \"All\", \"Infinite\"): None,\n",
    " (\"LC-IMPACT\", \"Climate Change\", \"Aquatic Ecosystems\", \"Marginal\", \"All\", \"100 Years\"): None,\n",
    " (\"LC-IMPACT\", \"Climate Change\", \"Aquatic Ecosystems\",  \"Marginal\", \"All\", \"Infinite\"): None, \n",
    " ('LC-IMPACT', 'Land Use', 'Occupation', 'Marginal', 'Certain'): {\n",
    "     'xt others': 'world-topo-ecoregions-weighted-pop-density',\n",
    "     'activities': crops,\n",
    "     'sugarcane': 'world-topo-ecoregions-sugarcane_landuse_intensity',\n",
    "     'maize': 'world-topo-ecoregions-maize_landuse_intensity',\n",
    " },\n",
    " ('LC-IMPACT', 'Particulate Matter Formation', 'Marginal', 'All'): {\n",
    "     'xt others': 'world-topo-particulate-matter-weighted-pop-density',\n",
    "     'activities': [],\n",
    "     'sugarcane': 'world-topo-particulate-matter-sugarcane_landuse_intensity',\n",
    "     'maize': 'world-topo-particulate-matter-maize_landuse_intensity',\n",
    " },\n",
    " ('LC-IMPACT', 'Particulate Matter Formation', 'Marginal', 'Certain'): {\n",
    "     'xt others': 'world-topo-particulate-matter-weighted-pop-density',\n",
    "     'activities': [],\n",
    "     'sugarcane': 'world-topo-particulate-matter-sugarcane_landuse_intensity',\n",
    "     'maize': 'world-topo-particulate-matter-maize_landuse_intensity',\n",
    " },\n",
    " ('LC-IMPACT', 'Water Use', 'Ecosystem Quality', 'Surface Water', 'Marginal', 'All'): {\n",
    "     'xt others': 'world-topo-watersheds-eq-sw-all-weighted-pop-density',\n",
    "     'activities': irrigation + crops,\n",
    "     'sugarcane': 'world-topo-watersheds-eq-sw-all-sugarcane_water_intensity',\n",
    "     'maize': 'world-topo-watersheds-eq-sw-all-maize_water_intensity',\n",
    " },\n",
    " ('LC-IMPACT', 'Water Use', 'Ecosystem Quality', 'Surface Water', 'Marginal', 'Certain'): {\n",
    "     'xt others': 'world-topo-watersheds-eq-sw-certain-weighted-pop-density',\n",
    "     'activities': irrigation + crops,\n",
    "     'sugarcane': 'world-topo-watersheds-eq-sw-certain-sugarcane_water_intensity',\n",
    "     'maize': 'world-topo-watersheds-eq-sw-certain-maize_water_intensity',\n",
    " },\n",
    " ('LC-IMPACT', 'Water Use', 'Human Health', 'Marginal'): {\n",
    "     'xt others': 'world-topo-watersheds-hh-weighted-pop-density',\n",
    "     'activities': irrigation + crops,\n",
    "     'sugarcane': 'world-topo-watersheds-hh-sugarcane_water_intensity',\n",
    "     'maize': 'world-topo-watersheds-hh-maize_water_intensity',\n",
    " },\n",
    "}"
   ]
  },
  {
   "cell_type": "markdown",
   "metadata": {},
   "source": [
    "Let's do some calculations"
   ]
  },
  {
   "cell_type": "code",
   "execution_count": null,
   "metadata": {},
   "outputs": [],
   "source": [
    "func_unit = ('Fuel comparison', 'sugarcane transport')\n",
    "crop = 'sugarcane'\n",
    "method = ('LC-IMPACT', 'Land Use', 'Occupation', 'Marginal', 'Certain')"
   ]
  },
  {
   "cell_type": "code",
   "execution_count": null,
   "metadata": {},
   "outputs": [],
   "source": [
    "xt_ag = bwr.ExtensionTablesLCA(\n",
    "    {func_unit: 1},\n",
    "    method,\n",
    "    xtable=lcimpact[method][crop],\n",
    "    limitations={\n",
    "        'activities': lcimpact[method]['activities'],\n",
    "    },\n",
    ")\n",
    "xt_ag.lci()\n",
    "xt_ag.lcia()\n",
    "xt_ag.score"
   ]
  },
  {
   "cell_type": "markdown",
   "metadata": {},
   "source": [
    "Explore how impact moves down the supply chain"
   ]
  },
  {
   "cell_type": "code",
   "execution_count": null,
   "metadata": {},
   "outputs": [],
   "source": [
    "ba.utils.print_recursive_calculation(\n",
    "    activity=('Fuel comparison', 'sugarcane transport'),\n",
    "    lcia_method=method,\n",
    "    max_level=4,\n",
    "    cutoff=2.5e-2,\n",
    "    _lca_obj=xt_ag,\n",
    "    _total_score=xt_ag.score,\n",
    ")"
   ]
  },
  {
   "cell_type": "code",
   "execution_count": null,
   "metadata": {},
   "outputs": [],
   "source": [
    "xt_others = bwr.ExtensionTablesLCA(\n",
    "    {func_unit: 1},\n",
    "    method,\n",
    "    xtable=lcimpact[method]['xt others'],\n",
    "    limitations={\n",
    "        'activities': lcimpact[method]['activities'],\n",
    "        'activities mode': 'exclude'\n",
    "    }\n",
    ")\n",
    "xt_others.lci()\n",
    "xt_others.lcia()\n",
    "xt_others.score"
   ]
  },
  {
   "cell_type": "code",
   "execution_count": null,
   "metadata": {
    "tags": []
   },
   "outputs": [],
   "source": [
    "xt_ag.geodataframe_xtable_spatial_scale().explore(column='score_rel')"
   ]
  },
  {
   "cell_type": "code",
   "execution_count": null,
   "metadata": {},
   "outputs": [],
   "source": [
    "xt_ag.geodataframe_xtable_spatial_scale().to_file('xt_scale.gpkg')"
   ]
  },
  {
   "cell_type": "code",
   "execution_count": null,
   "metadata": {},
   "outputs": [],
   "source": [
    "xt_ag.geodataframe_xtable_spatial_scale(sum_flows=False).to_file('xt_scale_unsummed.gpkg')"
   ]
  },
  {
   "cell_type": "code",
   "execution_count": null,
   "metadata": {},
   "outputs": [],
   "source": [
    "xt_ag.geodataframe_xtable_spatial_scale(annotate_flows=True).to_file('xt_scale_annotated.gpkg')"
   ]
  },
  {
   "cell_type": "code",
   "execution_count": null,
   "metadata": {},
   "outputs": [],
   "source": [
    "xt_ag.geodataframe_ia_spatial_scale().to_file('ia_scale.gpkg')"
   ]
  },
  {
   "cell_type": "code",
   "execution_count": null,
   "metadata": {},
   "outputs": [],
   "source": [
    "xt_ag.geodataframe_inv_spatial_scale().to_file('inv_scale.gpkg')"
   ]
  },
  {
   "cell_type": "code",
   "execution_count": null,
   "metadata": {},
   "outputs": [],
   "source": [
    "xt_ag.characterized_inventory += xt_others.characterized_inventory"
   ]
  },
  {
   "cell_type": "code",
   "execution_count": null,
   "metadata": {},
   "outputs": [],
   "source": [
    "xt_ag = bwr.ExtensionTablesLCA(\n",
    "    {func_unit: 1},\n",
    "    method,\n",
    "    xtable=lcimpact[method][crop],\n",
    "    limitations={\n",
    "        'activities': lcimpact[method]['activities'],\n",
    "    },\n",
    "    use_distributions=True\n",
    ")\n",
    "xt_ag.lci()\n",
    "xt_ag.lcia()\n",
    "xt_ag.score"
   ]
  },
  {
   "cell_type": "code",
   "execution_count": null,
   "metadata": {},
   "outputs": [],
   "source": [
    "for _ in range(10):\n",
    "    next(xt_ag)\n",
    "    print(xt_ag.score)"
   ]
  }
 ],
 "metadata": {
  "kernelspec": {
   "display_name": "Python 3 (ipykernel)",
   "language": "python",
   "name": "python3"
  },
  "language_info": {
   "codemirror_mode": {
    "name": "ipython",
    "version": 3
   },
   "file_extension": ".py",
   "mimetype": "text/x-python",
   "name": "python",
   "nbconvert_exporter": "python",
   "pygments_lexer": "ipython3",
   "version": "3.10.6"
  },
  "toc": {
   "base_numbering": 1,
   "colors": {
    "hover_highlight": "#DAA520",
    "running_highlight": "#FF0000",
    "selected_highlight": "#FFD700"
   },
   "moveMenuLeft": true,
   "nav_menu": {
    "height": "48px",
    "width": "252px"
   },
   "navigate_menu": true,
   "number_sections": true,
   "sideBar": true,
   "skip_h1_title": false,
   "threshold": 4,
   "title_cell": "Table of Contents",
   "title_sidebar": "Contents",
   "toc_cell": false,
   "toc_position": {},
   "toc_section_display": "block",
   "toc_window_display": false
  }
 },
 "nbformat": 4,
 "nbformat_minor": 4
}
