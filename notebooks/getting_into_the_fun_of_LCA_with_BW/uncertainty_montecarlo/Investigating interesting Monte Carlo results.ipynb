{
 "cells": [
  {
   "cell_type": "markdown",
   "id": "1e7cc490-52ec-4418-a10e-e6e1e7b25a65",
   "metadata": {},
   "source": [
    "# Finding out why Monte Carlo results are significantly different than static ones\n",
    "\n",
    "Based on a [Stack Overflow question](https://stackoverflow.com/questions/72807629/overestimated-monte-carlo-results-in-brightway).\n",
    "\n",
    "Uses Brightway 2.5."
   ]
  },
  {
   "cell_type": "code",
   "execution_count": 1,
   "id": "84499324-db0a-445f-af1c-3a24e8a850d3",
   "metadata": {},
   "outputs": [],
   "source": [
    "import bw2data as bd\n",
    "import bw2calc as bc\n",
    "import bw2analyzer as ba\n",
    "import bw2io as bi\n",
    "import numpy as np\n",
    "import pandas as pd"
   ]
  },
  {
   "cell_type": "code",
   "execution_count": 2,
   "id": "9b1b4584-33c5-40a2-adb8-1a19d79d535e",
   "metadata": {},
   "outputs": [],
   "source": [
    "bd.projects.set_current(\"ecoinvent 3.8 consequential 25\")"
   ]
  },
  {
   "cell_type": "markdown",
   "id": "4d7feb5c-f3a9-4c03-99c8-079045579726",
   "metadata": {},
   "source": [
    "Define functional unit and LCIA impact category"
   ]
  },
  {
   "cell_type": "code",
   "execution_count": 3,
   "id": "47170954-85f9-4b32-9ea3-340a95eb1d0a",
   "metadata": {},
   "outputs": [],
   "source": [
    "waste_paper = bd.Database(\"ecoinvent 3.8 consequential\").get(name='market for waste paper, sorted')\n",
    "ipcc = ('IPCC 2013', 'climate change', 'GWP 100a')"
   ]
  },
  {
   "cell_type": "markdown",
   "id": "2a4b625c-b537-4e1a-9def-88236e1290cd",
   "metadata": {},
   "source": [
    "Create static and stochastic LCA instances"
   ]
  },
  {
   "cell_type": "code",
   "execution_count": 4,
   "id": "789393c7-3fea-4b38-ba82-0b6160540891",
   "metadata": {},
   "outputs": [],
   "source": [
    "static = bc.LCA({waste_paper: 1}, ipcc)\n",
    "static.lci()\n",
    "static.lcia()"
   ]
  },
  {
   "cell_type": "code",
   "execution_count": 5,
   "id": "15047cb7-2cdf-46a3-8a53-32abea87bb71",
   "metadata": {},
   "outputs": [],
   "source": [
    "mc = bc.LCA({waste_paper: 1}, ipcc, use_distributions=True)\n",
    "mc.lci()\n",
    "mc.lcia()"
   ]
  },
  {
   "cell_type": "markdown",
   "id": "d991c528-85d8-4866-ac71-1e5fd4a2ec28",
   "metadata": {},
   "source": [
    "Confirm that the scores are quite different"
   ]
  },
  {
   "cell_type": "code",
   "execution_count": 6,
   "id": "4bb17e20-12ad-4348-a0f8-53f091ddcdc0",
   "metadata": {},
   "outputs": [
    {
     "data": {
      "text/plain": [
       "(2.76826441779881, 140.97417359119535)"
      ]
     },
     "execution_count": 6,
     "metadata": {},
     "output_type": "execute_result"
    }
   ],
   "source": [
    "static.score, np.mean([mc.score for _ in zip(range(20), mc)])"
   ]
  },
  {
   "cell_type": "markdown",
   "id": "fe8bf0b5-6f81-46e1-873d-55f03bb51e9d",
   "metadata": {},
   "source": [
    "We can do a recursive calculation on the Monte Carlo object (this doesn't call `__next__`, so the matrices remain the same), but we need to give some normally private arguments:"
   ]
  },
  {
   "cell_type": "code",
   "execution_count": 7,
   "id": "4514dd08-51d2-44e1-a291-0fe0413a86bc",
   "metadata": {},
   "outputs": [
    {
     "name": "stdout",
     "output_type": "stream",
     "text": [
      "Fraction of score | Absolute score | Amount | Activity\n",
      "0001 | 36.23 |     1 | 'market for waste paper, sorted' (kilogram, GLO, None)\n",
      "  0.288 | 10.42 | 0.2857 | 'tissue paper production' (kilogram, RER, None)\n",
      "    0.297 | 10.77 | 0.2434 | 'market for tissue paper' (kilogram, GLO, None)\n",
      "      0.297 | 10.75 | 0.2434 | 'tissue paper production, virgin' (kilogram, GLO, None)\n",
      "        0.0119 | 0.4314 | 0.247 | 'market for sulfite pulp, bleached' (kilogram, GLO, None)\n",
      "  0.712 | 25.81 | 0.7143 | 'tissue paper production' (kilogram, RoW, None)\n",
      "    0.743 | 26.93 | 0.6084 | 'market for tissue paper' (kilogram, GLO, None)\n",
      "      0.742 | 26.87 | 0.6084 | 'tissue paper production, virgin' (kilogram, GLO, None)\n",
      "        0.0165 | 0.5968 | 4.327 | 'market group for heat, district or industrial, other than natural gas\n",
      "          0.0131 | 0.4762 | 3.586 | 'market for heat, district or industrial, other than natural gas' (meg\n",
      "        0.0195 | 0.7081 | 1.217 | 'market group for electricity, medium voltage' (kilowatt hour, GLO, No\n",
      "          0.0164 | 0.5939 | 0.8564 | 'market group for electricity, medium voltage' (kilowatt hour, RAS, No\n",
      "        0.0298 | 1.079 | 0.6175 | 'market for sulfite pulp, bleached' (kilogram, GLO, None)\n",
      "          0.0188 | 0.6811 | 0.4182 | 'sulfite pulp production, bleached' (kilogram, RER, None)\n",
      "          0.011 | 0.3974 | 0.1994 | 'sulfite pulp production, bleached' (kilogram, RoW, None)\n"
     ]
    }
   ],
   "source": [
    "ba.print_recursive_calculation(\n",
    "    waste_paper,\n",
    "    ipcc,\n",
    "    amount=1,\n",
    "    max_level=5,\n",
    "    cutoff=0.01,\n",
    "    _lca_obj=mc,\n",
    "    _total_score=mc.score,\n",
    ")"
   ]
  },
  {
   "cell_type": "markdown",
   "id": "4e8193e9-5463-403b-9841-7842df086118",
   "metadata": {},
   "source": [
    "We can see from this that there is a large impact from `tissue paper production, virgin`. Let's switch our functional unit to this:"
   ]
  },
  {
   "cell_type": "code",
   "execution_count": 8,
   "id": "7c5b4ab1-0208-4127-b7f7-96ba7531826a",
   "metadata": {},
   "outputs": [],
   "source": [
    "tissue = bd.Database(\"ecoinvent 3.8 consequential\").get(name='tissue paper production, virgin')"
   ]
  },
  {
   "cell_type": "markdown",
   "id": "1e7fd7a5-68d6-4fc4-a655-17c3d558320a",
   "metadata": {},
   "source": [
    "But when we try to look through the supply chain to understand why we get such high stochastic impacts, we don't get anywhere:"
   ]
  },
  {
   "cell_type": "code",
   "execution_count": 9,
   "id": "aca5d479-795e-4e70-b529-26800c487986",
   "metadata": {},
   "outputs": [],
   "source": [
    "static = bc.LCA({tissue: 1}, ipcc)\n",
    "static.lci()\n",
    "static.lcia()"
   ]
  },
  {
   "cell_type": "code",
   "execution_count": 10,
   "id": "961d1582-70e2-4b33-b1e3-3ba0a4e3ed69",
   "metadata": {},
   "outputs": [],
   "source": [
    "mc = bc.LCA({tissue: 1}, ipcc, use_distributions=True)\n",
    "mc.lci()\n",
    "mc.lcia()"
   ]
  },
  {
   "cell_type": "code",
   "execution_count": 11,
   "id": "61506cb2-7c60-4bb1-9bc4-5c7c13360850",
   "metadata": {},
   "outputs": [
    {
     "name": "stdout",
     "output_type": "stream",
     "text": [
      "Fraction of score | Absolute score | Amount | Activity\n",
      "0001 | 208.3 |     1 | 'tissue paper production, virgin' (kilogram, GLO, None)\n"
     ]
    }
   ],
   "source": [
    "ba.print_recursive_calculation(\n",
    "    tissue,\n",
    "    ipcc,\n",
    "    amount=1,\n",
    "    max_level=5,\n",
    "    cutoff=0.025,\n",
    "    _lca_obj=mc,\n",
    "    _total_score=mc.score,\n",
    ")"
   ]
  },
  {
   "cell_type": "markdown",
   "id": "2e4a990b-8ef4-4a4b-94f6-a8da3d20e7cd",
   "metadata": {},
   "source": [
    "We seem to be missing something important - the total (stochastic) score is > 200, but the only input above our 2.5% cutoff is sulfite pulp, which is only 3.6% of the total score (specific numbers can change per MC iteration). Maybe this activity has some high direct emissions?"
   ]
  },
  {
   "cell_type": "code",
   "execution_count": 12,
   "id": "ddb82a68-f7f8-45a6-a9bd-b97acc27d356",
   "metadata": {},
   "outputs": [
    {
     "data": {
      "text/plain": [
       "0.0"
      ]
     },
     "execution_count": 12,
     "metadata": {},
     "output_type": "execute_result"
    }
   ],
   "source": [
    "mc.characterized_inventory[:, mc.dicts.activity[tissue.id]].sum()"
   ]
  },
  {
   "cell_type": "markdown",
   "id": "6e155112-b8da-447f-b54b-65dfabb63065",
   "metadata": {},
   "source": [
    "We don't see anything in our supply chain, but we can see which activities generate actual impacts by doing a contribution analysis on the final characterized inventory. However, our recursive calculation changed the functional unit while recursing, so we need to \"reset\" the calculation:"
   ]
  },
  {
   "cell_type": "code",
   "execution_count": 13,
   "id": "aa94b306-859b-4aaa-a9e0-f752c038de7d",
   "metadata": {},
   "outputs": [],
   "source": [
    "mc = bc.LCA({tissue: 1}, ipcc, use_distributions=True)\n",
    "mc.lci()\n",
    "mc.lcia()"
   ]
  },
  {
   "cell_type": "code",
   "execution_count": 14,
   "id": "e7b5e9bf-7be7-4cf5-8f14-05bca4a4120f",
   "metadata": {},
   "outputs": [
    {
     "data": {
      "text/html": [
       "<div>\n",
       "<style scoped>\n",
       "    .dataframe tbody tr th:only-of-type {\n",
       "        vertical-align: middle;\n",
       "    }\n",
       "\n",
       "    .dataframe tbody tr th {\n",
       "        vertical-align: top;\n",
       "    }\n",
       "\n",
       "    .dataframe thead th {\n",
       "        text-align: right;\n",
       "    }\n",
       "</style>\n",
       "<table border=\"1\" class=\"dataframe\">\n",
       "  <thead>\n",
       "    <tr style=\"text-align: right;\">\n",
       "      <th></th>\n",
       "      <th>Score</th>\n",
       "      <th>Name</th>\n",
       "      <th>Location</th>\n",
       "    </tr>\n",
       "  </thead>\n",
       "  <tbody>\n",
       "    <tr>\n",
       "      <th>0</th>\n",
       "      <td>11.093098</td>\n",
       "      <td>palm fruit bunch production</td>\n",
       "      <td>MY</td>\n",
       "    </tr>\n",
       "    <tr>\n",
       "      <th>1</th>\n",
       "      <td>6.931211</td>\n",
       "      <td>heat and power co-generation, lignite</td>\n",
       "      <td>RoW</td>\n",
       "    </tr>\n",
       "    <tr>\n",
       "      <th>2</th>\n",
       "      <td>3.691022</td>\n",
       "      <td>clear-cutting, secondary forest to arable land...</td>\n",
       "      <td>MY</td>\n",
       "    </tr>\n",
       "    <tr>\n",
       "      <th>3</th>\n",
       "      <td>3.323755</td>\n",
       "      <td>heat and power co-generation, natural gas, 200...</td>\n",
       "      <td>RoW</td>\n",
       "    </tr>\n",
       "    <tr>\n",
       "      <th>4</th>\n",
       "      <td>3.018054</td>\n",
       "      <td>heat and power co-generation, hard coal</td>\n",
       "      <td>RU</td>\n",
       "    </tr>\n",
       "    <tr>\n",
       "      <th>5</th>\n",
       "      <td>2.714970</td>\n",
       "      <td>heat and power co-generation, hard coal</td>\n",
       "      <td>PL</td>\n",
       "    </tr>\n",
       "    <tr>\n",
       "      <th>6</th>\n",
       "      <td>2.314912</td>\n",
       "      <td>heat and power co-generation, lignite</td>\n",
       "      <td>PL</td>\n",
       "    </tr>\n",
       "    <tr>\n",
       "      <th>7</th>\n",
       "      <td>1.686941</td>\n",
       "      <td>heat and power co-generation, lignite</td>\n",
       "      <td>RU</td>\n",
       "    </tr>\n",
       "    <tr>\n",
       "      <th>8</th>\n",
       "      <td>1.507058</td>\n",
       "      <td>palm fruit bunch production</td>\n",
       "      <td>RoW</td>\n",
       "    </tr>\n",
       "    <tr>\n",
       "      <th>9</th>\n",
       "      <td>1.326343</td>\n",
       "      <td>clear-cutting, primary forest to arable land, ...</td>\n",
       "      <td>MY</td>\n",
       "    </tr>\n",
       "    <tr>\n",
       "      <th>10</th>\n",
       "      <td>1.314351</td>\n",
       "      <td>heat and power co-generation, natural gas, com...</td>\n",
       "      <td>RoW</td>\n",
       "    </tr>\n",
       "    <tr>\n",
       "      <th>11</th>\n",
       "      <td>-1.138764</td>\n",
       "      <td>electricity production, natural gas, combined ...</td>\n",
       "      <td>PL</td>\n",
       "    </tr>\n",
       "    <tr>\n",
       "      <th>12</th>\n",
       "      <td>1.127991</td>\n",
       "      <td>clear-cutting, primary forest to arable land, ...</td>\n",
       "      <td>ID</td>\n",
       "    </tr>\n",
       "    <tr>\n",
       "      <th>13</th>\n",
       "      <td>1.075202</td>\n",
       "      <td>heat and power co-generation, natural gas, com...</td>\n",
       "      <td>IT</td>\n",
       "    </tr>\n",
       "    <tr>\n",
       "      <th>14</th>\n",
       "      <td>0.826635</td>\n",
       "      <td>quicklime production, in pieces, loose</td>\n",
       "      <td>RoW</td>\n",
       "    </tr>\n",
       "    <tr>\n",
       "      <th>15</th>\n",
       "      <td>0.788864</td>\n",
       "      <td>heat and power co-generation, natural gas, com...</td>\n",
       "      <td>US-SERC</td>\n",
       "    </tr>\n",
       "    <tr>\n",
       "      <th>16</th>\n",
       "      <td>0.729657</td>\n",
       "      <td>ammonia production, steam reforming, liquid</td>\n",
       "      <td>RoW</td>\n",
       "    </tr>\n",
       "    <tr>\n",
       "      <th>17</th>\n",
       "      <td>0.729300</td>\n",
       "      <td>clear-cutting, secondary forest to arable land...</td>\n",
       "      <td>PH</td>\n",
       "    </tr>\n",
       "    <tr>\n",
       "      <th>18</th>\n",
       "      <td>0.719638</td>\n",
       "      <td>hard coal mine operation and hard coal prepara...</td>\n",
       "      <td>RU</td>\n",
       "    </tr>\n",
       "    <tr>\n",
       "      <th>19</th>\n",
       "      <td>0.705271</td>\n",
       "      <td>clear-cutting, secondary forest to arable land...</td>\n",
       "      <td>ID</td>\n",
       "    </tr>\n",
       "    <tr>\n",
       "      <th>20</th>\n",
       "      <td>-0.700089</td>\n",
       "      <td>ethylene production, average</td>\n",
       "      <td>RoW</td>\n",
       "    </tr>\n",
       "    <tr>\n",
       "      <th>21</th>\n",
       "      <td>0.679369</td>\n",
       "      <td>diesel, burned in building machine</td>\n",
       "      <td>GLO</td>\n",
       "    </tr>\n",
       "    <tr>\n",
       "      <th>22</th>\n",
       "      <td>0.679241</td>\n",
       "      <td>heat and power co-generation, hard coal</td>\n",
       "      <td>DE</td>\n",
       "    </tr>\n",
       "    <tr>\n",
       "      <th>23</th>\n",
       "      <td>0.678942</td>\n",
       "      <td>hard coal mine operation and hard coal prepara...</td>\n",
       "      <td>CN</td>\n",
       "    </tr>\n",
       "    <tr>\n",
       "      <th>24</th>\n",
       "      <td>0.673415</td>\n",
       "      <td>heat and power co-generation, lignite</td>\n",
       "      <td>CZ</td>\n",
       "    </tr>\n",
       "  </tbody>\n",
       "</table>\n",
       "</div>"
      ],
      "text/plain": [
       "        Score                                               Name Location\n",
       "0   11.093098                        palm fruit bunch production       MY\n",
       "1    6.931211              heat and power co-generation, lignite      RoW\n",
       "2    3.691022  clear-cutting, secondary forest to arable land...       MY\n",
       "3    3.323755  heat and power co-generation, natural gas, 200...      RoW\n",
       "4    3.018054            heat and power co-generation, hard coal       RU\n",
       "5    2.714970            heat and power co-generation, hard coal       PL\n",
       "6    2.314912              heat and power co-generation, lignite       PL\n",
       "7    1.686941              heat and power co-generation, lignite       RU\n",
       "8    1.507058                        palm fruit bunch production      RoW\n",
       "9    1.326343  clear-cutting, primary forest to arable land, ...       MY\n",
       "10   1.314351  heat and power co-generation, natural gas, com...      RoW\n",
       "11  -1.138764  electricity production, natural gas, combined ...       PL\n",
       "12   1.127991  clear-cutting, primary forest to arable land, ...       ID\n",
       "13   1.075202  heat and power co-generation, natural gas, com...       IT\n",
       "14   0.826635             quicklime production, in pieces, loose      RoW\n",
       "15   0.788864  heat and power co-generation, natural gas, com...  US-SERC\n",
       "16   0.729657        ammonia production, steam reforming, liquid      RoW\n",
       "17   0.729300  clear-cutting, secondary forest to arable land...       PH\n",
       "18   0.719638  hard coal mine operation and hard coal prepara...       RU\n",
       "19   0.705271  clear-cutting, secondary forest to arable land...       ID\n",
       "20  -0.700089                       ethylene production, average      RoW\n",
       "21   0.679369                 diesel, burned in building machine      GLO\n",
       "22   0.679241            heat and power co-generation, hard coal       DE\n",
       "23   0.678942  hard coal mine operation and hard coal prepara...       CN\n",
       "24   0.673415              heat and power co-generation, lignite       CZ"
      ]
     },
     "execution_count": 14,
     "metadata": {},
     "output_type": "execute_result"
    }
   ],
   "source": [
    "pd.DataFrame(\n",
    "    [\n",
    "        (x, z['name'], z['location']) \n",
    "        for x, _, z in ba.ContributionAnalysis().annotated_top_processes(mc)\n",
    "    ], \n",
    "    columns=['Score', 'Name', 'Location']\n",
    ")"
   ]
  },
  {
   "cell_type": "markdown",
   "id": "1b9fbae2-fd9e-40b8-bf9d-e20b2242c724",
   "metadata": {},
   "source": [
    "[Something is hapening here, but you don't know what it is](https://www.youtube.com/watch?v=we37yX3zpKA)...\n",
    "\n",
    "Not going to lie, this was very confusing. There are no direct emissions from tissue paper, but also no impacts from the supply chain of tissue paper. Eventually I realized that we can compare the values in the technosphere matrix for the static and Monte Carlo cases and see how different the input amounts are:"
   ]
  },
  {
   "cell_type": "code",
   "execution_count": 15,
   "id": "1a73e786-3822-4d96-a740-8efaf7f50785",
   "metadata": {},
   "outputs": [],
   "source": [
    "def compare_inputs_two_lca_objects(first, second, column_id):\n",
    "    column_index = first.dicts.activity[column_id]\n",
    "    results = []\n",
    "    \n",
    "    for row in first.technosphere_matrix[:, column_index].tocoo().row:\n",
    "        a = abs(first.technosphere_matrix[row, column_index])\n",
    "        b = abs(second.technosphere_matrix[row, column_index])\n",
    "        try:\n",
    "            ratio = a / b\n",
    "        except ZeroDivisionError:\n",
    "            ratio = 0\n",
    "        if ratio > 10 or ratio < 0.1:\n",
    "            act = bd.get_activity(first.dicts.product.reversed[row])\n",
    "            results.append({\n",
    "                'ratio': ratio, \n",
    "                'a_value': a,\n",
    "                'b_value': b,\n",
    "                'name': act['name'],\n",
    "                'location': act['name'],\n",
    "                'act_id': act.id,\n",
    "            })\n",
    "            \n",
    "    if results:\n",
    "        results.sort(key=lambda x: x['ratio'], reverse=True)\n",
    "        results = pd.DataFrame(results)\n",
    "    return results"
   ]
  },
  {
   "cell_type": "code",
   "execution_count": 16,
   "id": "13061d5f-1482-4a3f-b0e2-3da74bf52d57",
   "metadata": {},
   "outputs": [
    {
     "data": {
      "text/html": [
       "<div>\n",
       "<style scoped>\n",
       "    .dataframe tbody tr th:only-of-type {\n",
       "        vertical-align: middle;\n",
       "    }\n",
       "\n",
       "    .dataframe tbody tr th {\n",
       "        vertical-align: top;\n",
       "    }\n",
       "\n",
       "    .dataframe thead th {\n",
       "        text-align: right;\n",
       "    }\n",
       "</style>\n",
       "<table border=\"1\" class=\"dataframe\">\n",
       "  <thead>\n",
       "    <tr style=\"text-align: right;\">\n",
       "      <th></th>\n",
       "      <th>ratio</th>\n",
       "      <th>a_value</th>\n",
       "      <th>b_value</th>\n",
       "      <th>name</th>\n",
       "      <th>location</th>\n",
       "      <th>act_id</th>\n",
       "    </tr>\n",
       "  </thead>\n",
       "  <tbody>\n",
       "    <tr>\n",
       "      <th>0</th>\n",
       "      <td>1252.096670</td>\n",
       "      <td>16.197410</td>\n",
       "      <td>0.012936</td>\n",
       "      <td>market for rosin size, for paper production</td>\n",
       "      <td>market for rosin size, for paper production</td>\n",
       "      <td>8907</td>\n",
       "    </tr>\n",
       "    <tr>\n",
       "      <th>1</th>\n",
       "      <td>939.879680</td>\n",
       "      <td>9.398797</td>\n",
       "      <td>0.010000</td>\n",
       "      <td>market for chemical, inorganic</td>\n",
       "      <td>market for chemical, inorganic</td>\n",
       "      <td>14207</td>\n",
       "    </tr>\n",
       "    <tr>\n",
       "      <th>2</th>\n",
       "      <td>651.335966</td>\n",
       "      <td>0.651336</td>\n",
       "      <td>0.001000</td>\n",
       "      <td>market for chemical, organic</td>\n",
       "      <td>market for chemical, organic</td>\n",
       "      <td>5475</td>\n",
       "    </tr>\n",
       "    <tr>\n",
       "      <th>3</th>\n",
       "      <td>178.921196</td>\n",
       "      <td>4.842282</td>\n",
       "      <td>0.027064</td>\n",
       "      <td>market for rosin size, for paper production</td>\n",
       "      <td>market for rosin size, for paper production</td>\n",
       "      <td>6383</td>\n",
       "    </tr>\n",
       "  </tbody>\n",
       "</table>\n",
       "</div>"
      ],
      "text/plain": [
       "         ratio    a_value   b_value  \\\n",
       "0  1252.096670  16.197410  0.012936   \n",
       "1   939.879680   9.398797  0.010000   \n",
       "2   651.335966   0.651336  0.001000   \n",
       "3   178.921196   4.842282  0.027064   \n",
       "\n",
       "                                          name  \\\n",
       "0  market for rosin size, for paper production   \n",
       "1               market for chemical, inorganic   \n",
       "2                 market for chemical, organic   \n",
       "3  market for rosin size, for paper production   \n",
       "\n",
       "                                      location  act_id  \n",
       "0  market for rosin size, for paper production    8907  \n",
       "1               market for chemical, inorganic   14207  \n",
       "2                 market for chemical, organic    5475  \n",
       "3  market for rosin size, for paper production    6383  "
      ]
     },
     "execution_count": 16,
     "metadata": {},
     "output_type": "execute_result"
    }
   ],
   "source": [
    "compare_inputs_two_lca_objects(mc, static, tissue.id)"
   ]
  },
  {
   "cell_type": "markdown",
   "id": "91757eb4-5d0a-4d2e-89f6-8b2404674bcf",
   "metadata": {},
   "source": [
    "We are finally getting somewhere! We have four inputs to the tissue paper where the static amounts are **much less** than the stochastic values sampled. Let's look at one of the uncertainty distributions ([here is the activity dataset at ecoinvent](https://v38.ecoquery.ecoinvent.org/Details/UPR/62960c80-c028-44d4-9d45-a4a6a7a689c6/dd7f13f5-0658-489c-a19c-f2ff8a00bdd9)):"
   ]
  },
  {
   "cell_type": "code",
   "execution_count": 17,
   "id": "0edfd1a1-fc05-4e2d-ad6b-6aa7748d2f23",
   "metadata": {},
   "outputs": [
    {
     "data": {
      "text/plain": [
       "{'uncertainty type': 5,\n",
       " 'minimum': 0.0,\n",
       " 'loc': 0.0129362298845668,\n",
       " 'maximum': 80.0}"
      ]
     },
     "execution_count": 17,
     "metadata": {},
     "output_type": "execute_result"
    }
   ],
   "source": [
    "exc = next(exc for exc in tissue.technosphere() if exc.input.id == 8907)\n",
    "dist = {attr: exc.get(attr) for attr in ('uncertainty type', 'minimum', 'loc', 'maximum')}\n",
    "dist"
   ]
  },
  {
   "cell_type": "markdown",
   "id": "b4040ba1-e5db-4aac-b247-89184a4d1e60",
   "metadata": {},
   "source": [
    "`5` is the [triangular distribution](https://en.wikipedia.org/wiki/Triangular_distribution), this comes from [stats_arrays](https://stats-arrays.readthedocs.io/en/latest/).\n",
    "\n",
    "So, what does this mean? Let's look at the statistics:"
   ]
  },
  {
   "cell_type": "code",
   "execution_count": 18,
   "id": "eaeee622-0070-4ed5-8fbb-731cdc085579",
   "metadata": {},
   "outputs": [],
   "source": [
    "import stats_arrays as sa"
   ]
  },
  {
   "cell_type": "code",
   "execution_count": 19,
   "id": "39c12ede-f23f-45e4-8691-2b16837dd505",
   "metadata": {},
   "outputs": [
    {
     "data": {
      "text/plain": [
       "{'mean': 26.670978743294857,\n",
       " 'median': 23.436031337921335,\n",
       " 'mode': 0.0129362298845668,\n",
       " 'lower': 0.5080001645503973,\n",
       " 'upper': 71.05645127647223}"
      ]
     },
     "execution_count": 19,
     "metadata": {},
     "output_type": "execute_result"
    }
   ],
   "source": [
    "sa.TriangularUncertainty.statistics(sa.TriangularUncertainty.from_dicts(dist))"
   ]
  },
  {
   "cell_type": "markdown",
   "id": "0129aa69-6e19-47e6-8d50-5c69e97b89ce",
   "metadata": {},
   "source": [
    "When the mean is more than 200 times the static value used, it makes sense that the Monte Carlo results would be significantly biased. And we see a similar pattern in the other three exchanges with high ratios.\n",
    "\n",
    "Why didn't we see this in our recursive graph traversal? Because that uses the static exchange values instead of the values in the matrix itself:\n",
    "\n",
    "```python\n",
    "for exc in activity.technosphere():\n",
    "```\n",
    "\n",
    "As of `bw2analyzer` version 0.11.4, we have a modified `print_recursive_calculation` function which will use the actual matrix values (i.e. Monte Carlo samples) instead:"
   ]
  },
  {
   "cell_type": "code",
   "execution_count": 20,
   "id": "2505e945-d4d0-4308-bff2-c4d2e340bab2",
   "metadata": {},
   "outputs": [
    {
     "name": "stdout",
     "output_type": "stream",
     "text": [
      "Fraction of score | Absolute score | Amount | Activity\n",
      "0001 | 72.95 |     1 | 'tissue paper production, virgin' (kilogram, GLO, None)\n",
      "  0.271 | 19.79 | 9.399 | 'market for chemical, inorganic' (kilogram, GLO, None)\n",
      "    0.271 | 19.79 | 9.399 | 'chemical production, inorganic' (kilogram, GLO, None)\n",
      "      0.0282 | 2.056 | 0.3133 | 'market for titanium dioxide' (kilogram, RoW, None)\n",
      "      0.0293 | 2.138 | 0.4283 | 'market for sodium chlorate, powder' (kilogram, RoW, None)\n",
      "        0.029 | 2.118 | 0.4274 | 'sodium chlorate production, powder' (kilogram, RoW, None)\n",
      "  0.0313 |  2.28 | 1.015 | 'market for sulfite pulp, bleached' (kilogram, GLO, None)\n",
      "  0.487 | 35.54 |  16.2 | 'market for rosin size, for paper production' (kilogram, RER, None)\n",
      "    0.48 | 35.04 |  16.2 | 'rosin size production, for paper production' (kilogram, RER, None)\n",
      "      0.111 | 8.115 | 4.049 | 'market for sodium hydroxide, without water, in 50% solution state' (k\n",
      "        0.108 | 7.846 | 4.049 | 'sodium hydroxide to generic market for neutralising agent' (kilogram,\n",
      "          0.108 | 7.846 | 4.049 | 'market for neutralising agent, sodium hydroxide-equivalent' (kilogram\n",
      "      0.467 | 34.08 | 12.15 | 'market for soap' (kilogram, GLO, None)\n",
      "        0.154 |  11.2 | 4.016 | 'soap production' (kilogram, RER, None)\n",
      "          0.026 | 1.895 | 11.96 | 'market group for heat, district or industrial, natural gas' (megajoul\n",
      "          0.0681 |  4.97 | 2.466 | 'market for palm oil, crude' (kilogram, GLO, None)\n",
      "        0.297 | 21.63 | 8.132 | 'soap production' (kilogram, RoW, None)\n",
      "          0.0415 | 3.029 |  1.13 | 'market for coconut oil, crude' (kilogram, GLO, None)\n",
      "          0.0266 | 1.939 | 0.9677 | 'market for sodium hydroxide, without water, in 50% solution state' (k\n",
      "          0.138 | 10.06 | 4.993 | 'market for palm oil, crude' (kilogram, GLO, None)\n",
      "  0.152 | 11.11 | 4.842 | 'market for rosin size, for paper production' (kilogram, RoW, None)\n",
      "    0.146 | 10.63 | 4.842 | 'rosin size production, for paper production' (kilogram, RoW, None)\n",
      "      0.0333 | 2.426 | 1.211 | 'market for sodium hydroxide, without water, in 50% solution state' (k\n",
      "        0.0322 | 2.346 | 1.211 | 'sodium hydroxide to generic market for neutralising agent' (kilogram,\n",
      "          0.0322 | 2.346 | 1.211 | 'market for neutralising agent, sodium hydroxide-equivalent' (kilogram\n",
      "      0.14 | 10.19 | 3.632 | 'market for soap' (kilogram, GLO, None)\n",
      "        0.0459 | 3.348 | 1.201 | 'soap production' (kilogram, RER, None)\n",
      "        0.0887 | 6.468 | 2.431 | 'soap production' (kilogram, RoW, None)\n",
      "          0.0412 | 3.008 | 1.493 | 'market for palm oil, crude' (kilogram, GLO, None)\n"
     ]
    }
   ],
   "source": [
    "ba.print_recursive_calculation(\n",
    "    tissue,\n",
    "    ipcc,\n",
    "    amount=1,\n",
    "    max_level=5,\n",
    "    cutoff=0.025,\n",
    "    use_matrix_values=True,\n",
    "    _lca_obj=mc,\n",
    "    _total_score=mc.score,\n",
    ")"
   ]
  },
  {
   "cell_type": "markdown",
   "id": "023f76d0-06dd-4244-a353-e991825755da",
   "metadata": {},
   "source": [
    "We can now find interesting results more quickly."
   ]
  }
 ],
 "metadata": {
  "kernelspec": {
   "display_name": "Python 3 (ipykernel)",
   "language": "python",
   "name": "python3"
  },
  "language_info": {
   "codemirror_mode": {
    "name": "ipython",
    "version": 3
   },
   "file_extension": ".py",
   "mimetype": "text/x-python",
   "name": "python",
   "nbconvert_exporter": "python",
   "pygments_lexer": "ipython3",
   "version": "3.10.4"
  }
 },
 "nbformat": 4,
 "nbformat_minor": 5
}
