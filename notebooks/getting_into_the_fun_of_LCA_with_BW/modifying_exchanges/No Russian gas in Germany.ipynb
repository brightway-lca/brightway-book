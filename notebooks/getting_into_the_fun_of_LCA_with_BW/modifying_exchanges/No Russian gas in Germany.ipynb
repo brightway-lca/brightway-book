{
 "cells": [
  {
   "cell_type": "code",
   "execution_count": 28,
   "id": "7be4cce6-8bfc-437d-8045-d81aa96d9b9c",
   "metadata": {},
   "outputs": [],
   "source": [
    "import bw2data as bd\n",
    "import bw2io as bi\n",
    "import bw2calc as bc\n",
    "import numpy as np\n",
    "import seaborn as sb"
   ]
  },
  {
   "cell_type": "markdown",
   "id": "7b115a67-bd07-4daa-b24f-9686924d0e19",
   "metadata": {},
   "source": [
    "Make it easy to reset the notebook"
   ]
  },
  {
   "cell_type": "code",
   "execution_count": 2,
   "id": "180c0628-8c20-493d-a58f-b8315236cce5",
   "metadata": {},
   "outputs": [],
   "source": [
    "if 'ei38-teaching' not in bd.projects:\n",
    "    bw2io.restore_project_directory(\"/srv/data/projects/ecoinvent38.tar.gz\")"
   ]
  },
  {
   "cell_type": "code",
   "execution_count": 4,
   "id": "a918bef6-93e4-43df-b911-8dfae32e7a27",
   "metadata": {},
   "outputs": [],
   "source": [
    "bd.projects.set_current('ei38-teaching')"
   ]
  },
  {
   "cell_type": "code",
   "execution_count": 5,
   "id": "1011e402-2eb5-4fda-a7ae-5ddcaef680b7",
   "metadata": {},
   "outputs": [],
   "source": [
    "assert 'ei 3.8 cutoff' in bd.databases\n",
    "ei = bd.Database('ei 3.8 cutoff')"
   ]
  },
  {
   "cell_type": "code",
   "execution_count": 20,
   "id": "50f4daa8-1148-4652-b3ac-0d019750f886",
   "metadata": {
    "tags": []
   },
   "outputs": [],
   "source": [
    "ipcc = ('IPCC 2013', 'climate change', 'GWP 100a')"
   ]
  },
  {
   "cell_type": "code",
   "execution_count": 12,
   "id": "d8612f62-647a-4db3-b986-d61209d83bac",
   "metadata": {},
   "outputs": [],
   "source": [
    "ng = [act \n",
    "      for act in ei\n",
    "      if 'natural gas' in act['name']\n",
    "      and 'market' in act['name']\n",
    "      and act['location'] == 'DE'\n",
    "      and act['unit'] == 'cubic meter'\n",
    "     ]\n",
    "assert len(ng) == 1\n",
    "ng = ng[0]"
   ]
  },
  {
   "cell_type": "markdown",
   "id": "f054c527-4e51-4ec6-a29f-20bcf0c0dcdc",
   "metadata": {},
   "source": [
    "Make sure we have Russian natural gas"
   ]
  },
  {
   "cell_type": "code",
   "execution_count": 16,
   "id": "9465b771-4d9a-416b-98a3-ce9846754e53",
   "metadata": {},
   "outputs": [
    {
     "data": {
      "text/plain": [
       "{'DE', 'Europe without Switzerland'}"
      ]
     },
     "execution_count": 16,
     "metadata": {},
     "output_type": "execute_result"
    }
   ],
   "source": [
    "{exc.input['location'] for exc in ng.technosphere()}"
   ]
  },
  {
   "cell_type": "markdown",
   "id": "f7d3bf05-b353-4ad7-b3ed-a13e3275f7fb",
   "metadata": {},
   "source": [
    "That isn't what I expected... let's look at the inputs"
   ]
  },
  {
   "cell_type": "code",
   "execution_count": 17,
   "id": "4ff0b610-777e-40e1-9590-f354f48d6ff4",
   "metadata": {},
   "outputs": [
    {
     "data": {
      "text/plain": [
       "[Exchange: 0.00294840000000001 kilowatt hour 'market for electricity, medium voltage' (kilowatt hour, DE, None) to 'market for natural gas, high pressure' (cubic meter, DE, None)>,\n",
       " Exchange: 0.0618735000000002 megajoule 'market for heat, district or industrial, natural gas' (megajoule, Europe without Switzerland, None) to 'market for natural gas, high pressure' (cubic meter, DE, None)>,\n",
       " Exchange: 0.115400000000003 cubic meter 'market for natural gas, high pressure' (cubic meter, DE, None) to 'market for natural gas, high pressure' (cubic meter, DE, None)>,\n",
       " Exchange: 0.608400000000002 ton kilometer 'transport, pipeline, long distance, natural gas' (ton kilometer, DE, None) to 'market for natural gas, high pressure' (cubic meter, DE, None)>,\n",
       " Exchange: 5.65500000000001e-08 kilometer 'pipeline construction, natural gas, high pressure distribution network' (kilometer, Europe without Switzerland, None) to 'market for natural gas, high pressure' (cubic meter, DE, None)>,\n",
       " Exchange: 0.0822377569943268 cubic meter 'natural gas production' (cubic meter, DE, None) to 'market for natural gas, high pressure' (cubic meter, DE, None)>,\n",
       " Exchange: 0.214664981377279 cubic meter 'natural gas, high pressure, import from NL' (cubic meter, DE, None) to 'market for natural gas, high pressure' (cubic meter, DE, None)>,\n",
       " Exchange: 0.321470628068786 cubic meter 'natural gas, high pressure, import from NO' (cubic meter, DE, None) to 'market for natural gas, high pressure' (cubic meter, DE, None)>,\n",
       " Exchange: 0.381626633559608 cubic meter 'natural gas, high pressure, import from RU' (cubic meter, DE, None) to 'market for natural gas, high pressure' (cubic meter, DE, None)>]"
      ]
     },
     "execution_count": 17,
     "metadata": {},
     "output_type": "execute_result"
    }
   ],
   "source": [
    "list(ng.technosphere())"
   ]
  },
  {
   "cell_type": "markdown",
   "id": "cc4eb0d4-3d66-49f7-b806-7fd8def217d1",
   "metadata": {},
   "source": [
    "ecoinvent, ecoinvent... we need `natural gas, high pressure, import from RU`.\n",
    "\n",
    "Let's get the values we will compare against."
   ]
  },
  {
   "cell_type": "code",
   "execution_count": 25,
   "id": "b65f6b91-1664-4254-a1e5-5fc02f754f46",
   "metadata": {},
   "outputs": [],
   "source": [
    "mc = bc.MonteCarloLCA({ng: 1}, ipcc)"
   ]
  },
  {
   "cell_type": "code",
   "execution_count": 27,
   "id": "c6fbfec8-38d2-4315-adb7-59853179d178",
   "metadata": {},
   "outputs": [],
   "source": [
    "results = np.array([next(mc) for _ in range(100)])"
   ]
  },
  {
   "cell_type": "code",
   "execution_count": 30,
   "id": "ef189c05-8145-442f-b2f0-88c2a4f8ea01",
   "metadata": {},
   "outputs": [
    {
     "data": {
      "text/plain": [
       "<AxesSubplot: ylabel='Count'>"
      ]
     },
     "execution_count": 30,
     "metadata": {},
     "output_type": "execute_result"
    },
    {
     "data": {
      "image/png": "[encoded data removed]",
      "text/plain": [
       "<Figure size 640x480 with 1 Axes>"
      ]
     },
     "metadata": {},
     "output_type": "display_data"
    }
   ],
   "source": [
    "sb.histplot(results, kde=True)"
   ]
  },
  {
   "cell_type": "markdown",
   "id": "dc899c10-e660-40ea-89ae-474bd543ffe9",
   "metadata": {},
   "source": [
    "Create new database for our modified process"
   ]
  },
  {
   "cell_type": "code",
   "execution_count": 31,
   "id": "82edb193-96eb-44fc-9a7a-22e5bd614629",
   "metadata": {},
   "outputs": [],
   "source": [
    "ndb = bd.Database(\"2022\")\n",
    "ndb.register()"
   ]
  },
  {
   "cell_type": "markdown",
   "id": "a6511e5c-272f-44a3-80ea-2e3ecfdcb08a",
   "metadata": {},
   "source": [
    "Create a copy in our new database:"
   ]
  },
  {
   "cell_type": "code",
   "execution_count": 34,
   "id": "46e93f72-057b-42f5-bc8d-b295ee0b64f7",
   "metadata": {},
   "outputs": [],
   "source": [
    "other_ng = ng.copy(code=ng['code'], database=ndb.name)"
   ]
  },
  {
   "cell_type": "markdown",
   "id": "558410ca-5011-41a2-b0c7-0260bfc17d2b",
   "metadata": {},
   "source": [
    "Before we can subtract the Russian gas, we need to figure out how much gas is used to produce one cubic metre. Let's sum the exchanges:"
   ]
  },
  {
   "cell_type": "code",
   "execution_count": 39,
   "id": "9af019f8-f07a-4c88-93a0-ef7074440cd0",
   "metadata": {},
   "outputs": [
    {
     "data": {
      "text/plain": [
       "'natural gas, high pressure'"
      ]
     },
     "execution_count": 39,
     "metadata": {},
     "output_type": "execute_result"
    }
   ],
   "source": [
    "ng['reference product']"
   ]
  },
  {
   "cell_type": "code",
   "execution_count": 42,
   "id": "40e01c3d-b2c2-4040-8f75-0a3b351ab57d",
   "metadata": {},
   "outputs": [
    {
     "data": {
      "text/plain": [
       "0.9999999999999999"
      ]
     },
     "execution_count": 42,
     "metadata": {},
     "output_type": "execute_result"
    }
   ],
   "source": [
    "sum(exc['amount'] \n",
    "    for exc in other_ng.technosphere() \n",
    "    if exc.input != exc.output \n",
    "    and exc.input['reference product'] == 'natural gas, high pressure'\n",
    "   )"
   ]
  },
  {
   "cell_type": "markdown",
   "id": "827a2aa5-3d0e-40b7-ad6c-147327b1418f",
   "metadata": {},
   "source": [
    "That is close enough that we will just use 1. Let's remove the Russian gas:"
   ]
  },
  {
   "cell_type": "code",
   "execution_count": 44,
   "id": "4caee711-7e32-4814-ae21-533e4448e8a2",
   "metadata": {},
   "outputs": [
    {
     "name": "stdout",
     "output_type": "stream",
     "text": [
      "Found it\n",
      "0.381626633559608\n"
     ]
    }
   ],
   "source": [
    "for exc in other_ng.technosphere():\n",
    "    if exc.input['name'] == 'natural gas, high pressure, import from RU':\n",
    "        print(\"Found it\")\n",
    "        subtracted_amount = exc['amount']\n",
    "        exc['amount'] = 0\n",
    "        exc.save()\n",
    "        \n",
    "print(subtracted_amount)"
   ]
  },
  {
   "cell_type": "code",
   "execution_count": 45,
   "id": "cf14588e-78fe-446b-8915-6d806127c7a8",
   "metadata": {},
   "outputs": [],
   "source": [
    "normalization = 1 / (1 - subtracted_amount)"
   ]
  },
  {
   "cell_type": "markdown",
   "id": "2f83a4ed-a776-4e9d-ab27-8e3b83d4e4a7",
   "metadata": {},
   "source": [
    "Run this once to make sure we won't break things."
   ]
  },
  {
   "cell_type": "code",
   "execution_count": 47,
   "id": "3e74baf0-d27d-40b4-bb6d-3f0e35fcac0f",
   "metadata": {},
   "outputs": [
    {
     "name": "stdout",
     "output_type": "stream",
     "text": [
      "Changing Exchange: 0.0822377569943268 cubic meter 'natural gas production' (cubic meter, DE, None) to 'market for natural gas, high pressure' (cubic meter, DE, None)>\n",
      "Amount from 0.0822377569943268 to 0.13299045763843403\n",
      "Changing Exchange: 0.214664981377279 cubic meter 'natural gas, high pressure, import from NL' (cubic meter, DE, None) to 'market for natural gas, high pressure' (cubic meter, DE, None)>\n",
      "Amount from 0.214664981377279 to 0.34714461040419275\n",
      "Changing Exchange: 0.321470628068786 cubic meter 'natural gas, high pressure, import from NO' (cubic meter, DE, None) to 'market for natural gas, high pressure' (cubic meter, DE, None)>\n",
      "Amount from 0.321470628068786 to 0.5198649319573729\n",
      "Changing Exchange: 0 cubic meter 'natural gas, high pressure, import from RU' (cubic meter, DE, None) to 'market for natural gas, high pressure' (cubic meter, DE, None)>\n",
      "Amount from 0 to 0.0\n"
     ]
    }
   ],
   "source": [
    "for exc in other_ng.technosphere():\n",
    "    if exc.input != exc.output and exc.input['reference product'] == 'natural gas, high pressure':\n",
    "        print(\"Changing {}\".format(exc))\n",
    "        print(\"Amount from {} to {}\".format(exc['amount'], exc['amount'] * normalization))"
   ]
  },
  {
   "cell_type": "markdown",
   "id": "3cd1057e-42b3-4ff0-b8d9-707f3161b742",
   "metadata": {},
   "source": [
    "OK, let's go forward."
   ]
  },
  {
   "cell_type": "code",
   "execution_count": 48,
   "id": "14180482-71e4-4527-9f2a-7883bf2683f4",
   "metadata": {},
   "outputs": [],
   "source": [
    "for exc in other_ng.technosphere():\n",
    "    if exc.input != exc.output and exc.input['reference product'] == 'natural gas, high pressure':\n",
    "        exc['amount'] = exc['amount'] * normalization\n",
    "        exc.save()"
   ]
  },
  {
   "cell_type": "markdown",
   "id": "a12a3a5b-f922-4020-8101-83438d847d5f",
   "metadata": {},
   "source": [
    "We can calculate the GWP of this new mix:"
   ]
  },
  {
   "cell_type": "code",
   "execution_count": 51,
   "id": "e7a150e4-3c7e-4608-8957-41443b7ceaeb",
   "metadata": {},
   "outputs": [
    {
     "data": {
      "text/plain": [
       "<AxesSubplot: ylabel='Count'>"
      ]
     },
     "execution_count": 51,
     "metadata": {},
     "output_type": "execute_result"
    },
    {
     "data": {
      "image/png": "[encoded data removed]",
      "text/plain": [
       "<Figure size 640x480 with 1 Axes>"
      ]
     },
     "metadata": {},
     "output_type": "display_data"
    }
   ],
   "source": [
    "other_mc = bc.MonteCarloLCA({other_ng: 1}, ipcc)\n",
    "results_other_ng = np.array([next(other_mc) for _ in range(100)])\n",
    "sb.histplot(results_other_ng, kde=True)"
   ]
  },
  {
   "cell_type": "markdown",
   "id": "1e34f714-3c32-4883-8217-eff7b65836a4",
   "metadata": {},
   "source": [
    "Now we need to redirect the consumers of this gas mix. We will switch from A to B:"
   ]
  },
  {
   "cell_type": "code",
   "execution_count": 49,
   "id": "8a8ee5c9-efaa-437d-8265-61f6d2811d49",
   "metadata": {},
   "outputs": [
    {
     "name": "stdout",
     "output_type": "stream",
     "text": [
      "A ('ei 3.8 cutoff', '440b97bab2e55d297856f25e05391d0b') B ('2022', '440b97bab2e55d297856f25e05391d0b')\n"
     ]
    }
   ],
   "source": [
    "print(\"A\", ng.key, \"B\", other_ng.key)"
   ]
  },
  {
   "cell_type": "code",
   "execution_count": 52,
   "id": "6ac95400-9e85-438b-bc7f-c25c7618d4ab",
   "metadata": {},
   "outputs": [],
   "source": [
    "for exc in ng.upstream():\n",
    "    if exc.input != exc.output:  # Skip production exchanges\n",
    "        exc.input = other_ng\n",
    "        exc.save()"
   ]
  },
  {
   "cell_type": "code",
   "execution_count": null,
   "id": "83a21c18-6fa4-4658-8ea0-9d9cec8d545e",
   "metadata": {},
   "outputs": [],
   "source": []
  }
 ],
 "metadata": {
  "kernelspec": {
   "display_name": "Python [conda env:bw]",
   "language": "python",
   "name": "conda-env-bw-py"
  },
  "language_info": {
   "codemirror_mode": {
    "name": "ipython",
    "version": 3
   },
   "file_extension": ".py",
   "mimetype": "text/x-python",
   "name": "python",
   "nbconvert_exporter": "python",
   "pygments_lexer": "ipython3",
   "version": "3.10.6"
  }
 },
 "nbformat": 4,
 "nbformat_minor": 5
}
