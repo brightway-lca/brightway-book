{
 "cells": [
  {
   "cell_type": "markdown",
   "metadata": {},
   "source": [
    "# Our first LCA\n",
    "\n",
    "We want to do our first LCA. For starters, we will analyze the ecoinvent activity \"market for electricity, medium voltage\" in Germany. Make sure you have created a project and imported the ecoinvent database."
   ]
  },
  {
   "cell_type": "code",
   "execution_count": 1,
   "metadata": {},
   "outputs": [],
   "source": [
    "# imports\n",
    "import brightway2 as bw"
   ]
  },
  {
   "cell_type": "markdown",
   "metadata": {},
   "source": [
    "We forgot the name of the project where we improted ecoinvent. Let's see a list of all projects to remember."
   ]
  },
  {
   "cell_type": "code",
   "execution_count": 2,
   "metadata": {},
   "outputs": [
    {
     "data": {
      "text/plain": [
       "Brightway2 projects manager with 4 objects:\n",
       "\tdefault\n",
       "\tecoinvent-import\n",
       "\tei_3.5\n",
       "\tnew_project\n",
       "Use `projects.report()` to get a report on all projects."
      ]
     },
     "execution_count": 2,
     "metadata": {},
     "output_type": "execute_result"
    }
   ],
   "source": [
    "bw.projects"
   ]
  },
  {
   "cell_type": "markdown",
   "metadata": {},
   "source": [
    "Ah yeah, it was called new_project! Let's open it."
   ]
  },
  {
   "cell_type": "code",
   "execution_count": 4,
   "metadata": {},
   "outputs": [],
   "source": [
    "bw.projects.set_current(\"new_project\")"
   ]
  },
  {
   "cell_type": "markdown",
   "metadata": {},
   "source": [
    "What was the name that we gave to the database again? Let's check all database names in the current project."
   ]
  },
  {
   "cell_type": "code",
   "execution_count": 5,
   "metadata": {},
   "outputs": [
    {
     "data": {
      "text/plain": [
       "Databases dictionary with 2 object(s):\n",
       "\tbiosphere3\n",
       "\tei35"
      ]
     },
     "execution_count": 5,
     "metadata": {},
     "output_type": "execute_result"
    }
   ],
   "source": [
    "bw.databases"
   ]
  },
  {
   "cell_type": "markdown",
   "metadata": {},
   "source": [
    "Oh yeah, ei35! Okay. Let's grab the activity."
   ]
  },
  {
   "cell_type": "code",
   "execution_count": 8,
   "metadata": {},
   "outputs": [
    {
     "data": {
      "text/plain": [
       "['market for electricity, medium voltage' (kilowatt hour, BR, None),\n",
       " 'market for electricity, medium voltage' (kilowatt hour, US-HICC, None),\n",
       " 'market for electricity, medium voltage' (kilowatt hour, US-TRE, None),\n",
       " 'market for electricity, medium voltage' (kilowatt hour, US-ASCC, None),\n",
       " 'market for electricity, medium voltage' (kilowatt hour, US-FRCC, None),\n",
       " 'market for electricity, medium voltage' (kilowatt hour, US-NPCC, None),\n",
       " 'market for electricity, medium voltage' (kilowatt hour, US-RFC, None),\n",
       " 'market for electricity, medium voltage' (kilowatt hour, US-WECC, None),\n",
       " 'market for electricity, medium voltage' (kilowatt hour, US-MRO, None),\n",
       " 'market for electricity, medium voltage' (kilowatt hour, US-SERC, None),\n",
       " 'market for electricity, medium voltage' (kilowatt hour, CN-SGCC, None),\n",
       " 'market for electricity, medium voltage' (kilowatt hour, CN-CSG, None),\n",
       " 'market for electricity, medium voltage' (kilowatt hour, CA-AB, None),\n",
       " 'market for electricity, medium voltage' (kilowatt hour, CA-ON, None),\n",
       " 'market for electricity, medium voltage' (kilowatt hour, CA-NB, None),\n",
       " 'market for electricity, medium voltage' (kilowatt hour, CA-NU, None),\n",
       " 'market for electricity, medium voltage' (kilowatt hour, CA-SK, None),\n",
       " 'market for electricity, medium voltage' (kilowatt hour, CA-PE, None),\n",
       " 'market for electricity, medium voltage' (kilowatt hour, CA-YK, None),\n",
       " 'market for electricity, medium voltage' (kilowatt hour, CA-NF, None),\n",
       " 'market for electricity, medium voltage' (kilowatt hour, CA-MB, None),\n",
       " 'market for electricity, medium voltage' (kilowatt hour, CA-NS, None),\n",
       " 'market for electricity, medium voltage' (kilowatt hour, CA-NT, None),\n",
       " 'market for electricity, medium voltage' (kilowatt hour, CA-BC, None),\n",
       " 'market for electricity, medium voltage' (kilowatt hour, CA-QC, None)]"
      ]
     },
     "execution_count": 8,
     "metadata": {},
     "output_type": "execute_result"
    }
   ],
   "source": [
    "results = bw.Database(\"ei35\").search(\"market for electricity, medium voltage\")\n",
    "results"
   ]
  },
  {
   "cell_type": "markdown",
   "metadata": {},
   "source": [
    "Oops, forgot to specifiy the location. Let's try again:"
   ]
  },
  {
   "cell_type": "code",
   "execution_count": 9,
   "metadata": {},
   "outputs": [
    {
     "name": "stdout",
     "output_type": "stream",
     "text": [
      "Excluding 644 filtered results\n"
     ]
    },
    {
     "data": {
      "text/plain": [
       "['market for electricity, medium voltage' (kilowatt hour, DE, None),\n",
       " 'electricity, from municipal waste incineration to generic market for electricity, medium voltage' (kilowatt hour, DE, None),\n",
       " 'market for electricity, high voltage' (kilowatt hour, DE, None),\n",
       " 'market for electricity, low voltage' (kilowatt hour, DE, None),\n",
       " 'electricity, high voltage, production mix' (kilowatt hour, DE, None)]"
      ]
     },
     "execution_count": 9,
     "metadata": {},
     "output_type": "execute_result"
    }
   ],
   "source": [
    "results = bw.Database(\"ei35\").search(\"market for electricity, medium voltage\", filter={\"location\":\"DE\"})\n",
    "results"
   ]
  },
  {
   "cell_type": "markdown",
   "metadata": {},
   "source": [
    "Yep, the first entry is the one. Let's save it."
   ]
  },
  {
   "cell_type": "code",
   "execution_count": 10,
   "metadata": {},
   "outputs": [],
   "source": [
    "act = results[0]"
   ]
  },
  {
   "cell_type": "markdown",
   "metadata": {},
   "source": [
    "Something important to notice: Brightway search will return results according to an internal prioritization. Do **not** expect the order of the returned results to be always the same. If you want to be sure to get the right activity, use its unique \"code\", like so:"
   ]
  },
  {
   "cell_type": "code",
   "execution_count": 35,
   "metadata": {},
   "outputs": [
    {
     "data": {
      "text/plain": [
       "('ei35', '027a5a09232e5a810a31d5cf92cc29b0')"
      ]
     },
     "execution_count": 35,
     "metadata": {},
     "output_type": "execute_result"
    }
   ],
   "source": [
    "code = act[\"code\"]\n",
    "db = act[\"database\"]\n",
    "query = (db,code)\n",
    "query"
   ]
  },
  {
   "cell_type": "code",
   "execution_count": 36,
   "metadata": {},
   "outputs": [
    {
     "data": {
      "text/plain": [
       "'market for electricity, medium voltage' (kilowatt hour, DE, None)"
      ]
     },
     "execution_count": 36,
     "metadata": {},
     "output_type": "execute_result"
    }
   ],
   "source": [
    "bw.get_activity(query)"
   ]
  },
  {
   "cell_type": "markdown",
   "metadata": {},
   "source": [
    "The ecoinvent database in brightway is built such that every activity has exactly **one** main product. When we can figure out what the main product of an activity is by using the function `production()`. This function will return a handler to the database which is not very useful here. To get more human-readable output, we convert it to a list and pick the first entry."
   ]
  },
  {
   "cell_type": "code",
   "execution_count": 59,
   "metadata": {},
   "outputs": [
    {
     "data": {
      "text/plain": [
       "Exchange: 1.0 kilowatt hour 'market for electricity, medium voltage' (kilowatt hour, DE, None) to 'market for electricity, medium voltage' (kilowatt hour, DE, None)>"
      ]
     },
     "execution_count": 59,
     "metadata": {},
     "output_type": "execute_result"
    }
   ],
   "source": [
    "list(act.production())[0]"
   ]
  },
  {
   "cell_type": "markdown",
   "metadata": {},
   "source": [
    "For the LCA, brightway expects a functional unit. Normally, you would expect something like \"1 kWh of electricity produced\". In brightway, the functional unit instead is \"1 market for electricity, medium voltage\". Because every activity is associated with exactly one main product, this definition is still univocal."
   ]
  },
  {
   "cell_type": "code",
   "execution_count": 61,
   "metadata": {},
   "outputs": [],
   "source": [
    "functional_unit = {act:1}"
   ]
  },
  {
   "cell_type": "markdown",
   "metadata": {},
   "source": [
    "To conduct an LCA we do not just need the functional unit but also a method to score the activity. Let's see which methods brightway has to offer."
   ]
  },
  {
   "cell_type": "code",
   "execution_count": 37,
   "metadata": {},
   "outputs": [
    {
     "data": {
      "text/plain": [
       "Methods dictionary with 850 objects, including:\n",
       "\t('CML 2001 (obsolete)', 'acidification potential', 'average European')\n",
       "\t('CML 2001 (obsolete)', 'acidification potential', 'generic')\n",
       "\t('CML 2001 (obsolete)', 'climate change', 'GWP 100a')\n",
       "\t('CML 2001 (obsolete)', 'climate change', 'GWP 20a')\n",
       "\t('CML 2001 (obsolete)', 'climate change', 'GWP 500a')\n",
       "\t('CML 2001 (obsolete)', 'climate change', 'lower limit of net GWP')\n",
       "\t('CML 2001 (obsolete)', 'climate change', 'upper limit of net GWP')\n",
       "\t('CML 2001 (obsolete)', 'eutrophication potential', 'average European')\n",
       "\t('CML 2001 (obsolete)', 'eutrophication potential', 'generic')\n",
       "\t('CML 2001 (obsolete)', 'freshwater aquatic ecotoxicity', 'FAETP 100a')\n",
       "Use `list(this object)` to get the complete list."
      ]
     },
     "execution_count": 37,
     "metadata": {},
     "output_type": "execute_result"
    }
   ],
   "source": [
    "bw.methods"
   ]
  },
  {
   "cell_type": "markdown",
   "metadata": {},
   "source": [
    "850 methods! That's plenty. Unfortunately, there is no search function for them. We need to use python list comprehension to get the ones we want. Let's go for ILCD 2.0 midpoint."
   ]
  },
  {
   "cell_type": "code",
   "execution_count": 44,
   "metadata": {},
   "outputs": [
    {
     "data": {
      "text/plain": [
       "[('ILCD 2.0 2018 midpoint', 'ecosystem quality', 'freshwater ecotoxicity'),\n",
       " ('ILCD 2.0 2018 midpoint', 'human health', 'non-carcinogenic effects'),\n",
       " ('ILCD 2.0 2018 midpoint', 'human health', 'carcinogenic effects'),\n",
       " ('ILCD 2.0 2018 midpoint', 'resources', 'minerals and metals'),\n",
       " ('ILCD 2.0 2018 midpoint no LT', 'resources', 'minerals and metals'),\n",
       " ('ILCD 2.0 2018 midpoint', 'climate change', 'climate change biogenic'),\n",
       " ('ILCD 2.0 2018 midpoint', 'climate change', 'climate change fossil'),\n",
       " ('ILCD 2.0 2018 midpoint',\n",
       "  'climate change',\n",
       "  'climate change land use and land use change'),\n",
       " ('ILCD 2.0 2018 midpoint', 'climate change', 'climate change total'),\n",
       " ('ILCD 2.0 2018 midpoint',\n",
       "  'ecosystem quality',\n",
       "  'freshwater and terrestrial acidification'),\n",
       " ('ILCD 2.0 2018 midpoint', 'ecosystem quality', 'freshwater eutrophication'),\n",
       " ('ILCD 2.0 2018 midpoint', 'ecosystem quality', 'marine eutrophication'),\n",
       " ('ILCD 2.0 2018 midpoint', 'ecosystem quality', 'terrestrial eutrophication'),\n",
       " ('ILCD 2.0 2018 midpoint', 'human health', 'ionising radiation'),\n",
       " ('ILCD 2.0 2018 midpoint', 'human health', 'ozone layer depletion'),\n",
       " ('ILCD 2.0 2018 midpoint', 'human health', 'photochemical ozone creation'),\n",
       " ('ILCD 2.0 2018 midpoint', 'human health', 'respiratory effects, inorganics'),\n",
       " ('ILCD 2.0 2018 midpoint', 'resources', 'dissipated water'),\n",
       " ('ILCD 2.0 2018 midpoint', 'resources', 'fossils'),\n",
       " ('ILCD 2.0 2018 midpoint', 'resources', 'land use'),\n",
       " ('ILCD 2.0 2018 midpoint no LT', 'climate change', 'climate change biogenic'),\n",
       " ('ILCD 2.0 2018 midpoint no LT', 'climate change', 'climate change fossil'),\n",
       " ('ILCD 2.0 2018 midpoint no LT',\n",
       "  'climate change',\n",
       "  'climate change land use and land use change'),\n",
       " ('ILCD 2.0 2018 midpoint no LT', 'climate change', 'climate change total'),\n",
       " ('ILCD 2.0 2018 midpoint no LT',\n",
       "  'ecosystem quality',\n",
       "  'freshwater and terrestrial acidification'),\n",
       " ('ILCD 2.0 2018 midpoint no LT',\n",
       "  'ecosystem quality',\n",
       "  'freshwater ecotoxicity'),\n",
       " ('ILCD 2.0 2018 midpoint no LT',\n",
       "  'ecosystem quality',\n",
       "  'freshwater eutrophication'),\n",
       " ('ILCD 2.0 2018 midpoint no LT',\n",
       "  'ecosystem quality',\n",
       "  'marine eutrophication'),\n",
       " ('ILCD 2.0 2018 midpoint no LT',\n",
       "  'ecosystem quality',\n",
       "  'terrestrial eutrophication'),\n",
       " ('ILCD 2.0 2018 midpoint no LT', 'human health', 'carcinogenic effects'),\n",
       " ('ILCD 2.0 2018 midpoint no LT', 'human health', 'ionising radiation'),\n",
       " ('ILCD 2.0 2018 midpoint no LT', 'human health', 'non-carcinogenic effects'),\n",
       " ('ILCD 2.0 2018 midpoint no LT', 'human health', 'ozone layer depletion'),\n",
       " ('ILCD 2.0 2018 midpoint no LT',\n",
       "  'human health',\n",
       "  'photochemical ozone creation'),\n",
       " ('ILCD 2.0 2018 midpoint no LT',\n",
       "  'human health',\n",
       "  'respiratory effects, inorganics'),\n",
       " ('ILCD 2.0 2018 midpoint no LT', 'resources', 'dissipated water'),\n",
       " ('ILCD 2.0 2018 midpoint no LT', 'resources', 'fossils'),\n",
       " ('ILCD 2.0 2018 midpoint no LT', 'resources', 'land use')]"
      ]
     },
     "execution_count": 44,
     "metadata": {},
     "output_type": "execute_result"
    }
   ],
   "source": [
    "[m for m in bw.methods if \"ILCD 2.0 2018 midpoint\" in str(m)]"
   ]
  },
  {
   "cell_type": "markdown",
   "metadata": {},
   "source": [
    "There are two versions: long-term and no long-term. We choose the former."
   ]
  },
  {
   "cell_type": "code",
   "execution_count": 45,
   "metadata": {},
   "outputs": [
    {
     "data": {
      "text/plain": [
       "[('ILCD 2.0 2018 midpoint', 'ecosystem quality', 'freshwater ecotoxicity'),\n",
       " ('ILCD 2.0 2018 midpoint', 'human health', 'non-carcinogenic effects'),\n",
       " ('ILCD 2.0 2018 midpoint', 'human health', 'carcinogenic effects'),\n",
       " ('ILCD 2.0 2018 midpoint', 'resources', 'minerals and metals'),\n",
       " ('ILCD 2.0 2018 midpoint', 'climate change', 'climate change biogenic'),\n",
       " ('ILCD 2.0 2018 midpoint', 'climate change', 'climate change fossil'),\n",
       " ('ILCD 2.0 2018 midpoint',\n",
       "  'climate change',\n",
       "  'climate change land use and land use change'),\n",
       " ('ILCD 2.0 2018 midpoint', 'climate change', 'climate change total'),\n",
       " ('ILCD 2.0 2018 midpoint',\n",
       "  'ecosystem quality',\n",
       "  'freshwater and terrestrial acidification'),\n",
       " ('ILCD 2.0 2018 midpoint', 'ecosystem quality', 'freshwater eutrophication'),\n",
       " ('ILCD 2.0 2018 midpoint', 'ecosystem quality', 'marine eutrophication'),\n",
       " ('ILCD 2.0 2018 midpoint', 'ecosystem quality', 'terrestrial eutrophication'),\n",
       " ('ILCD 2.0 2018 midpoint', 'human health', 'ionising radiation'),\n",
       " ('ILCD 2.0 2018 midpoint', 'human health', 'ozone layer depletion'),\n",
       " ('ILCD 2.0 2018 midpoint', 'human health', 'photochemical ozone creation'),\n",
       " ('ILCD 2.0 2018 midpoint', 'human health', 'respiratory effects, inorganics'),\n",
       " ('ILCD 2.0 2018 midpoint', 'resources', 'dissipated water'),\n",
       " ('ILCD 2.0 2018 midpoint', 'resources', 'fossils'),\n",
       " ('ILCD 2.0 2018 midpoint', 'resources', 'land use')]"
      ]
     },
     "execution_count": 45,
     "metadata": {},
     "output_type": "execute_result"
    }
   ],
   "source": [
    "ilcd = [m for m in bw.methods if \"ILCD 2.0 2018 midpoint\" in str(m) and \"LT\" not in str(m)]\n",
    "ilcd"
   ]
  },
  {
   "cell_type": "markdown",
   "metadata": {},
   "source": [
    "I recommend saving this snippet in a separate function for easy reuse!\n",
    "\n",
    "Now that we have the functional unit and the methods, we put both together and store it as a new calculation."
   ]
  },
  {
   "cell_type": "code",
   "execution_count": 68,
   "metadata": {},
   "outputs": [],
   "source": [
    "setup = {'inv': [functional_unit], 'ia': ilcd}\n",
    "setup_name = \"electicity_DE\"\n",
    "bw.calculation_setups[setup_name] = setup"
   ]
  },
  {
   "cell_type": "markdown",
   "metadata": {},
   "source": [
    "To run the calculation, we create a MultiLCA object."
   ]
  },
  {
   "cell_type": "code",
   "execution_count": 71,
   "metadata": {},
   "outputs": [
    {
     "data": {
      "text/plain": [
       "array([[1.53498136e-01, 5.31023658e-08, 4.53285278e-09, 3.45861718e-07,\n",
       "        3.93489673e-03, 6.37650317e-01, 1.30762370e-03, 6.42892837e-01,\n",
       "        2.25379800e-03, 9.42844699e-04, 5.19175559e-04, 6.66115727e-03,\n",
       "        1.36384537e-01, 3.87192907e-08, 8.64925670e-04, 1.04041589e-08,\n",
       "        1.16587946e-01, 1.11444577e+01, 4.46247451e+00]])"
      ]
     },
     "execution_count": 71,
     "metadata": {},
     "output_type": "execute_result"
    }
   ],
   "source": [
    "mlca = bw.MultiLCA(setup_name)\n",
    "mlca.results"
   ]
  },
  {
   "cell_type": "markdown",
   "metadata": {},
   "source": [
    "The numbers alone are not very descriptive so let's add the method names."
   ]
  },
  {
   "cell_type": "code",
   "execution_count": 73,
   "metadata": {},
   "outputs": [
    {
     "data": {
      "text/plain": [
       "{('ILCD 2.0 2018 midpoint',\n",
       "  'ecosystem quality',\n",
       "  'freshwater ecotoxicity'): 0.15349813647937102,\n",
       " ('ILCD 2.0 2018 midpoint',\n",
       "  'human health',\n",
       "  'non-carcinogenic effects'): 5.3102365829456645e-08,\n",
       " ('ILCD 2.0 2018 midpoint',\n",
       "  'human health',\n",
       "  'carcinogenic effects'): 4.532852778325799e-09,\n",
       " ('ILCD 2.0 2018 midpoint',\n",
       "  'resources',\n",
       "  'minerals and metals'): 3.458617184659298e-07,\n",
       " ('ILCD 2.0 2018 midpoint',\n",
       "  'climate change',\n",
       "  'climate change biogenic'): 0.003934896733133886,\n",
       " ('ILCD 2.0 2018 midpoint',\n",
       "  'climate change',\n",
       "  'climate change fossil'): 0.6376503167066483,\n",
       " ('ILCD 2.0 2018 midpoint',\n",
       "  'climate change',\n",
       "  'climate change land use and land use change'): 0.0013076236953589364,\n",
       " ('ILCD 2.0 2018 midpoint',\n",
       "  'climate change',\n",
       "  'climate change total'): 0.6428928371351411,\n",
       " ('ILCD 2.0 2018 midpoint',\n",
       "  'ecosystem quality',\n",
       "  'freshwater and terrestrial acidification'): 0.0022537979965747026,\n",
       " ('ILCD 2.0 2018 midpoint',\n",
       "  'ecosystem quality',\n",
       "  'freshwater eutrophication'): 0.0009428446987740792,\n",
       " ('ILCD 2.0 2018 midpoint',\n",
       "  'ecosystem quality',\n",
       "  'marine eutrophication'): 0.0005191755594122705,\n",
       " ('ILCD 2.0 2018 midpoint',\n",
       "  'ecosystem quality',\n",
       "  'terrestrial eutrophication'): 0.006661157269547497,\n",
       " ('ILCD 2.0 2018 midpoint',\n",
       "  'human health',\n",
       "  'ionising radiation'): 0.13638453685305596,\n",
       " ('ILCD 2.0 2018 midpoint',\n",
       "  'human health',\n",
       "  'ozone layer depletion'): 3.871929066453086e-08,\n",
       " ('ILCD 2.0 2018 midpoint',\n",
       "  'human health',\n",
       "  'photochemical ozone creation'): 0.000864925670125954,\n",
       " ('ILCD 2.0 2018 midpoint',\n",
       "  'human health',\n",
       "  'respiratory effects, inorganics'): 1.0404158915372408e-08,\n",
       " ('ILCD 2.0 2018 midpoint',\n",
       "  'resources',\n",
       "  'dissipated water'): 0.11658794637501921,\n",
       " ('ILCD 2.0 2018 midpoint', 'resources', 'fossils'): 11.144457676935344,\n",
       " ('ILCD 2.0 2018 midpoint', 'resources', 'land use'): 4.462474508334203}"
      ]
     },
     "execution_count": 73,
     "metadata": {},
     "output_type": "execute_result"
    }
   ],
   "source": [
    "{k:v for k,v in zip(ilcd, mlca.results[0])}"
   ]
  },
  {
   "cell_type": "markdown",
   "metadata": {},
   "source": [
    "There we have it! A life cycle impact assessment of electricity production in Germany. To do: Visualization."
   ]
  },
  {
   "cell_type": "code",
   "execution_count": null,
   "metadata": {},
   "outputs": [],
   "source": []
  }
 ],
 "metadata": {
  "kernelspec": {
   "display_name": "Python 3",
   "language": "python",
   "name": "python3"
  },
  "language_info": {
   "codemirror_mode": {
    "name": "ipython",
    "version": 3
   },
   "file_extension": ".py",
   "mimetype": "text/x-python",
   "name": "python",
   "nbconvert_exporter": "python",
   "pygments_lexer": "ipython3",
   "version": "3.7.4"
  }
 },
 "nbformat": 4,
 "nbformat_minor": 2
}
