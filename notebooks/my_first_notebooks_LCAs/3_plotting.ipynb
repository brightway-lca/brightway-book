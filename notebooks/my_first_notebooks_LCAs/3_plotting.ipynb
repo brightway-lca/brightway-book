{
 "cells": [
  {
   "cell_type": "markdown",
   "metadata": {},
   "source": [
    "# Plotting\n",
    "\n",
    "This notebook explains how to plot LCIA results. For this, we first choose activities and methods to perform an LCIA. Then, we plot the result using pandas."
   ]
  },
  {
   "cell_type": "markdown",
   "metadata": {},
   "source": [
    "## Imports"
   ]
  },
  {
   "cell_type": "code",
   "execution_count": 1,
   "metadata": {},
   "outputs": [],
   "source": [
    "import pandas as pd\n",
    "import matplotlib.pyplot as plt\n",
    "import brightway2 as bw"
   ]
  },
  {
   "cell_type": "markdown",
   "metadata": {},
   "source": [
    "## Choosing activities\n",
    "\n",
    "In this example, we want to compare three ecoinvent activities. Don't forget to activate the brightway project into which you have imported ecoinvent previously."
   ]
  },
  {
   "cell_type": "code",
   "execution_count": 2,
   "metadata": {},
   "outputs": [],
   "source": [
    "# activate project\n",
    "bw.projects.set_current('ab')"
   ]
  },
  {
   "cell_type": "markdown",
   "metadata": {},
   "source": [
    "Next, we look through the ecoinvent database and choose three activities to compare. In this case, electricity production from wind, PV and natural gas in Germany."
   ]
  },
  {
   "cell_type": "code",
   "execution_count": 3,
   "metadata": {},
   "outputs": [
    {
     "name": "stdout",
     "output_type": "stream",
     "text": [
      "Excluding 217 filtered results\n",
      "Excluding 116 filtered results\n",
      "Excluding 562 filtered results\n"
     ]
    },
    {
     "data": {
      "text/plain": [
       "('electricity production, wind, >3MW turbine, onshore' (kilowatt hour, DE, None),\n",
       " 'electricity production, photovoltaic, 3kWp slanted-roof installation, multi-Si, panel, mounted' (kilowatt hour, DE, None),\n",
       " 'electricity production, natural gas, combined cycle power plant' (kilowatt hour, DE, None))"
      ]
     },
     "execution_count": 3,
     "metadata": {},
     "output_type": "execute_result"
    }
   ],
   "source": [
    "db_name = 'apos37'\n",
    "act1 = bw.Database(db_name).search(\n",
    "    'electricity production, wind, >3MW', \n",
    "    filter={'location':'DE'}\n",
    ")[0]\n",
    "act2 = bw.Database(db_name).search(\n",
    "    'electricity production, photovoltaic, 3kWp slanted-roof installation, multi-Si', \n",
    "    filter={'location':'DE'}\n",
    ")[0]\n",
    "act3 = bw.Database(db_name).search(\n",
    "    'electricity production, natural gas, combined cycle power plant', \n",
    "    filter={'location':'DE'}\n",
    ")[0]\n",
    "\n",
    "act1, act2, act3"
   ]
  },
  {
   "cell_type": "markdown",
   "metadata": {},
   "source": [
    "## Choosing methods\n",
    "\n",
    "Next, we choose methods for the impact assessment. In this case ILCD 2.0 including long-term impacts."
   ]
  },
  {
   "cell_type": "code",
   "execution_count": 4,
   "metadata": {},
   "outputs": [
    {
     "data": {
      "text/plain": [
       "[('ILCD 2.0 2018 midpoint', 'climate change', 'climate change biogenic'),\n",
       " ('ILCD 2.0 2018 midpoint', 'climate change', 'climate change fossil'),\n",
       " ('ILCD 2.0 2018 midpoint',\n",
       "  'climate change',\n",
       "  'climate change land use and land use change'),\n",
       " ('ILCD 2.0 2018 midpoint', 'climate change', 'climate change total'),\n",
       " ('ILCD 2.0 2018 midpoint',\n",
       "  'ecosystem quality',\n",
       "  'freshwater and terrestrial acidification'),\n",
       " ('ILCD 2.0 2018 midpoint', 'ecosystem quality', 'freshwater ecotoxicity'),\n",
       " ('ILCD 2.0 2018 midpoint', 'ecosystem quality', 'freshwater eutrophication'),\n",
       " ('ILCD 2.0 2018 midpoint', 'ecosystem quality', 'marine eutrophication'),\n",
       " ('ILCD 2.0 2018 midpoint', 'ecosystem quality', 'terrestrial eutrophication'),\n",
       " ('ILCD 2.0 2018 midpoint', 'human health', 'carcinogenic effects'),\n",
       " ('ILCD 2.0 2018 midpoint', 'human health', 'ionising radiation'),\n",
       " ('ILCD 2.0 2018 midpoint', 'human health', 'non-carcinogenic effects'),\n",
       " ('ILCD 2.0 2018 midpoint', 'human health', 'ozone layer depletion'),\n",
       " ('ILCD 2.0 2018 midpoint', 'human health', 'photochemical ozone creation'),\n",
       " ('ILCD 2.0 2018 midpoint', 'human health', 'respiratory effects, inorganics'),\n",
       " ('ILCD 2.0 2018 midpoint', 'resources', 'dissipated water'),\n",
       " ('ILCD 2.0 2018 midpoint', 'resources', 'fossils'),\n",
       " ('ILCD 2.0 2018 midpoint', 'resources', 'land use'),\n",
       " ('ILCD 2.0 2018 midpoint', 'resources', 'minerals and metals')]"
      ]
     },
     "execution_count": 4,
     "metadata": {},
     "output_type": "execute_result"
    }
   ],
   "source": [
    "methods = sorted(\n",
    "    [m for m in bw.methods if \"ILCD 2.0 2018 midpoint\" in str(m) and \n",
    "     'no LT' not in str(m) and 'incl. biogenic' not in str(m)]\n",
    ")\n",
    "methods"
   ]
  },
  {
   "cell_type": "markdown",
   "metadata": {},
   "source": [
    "## Calculating the LCIA scores\n",
    "\n",
    "Next, we define a function that does the LCIA calculations for us. We saw how to do this in a previous notebook, so I won't go into details here."
   ]
  },
  {
   "cell_type": "code",
   "execution_count": 5,
   "metadata": {},
   "outputs": [
    {
     "data": {
      "text/html": [
       "<div>\n",
       "<style scoped>\n",
       "    .dataframe tbody tr th:only-of-type {\n",
       "        vertical-align: middle;\n",
       "    }\n",
       "\n",
       "    .dataframe tbody tr th {\n",
       "        vertical-align: top;\n",
       "    }\n",
       "\n",
       "    .dataframe thead th {\n",
       "        text-align: right;\n",
       "    }\n",
       "</style>\n",
       "<table border=\"1\" class=\"dataframe\">\n",
       "  <thead>\n",
       "    <tr style=\"text-align: right;\">\n",
       "      <th></th>\n",
       "      <th>'electricity production, wind, &gt;3MW turbine, onshore' (kilowatt hour, DE, None)</th>\n",
       "      <th>'electricity production, photovoltaic, 3kWp slanted-roof installation, multi-Si, panel, mounted' (kilowatt hour, DE, None)</th>\n",
       "      <th>'electricity production, natural gas, combined cycle power plant' (kilowatt hour, DE, None)</th>\n",
       "    </tr>\n",
       "  </thead>\n",
       "  <tbody>\n",
       "    <tr>\n",
       "      <th>('ILCD 2.0 2018 midpoint', 'climate change', 'climate change biogenic')</th>\n",
       "      <td>8.200771e-05</td>\n",
       "      <td>4.388205e-04</td>\n",
       "      <td>6.532204e-05</td>\n",
       "    </tr>\n",
       "    <tr>\n",
       "      <th>('ILCD 2.0 2018 midpoint', 'climate change', 'climate change fossil')</th>\n",
       "      <td>3.148162e-02</td>\n",
       "      <td>9.537874e-02</td>\n",
       "      <td>4.300353e-01</td>\n",
       "    </tr>\n",
       "    <tr>\n",
       "      <th>('ILCD 2.0 2018 midpoint', 'climate change', 'climate change land use and land use change')</th>\n",
       "      <td>1.100778e-04</td>\n",
       "      <td>2.096568e-04</td>\n",
       "      <td>1.278100e-05</td>\n",
       "    </tr>\n",
       "    <tr>\n",
       "      <th>('ILCD 2.0 2018 midpoint', 'climate change', 'climate change total')</th>\n",
       "      <td>3.167371e-02</td>\n",
       "      <td>9.602722e-02</td>\n",
       "      <td>4.301134e-01</td>\n",
       "    </tr>\n",
       "    <tr>\n",
       "      <th>('ILCD 2.0 2018 midpoint', 'ecosystem quality', 'freshwater and terrestrial acidification')</th>\n",
       "      <td>2.068838e-04</td>\n",
       "      <td>5.807309e-04</td>\n",
       "      <td>4.974314e-04</td>\n",
       "    </tr>\n",
       "    <tr>\n",
       "      <th>('ILCD 2.0 2018 midpoint', 'ecosystem quality', 'freshwater ecotoxicity')</th>\n",
       "      <td>1.550215e-01</td>\n",
       "      <td>1.618358e-01</td>\n",
       "      <td>2.567960e-02</td>\n",
       "    </tr>\n",
       "    <tr>\n",
       "      <th>('ILCD 2.0 2018 midpoint', 'ecosystem quality', 'freshwater eutrophication')</th>\n",
       "      <td>2.981222e-05</td>\n",
       "      <td>6.173620e-05</td>\n",
       "      <td>3.639684e-06</td>\n",
       "    </tr>\n",
       "    <tr>\n",
       "      <th>('ILCD 2.0 2018 midpoint', 'ecosystem quality', 'marine eutrophication')</th>\n",
       "      <td>4.760436e-05</td>\n",
       "      <td>1.247935e-04</td>\n",
       "      <td>1.278583e-04</td>\n",
       "    </tr>\n",
       "    <tr>\n",
       "      <th>('ILCD 2.0 2018 midpoint', 'ecosystem quality', 'terrestrial eutrophication')</th>\n",
       "      <td>5.081589e-04</td>\n",
       "      <td>1.184353e-03</td>\n",
       "      <td>1.383222e-03</td>\n",
       "    </tr>\n",
       "    <tr>\n",
       "      <th>('ILCD 2.0 2018 midpoint', 'human health', 'carcinogenic effects')</th>\n",
       "      <td>9.542035e-09</td>\n",
       "      <td>6.680907e-09</td>\n",
       "      <td>1.735982e-09</td>\n",
       "    </tr>\n",
       "    <tr>\n",
       "      <th>('ILCD 2.0 2018 midpoint', 'human health', 'ionising radiation')</th>\n",
       "      <td>2.678976e-03</td>\n",
       "      <td>9.685159e-03</td>\n",
       "      <td>6.938518e-04</td>\n",
       "    </tr>\n",
       "    <tr>\n",
       "      <th>('ILCD 2.0 2018 midpoint', 'human health', 'non-carcinogenic effects')</th>\n",
       "      <td>2.094892e-08</td>\n",
       "      <td>3.554039e-08</td>\n",
       "      <td>2.651108e-09</td>\n",
       "    </tr>\n",
       "    <tr>\n",
       "      <th>('ILCD 2.0 2018 midpoint', 'human health', 'ozone layer depletion')</th>\n",
       "      <td>2.548350e-09</td>\n",
       "      <td>1.204897e-08</td>\n",
       "      <td>7.988278e-08</td>\n",
       "    </tr>\n",
       "    <tr>\n",
       "      <th>('ILCD 2.0 2018 midpoint', 'human health', 'photochemical ozone creation')</th>\n",
       "      <td>1.474750e-04</td>\n",
       "      <td>3.937023e-04</td>\n",
       "      <td>5.045739e-04</td>\n",
       "    </tr>\n",
       "    <tr>\n",
       "      <th>('ILCD 2.0 2018 midpoint', 'human health', 'respiratory effects, inorganics')</th>\n",
       "      <td>2.661299e-09</td>\n",
       "      <td>5.979152e-09</td>\n",
       "      <td>9.775673e-10</td>\n",
       "    </tr>\n",
       "    <tr>\n",
       "      <th>('ILCD 2.0 2018 midpoint', 'resources', 'dissipated water')</th>\n",
       "      <td>1.417678e-02</td>\n",
       "      <td>1.322061e-01</td>\n",
       "      <td>2.711740e-02</td>\n",
       "    </tr>\n",
       "    <tr>\n",
       "      <th>('ILCD 2.0 2018 midpoint', 'resources', 'fossils')</th>\n",
       "      <td>4.191031e-01</td>\n",
       "      <td>1.454789e+00</td>\n",
       "      <td>7.332433e+00</td>\n",
       "    </tr>\n",
       "    <tr>\n",
       "      <th>('ILCD 2.0 2018 midpoint', 'resources', 'land use')</th>\n",
       "      <td>1.094371e+00</td>\n",
       "      <td>2.264004e+00</td>\n",
       "      <td>1.477621e-01</td>\n",
       "    </tr>\n",
       "    <tr>\n",
       "      <th>('ILCD 2.0 2018 midpoint', 'resources', 'minerals and metals')</th>\n",
       "      <td>1.138813e-05</td>\n",
       "      <td>2.880110e-05</td>\n",
       "      <td>3.271545e-07</td>\n",
       "    </tr>\n",
       "  </tbody>\n",
       "</table>\n",
       "</div>"
      ],
      "text/plain": [
       "                                                    'electricity production, wind, >3MW turbine, onshore' (kilowatt hour, DE, None)  \\\n",
       "('ILCD 2.0 2018 midpoint', 'climate change', 'c...                                       8.200771e-05                                 \n",
       "('ILCD 2.0 2018 midpoint', 'climate change', 'c...                                       3.148162e-02                                 \n",
       "('ILCD 2.0 2018 midpoint', 'climate change', 'c...                                       1.100778e-04                                 \n",
       "('ILCD 2.0 2018 midpoint', 'climate change', 'c...                                       3.167371e-02                                 \n",
       "('ILCD 2.0 2018 midpoint', 'ecosystem quality',...                                       2.068838e-04                                 \n",
       "('ILCD 2.0 2018 midpoint', 'ecosystem quality',...                                       1.550215e-01                                 \n",
       "('ILCD 2.0 2018 midpoint', 'ecosystem quality',...                                       2.981222e-05                                 \n",
       "('ILCD 2.0 2018 midpoint', 'ecosystem quality',...                                       4.760436e-05                                 \n",
       "('ILCD 2.0 2018 midpoint', 'ecosystem quality',...                                       5.081589e-04                                 \n",
       "('ILCD 2.0 2018 midpoint', 'human health', 'car...                                       9.542035e-09                                 \n",
       "('ILCD 2.0 2018 midpoint', 'human health', 'ion...                                       2.678976e-03                                 \n",
       "('ILCD 2.0 2018 midpoint', 'human health', 'non...                                       2.094892e-08                                 \n",
       "('ILCD 2.0 2018 midpoint', 'human health', 'ozo...                                       2.548350e-09                                 \n",
       "('ILCD 2.0 2018 midpoint', 'human health', 'pho...                                       1.474750e-04                                 \n",
       "('ILCD 2.0 2018 midpoint', 'human health', 'res...                                       2.661299e-09                                 \n",
       "('ILCD 2.0 2018 midpoint', 'resources', 'dissip...                                       1.417678e-02                                 \n",
       "('ILCD 2.0 2018 midpoint', 'resources', 'fossils')                                       4.191031e-01                                 \n",
       "('ILCD 2.0 2018 midpoint', 'resources', 'land u...                                       1.094371e+00                                 \n",
       "('ILCD 2.0 2018 midpoint', 'resources', 'minera...                                       1.138813e-05                                 \n",
       "\n",
       "                                                    'electricity production, photovoltaic, 3kWp slanted-roof installation, multi-Si, panel, mounted' (kilowatt hour, DE, None)  \\\n",
       "('ILCD 2.0 2018 midpoint', 'climate change', 'c...                                       4.388205e-04                                                                            \n",
       "('ILCD 2.0 2018 midpoint', 'climate change', 'c...                                       9.537874e-02                                                                            \n",
       "('ILCD 2.0 2018 midpoint', 'climate change', 'c...                                       2.096568e-04                                                                            \n",
       "('ILCD 2.0 2018 midpoint', 'climate change', 'c...                                       9.602722e-02                                                                            \n",
       "('ILCD 2.0 2018 midpoint', 'ecosystem quality',...                                       5.807309e-04                                                                            \n",
       "('ILCD 2.0 2018 midpoint', 'ecosystem quality',...                                       1.618358e-01                                                                            \n",
       "('ILCD 2.0 2018 midpoint', 'ecosystem quality',...                                       6.173620e-05                                                                            \n",
       "('ILCD 2.0 2018 midpoint', 'ecosystem quality',...                                       1.247935e-04                                                                            \n",
       "('ILCD 2.0 2018 midpoint', 'ecosystem quality',...                                       1.184353e-03                                                                            \n",
       "('ILCD 2.0 2018 midpoint', 'human health', 'car...                                       6.680907e-09                                                                            \n",
       "('ILCD 2.0 2018 midpoint', 'human health', 'ion...                                       9.685159e-03                                                                            \n",
       "('ILCD 2.0 2018 midpoint', 'human health', 'non...                                       3.554039e-08                                                                            \n",
       "('ILCD 2.0 2018 midpoint', 'human health', 'ozo...                                       1.204897e-08                                                                            \n",
       "('ILCD 2.0 2018 midpoint', 'human health', 'pho...                                       3.937023e-04                                                                            \n",
       "('ILCD 2.0 2018 midpoint', 'human health', 'res...                                       5.979152e-09                                                                            \n",
       "('ILCD 2.0 2018 midpoint', 'resources', 'dissip...                                       1.322061e-01                                                                            \n",
       "('ILCD 2.0 2018 midpoint', 'resources', 'fossils')                                       1.454789e+00                                                                            \n",
       "('ILCD 2.0 2018 midpoint', 'resources', 'land u...                                       2.264004e+00                                                                            \n",
       "('ILCD 2.0 2018 midpoint', 'resources', 'minera...                                       2.880110e-05                                                                            \n",
       "\n",
       "                                                    'electricity production, natural gas, combined cycle power plant' (kilowatt hour, DE, None)  \n",
       "('ILCD 2.0 2018 midpoint', 'climate change', 'c...                                       6.532204e-05                                            \n",
       "('ILCD 2.0 2018 midpoint', 'climate change', 'c...                                       4.300353e-01                                            \n",
       "('ILCD 2.0 2018 midpoint', 'climate change', 'c...                                       1.278100e-05                                            \n",
       "('ILCD 2.0 2018 midpoint', 'climate change', 'c...                                       4.301134e-01                                            \n",
       "('ILCD 2.0 2018 midpoint', 'ecosystem quality',...                                       4.974314e-04                                            \n",
       "('ILCD 2.0 2018 midpoint', 'ecosystem quality',...                                       2.567960e-02                                            \n",
       "('ILCD 2.0 2018 midpoint', 'ecosystem quality',...                                       3.639684e-06                                            \n",
       "('ILCD 2.0 2018 midpoint', 'ecosystem quality',...                                       1.278583e-04                                            \n",
       "('ILCD 2.0 2018 midpoint', 'ecosystem quality',...                                       1.383222e-03                                            \n",
       "('ILCD 2.0 2018 midpoint', 'human health', 'car...                                       1.735982e-09                                            \n",
       "('ILCD 2.0 2018 midpoint', 'human health', 'ion...                                       6.938518e-04                                            \n",
       "('ILCD 2.0 2018 midpoint', 'human health', 'non...                                       2.651108e-09                                            \n",
       "('ILCD 2.0 2018 midpoint', 'human health', 'ozo...                                       7.988278e-08                                            \n",
       "('ILCD 2.0 2018 midpoint', 'human health', 'pho...                                       5.045739e-04                                            \n",
       "('ILCD 2.0 2018 midpoint', 'human health', 'res...                                       9.775673e-10                                            \n",
       "('ILCD 2.0 2018 midpoint', 'resources', 'dissip...                                       2.711740e-02                                            \n",
       "('ILCD 2.0 2018 midpoint', 'resources', 'fossils')                                       7.332433e+00                                            \n",
       "('ILCD 2.0 2018 midpoint', 'resources', 'land u...                                       1.477621e-01                                            \n",
       "('ILCD 2.0 2018 midpoint', 'resources', 'minera...                                       3.271545e-07                                            "
      ]
     },
     "execution_count": 5,
     "metadata": {},
     "output_type": "execute_result"
    }
   ],
   "source": [
    "def calculate_lcia_results(activities, methods):\n",
    "    \"\"\"\n",
    "    Calculates LCIA results for all activities in label_act and all methods in label_method\n",
    "    :param label_act: dict containing label:activity pairs\n",
    "    :param label_m: dict containing label:method pairs\n",
    "    :return: dataframe containing lcia results\n",
    "    \"\"\"\n",
    "\n",
    "    # prepare result store\n",
    "    results = {}\n",
    "\n",
    "    # start calculation\n",
    "    for act in activities:\n",
    "        # define functional unit (final demand)\n",
    "        fu = {bw.get_activity(act): 1}\n",
    "        # instantiate lca object\n",
    "        lca = bw.LCA(fu)\n",
    "        # do LCI (matrix inversion)\n",
    "        lca.lci()\n",
    "        # extend results object\n",
    "        results[str(act)] = {}\n",
    "        for  method in methods:\n",
    "            # activate current lcia method\n",
    "            lca.switch_method(method)\n",
    "            # calculate lcia result\n",
    "            lca.lcia()\n",
    "            # store result\n",
    "            results[str(act)][str(method)] = lca.score\n",
    "\n",
    "    # convert dict of results to dataframe\n",
    "    return pd.DataFrame(results)\n",
    "\n",
    "df = calculate_lcia_results([act1, act2, act3], methods)\n",
    "df"
   ]
  },
  {
   "cell_type": "markdown",
   "metadata": {},
   "source": [
    "Let's define some short-hands for the methods and activities to make the table a little more overseeable."
   ]
  },
  {
   "cell_type": "code",
   "execution_count": 6,
   "metadata": {},
   "outputs": [
    {
     "data": {
      "text/html": [
       "<div>\n",
       "<style scoped>\n",
       "    .dataframe tbody tr th:only-of-type {\n",
       "        vertical-align: middle;\n",
       "    }\n",
       "\n",
       "    .dataframe tbody tr th {\n",
       "        vertical-align: top;\n",
       "    }\n",
       "\n",
       "    .dataframe thead th {\n",
       "        text-align: right;\n",
       "    }\n",
       "</style>\n",
       "<table border=\"1\" class=\"dataframe\">\n",
       "  <thead>\n",
       "    <tr style=\"text-align: right;\">\n",
       "      <th></th>\n",
       "      <th>wind</th>\n",
       "      <th>PV</th>\n",
       "      <th>nat gas</th>\n",
       "    </tr>\n",
       "  </thead>\n",
       "  <tbody>\n",
       "    <tr>\n",
       "      <th>CC\\nbio</th>\n",
       "      <td>8.200771e-05</td>\n",
       "      <td>4.388205e-04</td>\n",
       "      <td>6.532204e-05</td>\n",
       "    </tr>\n",
       "    <tr>\n",
       "      <th>CC\\nfossil</th>\n",
       "      <td>3.148162e-02</td>\n",
       "      <td>9.537874e-02</td>\n",
       "      <td>4.300353e-01</td>\n",
       "    </tr>\n",
       "    <tr>\n",
       "      <th>CC\\nLUC</th>\n",
       "      <td>1.100778e-04</td>\n",
       "      <td>2.096568e-04</td>\n",
       "      <td>1.278100e-05</td>\n",
       "    </tr>\n",
       "    <tr>\n",
       "      <th>CC\\ntotal</th>\n",
       "      <td>3.167371e-02</td>\n",
       "      <td>9.602722e-02</td>\n",
       "      <td>4.301134e-01</td>\n",
       "    </tr>\n",
       "    <tr>\n",
       "      <th>EQ\\nacid</th>\n",
       "      <td>2.068838e-04</td>\n",
       "      <td>5.807309e-04</td>\n",
       "      <td>4.974314e-04</td>\n",
       "    </tr>\n",
       "    <tr>\n",
       "      <th>EQ\\ntox</th>\n",
       "      <td>1.550215e-01</td>\n",
       "      <td>1.618358e-01</td>\n",
       "      <td>2.567960e-02</td>\n",
       "    </tr>\n",
       "    <tr>\n",
       "      <th>EQ\\nFW</th>\n",
       "      <td>2.981222e-05</td>\n",
       "      <td>6.173620e-05</td>\n",
       "      <td>3.639684e-06</td>\n",
       "    </tr>\n",
       "    <tr>\n",
       "      <th>EQ\\nmar</th>\n",
       "      <td>4.760436e-05</td>\n",
       "      <td>1.247935e-04</td>\n",
       "      <td>1.278583e-04</td>\n",
       "    </tr>\n",
       "    <tr>\n",
       "      <th>EQ\\nterr</th>\n",
       "      <td>5.081589e-04</td>\n",
       "      <td>1.184353e-03</td>\n",
       "      <td>1.383222e-03</td>\n",
       "    </tr>\n",
       "    <tr>\n",
       "      <th>HH\\nCE</th>\n",
       "      <td>9.542035e-09</td>\n",
       "      <td>6.680907e-09</td>\n",
       "      <td>1.735982e-09</td>\n",
       "    </tr>\n",
       "    <tr>\n",
       "      <th>HH\\nrad</th>\n",
       "      <td>2.678976e-03</td>\n",
       "      <td>9.685159e-03</td>\n",
       "      <td>6.938518e-04</td>\n",
       "    </tr>\n",
       "    <tr>\n",
       "      <th>HH\\nNCE</th>\n",
       "      <td>2.094892e-08</td>\n",
       "      <td>3.554039e-08</td>\n",
       "      <td>2.651108e-09</td>\n",
       "    </tr>\n",
       "    <tr>\n",
       "      <th>HH\\nODP</th>\n",
       "      <td>2.548350e-09</td>\n",
       "      <td>1.204897e-08</td>\n",
       "      <td>7.988278e-08</td>\n",
       "    </tr>\n",
       "    <tr>\n",
       "      <th>HH\\nPOC</th>\n",
       "      <td>1.474750e-04</td>\n",
       "      <td>3.937023e-04</td>\n",
       "      <td>5.045739e-04</td>\n",
       "    </tr>\n",
       "    <tr>\n",
       "      <th>HH\\nresp</th>\n",
       "      <td>2.661299e-09</td>\n",
       "      <td>5.979152e-09</td>\n",
       "      <td>9.775673e-10</td>\n",
       "    </tr>\n",
       "    <tr>\n",
       "      <th>res\\nwater</th>\n",
       "      <td>1.417678e-02</td>\n",
       "      <td>1.322061e-01</td>\n",
       "      <td>2.711740e-02</td>\n",
       "    </tr>\n",
       "    <tr>\n",
       "      <th>res\\nfoss</th>\n",
       "      <td>4.191031e-01</td>\n",
       "      <td>1.454789e+00</td>\n",
       "      <td>7.332433e+00</td>\n",
       "    </tr>\n",
       "    <tr>\n",
       "      <th>res\\nland</th>\n",
       "      <td>1.094371e+00</td>\n",
       "      <td>2.264004e+00</td>\n",
       "      <td>1.477621e-01</td>\n",
       "    </tr>\n",
       "    <tr>\n",
       "      <th>res\\nMM</th>\n",
       "      <td>1.138813e-05</td>\n",
       "      <td>2.880110e-05</td>\n",
       "      <td>3.271545e-07</td>\n",
       "    </tr>\n",
       "  </tbody>\n",
       "</table>\n",
       "</div>"
      ],
      "text/plain": [
       "                    wind            PV       nat gas\n",
       "CC\\nbio     8.200771e-05  4.388205e-04  6.532204e-05\n",
       "CC\\nfossil  3.148162e-02  9.537874e-02  4.300353e-01\n",
       "CC\\nLUC     1.100778e-04  2.096568e-04  1.278100e-05\n",
       "CC\\ntotal   3.167371e-02  9.602722e-02  4.301134e-01\n",
       "EQ\\nacid    2.068838e-04  5.807309e-04  4.974314e-04\n",
       "EQ\\ntox     1.550215e-01  1.618358e-01  2.567960e-02\n",
       "EQ\\nFW      2.981222e-05  6.173620e-05  3.639684e-06\n",
       "EQ\\nmar     4.760436e-05  1.247935e-04  1.278583e-04\n",
       "EQ\\nterr    5.081589e-04  1.184353e-03  1.383222e-03\n",
       "HH\\nCE      9.542035e-09  6.680907e-09  1.735982e-09\n",
       "HH\\nrad     2.678976e-03  9.685159e-03  6.938518e-04\n",
       "HH\\nNCE     2.094892e-08  3.554039e-08  2.651108e-09\n",
       "HH\\nODP     2.548350e-09  1.204897e-08  7.988278e-08\n",
       "HH\\nPOC     1.474750e-04  3.937023e-04  5.045739e-04\n",
       "HH\\nresp    2.661299e-09  5.979152e-09  9.775673e-10\n",
       "res\\nwater  1.417678e-02  1.322061e-01  2.711740e-02\n",
       "res\\nfoss   4.191031e-01  1.454789e+00  7.332433e+00\n",
       "res\\nland   1.094371e+00  2.264004e+00  1.477621e-01\n",
       "res\\nMM     1.138813e-05  2.880110e-05  3.271545e-07"
      ]
     },
     "execution_count": 6,
     "metadata": {},
     "output_type": "execute_result"
    }
   ],
   "source": [
    "label_method = {\n",
    "    \"('ILCD 2.0 2018 midpoint', 'climate change', 'climate change biogenic')\": 'CC\\nbio', \n",
    "    \"('ILCD 2.0 2018 midpoint', 'climate change', 'climate change fossil')\": 'CC\\nfossil', \n",
    "    \"('ILCD 2.0 2018 midpoint', 'climate change', 'climate change land use and land use change')\": 'CC\\nLUC', \n",
    "    \"('ILCD 2.0 2018 midpoint', 'climate change', 'climate change total')\": 'CC\\ntotal', \n",
    "    \"('ILCD 2.0 2018 midpoint', 'ecosystem quality', 'freshwater and terrestrial acidification')\": 'EQ\\nacid', \n",
    "    \"('ILCD 2.0 2018 midpoint', 'ecosystem quality', 'freshwater ecotoxicity')\": 'EQ\\ntox', \n",
    "    \"('ILCD 2.0 2018 midpoint', 'ecosystem quality', 'freshwater eutrophication')\": 'EQ\\nFW', \n",
    "    \"('ILCD 2.0 2018 midpoint', 'ecosystem quality', 'marine eutrophication')\": 'EQ\\nmar', \n",
    "    \"('ILCD 2.0 2018 midpoint', 'ecosystem quality', 'terrestrial eutrophication')\": 'EQ\\nterr', \n",
    "    \"('ILCD 2.0 2018 midpoint', 'human health', 'carcinogenic effects')\": 'HH\\nCE', \n",
    "    \"('ILCD 2.0 2018 midpoint', 'human health', 'ionising radiation')\": 'HH\\nrad', \n",
    "    \"('ILCD 2.0 2018 midpoint', 'human health', 'non-carcinogenic effects')\": 'HH\\nNCE', \n",
    "    \"('ILCD 2.0 2018 midpoint', 'human health', 'ozone layer depletion')\": 'HH\\nODP', \n",
    "    \"('ILCD 2.0 2018 midpoint', 'human health', 'photochemical ozone creation')\": 'HH\\nPOC', \n",
    "    \"('ILCD 2.0 2018 midpoint', 'human health', 'respiratory effects, inorganics')\": 'HH\\nresp', \n",
    "    \"('ILCD 2.0 2018 midpoint', 'resources', 'dissipated water')\": 'res\\nwater', \n",
    "    \"('ILCD 2.0 2018 midpoint', 'resources', 'fossils')\": 'res\\nfoss', \n",
    "    \"('ILCD 2.0 2018 midpoint', 'resources', 'land use')\": 'res\\nland', \n",
    "    \"('ILCD 2.0 2018 midpoint', 'resources', 'minerals and metals')\": 'res\\nMM'\n",
    "}\n",
    "\n",
    "label_act = {\n",
    "    \"'electricity production, wind, >3MW turbine, onshore' (kilowatt hour, DE, None)\": \"wind\",\n",
    "    \"'electricity production, photovoltaic, 3kWp slanted-roof installation, multi-Si, panel, mounted' (kilowatt hour, DE, None)\": \"PV\",\n",
    "    \"'electricity production, natural gas, combined cycle power plant' (kilowatt hour, DE, None)\": \"nat gas\",\n",
    "}\n",
    "\n",
    "df = df.rename(columns=label_act, index=label_method)\n",
    "df"
   ]
  },
  {
   "cell_type": "markdown",
   "metadata": {},
   "source": [
    "Much better! \n",
    "\n",
    "## Plotting the result\n",
    "\n",
    "Now, let's plot the result. Luckily, pandas offers this out of the box."
   ]
  },
  {
   "cell_type": "code",
   "execution_count": 7,
   "metadata": {},
   "outputs": [
    {
     "data": {
      "text/plain": [
       "(array([ 0,  1,  2,  3,  4,  5,  6,  7,  8,  9, 10, 11, 12, 13, 14, 15, 16,\n",
       "        17, 18]),\n",
       " <a list of 19 Text major ticklabel objects>)"
      ]
     },
     "execution_count": 7,
     "metadata": {},
     "output_type": "execute_result"
    },
    {
     "data": {
      "image/png": "[encoded data removed]",
      "text/plain": [
       "<Figure size 1008x576 with 1 Axes>"
      ]
     },
     "metadata": {
      "needs_background": "light"
     },
     "output_type": "display_data"
    }
   ],
   "source": [
    "# plot data\n",
    "df.plot.bar(xlabel='Impact category', ylabel='Impact score', figsize=(14,8))\n",
    "\n",
    "# rotate xticks for horizontal impact category names\n",
    "plt.xticks(rotation=0)"
   ]
  },
  {
   "cell_type": "markdown",
   "metadata": {},
   "source": [
    "Some of the bars are not visible because the impact categories have wildly different units (and hence magnitudes). Let's normalize each category by the largest score. While we're at it, let's also increase the font size and add a grid."
   ]
  },
  {
   "cell_type": "code",
   "execution_count": 8,
   "metadata": {},
   "outputs": [
    {
     "data": {
      "text/plain": [
       "(array([ 0,  1,  2,  3,  4,  5,  6,  7,  8,  9, 10, 11, 12, 13, 14, 15, 16,\n",
       "        17, 18]),\n",
       " <a list of 19 Text major ticklabel objects>)"
      ]
     },
     "execution_count": 8,
     "metadata": {},
     "output_type": "execute_result"
    },
    {
     "data": {
      "image/png": "[encoded data removed]",
      "text/plain": [
       "<Figure size 1008x576 with 1 Axes>"
      ]
     },
     "metadata": {
      "needs_background": "light"
     },
     "output_type": "display_data"
    }
   ],
   "source": [
    "# normalize\n",
    "df = (df.T / df.abs().max(axis=1)).T\n",
    "\n",
    "# activate grid and set font size\n",
    "plt.rcParams.update({\n",
    "    'font.size': 16,\n",
    "    'axes.grid': True,\n",
    "    'axes.grid.which': 'major',\n",
    "    'axes.axisbelow': True,\n",
    "})\n",
    "\n",
    "# plot data\n",
    "df.plot.bar(xlabel='Impact category', ylabel='Impact score', figsize=(14,8))\n",
    "\n",
    "# rotate xticks for horizontal impact category names\n",
    "plt.xticks(rotation=0)"
   ]
  },
  {
   "cell_type": "markdown",
   "metadata": {},
   "source": [
    "There you go! A nice plot to compare the three technologies."
   ]
  }
 ],
 "metadata": {
  "kernelspec": {
   "display_name": "Python 3",
   "language": "python",
   "name": "python3"
  },
  "language_info": {
   "codemirror_mode": {
    "name": "ipython",
    "version": 3
   },
   "file_extension": ".py",
   "mimetype": "text/x-python",
   "name": "python",
   "nbconvert_exporter": "python",
   "pygments_lexer": "ipython3",
   "version": "3.8.6"
  },
  "latex_envs": {
   "LaTeX_envs_menu_present": true,
   "autoclose": false,
   "autocomplete": true,
   "bibliofile": "biblio.bib",
   "cite_by": "apalike",
   "current_citInitial": 1,
   "eqLabelWithNumbers": true,
   "eqNumInitial": 1,
   "hotkeys": {
    "equation": "Ctrl-E",
    "itemize": "Ctrl-I"
   },
   "labels_anchors": false,
   "latex_user_defs": false,
   "report_style_numbering": false,
   "user_envs_cfg": false
  },
  "toc": {
   "base_numbering": 1,
   "nav_menu": {},
   "number_sections": true,
   "sideBar": true,
   "skip_h1_title": false,
   "title_cell": "Table of Contents",
   "title_sidebar": "Contents",
   "toc_cell": false,
   "toc_position": {},
   "toc_section_display": true,
   "toc_window_display": false
  }
 },
 "nbformat": 4,
 "nbformat_minor": 4
}
