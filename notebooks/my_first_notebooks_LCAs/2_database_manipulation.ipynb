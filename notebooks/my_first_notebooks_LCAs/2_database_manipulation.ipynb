{
 "cells": [
  {
   "cell_type": "markdown",
   "metadata": {},
   "source": [
    "# Database manipulation\n",
    "\n",
    "How to edit datasets? Here I will show how to edit the ecoinvent database such that all activities use 'electricity production, wind, 1-3MW turbine, onshore' (kilowatt hour, DE, None) as electricity source instead of 'market for electricity, medium voltage'."
   ]
  },
  {
   "cell_type": "code",
   "execution_count": 39,
   "metadata": {},
   "outputs": [
    {
     "data": {
      "text/plain": [
       "Databases dictionary with 6 object(s):\n",
       "\tbio2\n",
       "\tbiosphere3\n",
       "\tcons36\n",
       "\tday1\n",
       "\tday3\n",
       "\ttestbiosphere"
      ]
     },
     "execution_count": 39,
     "metadata": {},
     "output_type": "execute_result"
    }
   ],
   "source": [
    "# imports\n",
    "import brightway2 as bw\n",
    "\n",
    "# activate project and show databases\n",
    "bw.projects.set_current(\"adv-lca-course\")\n",
    "bw.databases"
   ]
  },
  {
   "cell_type": "code",
   "execution_count": 42,
   "metadata": {},
   "outputs": [
    {
     "data": {
      "text/plain": [
       "'adv-lca-course'"
      ]
     },
     "execution_count": 42,
     "metadata": {},
     "output_type": "execute_result"
    }
   ],
   "source": [
    "bw.projects.delete_project(\"ei36_edited\")"
   ]
  },
  {
   "cell_type": "markdown",
   "metadata": {},
   "source": [
    "First, we copy the ecoinvent database so that we don't lose the original datasets. The easiest way to do this in brightway is to copy the whole project."
   ]
  },
  {
   "cell_type": "code",
   "execution_count": 43,
   "metadata": {},
   "outputs": [
    {
     "data": {
      "text/plain": [
       "Brightway2 projects manager with 14 objects:\n",
       "\tBiowood\n",
       "\tMicroalgae_1\n",
       "\tab\n",
       "\tadv-lca-course\n",
       "\tbw25\n",
       "\tdefault\n",
       "\tdummy\n",
       "\tei36_edited\n",
       "\tei_3.5_afk\n",
       "\tei_3.6_new\n",
       "\texiobase\n",
       "\texiobase16\n",
       "\texiobase_new\n",
       "\texiobase_test\n",
       "Use `projects.report()` to get a report on all projects."
      ]
     },
     "execution_count": 43,
     "metadata": {},
     "output_type": "execute_result"
    }
   ],
   "source": [
    "new_project = \"ei36_edited\"\n",
    "\n",
    "# Note: brightway will throw an error if a project with the given name already exists. \n",
    "# Delete it by using bw.project.delete_project(). After that, you also need to delete \n",
    "# the directory from the disk manually!\n",
    "# bw.projects.delete_project(new_project)\n",
    "\n",
    "bw.projects.copy_project(new_project)\n",
    "bw.projects"
   ]
  },
  {
   "cell_type": "markdown",
   "metadata": {},
   "source": [
    "We now have a new project \"ei36_edited\". Let's activate and see which databases are in it."
   ]
  },
  {
   "cell_type": "code",
   "execution_count": 44,
   "metadata": {},
   "outputs": [
    {
     "data": {
      "text/plain": [
       "Databases dictionary with 6 object(s):\n",
       "\tbio2\n",
       "\tbiosphere3\n",
       "\tcons36\n",
       "\tday1\n",
       "\tday3\n",
       "\ttestbiosphere"
      ]
     },
     "execution_count": 44,
     "metadata": {},
     "output_type": "execute_result"
    }
   ],
   "source": [
    "bw.projects.set_current(new_project)\n",
    "bw.databases"
   ]
  },
  {
   "cell_type": "markdown",
   "metadata": {},
   "source": [
    "As expected, it contains the same databases as the original project. Now lets go about editing the ecoinvent database. First, let's choose the replacing activity. Here, I will use 'electricity production, wind, 1-3MW turbine, onshore' (kilowatt hour, DE, None)."
   ]
  },
  {
   "cell_type": "code",
   "execution_count": 45,
   "metadata": {},
   "outputs": [
    {
     "data": {
      "text/plain": [
       "'electricity production, wind, 1-3MW turbine, onshore' (kilowatt hour, DE, None)"
      ]
     },
     "execution_count": 45,
     "metadata": {},
     "output_type": "execute_result"
    }
   ],
   "source": [
    "wind = bw.Database(\"cons36\").search(\"electricity 1-3 wind DE\")[0]\n",
    "wind"
   ]
  },
  {
   "cell_type": "markdown",
   "metadata": {},
   "source": [
    "Next, we will do the replacement. For this, we loop over all activities in the ecoinvent database. For all activities, we retrieve the technosphere exchanges (i.e. exchanges between activities, not between activity and biosphere). If the exchange's name is \"market for electricity, medium voltage\" it will be edited. We replace the input (i.e. the producer) of each exchange with our wind energy activity. We will not change any other properties of the exchange (target, amount...). This is a pure \"rewiring\". **This step will take several minutes**!"
   ]
  },
  {
   "cell_type": "code",
   "execution_count": 46,
   "metadata": {},
   "outputs": [
    {
     "name": "stdout",
     "output_type": "stream",
     "text": [
      "Changed 0 activities...\n",
      "Changed 1000 activities...\n",
      "Changed 2000 activities...\n",
      "Changed 3000 activities...\n",
      "Changed 4000 activities...\n",
      "Changed 5000 activities...\n",
      "Changed 6000 activities...\n",
      "Changed 7000 activities...\n",
      "Changed 8000 activities...\n",
      "Changed 9000 activities...\n",
      "Changed 10000 activities...\n",
      "Changed 11000 activities...\n",
      "Changed 12000 activities...\n",
      "Changed 13000 activities...\n",
      "Changed 14000 activities...\n",
      "Changed 15000 activities...\n",
      "Changed 16000 activities...\n"
     ]
    }
   ],
   "source": [
    "for i,act in enumerate(bw.Database(\"cons36\")): \n",
    "    for exc in act.technosphere():\n",
    "        if exc.input[\"name\"] == \"market for electricity, medium voltage\":\n",
    "            exc.input = wind\n",
    "            exc.save()\n",
    "    if i % 1000 == 0:\n",
    "        print(f\"Checked {i} activities...\")"
   ]
  },
  {
   "cell_type": "markdown",
   "metadata": {},
   "source": [
    "Let's see if the re-wiring worked. Arbitrarily, I pick the activity \"limestone production, crushed, washed CH\" which I know uses electricity. Here are its technosphere exchanges."
   ]
  },
  {
   "cell_type": "code",
   "execution_count": 48,
   "metadata": {},
   "outputs": [
    {
     "data": {
      "text/plain": [
       "[Exchange: 1.0 kilogram 'market for limestone, unprocessed' (kilogram, CH, None) to 'limestone production, crushed, washed' (kilogram, CH, None)>,\n",
       " Exchange: 0.00036 kilowatt hour 'electricity production, hydro, run-of-river' (kilowatt hour, CH, None) to 'limestone production, crushed, washed' (kilogram, CH, None)>,\n",
       " Exchange: 0.00036 kilowatt hour 'electricity production, wind, 1-3MW turbine, onshore' (kilowatt hour, DE, None) to 'limestone production, crushed, washed' (kilogram, CH, None)>,\n",
       " Exchange: 0.00141 megajoule 'market for heat, central or small-scale, other than natural gas' (megajoule, CH, None) to 'limestone production, crushed, washed' (kilogram, CH, None)>,\n",
       " Exchange: 2.07e-08 meter 'market for conveyor belt' (meter, GLO, None) to 'limestone production, crushed, washed' (kilogram, CH, None)>,\n",
       " Exchange: 9.11e-06 kilogram 'market for industrial machine, heavy, unspecified' (kilogram, RER, None) to 'limestone production, crushed, washed' (kilogram, CH, None)>]"
      ]
     },
     "execution_count": 48,
     "metadata": {},
     "output_type": "execute_result"
    }
   ],
   "source": [
    "lime_new = bw.Database(\"cons36\").search(\"limestone production, crushed, washed CH\")[0]\n",
    "list(lime_new.technosphere())"
   ]
  },
  {
   "cell_type": "markdown",
   "metadata": {},
   "source": [
    "Indeed, the exchange is now linked to 'electricity production, wind, 1-3MW turbine, onshore'. For comparison, here are the exchanges from the original."
   ]
  },
  {
   "cell_type": "code",
   "execution_count": 53,
   "metadata": {},
   "outputs": [
    {
     "data": {
      "text/plain": [
       "[Exchange: 1.0 kilogram 'market for limestone, unprocessed' (kilogram, CH, None) to 'limestone production, crushed, washed' (kilogram, CH, None)>,\n",
       " Exchange: 0.00036 kilowatt hour 'electricity production, hydro, run-of-river' (kilowatt hour, CH, None) to 'limestone production, crushed, washed' (kilogram, CH, None)>,\n",
       " Exchange: 0.00036 kilowatt hour 'market for electricity, medium voltage' (kilowatt hour, CH, None) to 'limestone production, crushed, washed' (kilogram, CH, None)>,\n",
       " Exchange: 0.00141 megajoule 'market for heat, central or small-scale, other than natural gas' (megajoule, CH, None) to 'limestone production, crushed, washed' (kilogram, CH, None)>,\n",
       " Exchange: 2.07e-08 meter 'market for conveyor belt' (meter, GLO, None) to 'limestone production, crushed, washed' (kilogram, CH, None)>,\n",
       " Exchange: 9.11e-06 kilogram 'market for industrial machine, heavy, unspecified' (kilogram, RER, None) to 'limestone production, crushed, washed' (kilogram, CH, None)>]"
      ]
     },
     "execution_count": 53,
     "metadata": {},
     "output_type": "execute_result"
    }
   ],
   "source": [
    "bw.projects.set_current(\"adv-lca-course\")\n",
    "lime_old = bw.Database(\"cons36\").search(\"limestone production, crushed, washed CH\")[0]\n",
    "list(lime_old.technosphere())"
   ]
  },
  {
   "cell_type": "markdown",
   "metadata": {},
   "source": [
    "Let's also calculate the GWP 100 of the new and old process for comparison."
   ]
  },
  {
   "cell_type": "code",
   "execution_count": 59,
   "metadata": {},
   "outputs": [
    {
     "data": {
      "text/plain": [
       "(array([[0.0023789]]), array([[0.0022418]]))"
      ]
     },
     "execution_count": 59,
     "metadata": {},
     "output_type": "execute_result"
    }
   ],
   "source": [
    "method = ('ILCD 2.0 2018 midpoint', 'climate change', 'climate change total')\n",
    "\n",
    "bw.projects.set_current(\"adv-lca-course\")\n",
    "bw.calculation_setups[\"lime_old\"] = {'inv': [{lime_old:1}], 'ia': [method]}\n",
    "mlca_old = bw.MultiLCA(\"lime_old\")\n",
    "\n",
    "bw.projects.set_current(\"ei36_edited\")\n",
    "bw.calculation_setups[\"lime_new\"] = {'inv': [{lime_new:1}], 'ia': [method]}\n",
    "mlca_new = bw.MultiLCA(\"lime_new\")\n",
    "\n",
    "mlca_old.results, mlca_new.results"
   ]
  },
  {
   "cell_type": "markdown",
   "metadata": {},
   "source": [
    "As we can see, the GWP100 changed from 0.0024 to 0.0022."
   ]
  }
 ],
 "metadata": {
  "kernelspec": {
   "display_name": "Python 3",
   "language": "python",
   "name": "python3"
  },
  "language_info": {
   "codemirror_mode": {
    "name": "ipython",
    "version": 3
   },
   "file_extension": ".py",
   "mimetype": "text/x-python",
   "name": "python",
   "nbconvert_exporter": "python",
   "pygments_lexer": "ipython3",
   "version": "3.8.10"
  },
  "latex_envs": {
   "LaTeX_envs_menu_present": true,
   "autoclose": false,
   "autocomplete": true,
   "bibliofile": "biblio.bib",
   "cite_by": "apalike",
   "current_citInitial": 1,
   "eqLabelWithNumbers": true,
   "eqNumInitial": 1,
   "hotkeys": {
    "equation": "Ctrl-E",
    "itemize": "Ctrl-I"
   },
   "labels_anchors": false,
   "latex_user_defs": false,
   "report_style_numbering": false,
   "user_envs_cfg": false
  },
  "toc": {
   "base_numbering": 1,
   "nav_menu": {},
   "number_sections": true,
   "sideBar": true,
   "skip_h1_title": false,
   "title_cell": "Table of Contents",
   "title_sidebar": "Contents",
   "toc_cell": false,
   "toc_position": {},
   "toc_section_display": true,
   "toc_window_display": false
  }
 },
 "nbformat": 4,
 "nbformat_minor": 2
}
