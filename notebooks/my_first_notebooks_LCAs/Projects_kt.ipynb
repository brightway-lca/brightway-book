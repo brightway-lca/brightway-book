{
 "cells": [
  {
   "cell_type": "markdown",
   "metadata": {},
   "source": [
    "# Projects\n",
    "\n",
    "A project is a separate workspace which has its own data and preferences. Project management is is done through the ``projects`` object:"
   ]
  },
  {
   "cell_type": "markdown",
   "metadata": {},
   "source": [
    "The project object is part of the brightway package. \n",
    "We first import this package. We do this by using \"import XX as \"short name you can choose\"\". The other option is \"import brightway2 *\". However, the first option allows to clearly show which module belongs to which package: for instance by typing bw.projects. You can access the arguments (TODO: right word??) of bw.project by typing \"bw.projects.\" and the tab key.   "
   ]
  },
  {
   "cell_type": "code",
   "execution_count": 2,
   "metadata": {
    "collapsed": false
   },
   "outputs": [],
   "source": [
    "import brightway2 as bw"
   ]
  },
  {
   "cell_type": "markdown",
   "metadata": {},
   "source": [
    "List existing projects:"
   ]
  },
  {
   "cell_type": "code",
   "execution_count": 5,
   "metadata": {},
   "outputs": [
    {
     "data": {
      "text/plain": [
       "Brightway2 projects manager with 9 objects:\n",
       "\tBrightconClass\n",
       "\tESUoilgas\n",
       "\tElegancy\n",
       "\tH24ev39\n",
       "\tThrive\n",
       "\tcats and dogs\n",
       "\tdefault\n",
       "\tsuntoliquid\n",
       "\ttwingtec\n",
       "Use `projects.report()` to get a report on all projects."
      ]
     },
     "execution_count": 5,
     "metadata": {},
     "output_type": "execute_result"
    }
   ],
   "source": [
    "bw.projects"
   ]
  },
  {
   "cell_type": "markdown",
   "metadata": {},
   "source": [
    "You can also show the projects as a list: (TODO: Is there an advantage of this?)"
   ]
  },
  {
   "cell_type": "code",
   "execution_count": 4,
   "metadata": {
    "collapsed": false
   },
   "outputs": [
    {
     "data": {
      "text/plain": [
       "[Project: default,\n",
       " Project: twingtec,\n",
       " Project: Thrive,\n",
       " Project: Elegancy,\n",
       " Project: suntoliquid,\n",
       " Project: ESUoilgas,\n",
       " Project: H24ev39,\n",
       " Project: BrightconClass,\n",
       " Project: cats and dogs]"
      ]
     },
     "execution_count": 4,
     "metadata": {},
     "output_type": "execute_result"
    }
   ],
   "source": [
    "list(bw.projects)"
   ]
  },
  {
   "cell_type": "markdown",
   "metadata": {},
   "source": [
    "We can access one of these projects, switch between projects or create/add a new project with the same command.\n",
    "Switching projects is the same as adding a project - it will be created if it doesn't exist already:"
   ]
  },
  {
   "cell_type": "code",
   "execution_count": 8,
   "metadata": {
    "collapsed": false
   },
   "outputs": [
    {
     "data": {
      "text/plain": [
       "[Project: default,\n",
       " Project: twingtec,\n",
       " Project: Thrive,\n",
       " Project: Elegancy,\n",
       " Project: suntoliquid,\n",
       " Project: ESUoilgas,\n",
       " Project: H24ev39,\n",
       " Project: BrightconClass,\n",
       " Project: cats and dogs,\n",
       " Project: foo]"
      ]
     },
     "execution_count": 8,
     "metadata": {},
     "output_type": "execute_result"
    }
   ],
   "source": [
    "bw.projects.set_current(\"foo\") #enter a project name from the list or a new one\n",
    "list(bw.projects) #let's check if the project has been created"
   ]
  },
  {
   "cell_type": "markdown",
   "metadata": {},
   "source": [
    "Uuups, you have misspelled an existing project name or the name of your new project? Or you want to delete a project.  TODO: Where is the project deleted? Will there still be a folder somewhere on your computer for this project?"
   ]
  },
  {
   "cell_type": "code",
   "execution_count": 9,
   "metadata": {},
   "outputs": [
    {
     "data": {
      "text/plain": [
       "'default'"
      ]
     },
     "execution_count": 9,
     "metadata": {},
     "output_type": "execute_result"
    }
   ],
   "source": [
    "bw.projects.delete_project(\"foo\")"
   ]
  },
  {
   "cell_type": "markdown",
   "metadata": {},
   "source": [
    "You can copy projects. Note that a copy is made of your current project, so be sure to switch to the project you want to copy first:"
   ]
  },
  {
   "cell_type": "markdown",
   "metadata": {},
   "source": [
    "So which project am I in right now?"
   ]
  },
  {
   "cell_type": "code",
   "execution_count": 20,
   "metadata": {},
   "outputs": [
    {
     "data": {
      "text/plain": [
       "'foo'"
      ]
     },
     "execution_count": 20,
     "metadata": {},
     "output_type": "execute_result"
    }
   ],
   "source": [
    "bw.projects.current"
   ]
  },
  {
   "cell_type": "markdown",
   "metadata": {},
   "source": [
    "That's fine. let's copy this project to a new name."
   ]
  },
  {
   "cell_type": "code",
   "execution_count": 21,
   "metadata": {},
   "outputs": [],
   "source": [
    "bw.projects.copy_project(\"my copy\")"
   ]
  },
  {
   "cell_type": "markdown",
   "metadata": {},
   "source": [
    "The current project is switched to the copy:"
   ]
  },
  {
   "cell_type": "code",
   "execution_count": 24,
   "metadata": {},
   "outputs": [
    {
     "data": {
      "text/plain": [
       "'my copy'"
      ]
     },
     "execution_count": 24,
     "metadata": {},
     "output_type": "execute_result"
    }
   ],
   "source": [
    "bw.projects.current"
   ]
  },
  {
   "cell_type": "markdown",
   "metadata": {},
   "source": [
    "Ok, let's go with a project. Here, we first have to create it. A new project starts out empty - add default biosphere flows and impact assessment methods if you want:"
   ]
  },
  {
   "cell_type": "code",
   "execution_count": 10,
   "metadata": {},
   "outputs": [],
   "source": [
    "bw.projects.set_current(\"foo\")"
   ]
  },
  {
   "cell_type": "code",
   "execution_count": 12,
   "metadata": {
    "collapsed": false
   },
   "outputs": [
    {
     "data": {
      "text/plain": [
       "[]"
      ]
     },
     "execution_count": 12,
     "metadata": {},
     "output_type": "execute_result"
    }
   ],
   "source": [
    "list(bw.databases) #Let's check. Indeed, the project is empty"
   ]
  },
  {
   "cell_type": "code",
   "execution_count": 13,
   "metadata": {
    "collapsed": false
   },
   "outputs": [
    {
     "name": "stdout",
     "output_type": "stream",
     "text": [
      "Creating default biosphere\n",
      "\n"
     ]
    },
    {
     "name": "stderr",
     "output_type": "stream",
     "text": [
      "Writing activities to SQLite3 database:\n"
     ]
    },
    {
     "name": "stdout",
     "output_type": "stream",
     "text": [
      "Applying strategy: normalize_units\n",
      "Applying strategy: drop_unspecified_subcategories\n",
      "Applying strategy: ensure_categories_are_tuples\n",
      "Applied 3 strategies in 0.01 seconds\n"
     ]
    },
    {
     "name": "stderr",
     "output_type": "stream",
     "text": [
      "0% [##############################] 100% | ETA: 00:00:00\n",
      "Total time elapsed: 00:00:00\n"
     ]
    },
    {
     "name": "stdout",
     "output_type": "stream",
     "text": [
      "Title: Writing activities to SQLite3 database:\n",
      "  Started: 09/30/2022 12:27:47\n",
      "  Finished: 09/30/2022 12:27:47\n",
      "  Total time elapsed: 00:00:00\n",
      "  CPU %: 81.20\n",
      "  Memory %: 0.56\n",
      "Created database: biosphere3\n",
      "Creating default LCIA methods\n",
      "\n",
      "Applying strategy: normalize_units\n",
      "Applying strategy: set_biosphere_type\n",
      "Applying strategy: fix_ecoinvent_38_lcia_implementation\n",
      "Applying strategy: drop_unspecified_subcategories\n",
      "Applying strategy: link_iterable_by_fields\n",
      "Applied 5 strategies in 1.25 seconds\n",
      "Wrote 975 LCIA methods with 254388 characterization factors\n",
      "Creating core data migrations\n",
      "\n"
     ]
    }
   ],
   "source": [
    "bw.bw2setup() #Now we add biosphere and LCIA methods"
   ]
  },
  {
   "cell_type": "code",
   "execution_count": 15,
   "metadata": {
    "collapsed": false
   },
   "outputs": [
    {
     "data": {
      "text/plain": [
       "['biosphere3']"
      ]
     },
     "execution_count": 15,
     "metadata": {},
     "output_type": "execute_result"
    }
   ],
   "source": [
    "list(bw.databases) #let's check if the database is present now."
   ]
  },
  {
   "cell_type": "markdown",
   "metadata": {},
   "source": [
    "You will see in other notebooks how to add more databases.\n",
    "Now as we have created a project and added something, you would like to save it, won't you? And you want to know where the project sits on your computer.\n",
    "TODO: How does saving work exactly??"
   ]
  },
  {
   "cell_type": "markdown",
   "metadata": {},
   "source": [
    "Each project is a directory:"
   ]
  },
  {
   "cell_type": "code",
   "execution_count": 16,
   "metadata": {
    "collapsed": false
   },
   "outputs": [
    {
     "data": {
      "text/plain": [
       "'C:\\\\Users\\\\treyer_k\\\\AppData\\\\Local\\\\pylca\\\\Brightway3\\\\foo.acbd18db4cc2f85cedef654fccc4a4d8'"
      ]
     },
     "execution_count": 16,
     "metadata": {},
     "output_type": "execute_result"
    }
   ],
   "source": [
    "bw.projects.dir"
   ]
  },
  {
   "cell_type": "markdown",
   "metadata": {},
   "source": [
    "We can add subdirectories if needed (e.g. for custom data):"
   ]
  },
  {
   "cell_type": "code",
   "execution_count": 17,
   "metadata": {
    "collapsed": false
   },
   "outputs": [
    {
     "data": {
      "text/plain": [
       "'C:\\\\Users\\\\treyer_k\\\\AppData\\\\Local\\\\pylca\\\\Brightway3\\\\foo.acbd18db4cc2f85cedef654fccc4a4d8\\\\my-new-directory'"
      ]
     },
     "execution_count": 17,
     "metadata": {},
     "output_type": "execute_result"
    }
   ],
   "source": [
    "bw.projects.request_directory(\"my-new-directory\")"
   ]
  },
  {
   "cell_type": "markdown",
   "metadata": {},
   "source": [
    "And maybe you want to know a bit more about your projects: Number of databases, file size"
   ]
  },
  {
   "cell_type": "code",
   "execution_count": 27,
   "metadata": {},
   "outputs": [
    {
     "data": {
      "text/plain": [
       "[('BrightconClass', 4, 0.161600815),\n",
       " ('ESUoilgas', 2, 1.266960393),\n",
       " ('Elegancy', 0, 8.2135e-05),\n",
       " ('H24ev39', 3, 1.34992381),\n",
       " ('Thrive', 1, 0.161524554),\n",
       " ('cats and dogs', 0, 8.21e-05),\n",
       " ('default', 2, 1.367947495),\n",
       " ('foo', 1, 0.161524585),\n",
       " ('my copy', 1, 0.161524585),\n",
       " ('suntoliquid', 1, 0.161524715),\n",
       " ('twingtec', 11, 1.991353454)]"
      ]
     },
     "execution_count": 27,
     "metadata": {},
     "output_type": "execute_result"
    }
   ],
   "source": [
    "bw.projects.report()"
   ]
  },
  {
   "cell_type": "code",
   "execution_count": null,
   "metadata": {},
   "outputs": [],
   "source": []
  }
 ],
 "metadata": {
  "interpreter": {
   "hash": "0ea991259c5847e8a40aa6678a7ea8737c5175d852750b8e6894b02d0279e806"
  },
  "kernelspec": {
   "display_name": "Python 3.9.12 ('bw2')",
   "language": "python",
   "name": "python3"
  },
  "language_info": {
   "codemirror_mode": {
    "name": "ipython",
    "version": 3
   },
   "file_extension": ".py",
   "mimetype": "text/x-python",
   "name": "python",
   "nbconvert_exporter": "python",
   "pygments_lexer": "ipython3",
   "version": "3.10.6"
  }
 },
 "nbformat": 4,
 "nbformat_minor": 0
}
