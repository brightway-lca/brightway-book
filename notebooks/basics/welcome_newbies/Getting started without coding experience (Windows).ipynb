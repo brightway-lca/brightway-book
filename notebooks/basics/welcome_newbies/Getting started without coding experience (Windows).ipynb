{
 "cells": [
  {
   "cell_type": "markdown",
   "id": "e77cf54c",
   "metadata": {},
   "source": [
    "# Getting started without coding experience (Windows)"
   ]
  },
  {
   "cell_type": "markdown",
   "id": "93e67438",
   "metadata": {},
   "source": [
    "## 1. Installing Python"
   ]
  },
  {
   "cell_type": "markdown",
   "id": "edaf8c71",
   "metadata": {},
   "source": [
    "Environments, packages, libraries, jupyter notebooks... if all of this sounds like mumbo-jumbo than getting started with Brightway might feel like standing at the foot of Mount Everest. But no worries: the following guide will be your sherpa. \n",
    "\n",
    "Assuming you do not yet have python installed on your device, this is where we will start. Go to the [anaconda website](https://www.anaconda.com/products/distribution) and install the 64-bit version of anaconda. Alternatively, you can install a lighter version called [miniconda](https://docs.conda.io/en/latest/miniconda.html) which will install fewer packages. Wonder which is right for you? Have a look at [these pros and cons](https://docs.conda.io/projects/conda/en/latest/user-guide/install/download.html#anaconda-or-miniconda) and choose for yourself. In the following steps, we will assume you install Anaconda.\n",
    "\n",
    "The installer is like any other program installer where you have to click next a couple of times and sometimes tick a box to make a choice. When asked to select an installation type, select \"Just Me (recommended)\". \n",
    "\n",
    "![alt text](images/Install%20just%20for%20me.jpg \"Install-just-for-me\")\n",
    "\n",
    "The next screen will give you a choice of where to install Anaconda. The standard Destination Folder will create an Anaconda3 folder in the folder of your user account on the C-disk. We will assume you select this standard destination in further references of this manual, but you can choose to select an alternative destination. \n",
    "\n",
    "![alt text](images/Choose%20install%20location.jpg \"Installation type\")\n",
    "\n",
    "In the next screen, don't change the tick boxes of the Advanced Installation Options, but simply click \"Install\". Once successfully installed, a folder for Anaconda3 will be visible in the Windows Start menu. \n",
    "\n",
    "![alt text](images/Anaconda.jpg \"Anaconda\")"
   ]
  },
  {
   "cell_type": "markdown",
   "id": "13c411f5",
   "metadata": {},
   "source": [
    "## 2. To prompt or not to prompt"
   ]
  },
  {
   "cell_type": "markdown",
   "id": "9879c8a0",
   "metadata": {},
   "source": [
    "The next steps are typically performed in an Anaconda Prompt. What is a prompt? It's this black screen with blinking cursor that you might have seen on the screens of computer wizards. \n",
    "\n",
    "![alt text](images/Anaconda%20Prompt.JPG \"Anaconda-Prompt\")\n",
    "\n",
    "You can use it to execute code in a very efficient way, avoiding a lot of clicking-here, clicking-there. That is: if you know what code to write. This chapter is for people with no coding experience, so we will use Anaconda Navigator to install and use brightway. The navigator is a GUI (graphical user interface) which is probably more familiar to you as you have buttons to work with, instead of this dreaded black screen. However, we will also provide you the equivalent code you can use in the prompt to achieve the same result. As you will see, coding will require fewer steps. Once you become more comfortabel with coding, you could switch to using the listed commands and safe yourself a lot of time. \n",
    "\n",
    "You can start both Anaconda Navigator and Anaconda Prompt from the Microsoft Start menu. You can also start an Anaconda Prompt from the \"Home\" screen of Anaconda Navigator."
   ]
  },
  {
   "cell_type": "markdown",
   "id": "d33f2986",
   "metadata": {},
   "source": [
    "## 3. Setting up environments"
   ]
  },
  {
   "cell_type": "markdown",
   "id": "32918189",
   "metadata": {},
   "source": [
    "A very useful feature of python is that we can setup and work with environments. Each environment is a unique workspace where you can install a specific versions of python and its packages. This makes it possible to for instance work with python 3.4 in one workspace and python 3.8 in another. It also prevents unwanted interactions between different works. It is recommended to create a new environment for each project that you work on. This way, mistakes in one project do not affect the other projects. Also, updates in one environment do not affect updates in other environments, so you can for instance work with older versions of certain packages. This can be useful when you want to reproduce your work at a future point in time. "
   ]
  },
  {
   "cell_type": "markdown",
   "id": "71b270ee",
   "metadata": {},
   "source": [
    "### 3.1 In Anaconda Navigator"
   ]
  },
  {
   "cell_type": "markdown",
   "id": "bdd312b0",
   "metadata": {},
   "source": [
    "In the panel on the left side we find a button for \"Environments\". By default, there will be one environment called the \"base (root)\" environment. You can add a new environment by clicking \"Create\" in the bottom left. A pop-up window appears where you can give your environment a name and choose which package to install. We require python and want to have the latest version installed. Here we created an environment named \"bw\" with Python version 3.10.6. Note that the environment can have any name: it does not need to contain \"bw\" to work with Brightway2. \n",
    "\n",
    "![alt text](images/Create%20Environment.JPG \"Create-Environment\")\n",
    "\n",
    "After the environment is created, it will automatically be selected. You can switch environments by clicking on its name. Currently, our environment is rather empty. We only have 17 packages to our availability and none are from the Brightway2 community. Before we can fill our environment, we need to connect to several channels."
   ]
  },
  {
   "cell_type": "markdown",
   "id": "9e417e3c",
   "metadata": {},
   "source": [
    "### 3.2 In Anaconda Prompt"
   ]
  },
  {
   "cell_type": "markdown",
   "id": "8e74e91c",
   "metadata": {},
   "source": [
    "In the conda prompt, you can create an environment named \"bw\" by typing the following:"
   ]
  },
  {
   "cell_type": "code",
   "execution_count": null,
   "id": "7968a0b2",
   "metadata": {},
   "outputs": [],
   "source": [
    "conda create -n bw"
   ]
  },
  {
   "cell_type": "markdown",
   "id": "61f6124d",
   "metadata": {},
   "source": [
    "\"conda create\" creates an environment, where the name is specified by the \"-n\" tag, followed by the name of the environment.\n",
    "\n",
    "To activate this environment, type:"
   ]
  },
  {
   "cell_type": "code",
   "execution_count": null,
   "id": "019995f5",
   "metadata": {},
   "outputs": [],
   "source": [
    "conda activate bw"
   ]
  },
  {
   "cell_type": "markdown",
   "id": "6ee0ee88",
   "metadata": {},
   "source": [
    "To switch environments, you will first need to deactivate the active environment by typing:"
   ]
  },
  {
   "cell_type": "code",
   "execution_count": null,
   "id": "ccdaa00f",
   "metadata": {},
   "outputs": [],
   "source": [
    "conda deactivate"
   ]
  },
  {
   "cell_type": "markdown",
   "id": "58a59956",
   "metadata": {},
   "source": [
    "This will return you to the base environment. From here, you can activate a new environment the same way as already shown."
   ]
  },
  {
   "cell_type": "markdown",
   "id": "73dcdf79",
   "metadata": {},
   "source": [
    "## 4. Connecting to channels"
   ]
  },
  {
   "cell_type": "markdown",
   "id": "279b0267",
   "metadata": {},
   "source": [
    "Channels are the locations where packages are stored. We need a variety of packages from various locations to be able to use Brightway. "
   ]
  },
  {
   "cell_type": "markdown",
   "id": "cbfbc416",
   "metadata": {},
   "source": [
    "### 4.1 In Anaconda Navigator"
   ]
  },
  {
   "cell_type": "markdown",
   "id": "60fe45d8",
   "metadata": {},
   "source": [
    "To see which channels we are connected to, click the \"Channels\" bottom on the top right in the Environments (make sure you have selected your newly created environment e.g. \"bw\"). By default we are connect to the channel \"Defaults\". We are going to add two channels to our list. Click \"Add\" and type \"conda-forge\". Press enter and the channel will be added. Repeat for \"cmutel\".  "
   ]
  },
  {
   "cell_type": "markdown",
   "id": "40f7f05e",
   "metadata": {},
   "source": [
    "### 4.2 In Anaconda Prompt"
   ]
  },
  {
   "cell_type": "markdown",
   "id": "b6e5823c",
   "metadata": {},
   "source": [
    "To connect to both channels, type:"
   ]
  },
  {
   "cell_type": "code",
   "execution_count": null,
   "id": "6fd6d98d",
   "metadata": {},
   "outputs": [],
   "source": [
    "conda -c conda-forge -c cmutel"
   ]
  },
  {
   "cell_type": "markdown",
   "id": "83aa4881",
   "metadata": {},
   "source": [
    "## 5. Installing packages"
   ]
  },
  {
   "cell_type": "markdown",
   "id": "5a047d7f",
   "metadata": {},
   "source": [
    "A python package is a collection of modules that are related to eachother. You can see it as a bundle of different files with code, which interact with eachother. Packages are useful to perform specific operations. Python has several default packages, but the majority is created by users. Really useful packages that are used by many are collected in the so-called conda-forge that we just connected to. "
   ]
  },
  {
   "cell_type": "markdown",
   "id": "d785334a",
   "metadata": {},
   "source": [
    "### 5.1 In Anaconda Navigator"
   ]
  },
  {
   "cell_type": "markdown",
   "id": "e8cfef7a",
   "metadata": {},
   "source": [
    "In our environment we can see that we have only 17 packages available, none of which are related to Brightway. When switching the list from \"Installed\" to \"Not installed\" using the dropdown menu left of the \"Channels\" button, we see that there are 22912 packages available (though this number might have changed by the time you read this). \n",
    "\n",
    "![alt text](images/Packages%20not%20installed.JPG \"Packages-not-installed\")\n",
    "\n",
    "We are not going to install all of these, because the majority will be useless to us. We will only install jupyterlab and brightway2, for which we can use the search function. Select both these packages and click \"Apply\" to install. A pop-up window will appear where you can see the progress of installing these packages. After some searching, you will see that instead of 2 packages, 173 packages will be installed. When we scroll down the list, we see our original two packages. All other packages are marked with an asterisk * which are indicated as \"packages [that are] a dependency of selected packages\". These are packages that are required for the jupyterlab and brightway2 packages to work and will be installed along with the installation of jupyterlab and brightway2.\n",
    "\n",
    "![alt text](images/Install%20packages.JPG \"Install-packages\")\n",
    "\n"
   ]
  },
  {
   "cell_type": "markdown",
   "id": "7a820bed",
   "metadata": {},
   "source": [
    "### 5.2 In Anaconda Prompt"
   ]
  },
  {
   "cell_type": "markdown",
   "id": "f4dd8dca",
   "metadata": {},
   "source": [
    "To install both packages at once, type:"
   ]
  },
  {
   "cell_type": "code",
   "execution_count": null,
   "id": "d5682ceb",
   "metadata": {},
   "outputs": [],
   "source": [
    "conda install jupyterlab brightway2"
   ]
  },
  {
   "cell_type": "markdown",
   "id": "4cd16b1a",
   "metadata": {},
   "source": [
    "The list of 2 main packages and 171 dependant packages will be collected and you will be asked if you want to proceed with installing all these packages. Type \"y\" and press enter. Your installation is ready once the blinking cursor reappears and you can type new commands."
   ]
  },
  {
   "cell_type": "markdown",
   "id": "8d3c8abe",
   "metadata": {},
   "source": [
    "## 6. Jupyter Notebooks"
   ]
  },
  {
   "cell_type": "markdown",
   "id": "d618b100",
   "metadata": {},
   "source": [
    "Jupyter Notebooks are going to be the main way in which we will interact with code throughout this manual. A Jupyter Notebook combines text fields with executable code fields. This makes it very convenient to document code and share results, which explains its popularity in the scientific community. In fact, this very chapter you are reading right now is written as a Jupyter Notebook. You can recognize a Jupyter Notebook file by its file extension \".ipynb\". Jupyter Notebooks run in your browser, i.e. Edge, Chrome, Firefox, Safari etc. When launching Jupyter Notebook, your default browser will be used. "
   ]
  },
  {
   "cell_type": "markdown",
   "id": "3926bdde",
   "metadata": {},
   "source": [
    "### 6.1 Launching Jupyter Notebook from the Microsoft Start menu"
   ]
  },
  {
   "cell_type": "markdown",
   "id": "a8d7174e",
   "metadata": {},
   "source": [
    "Simply click Jupyter Notebook under Anaconda3 in the Windows Start menu. "
   ]
  },
  {
   "cell_type": "markdown",
   "id": "b439f762",
   "metadata": {},
   "source": [
    "### 6.2 Launching Jupyter Notebook from the Anaconda Navigator"
   ]
  },
  {
   "cell_type": "markdown",
   "id": "ab5b3fe3",
   "metadata": {},
   "source": [
    "You can launch Jupyter Notebook in the \"Home\" screen of the Anaconda Navigator. If you have managed to install Jupyter Notebook in the previous steps, than you should see a tile to \"Launch\" Jupyter Notebook in the \"Home\" screen. \n",
    "\n",
    "![alt text](images/Launch%20Jupyter%20Notebook.JPG \"Launch-Jupyter-Notebook\")\n",
    "\n",
    "Note that Jupyter Notebook was installed in your environment (e.g. \"bw\"). If you don't see the Jupyter Notebook tile, you might be in the wrong environment. You can switch environments in the \"Home\" screen using the dropdown menu next to \"Application on\" or by switching in the \"Environments\" screen as discussed before. "
   ]
  },
  {
   "cell_type": "markdown",
   "id": "35c85a57",
   "metadata": {},
   "source": [
    "### 6.3 Launching Jupyter Notebook in Anaconda Prompt"
   ]
  },
  {
   "cell_type": "markdown",
   "id": "dd8444f5",
   "metadata": {},
   "source": [
    "To launch Jupyter Notebook from the Anaconda Prompt, simply type:"
   ]
  },
  {
   "cell_type": "code",
   "execution_count": null,
   "id": "9774a265",
   "metadata": {},
   "outputs": [],
   "source": [
    "jupyter notebook"
   ]
  },
  {
   "cell_type": "markdown",
   "id": "30cc7379",
   "metadata": {},
   "source": [
    "### 6.4 Working with Jupyter Notebooks"
   ]
  },
  {
   "cell_type": "markdown",
   "id": "33c2cfdc",
   "metadata": {},
   "source": [
    "When you Jupyter Notebook has launched successfully, a browser window will open which will look something like shown here:\n",
    "\n",
    "![alt text](images/Jupyter%20Notebook.JPG \"Jupyter-Notebook\")\n",
    "\n",
    "If you used the default installation location for Anaconda3, you will find your environment (e.g. \"bw\") in Anaconda3>envs>bw. You can work with Jupyter Notebooks either by...:\n",
    "\n",
    "1. ...creating a new notebook by clicking \"New\" and selecting \"Notebook: Python 3 (ipykernel)\" \n",
    "2. ...uploading an exisiting notebook from any location on your device by clicking \"Upload\"\n",
    "3. ...opening an existing notebook that is present in the environment by double clicking it \n",
    "\n",
    "You are now all set to start working with all the other material in this manual."
   ]
  }
 ],
 "metadata": {
  "kernelspec": {
   "display_name": "Python 3 (ipykernel)",
   "language": "python",
   "name": "python3"
  },
  "language_info": {
   "codemirror_mode": {
    "name": "ipython",
    "version": 3
   },
   "file_extension": ".py",
   "mimetype": "text/x-python",
   "name": "python",
   "nbconvert_exporter": "python",
   "pygments_lexer": "ipython3",
   "version": "3.9.7"
  }
 },
 "nbformat": 4,
 "nbformat_minor": 5
}
